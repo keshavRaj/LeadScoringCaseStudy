{
 "cells": [
  {
   "cell_type": "code",
   "execution_count": 143,
   "id": "00edcb73",
   "metadata": {},
   "outputs": [],
   "source": [
    "import pandas as pd\n",
    "import numpy as np\n",
    "import matplotlib.pyplot as plt\n",
    "import seaborn as sns"
   ]
  },
  {
   "cell_type": "markdown",
   "id": "a5608fb5",
   "metadata": {},
   "source": [
    "Set all the options"
   ]
  },
  {
   "cell_type": "code",
   "execution_count": 2,
   "id": "75745aaf",
   "metadata": {},
   "outputs": [],
   "source": [
    "pd.set_option(\"display.max_colwidth\", None)\n",
    "pd.set_option(\"display.max_columns\", None)"
   ]
  },
  {
   "cell_type": "markdown",
   "id": "934da162",
   "metadata": {},
   "source": [
    "Read the data\n"
   ]
  },
  {
   "cell_type": "code",
   "execution_count": 3,
   "id": "22577702",
   "metadata": {},
   "outputs": [],
   "source": [
    "df = pd.read_csv(\"Leads.csv\")"
   ]
  },
  {
   "cell_type": "code",
   "execution_count": 4,
   "id": "1538f2c4",
   "metadata": {},
   "outputs": [
    {
     "data": {
      "text/html": [
       "<div>\n",
       "<style scoped>\n",
       "    .dataframe tbody tr th:only-of-type {\n",
       "        vertical-align: middle;\n",
       "    }\n",
       "\n",
       "    .dataframe tbody tr th {\n",
       "        vertical-align: top;\n",
       "    }\n",
       "\n",
       "    .dataframe thead th {\n",
       "        text-align: right;\n",
       "    }\n",
       "</style>\n",
       "<table border=\"1\" class=\"dataframe\">\n",
       "  <thead>\n",
       "    <tr style=\"text-align: right;\">\n",
       "      <th></th>\n",
       "      <th>Prospect ID</th>\n",
       "      <th>Lead Number</th>\n",
       "      <th>Lead Origin</th>\n",
       "      <th>Lead Source</th>\n",
       "      <th>Do Not Email</th>\n",
       "      <th>Do Not Call</th>\n",
       "      <th>Converted</th>\n",
       "      <th>TotalVisits</th>\n",
       "      <th>Total Time Spent on Website</th>\n",
       "      <th>Page Views Per Visit</th>\n",
       "      <th>Last Activity</th>\n",
       "      <th>Country</th>\n",
       "      <th>Specialization</th>\n",
       "      <th>How did you hear about X Education</th>\n",
       "      <th>What is your current occupation</th>\n",
       "      <th>What matters most to you in choosing a course</th>\n",
       "      <th>Search</th>\n",
       "      <th>Magazine</th>\n",
       "      <th>Newspaper Article</th>\n",
       "      <th>X Education Forums</th>\n",
       "      <th>Newspaper</th>\n",
       "      <th>Digital Advertisement</th>\n",
       "      <th>Through Recommendations</th>\n",
       "      <th>Receive More Updates About Our Courses</th>\n",
       "      <th>Tags</th>\n",
       "      <th>Lead Quality</th>\n",
       "      <th>Update me on Supply Chain Content</th>\n",
       "      <th>Get updates on DM Content</th>\n",
       "      <th>Lead Profile</th>\n",
       "      <th>City</th>\n",
       "      <th>Asymmetrique Activity Index</th>\n",
       "      <th>Asymmetrique Profile Index</th>\n",
       "      <th>Asymmetrique Activity Score</th>\n",
       "      <th>Asymmetrique Profile Score</th>\n",
       "      <th>I agree to pay the amount through cheque</th>\n",
       "      <th>A free copy of Mastering The Interview</th>\n",
       "      <th>Last Notable Activity</th>\n",
       "    </tr>\n",
       "  </thead>\n",
       "  <tbody>\n",
       "    <tr>\n",
       "      <th>0</th>\n",
       "      <td>7927b2df-8bba-4d29-b9a2-b6e0beafe620</td>\n",
       "      <td>660737</td>\n",
       "      <td>API</td>\n",
       "      <td>Olark Chat</td>\n",
       "      <td>No</td>\n",
       "      <td>No</td>\n",
       "      <td>0</td>\n",
       "      <td>0.0</td>\n",
       "      <td>0</td>\n",
       "      <td>0.0</td>\n",
       "      <td>Page Visited on Website</td>\n",
       "      <td>NaN</td>\n",
       "      <td>Select</td>\n",
       "      <td>Select</td>\n",
       "      <td>Unemployed</td>\n",
       "      <td>Better Career Prospects</td>\n",
       "      <td>No</td>\n",
       "      <td>No</td>\n",
       "      <td>No</td>\n",
       "      <td>No</td>\n",
       "      <td>No</td>\n",
       "      <td>No</td>\n",
       "      <td>No</td>\n",
       "      <td>No</td>\n",
       "      <td>Interested in other courses</td>\n",
       "      <td>Low in Relevance</td>\n",
       "      <td>No</td>\n",
       "      <td>No</td>\n",
       "      <td>Select</td>\n",
       "      <td>Select</td>\n",
       "      <td>02.Medium</td>\n",
       "      <td>02.Medium</td>\n",
       "      <td>15.0</td>\n",
       "      <td>15.0</td>\n",
       "      <td>No</td>\n",
       "      <td>No</td>\n",
       "      <td>Modified</td>\n",
       "    </tr>\n",
       "    <tr>\n",
       "      <th>1</th>\n",
       "      <td>2a272436-5132-4136-86fa-dcc88c88f482</td>\n",
       "      <td>660728</td>\n",
       "      <td>API</td>\n",
       "      <td>Organic Search</td>\n",
       "      <td>No</td>\n",
       "      <td>No</td>\n",
       "      <td>0</td>\n",
       "      <td>5.0</td>\n",
       "      <td>674</td>\n",
       "      <td>2.5</td>\n",
       "      <td>Email Opened</td>\n",
       "      <td>India</td>\n",
       "      <td>Select</td>\n",
       "      <td>Select</td>\n",
       "      <td>Unemployed</td>\n",
       "      <td>Better Career Prospects</td>\n",
       "      <td>No</td>\n",
       "      <td>No</td>\n",
       "      <td>No</td>\n",
       "      <td>No</td>\n",
       "      <td>No</td>\n",
       "      <td>No</td>\n",
       "      <td>No</td>\n",
       "      <td>No</td>\n",
       "      <td>Ringing</td>\n",
       "      <td>NaN</td>\n",
       "      <td>No</td>\n",
       "      <td>No</td>\n",
       "      <td>Select</td>\n",
       "      <td>Select</td>\n",
       "      <td>02.Medium</td>\n",
       "      <td>02.Medium</td>\n",
       "      <td>15.0</td>\n",
       "      <td>15.0</td>\n",
       "      <td>No</td>\n",
       "      <td>No</td>\n",
       "      <td>Email Opened</td>\n",
       "    </tr>\n",
       "    <tr>\n",
       "      <th>2</th>\n",
       "      <td>8cc8c611-a219-4f35-ad23-fdfd2656bd8a</td>\n",
       "      <td>660727</td>\n",
       "      <td>Landing Page Submission</td>\n",
       "      <td>Direct Traffic</td>\n",
       "      <td>No</td>\n",
       "      <td>No</td>\n",
       "      <td>1</td>\n",
       "      <td>2.0</td>\n",
       "      <td>1532</td>\n",
       "      <td>2.0</td>\n",
       "      <td>Email Opened</td>\n",
       "      <td>India</td>\n",
       "      <td>Business Administration</td>\n",
       "      <td>Select</td>\n",
       "      <td>Student</td>\n",
       "      <td>Better Career Prospects</td>\n",
       "      <td>No</td>\n",
       "      <td>No</td>\n",
       "      <td>No</td>\n",
       "      <td>No</td>\n",
       "      <td>No</td>\n",
       "      <td>No</td>\n",
       "      <td>No</td>\n",
       "      <td>No</td>\n",
       "      <td>Will revert after reading the email</td>\n",
       "      <td>Might be</td>\n",
       "      <td>No</td>\n",
       "      <td>No</td>\n",
       "      <td>Potential Lead</td>\n",
       "      <td>Mumbai</td>\n",
       "      <td>02.Medium</td>\n",
       "      <td>01.High</td>\n",
       "      <td>14.0</td>\n",
       "      <td>20.0</td>\n",
       "      <td>No</td>\n",
       "      <td>Yes</td>\n",
       "      <td>Email Opened</td>\n",
       "    </tr>\n",
       "    <tr>\n",
       "      <th>3</th>\n",
       "      <td>0cc2df48-7cf4-4e39-9de9-19797f9b38cc</td>\n",
       "      <td>660719</td>\n",
       "      <td>Landing Page Submission</td>\n",
       "      <td>Direct Traffic</td>\n",
       "      <td>No</td>\n",
       "      <td>No</td>\n",
       "      <td>0</td>\n",
       "      <td>1.0</td>\n",
       "      <td>305</td>\n",
       "      <td>1.0</td>\n",
       "      <td>Unreachable</td>\n",
       "      <td>India</td>\n",
       "      <td>Media and Advertising</td>\n",
       "      <td>Word Of Mouth</td>\n",
       "      <td>Unemployed</td>\n",
       "      <td>Better Career Prospects</td>\n",
       "      <td>No</td>\n",
       "      <td>No</td>\n",
       "      <td>No</td>\n",
       "      <td>No</td>\n",
       "      <td>No</td>\n",
       "      <td>No</td>\n",
       "      <td>No</td>\n",
       "      <td>No</td>\n",
       "      <td>Ringing</td>\n",
       "      <td>Not Sure</td>\n",
       "      <td>No</td>\n",
       "      <td>No</td>\n",
       "      <td>Select</td>\n",
       "      <td>Mumbai</td>\n",
       "      <td>02.Medium</td>\n",
       "      <td>01.High</td>\n",
       "      <td>13.0</td>\n",
       "      <td>17.0</td>\n",
       "      <td>No</td>\n",
       "      <td>No</td>\n",
       "      <td>Modified</td>\n",
       "    </tr>\n",
       "    <tr>\n",
       "      <th>4</th>\n",
       "      <td>3256f628-e534-4826-9d63-4a8b88782852</td>\n",
       "      <td>660681</td>\n",
       "      <td>Landing Page Submission</td>\n",
       "      <td>Google</td>\n",
       "      <td>No</td>\n",
       "      <td>No</td>\n",
       "      <td>1</td>\n",
       "      <td>2.0</td>\n",
       "      <td>1428</td>\n",
       "      <td>1.0</td>\n",
       "      <td>Converted to Lead</td>\n",
       "      <td>India</td>\n",
       "      <td>Select</td>\n",
       "      <td>Other</td>\n",
       "      <td>Unemployed</td>\n",
       "      <td>Better Career Prospects</td>\n",
       "      <td>No</td>\n",
       "      <td>No</td>\n",
       "      <td>No</td>\n",
       "      <td>No</td>\n",
       "      <td>No</td>\n",
       "      <td>No</td>\n",
       "      <td>No</td>\n",
       "      <td>No</td>\n",
       "      <td>Will revert after reading the email</td>\n",
       "      <td>Might be</td>\n",
       "      <td>No</td>\n",
       "      <td>No</td>\n",
       "      <td>Select</td>\n",
       "      <td>Mumbai</td>\n",
       "      <td>02.Medium</td>\n",
       "      <td>01.High</td>\n",
       "      <td>15.0</td>\n",
       "      <td>18.0</td>\n",
       "      <td>No</td>\n",
       "      <td>No</td>\n",
       "      <td>Modified</td>\n",
       "    </tr>\n",
       "  </tbody>\n",
       "</table>\n",
       "</div>"
      ],
      "text/plain": [
       "                            Prospect ID  Lead Number              Lead Origin  \\\n",
       "0  7927b2df-8bba-4d29-b9a2-b6e0beafe620       660737                      API   \n",
       "1  2a272436-5132-4136-86fa-dcc88c88f482       660728                      API   \n",
       "2  8cc8c611-a219-4f35-ad23-fdfd2656bd8a       660727  Landing Page Submission   \n",
       "3  0cc2df48-7cf4-4e39-9de9-19797f9b38cc       660719  Landing Page Submission   \n",
       "4  3256f628-e534-4826-9d63-4a8b88782852       660681  Landing Page Submission   \n",
       "\n",
       "      Lead Source Do Not Email Do Not Call  Converted  TotalVisits  \\\n",
       "0      Olark Chat           No          No          0          0.0   \n",
       "1  Organic Search           No          No          0          5.0   \n",
       "2  Direct Traffic           No          No          1          2.0   \n",
       "3  Direct Traffic           No          No          0          1.0   \n",
       "4          Google           No          No          1          2.0   \n",
       "\n",
       "   Total Time Spent on Website  Page Views Per Visit            Last Activity  \\\n",
       "0                            0                   0.0  Page Visited on Website   \n",
       "1                          674                   2.5             Email Opened   \n",
       "2                         1532                   2.0             Email Opened   \n",
       "3                          305                   1.0              Unreachable   \n",
       "4                         1428                   1.0        Converted to Lead   \n",
       "\n",
       "  Country           Specialization How did you hear about X Education  \\\n",
       "0     NaN                   Select                             Select   \n",
       "1   India                   Select                             Select   \n",
       "2   India  Business Administration                             Select   \n",
       "3   India    Media and Advertising                      Word Of Mouth   \n",
       "4   India                   Select                              Other   \n",
       "\n",
       "  What is your current occupation  \\\n",
       "0                      Unemployed   \n",
       "1                      Unemployed   \n",
       "2                         Student   \n",
       "3                      Unemployed   \n",
       "4                      Unemployed   \n",
       "\n",
       "  What matters most to you in choosing a course Search Magazine  \\\n",
       "0                       Better Career Prospects     No       No   \n",
       "1                       Better Career Prospects     No       No   \n",
       "2                       Better Career Prospects     No       No   \n",
       "3                       Better Career Prospects     No       No   \n",
       "4                       Better Career Prospects     No       No   \n",
       "\n",
       "  Newspaper Article X Education Forums Newspaper Digital Advertisement  \\\n",
       "0                No                 No        No                    No   \n",
       "1                No                 No        No                    No   \n",
       "2                No                 No        No                    No   \n",
       "3                No                 No        No                    No   \n",
       "4                No                 No        No                    No   \n",
       "\n",
       "  Through Recommendations Receive More Updates About Our Courses  \\\n",
       "0                      No                                     No   \n",
       "1                      No                                     No   \n",
       "2                      No                                     No   \n",
       "3                      No                                     No   \n",
       "4                      No                                     No   \n",
       "\n",
       "                                  Tags      Lead Quality  \\\n",
       "0          Interested in other courses  Low in Relevance   \n",
       "1                              Ringing               NaN   \n",
       "2  Will revert after reading the email          Might be   \n",
       "3                              Ringing          Not Sure   \n",
       "4  Will revert after reading the email          Might be   \n",
       "\n",
       "  Update me on Supply Chain Content Get updates on DM Content    Lead Profile  \\\n",
       "0                                No                        No          Select   \n",
       "1                                No                        No          Select   \n",
       "2                                No                        No  Potential Lead   \n",
       "3                                No                        No          Select   \n",
       "4                                No                        No          Select   \n",
       "\n",
       "     City Asymmetrique Activity Index Asymmetrique Profile Index  \\\n",
       "0  Select                   02.Medium                  02.Medium   \n",
       "1  Select                   02.Medium                  02.Medium   \n",
       "2  Mumbai                   02.Medium                    01.High   \n",
       "3  Mumbai                   02.Medium                    01.High   \n",
       "4  Mumbai                   02.Medium                    01.High   \n",
       "\n",
       "   Asymmetrique Activity Score  Asymmetrique Profile Score  \\\n",
       "0                         15.0                        15.0   \n",
       "1                         15.0                        15.0   \n",
       "2                         14.0                        20.0   \n",
       "3                         13.0                        17.0   \n",
       "4                         15.0                        18.0   \n",
       "\n",
       "  I agree to pay the amount through cheque  \\\n",
       "0                                       No   \n",
       "1                                       No   \n",
       "2                                       No   \n",
       "3                                       No   \n",
       "4                                       No   \n",
       "\n",
       "  A free copy of Mastering The Interview Last Notable Activity  \n",
       "0                                     No              Modified  \n",
       "1                                     No          Email Opened  \n",
       "2                                    Yes          Email Opened  \n",
       "3                                     No              Modified  \n",
       "4                                     No              Modified  "
      ]
     },
     "execution_count": 4,
     "metadata": {},
     "output_type": "execute_result"
    }
   ],
   "source": [
    "df.head()"
   ]
  },
  {
   "cell_type": "markdown",
   "id": "8119b95e",
   "metadata": {},
   "source": [
    "Rename the columns"
   ]
  },
  {
   "cell_type": "code",
   "execution_count": 5,
   "id": "68dfbcd2",
   "metadata": {},
   "outputs": [],
   "source": [
    "columns = {\n",
    "    \"Lead Origin\": \"origin\",\n",
    "    \"Lead Source\": \"lead_source\",\n",
    "    \"Total Time Spent on Website\": \"time_spent\",\n",
    "    \"Page Views Per Visit\": \"num_page_per_visit\",\n",
    "    \"Last Activity\": \"last_activity\",\n",
    "    \"How did you hear about X Education\": \"hear_about_source\",\n",
    "    \"What is your current occupation\": \"cur_occupation\",\n",
    "    \"What matters most to you in choosing a course\": \"course_value\",\n",
    "    \"Receive More Updates About Our Courses\": \"rcv_updates_course\",\n",
    "    \"Lead Quality\": \"lead_quality\",\n",
    "    \"Search\": \"search\",\n",
    "    \"Magazine\": \"magazine\",\n",
    "    \"Newspaper Article\": \"newspaper_article\",\n",
    "    \"X Education Forums\": \"x_education_forum\",\n",
    "    \"Newspaper\": \"newspaper\",\n",
    "    \"Digital Advertisement\": \"digital_Advertisement\",\n",
    "    \"Through Recommendations\": \"was_recommended\",\n",
    "    \"Update me on Supply Chain Content\": \"rcv_updates_supplychain\",\n",
    "    \"Get updates on DM Content\": \"rcv_updates_dm\",\n",
    "    \"Lead Profile\": \"lead_profile\",\n",
    "    \"Asymmetrique Activity Index\": \"asymetric_activity_index\",\n",
    "    \"Asymmetrique Profile Index\": \"asymmetric_profile_index\",\n",
    "    \"Asymmetrique Activity Score\": \"asymmetric_activity_score\",\n",
    "    \"Asymmetrique Profile Score\": \"asymmetric_profile_score\",\n",
    "    \"I agree to pay the amount through cheque\": \"agree_paymnt_cheque\",\n",
    "    \"A free copy of Mastering The Interview\": \"free_copy_mastering_the_interview\",\n",
    "    \"Last Notable Activity\": \"last_notable_activity\",\n",
    "    \"Country\": \"country\",\n",
    "    \"Specialization\": \"specialization\"\n",
    "}"
   ]
  },
  {
   "cell_type": "code",
   "execution_count": 6,
   "id": "373f673e",
   "metadata": {},
   "outputs": [],
   "source": [
    "df.rename(columns = columns, inplace = True)"
   ]
  },
  {
   "cell_type": "code",
   "execution_count": 7,
   "id": "3c339d0a",
   "metadata": {},
   "outputs": [
    {
     "data": {
      "text/html": [
       "<div>\n",
       "<style scoped>\n",
       "    .dataframe tbody tr th:only-of-type {\n",
       "        vertical-align: middle;\n",
       "    }\n",
       "\n",
       "    .dataframe tbody tr th {\n",
       "        vertical-align: top;\n",
       "    }\n",
       "\n",
       "    .dataframe thead th {\n",
       "        text-align: right;\n",
       "    }\n",
       "</style>\n",
       "<table border=\"1\" class=\"dataframe\">\n",
       "  <thead>\n",
       "    <tr style=\"text-align: right;\">\n",
       "      <th></th>\n",
       "      <th>Prospect ID</th>\n",
       "      <th>Lead Number</th>\n",
       "      <th>origin</th>\n",
       "      <th>lead_source</th>\n",
       "      <th>Do Not Email</th>\n",
       "      <th>Do Not Call</th>\n",
       "      <th>Converted</th>\n",
       "      <th>TotalVisits</th>\n",
       "      <th>time_spent</th>\n",
       "      <th>num_page_per_visit</th>\n",
       "      <th>last_activity</th>\n",
       "      <th>country</th>\n",
       "      <th>specialization</th>\n",
       "      <th>hear_about_source</th>\n",
       "      <th>cur_occupation</th>\n",
       "      <th>course_value</th>\n",
       "      <th>search</th>\n",
       "      <th>magazine</th>\n",
       "      <th>newspaper_article</th>\n",
       "      <th>x_education_forum</th>\n",
       "      <th>newspaper</th>\n",
       "      <th>digital_Advertisement</th>\n",
       "      <th>was_recommended</th>\n",
       "      <th>rcv_updates_course</th>\n",
       "      <th>Tags</th>\n",
       "      <th>lead_quality</th>\n",
       "      <th>rcv_updates_supplychain</th>\n",
       "      <th>rcv_updates_dm</th>\n",
       "      <th>lead_profile</th>\n",
       "      <th>City</th>\n",
       "      <th>asymetric_activity_index</th>\n",
       "      <th>asymmetric_profile_index</th>\n",
       "      <th>asymmetric_activity_score</th>\n",
       "      <th>asymmetric_profile_score</th>\n",
       "      <th>agree_paymnt_cheque</th>\n",
       "      <th>free_copy_mastering_the_interview</th>\n",
       "      <th>last_notable_activity</th>\n",
       "    </tr>\n",
       "  </thead>\n",
       "  <tbody>\n",
       "    <tr>\n",
       "      <th>0</th>\n",
       "      <td>7927b2df-8bba-4d29-b9a2-b6e0beafe620</td>\n",
       "      <td>660737</td>\n",
       "      <td>API</td>\n",
       "      <td>Olark Chat</td>\n",
       "      <td>No</td>\n",
       "      <td>No</td>\n",
       "      <td>0</td>\n",
       "      <td>0.0</td>\n",
       "      <td>0</td>\n",
       "      <td>0.0</td>\n",
       "      <td>Page Visited on Website</td>\n",
       "      <td>NaN</td>\n",
       "      <td>Select</td>\n",
       "      <td>Select</td>\n",
       "      <td>Unemployed</td>\n",
       "      <td>Better Career Prospects</td>\n",
       "      <td>No</td>\n",
       "      <td>No</td>\n",
       "      <td>No</td>\n",
       "      <td>No</td>\n",
       "      <td>No</td>\n",
       "      <td>No</td>\n",
       "      <td>No</td>\n",
       "      <td>No</td>\n",
       "      <td>Interested in other courses</td>\n",
       "      <td>Low in Relevance</td>\n",
       "      <td>No</td>\n",
       "      <td>No</td>\n",
       "      <td>Select</td>\n",
       "      <td>Select</td>\n",
       "      <td>02.Medium</td>\n",
       "      <td>02.Medium</td>\n",
       "      <td>15.0</td>\n",
       "      <td>15.0</td>\n",
       "      <td>No</td>\n",
       "      <td>No</td>\n",
       "      <td>Modified</td>\n",
       "    </tr>\n",
       "    <tr>\n",
       "      <th>1</th>\n",
       "      <td>2a272436-5132-4136-86fa-dcc88c88f482</td>\n",
       "      <td>660728</td>\n",
       "      <td>API</td>\n",
       "      <td>Organic Search</td>\n",
       "      <td>No</td>\n",
       "      <td>No</td>\n",
       "      <td>0</td>\n",
       "      <td>5.0</td>\n",
       "      <td>674</td>\n",
       "      <td>2.5</td>\n",
       "      <td>Email Opened</td>\n",
       "      <td>India</td>\n",
       "      <td>Select</td>\n",
       "      <td>Select</td>\n",
       "      <td>Unemployed</td>\n",
       "      <td>Better Career Prospects</td>\n",
       "      <td>No</td>\n",
       "      <td>No</td>\n",
       "      <td>No</td>\n",
       "      <td>No</td>\n",
       "      <td>No</td>\n",
       "      <td>No</td>\n",
       "      <td>No</td>\n",
       "      <td>No</td>\n",
       "      <td>Ringing</td>\n",
       "      <td>NaN</td>\n",
       "      <td>No</td>\n",
       "      <td>No</td>\n",
       "      <td>Select</td>\n",
       "      <td>Select</td>\n",
       "      <td>02.Medium</td>\n",
       "      <td>02.Medium</td>\n",
       "      <td>15.0</td>\n",
       "      <td>15.0</td>\n",
       "      <td>No</td>\n",
       "      <td>No</td>\n",
       "      <td>Email Opened</td>\n",
       "    </tr>\n",
       "    <tr>\n",
       "      <th>2</th>\n",
       "      <td>8cc8c611-a219-4f35-ad23-fdfd2656bd8a</td>\n",
       "      <td>660727</td>\n",
       "      <td>Landing Page Submission</td>\n",
       "      <td>Direct Traffic</td>\n",
       "      <td>No</td>\n",
       "      <td>No</td>\n",
       "      <td>1</td>\n",
       "      <td>2.0</td>\n",
       "      <td>1532</td>\n",
       "      <td>2.0</td>\n",
       "      <td>Email Opened</td>\n",
       "      <td>India</td>\n",
       "      <td>Business Administration</td>\n",
       "      <td>Select</td>\n",
       "      <td>Student</td>\n",
       "      <td>Better Career Prospects</td>\n",
       "      <td>No</td>\n",
       "      <td>No</td>\n",
       "      <td>No</td>\n",
       "      <td>No</td>\n",
       "      <td>No</td>\n",
       "      <td>No</td>\n",
       "      <td>No</td>\n",
       "      <td>No</td>\n",
       "      <td>Will revert after reading the email</td>\n",
       "      <td>Might be</td>\n",
       "      <td>No</td>\n",
       "      <td>No</td>\n",
       "      <td>Potential Lead</td>\n",
       "      <td>Mumbai</td>\n",
       "      <td>02.Medium</td>\n",
       "      <td>01.High</td>\n",
       "      <td>14.0</td>\n",
       "      <td>20.0</td>\n",
       "      <td>No</td>\n",
       "      <td>Yes</td>\n",
       "      <td>Email Opened</td>\n",
       "    </tr>\n",
       "    <tr>\n",
       "      <th>3</th>\n",
       "      <td>0cc2df48-7cf4-4e39-9de9-19797f9b38cc</td>\n",
       "      <td>660719</td>\n",
       "      <td>Landing Page Submission</td>\n",
       "      <td>Direct Traffic</td>\n",
       "      <td>No</td>\n",
       "      <td>No</td>\n",
       "      <td>0</td>\n",
       "      <td>1.0</td>\n",
       "      <td>305</td>\n",
       "      <td>1.0</td>\n",
       "      <td>Unreachable</td>\n",
       "      <td>India</td>\n",
       "      <td>Media and Advertising</td>\n",
       "      <td>Word Of Mouth</td>\n",
       "      <td>Unemployed</td>\n",
       "      <td>Better Career Prospects</td>\n",
       "      <td>No</td>\n",
       "      <td>No</td>\n",
       "      <td>No</td>\n",
       "      <td>No</td>\n",
       "      <td>No</td>\n",
       "      <td>No</td>\n",
       "      <td>No</td>\n",
       "      <td>No</td>\n",
       "      <td>Ringing</td>\n",
       "      <td>Not Sure</td>\n",
       "      <td>No</td>\n",
       "      <td>No</td>\n",
       "      <td>Select</td>\n",
       "      <td>Mumbai</td>\n",
       "      <td>02.Medium</td>\n",
       "      <td>01.High</td>\n",
       "      <td>13.0</td>\n",
       "      <td>17.0</td>\n",
       "      <td>No</td>\n",
       "      <td>No</td>\n",
       "      <td>Modified</td>\n",
       "    </tr>\n",
       "    <tr>\n",
       "      <th>4</th>\n",
       "      <td>3256f628-e534-4826-9d63-4a8b88782852</td>\n",
       "      <td>660681</td>\n",
       "      <td>Landing Page Submission</td>\n",
       "      <td>Google</td>\n",
       "      <td>No</td>\n",
       "      <td>No</td>\n",
       "      <td>1</td>\n",
       "      <td>2.0</td>\n",
       "      <td>1428</td>\n",
       "      <td>1.0</td>\n",
       "      <td>Converted to Lead</td>\n",
       "      <td>India</td>\n",
       "      <td>Select</td>\n",
       "      <td>Other</td>\n",
       "      <td>Unemployed</td>\n",
       "      <td>Better Career Prospects</td>\n",
       "      <td>No</td>\n",
       "      <td>No</td>\n",
       "      <td>No</td>\n",
       "      <td>No</td>\n",
       "      <td>No</td>\n",
       "      <td>No</td>\n",
       "      <td>No</td>\n",
       "      <td>No</td>\n",
       "      <td>Will revert after reading the email</td>\n",
       "      <td>Might be</td>\n",
       "      <td>No</td>\n",
       "      <td>No</td>\n",
       "      <td>Select</td>\n",
       "      <td>Mumbai</td>\n",
       "      <td>02.Medium</td>\n",
       "      <td>01.High</td>\n",
       "      <td>15.0</td>\n",
       "      <td>18.0</td>\n",
       "      <td>No</td>\n",
       "      <td>No</td>\n",
       "      <td>Modified</td>\n",
       "    </tr>\n",
       "  </tbody>\n",
       "</table>\n",
       "</div>"
      ],
      "text/plain": [
       "                            Prospect ID  Lead Number                   origin  \\\n",
       "0  7927b2df-8bba-4d29-b9a2-b6e0beafe620       660737                      API   \n",
       "1  2a272436-5132-4136-86fa-dcc88c88f482       660728                      API   \n",
       "2  8cc8c611-a219-4f35-ad23-fdfd2656bd8a       660727  Landing Page Submission   \n",
       "3  0cc2df48-7cf4-4e39-9de9-19797f9b38cc       660719  Landing Page Submission   \n",
       "4  3256f628-e534-4826-9d63-4a8b88782852       660681  Landing Page Submission   \n",
       "\n",
       "      lead_source Do Not Email Do Not Call  Converted  TotalVisits  \\\n",
       "0      Olark Chat           No          No          0          0.0   \n",
       "1  Organic Search           No          No          0          5.0   \n",
       "2  Direct Traffic           No          No          1          2.0   \n",
       "3  Direct Traffic           No          No          0          1.0   \n",
       "4          Google           No          No          1          2.0   \n",
       "\n",
       "   time_spent  num_page_per_visit            last_activity country  \\\n",
       "0           0                 0.0  Page Visited on Website     NaN   \n",
       "1         674                 2.5             Email Opened   India   \n",
       "2        1532                 2.0             Email Opened   India   \n",
       "3         305                 1.0              Unreachable   India   \n",
       "4        1428                 1.0        Converted to Lead   India   \n",
       "\n",
       "            specialization hear_about_source cur_occupation  \\\n",
       "0                   Select            Select     Unemployed   \n",
       "1                   Select            Select     Unemployed   \n",
       "2  Business Administration            Select        Student   \n",
       "3    Media and Advertising     Word Of Mouth     Unemployed   \n",
       "4                   Select             Other     Unemployed   \n",
       "\n",
       "              course_value search magazine newspaper_article  \\\n",
       "0  Better Career Prospects     No       No                No   \n",
       "1  Better Career Prospects     No       No                No   \n",
       "2  Better Career Prospects     No       No                No   \n",
       "3  Better Career Prospects     No       No                No   \n",
       "4  Better Career Prospects     No       No                No   \n",
       "\n",
       "  x_education_forum newspaper digital_Advertisement was_recommended  \\\n",
       "0                No        No                    No              No   \n",
       "1                No        No                    No              No   \n",
       "2                No        No                    No              No   \n",
       "3                No        No                    No              No   \n",
       "4                No        No                    No              No   \n",
       "\n",
       "  rcv_updates_course                                 Tags      lead_quality  \\\n",
       "0                 No          Interested in other courses  Low in Relevance   \n",
       "1                 No                              Ringing               NaN   \n",
       "2                 No  Will revert after reading the email          Might be   \n",
       "3                 No                              Ringing          Not Sure   \n",
       "4                 No  Will revert after reading the email          Might be   \n",
       "\n",
       "  rcv_updates_supplychain rcv_updates_dm    lead_profile    City  \\\n",
       "0                      No             No          Select  Select   \n",
       "1                      No             No          Select  Select   \n",
       "2                      No             No  Potential Lead  Mumbai   \n",
       "3                      No             No          Select  Mumbai   \n",
       "4                      No             No          Select  Mumbai   \n",
       "\n",
       "  asymetric_activity_index asymmetric_profile_index  \\\n",
       "0                02.Medium                02.Medium   \n",
       "1                02.Medium                02.Medium   \n",
       "2                02.Medium                  01.High   \n",
       "3                02.Medium                  01.High   \n",
       "4                02.Medium                  01.High   \n",
       "\n",
       "   asymmetric_activity_score  asymmetric_profile_score agree_paymnt_cheque  \\\n",
       "0                       15.0                      15.0                  No   \n",
       "1                       15.0                      15.0                  No   \n",
       "2                       14.0                      20.0                  No   \n",
       "3                       13.0                      17.0                  No   \n",
       "4                       15.0                      18.0                  No   \n",
       "\n",
       "  free_copy_mastering_the_interview last_notable_activity  \n",
       "0                                No              Modified  \n",
       "1                                No          Email Opened  \n",
       "2                               Yes          Email Opened  \n",
       "3                                No              Modified  \n",
       "4                                No              Modified  "
      ]
     },
     "execution_count": 7,
     "metadata": {},
     "output_type": "execute_result"
    }
   ],
   "source": [
    "df.head()"
   ]
  },
  {
   "cell_type": "markdown",
   "id": "8708433f",
   "metadata": {},
   "source": [
    "Inspect the data"
   ]
  },
  {
   "cell_type": "code",
   "execution_count": 8,
   "id": "ca2526a8",
   "metadata": {},
   "outputs": [
    {
     "data": {
      "text/plain": [
       "(9240, 37)"
      ]
     },
     "execution_count": 8,
     "metadata": {},
     "output_type": "execute_result"
    }
   ],
   "source": [
    "df.shape"
   ]
  },
  {
   "cell_type": "code",
   "execution_count": 9,
   "id": "fa2be3d0",
   "metadata": {},
   "outputs": [
    {
     "data": {
      "text/html": [
       "<div>\n",
       "<style scoped>\n",
       "    .dataframe tbody tr th:only-of-type {\n",
       "        vertical-align: middle;\n",
       "    }\n",
       "\n",
       "    .dataframe tbody tr th {\n",
       "        vertical-align: top;\n",
       "    }\n",
       "\n",
       "    .dataframe thead th {\n",
       "        text-align: right;\n",
       "    }\n",
       "</style>\n",
       "<table border=\"1\" class=\"dataframe\">\n",
       "  <thead>\n",
       "    <tr style=\"text-align: right;\">\n",
       "      <th></th>\n",
       "      <th>Lead Number</th>\n",
       "      <th>Converted</th>\n",
       "      <th>TotalVisits</th>\n",
       "      <th>time_spent</th>\n",
       "      <th>num_page_per_visit</th>\n",
       "      <th>asymmetric_activity_score</th>\n",
       "      <th>asymmetric_profile_score</th>\n",
       "    </tr>\n",
       "  </thead>\n",
       "  <tbody>\n",
       "    <tr>\n",
       "      <th>count</th>\n",
       "      <td>9240.000000</td>\n",
       "      <td>9240.000000</td>\n",
       "      <td>9103.000000</td>\n",
       "      <td>9240.000000</td>\n",
       "      <td>9103.000000</td>\n",
       "      <td>5022.000000</td>\n",
       "      <td>5022.000000</td>\n",
       "    </tr>\n",
       "    <tr>\n",
       "      <th>mean</th>\n",
       "      <td>617188.435606</td>\n",
       "      <td>0.385390</td>\n",
       "      <td>3.445238</td>\n",
       "      <td>487.698268</td>\n",
       "      <td>2.362820</td>\n",
       "      <td>14.306252</td>\n",
       "      <td>16.344883</td>\n",
       "    </tr>\n",
       "    <tr>\n",
       "      <th>std</th>\n",
       "      <td>23405.995698</td>\n",
       "      <td>0.486714</td>\n",
       "      <td>4.854853</td>\n",
       "      <td>548.021466</td>\n",
       "      <td>2.161418</td>\n",
       "      <td>1.386694</td>\n",
       "      <td>1.811395</td>\n",
       "    </tr>\n",
       "    <tr>\n",
       "      <th>min</th>\n",
       "      <td>579533.000000</td>\n",
       "      <td>0.000000</td>\n",
       "      <td>0.000000</td>\n",
       "      <td>0.000000</td>\n",
       "      <td>0.000000</td>\n",
       "      <td>7.000000</td>\n",
       "      <td>11.000000</td>\n",
       "    </tr>\n",
       "    <tr>\n",
       "      <th>25%</th>\n",
       "      <td>596484.500000</td>\n",
       "      <td>0.000000</td>\n",
       "      <td>1.000000</td>\n",
       "      <td>12.000000</td>\n",
       "      <td>1.000000</td>\n",
       "      <td>14.000000</td>\n",
       "      <td>15.000000</td>\n",
       "    </tr>\n",
       "    <tr>\n",
       "      <th>50%</th>\n",
       "      <td>615479.000000</td>\n",
       "      <td>0.000000</td>\n",
       "      <td>3.000000</td>\n",
       "      <td>248.000000</td>\n",
       "      <td>2.000000</td>\n",
       "      <td>14.000000</td>\n",
       "      <td>16.000000</td>\n",
       "    </tr>\n",
       "    <tr>\n",
       "      <th>75%</th>\n",
       "      <td>637387.250000</td>\n",
       "      <td>1.000000</td>\n",
       "      <td>5.000000</td>\n",
       "      <td>936.000000</td>\n",
       "      <td>3.000000</td>\n",
       "      <td>15.000000</td>\n",
       "      <td>18.000000</td>\n",
       "    </tr>\n",
       "    <tr>\n",
       "      <th>max</th>\n",
       "      <td>660737.000000</td>\n",
       "      <td>1.000000</td>\n",
       "      <td>251.000000</td>\n",
       "      <td>2272.000000</td>\n",
       "      <td>55.000000</td>\n",
       "      <td>18.000000</td>\n",
       "      <td>20.000000</td>\n",
       "    </tr>\n",
       "  </tbody>\n",
       "</table>\n",
       "</div>"
      ],
      "text/plain": [
       "         Lead Number    Converted  TotalVisits   time_spent  \\\n",
       "count    9240.000000  9240.000000  9103.000000  9240.000000   \n",
       "mean   617188.435606     0.385390     3.445238   487.698268   \n",
       "std     23405.995698     0.486714     4.854853   548.021466   \n",
       "min    579533.000000     0.000000     0.000000     0.000000   \n",
       "25%    596484.500000     0.000000     1.000000    12.000000   \n",
       "50%    615479.000000     0.000000     3.000000   248.000000   \n",
       "75%    637387.250000     1.000000     5.000000   936.000000   \n",
       "max    660737.000000     1.000000   251.000000  2272.000000   \n",
       "\n",
       "       num_page_per_visit  asymmetric_activity_score  asymmetric_profile_score  \n",
       "count         9103.000000                5022.000000               5022.000000  \n",
       "mean             2.362820                  14.306252                 16.344883  \n",
       "std              2.161418                   1.386694                  1.811395  \n",
       "min              0.000000                   7.000000                 11.000000  \n",
       "25%              1.000000                  14.000000                 15.000000  \n",
       "50%              2.000000                  14.000000                 16.000000  \n",
       "75%              3.000000                  15.000000                 18.000000  \n",
       "max             55.000000                  18.000000                 20.000000  "
      ]
     },
     "execution_count": 9,
     "metadata": {},
     "output_type": "execute_result"
    }
   ],
   "source": [
    "df.describe()"
   ]
  },
  {
   "cell_type": "code",
   "execution_count": 10,
   "id": "919cc219",
   "metadata": {},
   "outputs": [
    {
     "name": "stdout",
     "output_type": "stream",
     "text": [
      "<class 'pandas.core.frame.DataFrame'>\n",
      "RangeIndex: 9240 entries, 0 to 9239\n",
      "Data columns (total 37 columns):\n",
      " #   Column                             Non-Null Count  Dtype  \n",
      "---  ------                             --------------  -----  \n",
      " 0   Prospect ID                        9240 non-null   object \n",
      " 1   Lead Number                        9240 non-null   int64  \n",
      " 2   origin                             9240 non-null   object \n",
      " 3   lead_source                        9204 non-null   object \n",
      " 4   Do Not Email                       9240 non-null   object \n",
      " 5   Do Not Call                        9240 non-null   object \n",
      " 6   Converted                          9240 non-null   int64  \n",
      " 7   TotalVisits                        9103 non-null   float64\n",
      " 8   time_spent                         9240 non-null   int64  \n",
      " 9   num_page_per_visit                 9103 non-null   float64\n",
      " 10  last_activity                      9137 non-null   object \n",
      " 11  country                            6779 non-null   object \n",
      " 12  specialization                     7802 non-null   object \n",
      " 13  hear_about_source                  7033 non-null   object \n",
      " 14  cur_occupation                     6550 non-null   object \n",
      " 15  course_value                       6531 non-null   object \n",
      " 16  search                             9240 non-null   object \n",
      " 17  magazine                           9240 non-null   object \n",
      " 18  newspaper_article                  9240 non-null   object \n",
      " 19  x_education_forum                  9240 non-null   object \n",
      " 20  newspaper                          9240 non-null   object \n",
      " 21  digital_Advertisement              9240 non-null   object \n",
      " 22  was_recommended                    9240 non-null   object \n",
      " 23  rcv_updates_course                 9240 non-null   object \n",
      " 24  Tags                               5887 non-null   object \n",
      " 25  lead_quality                       4473 non-null   object \n",
      " 26  rcv_updates_supplychain            9240 non-null   object \n",
      " 27  rcv_updates_dm                     9240 non-null   object \n",
      " 28  lead_profile                       6531 non-null   object \n",
      " 29  City                               7820 non-null   object \n",
      " 30  asymetric_activity_index           5022 non-null   object \n",
      " 31  asymmetric_profile_index           5022 non-null   object \n",
      " 32  asymmetric_activity_score          5022 non-null   float64\n",
      " 33  asymmetric_profile_score           5022 non-null   float64\n",
      " 34  agree_paymnt_cheque                9240 non-null   object \n",
      " 35  free_copy_mastering_the_interview  9240 non-null   object \n",
      " 36  last_notable_activity              9240 non-null   object \n",
      "dtypes: float64(4), int64(3), object(30)\n",
      "memory usage: 2.6+ MB\n"
     ]
    }
   ],
   "source": [
    "df.info()"
   ]
  },
  {
   "cell_type": "markdown",
   "id": "ec97f80c",
   "metadata": {},
   "source": [
    "### Data Cleaning "
   ]
  },
  {
   "cell_type": "markdown",
   "id": "9d796da7",
   "metadata": {},
   "source": [
    "\n",
    "Remove Prospect Id as already Lead Number is present and it can be used as Id for predicted and actual value comparison"
   ]
  },
  {
   "cell_type": "code",
   "execution_count": 11,
   "id": "418bf090",
   "metadata": {},
   "outputs": [],
   "source": [
    "df = df.drop([\"Prospect ID\"], axis = 1)"
   ]
  },
  {
   "cell_type": "code",
   "execution_count": 12,
   "id": "cb551f5f",
   "metadata": {},
   "outputs": [
    {
     "data": {
      "text/html": [
       "<div>\n",
       "<style scoped>\n",
       "    .dataframe tbody tr th:only-of-type {\n",
       "        vertical-align: middle;\n",
       "    }\n",
       "\n",
       "    .dataframe tbody tr th {\n",
       "        vertical-align: top;\n",
       "    }\n",
       "\n",
       "    .dataframe thead th {\n",
       "        text-align: right;\n",
       "    }\n",
       "</style>\n",
       "<table border=\"1\" class=\"dataframe\">\n",
       "  <thead>\n",
       "    <tr style=\"text-align: right;\">\n",
       "      <th></th>\n",
       "      <th>Lead Number</th>\n",
       "      <th>origin</th>\n",
       "      <th>lead_source</th>\n",
       "      <th>Do Not Email</th>\n",
       "      <th>Do Not Call</th>\n",
       "      <th>Converted</th>\n",
       "      <th>TotalVisits</th>\n",
       "      <th>time_spent</th>\n",
       "      <th>num_page_per_visit</th>\n",
       "      <th>last_activity</th>\n",
       "      <th>country</th>\n",
       "      <th>specialization</th>\n",
       "      <th>hear_about_source</th>\n",
       "      <th>cur_occupation</th>\n",
       "      <th>course_value</th>\n",
       "      <th>search</th>\n",
       "      <th>magazine</th>\n",
       "      <th>newspaper_article</th>\n",
       "      <th>x_education_forum</th>\n",
       "      <th>newspaper</th>\n",
       "      <th>digital_Advertisement</th>\n",
       "      <th>was_recommended</th>\n",
       "      <th>rcv_updates_course</th>\n",
       "      <th>Tags</th>\n",
       "      <th>lead_quality</th>\n",
       "      <th>rcv_updates_supplychain</th>\n",
       "      <th>rcv_updates_dm</th>\n",
       "      <th>lead_profile</th>\n",
       "      <th>City</th>\n",
       "      <th>asymetric_activity_index</th>\n",
       "      <th>asymmetric_profile_index</th>\n",
       "      <th>asymmetric_activity_score</th>\n",
       "      <th>asymmetric_profile_score</th>\n",
       "      <th>agree_paymnt_cheque</th>\n",
       "      <th>free_copy_mastering_the_interview</th>\n",
       "      <th>last_notable_activity</th>\n",
       "    </tr>\n",
       "  </thead>\n",
       "  <tbody>\n",
       "    <tr>\n",
       "      <th>0</th>\n",
       "      <td>660737</td>\n",
       "      <td>API</td>\n",
       "      <td>Olark Chat</td>\n",
       "      <td>No</td>\n",
       "      <td>No</td>\n",
       "      <td>0</td>\n",
       "      <td>0.0</td>\n",
       "      <td>0</td>\n",
       "      <td>0.0</td>\n",
       "      <td>Page Visited on Website</td>\n",
       "      <td>NaN</td>\n",
       "      <td>Select</td>\n",
       "      <td>Select</td>\n",
       "      <td>Unemployed</td>\n",
       "      <td>Better Career Prospects</td>\n",
       "      <td>No</td>\n",
       "      <td>No</td>\n",
       "      <td>No</td>\n",
       "      <td>No</td>\n",
       "      <td>No</td>\n",
       "      <td>No</td>\n",
       "      <td>No</td>\n",
       "      <td>No</td>\n",
       "      <td>Interested in other courses</td>\n",
       "      <td>Low in Relevance</td>\n",
       "      <td>No</td>\n",
       "      <td>No</td>\n",
       "      <td>Select</td>\n",
       "      <td>Select</td>\n",
       "      <td>02.Medium</td>\n",
       "      <td>02.Medium</td>\n",
       "      <td>15.0</td>\n",
       "      <td>15.0</td>\n",
       "      <td>No</td>\n",
       "      <td>No</td>\n",
       "      <td>Modified</td>\n",
       "    </tr>\n",
       "    <tr>\n",
       "      <th>1</th>\n",
       "      <td>660728</td>\n",
       "      <td>API</td>\n",
       "      <td>Organic Search</td>\n",
       "      <td>No</td>\n",
       "      <td>No</td>\n",
       "      <td>0</td>\n",
       "      <td>5.0</td>\n",
       "      <td>674</td>\n",
       "      <td>2.5</td>\n",
       "      <td>Email Opened</td>\n",
       "      <td>India</td>\n",
       "      <td>Select</td>\n",
       "      <td>Select</td>\n",
       "      <td>Unemployed</td>\n",
       "      <td>Better Career Prospects</td>\n",
       "      <td>No</td>\n",
       "      <td>No</td>\n",
       "      <td>No</td>\n",
       "      <td>No</td>\n",
       "      <td>No</td>\n",
       "      <td>No</td>\n",
       "      <td>No</td>\n",
       "      <td>No</td>\n",
       "      <td>Ringing</td>\n",
       "      <td>NaN</td>\n",
       "      <td>No</td>\n",
       "      <td>No</td>\n",
       "      <td>Select</td>\n",
       "      <td>Select</td>\n",
       "      <td>02.Medium</td>\n",
       "      <td>02.Medium</td>\n",
       "      <td>15.0</td>\n",
       "      <td>15.0</td>\n",
       "      <td>No</td>\n",
       "      <td>No</td>\n",
       "      <td>Email Opened</td>\n",
       "    </tr>\n",
       "    <tr>\n",
       "      <th>2</th>\n",
       "      <td>660727</td>\n",
       "      <td>Landing Page Submission</td>\n",
       "      <td>Direct Traffic</td>\n",
       "      <td>No</td>\n",
       "      <td>No</td>\n",
       "      <td>1</td>\n",
       "      <td>2.0</td>\n",
       "      <td>1532</td>\n",
       "      <td>2.0</td>\n",
       "      <td>Email Opened</td>\n",
       "      <td>India</td>\n",
       "      <td>Business Administration</td>\n",
       "      <td>Select</td>\n",
       "      <td>Student</td>\n",
       "      <td>Better Career Prospects</td>\n",
       "      <td>No</td>\n",
       "      <td>No</td>\n",
       "      <td>No</td>\n",
       "      <td>No</td>\n",
       "      <td>No</td>\n",
       "      <td>No</td>\n",
       "      <td>No</td>\n",
       "      <td>No</td>\n",
       "      <td>Will revert after reading the email</td>\n",
       "      <td>Might be</td>\n",
       "      <td>No</td>\n",
       "      <td>No</td>\n",
       "      <td>Potential Lead</td>\n",
       "      <td>Mumbai</td>\n",
       "      <td>02.Medium</td>\n",
       "      <td>01.High</td>\n",
       "      <td>14.0</td>\n",
       "      <td>20.0</td>\n",
       "      <td>No</td>\n",
       "      <td>Yes</td>\n",
       "      <td>Email Opened</td>\n",
       "    </tr>\n",
       "    <tr>\n",
       "      <th>3</th>\n",
       "      <td>660719</td>\n",
       "      <td>Landing Page Submission</td>\n",
       "      <td>Direct Traffic</td>\n",
       "      <td>No</td>\n",
       "      <td>No</td>\n",
       "      <td>0</td>\n",
       "      <td>1.0</td>\n",
       "      <td>305</td>\n",
       "      <td>1.0</td>\n",
       "      <td>Unreachable</td>\n",
       "      <td>India</td>\n",
       "      <td>Media and Advertising</td>\n",
       "      <td>Word Of Mouth</td>\n",
       "      <td>Unemployed</td>\n",
       "      <td>Better Career Prospects</td>\n",
       "      <td>No</td>\n",
       "      <td>No</td>\n",
       "      <td>No</td>\n",
       "      <td>No</td>\n",
       "      <td>No</td>\n",
       "      <td>No</td>\n",
       "      <td>No</td>\n",
       "      <td>No</td>\n",
       "      <td>Ringing</td>\n",
       "      <td>Not Sure</td>\n",
       "      <td>No</td>\n",
       "      <td>No</td>\n",
       "      <td>Select</td>\n",
       "      <td>Mumbai</td>\n",
       "      <td>02.Medium</td>\n",
       "      <td>01.High</td>\n",
       "      <td>13.0</td>\n",
       "      <td>17.0</td>\n",
       "      <td>No</td>\n",
       "      <td>No</td>\n",
       "      <td>Modified</td>\n",
       "    </tr>\n",
       "    <tr>\n",
       "      <th>4</th>\n",
       "      <td>660681</td>\n",
       "      <td>Landing Page Submission</td>\n",
       "      <td>Google</td>\n",
       "      <td>No</td>\n",
       "      <td>No</td>\n",
       "      <td>1</td>\n",
       "      <td>2.0</td>\n",
       "      <td>1428</td>\n",
       "      <td>1.0</td>\n",
       "      <td>Converted to Lead</td>\n",
       "      <td>India</td>\n",
       "      <td>Select</td>\n",
       "      <td>Other</td>\n",
       "      <td>Unemployed</td>\n",
       "      <td>Better Career Prospects</td>\n",
       "      <td>No</td>\n",
       "      <td>No</td>\n",
       "      <td>No</td>\n",
       "      <td>No</td>\n",
       "      <td>No</td>\n",
       "      <td>No</td>\n",
       "      <td>No</td>\n",
       "      <td>No</td>\n",
       "      <td>Will revert after reading the email</td>\n",
       "      <td>Might be</td>\n",
       "      <td>No</td>\n",
       "      <td>No</td>\n",
       "      <td>Select</td>\n",
       "      <td>Mumbai</td>\n",
       "      <td>02.Medium</td>\n",
       "      <td>01.High</td>\n",
       "      <td>15.0</td>\n",
       "      <td>18.0</td>\n",
       "      <td>No</td>\n",
       "      <td>No</td>\n",
       "      <td>Modified</td>\n",
       "    </tr>\n",
       "  </tbody>\n",
       "</table>\n",
       "</div>"
      ],
      "text/plain": [
       "   Lead Number                   origin     lead_source Do Not Email  \\\n",
       "0       660737                      API      Olark Chat           No   \n",
       "1       660728                      API  Organic Search           No   \n",
       "2       660727  Landing Page Submission  Direct Traffic           No   \n",
       "3       660719  Landing Page Submission  Direct Traffic           No   \n",
       "4       660681  Landing Page Submission          Google           No   \n",
       "\n",
       "  Do Not Call  Converted  TotalVisits  time_spent  num_page_per_visit  \\\n",
       "0          No          0          0.0           0                 0.0   \n",
       "1          No          0          5.0         674                 2.5   \n",
       "2          No          1          2.0        1532                 2.0   \n",
       "3          No          0          1.0         305                 1.0   \n",
       "4          No          1          2.0        1428                 1.0   \n",
       "\n",
       "             last_activity country           specialization hear_about_source  \\\n",
       "0  Page Visited on Website     NaN                   Select            Select   \n",
       "1             Email Opened   India                   Select            Select   \n",
       "2             Email Opened   India  Business Administration            Select   \n",
       "3              Unreachable   India    Media and Advertising     Word Of Mouth   \n",
       "4        Converted to Lead   India                   Select             Other   \n",
       "\n",
       "  cur_occupation             course_value search magazine newspaper_article  \\\n",
       "0     Unemployed  Better Career Prospects     No       No                No   \n",
       "1     Unemployed  Better Career Prospects     No       No                No   \n",
       "2        Student  Better Career Prospects     No       No                No   \n",
       "3     Unemployed  Better Career Prospects     No       No                No   \n",
       "4     Unemployed  Better Career Prospects     No       No                No   \n",
       "\n",
       "  x_education_forum newspaper digital_Advertisement was_recommended  \\\n",
       "0                No        No                    No              No   \n",
       "1                No        No                    No              No   \n",
       "2                No        No                    No              No   \n",
       "3                No        No                    No              No   \n",
       "4                No        No                    No              No   \n",
       "\n",
       "  rcv_updates_course                                 Tags      lead_quality  \\\n",
       "0                 No          Interested in other courses  Low in Relevance   \n",
       "1                 No                              Ringing               NaN   \n",
       "2                 No  Will revert after reading the email          Might be   \n",
       "3                 No                              Ringing          Not Sure   \n",
       "4                 No  Will revert after reading the email          Might be   \n",
       "\n",
       "  rcv_updates_supplychain rcv_updates_dm    lead_profile    City  \\\n",
       "0                      No             No          Select  Select   \n",
       "1                      No             No          Select  Select   \n",
       "2                      No             No  Potential Lead  Mumbai   \n",
       "3                      No             No          Select  Mumbai   \n",
       "4                      No             No          Select  Mumbai   \n",
       "\n",
       "  asymetric_activity_index asymmetric_profile_index  \\\n",
       "0                02.Medium                02.Medium   \n",
       "1                02.Medium                02.Medium   \n",
       "2                02.Medium                  01.High   \n",
       "3                02.Medium                  01.High   \n",
       "4                02.Medium                  01.High   \n",
       "\n",
       "   asymmetric_activity_score  asymmetric_profile_score agree_paymnt_cheque  \\\n",
       "0                       15.0                      15.0                  No   \n",
       "1                       15.0                      15.0                  No   \n",
       "2                       14.0                      20.0                  No   \n",
       "3                       13.0                      17.0                  No   \n",
       "4                       15.0                      18.0                  No   \n",
       "\n",
       "  free_copy_mastering_the_interview last_notable_activity  \n",
       "0                                No              Modified  \n",
       "1                                No          Email Opened  \n",
       "2                               Yes          Email Opened  \n",
       "3                                No              Modified  \n",
       "4                                No              Modified  "
      ]
     },
     "execution_count": 12,
     "metadata": {},
     "output_type": "execute_result"
    }
   ],
   "source": [
    "df.head()"
   ]
  },
  {
   "cell_type": "code",
   "execution_count": 13,
   "id": "3885240c",
   "metadata": {},
   "outputs": [
    {
     "data": {
      "text/plain": [
       "origin\n",
       "Landing Page Submission    4886\n",
       "API                        3580\n",
       "Lead Add Form               718\n",
       "Lead Import                  55\n",
       "Quick Add Form                1\n",
       "Name: count, dtype: int64"
      ]
     },
     "execution_count": 13,
     "metadata": {},
     "output_type": "execute_result"
    }
   ],
   "source": [
    "df.origin.value_counts()"
   ]
  },
  {
   "cell_type": "code",
   "execution_count": 14,
   "id": "e1aaab8d",
   "metadata": {},
   "outputs": [
    {
     "data": {
      "text/plain": [
       "lead_source\n",
       "Google               2868\n",
       "Direct Traffic       2543\n",
       "Olark Chat           1755\n",
       "Organic Search       1154\n",
       "Reference             534\n",
       "Welingak Website      142\n",
       "Referral Sites        125\n",
       "Facebook               55\n",
       "bing                    6\n",
       "google                  5\n",
       "Click2call              4\n",
       "Press_Release           2\n",
       "Social Media            2\n",
       "Live Chat               2\n",
       "youtubechannel          1\n",
       "testone                 1\n",
       "Pay per Click Ads       1\n",
       "welearnblog_Home        1\n",
       "WeLearn                 1\n",
       "blog                    1\n",
       "NC_EDM                  1\n",
       "Name: count, dtype: int64"
      ]
     },
     "execution_count": 14,
     "metadata": {},
     "output_type": "execute_result"
    }
   ],
   "source": [
    "df.lead_source.value_counts()"
   ]
  },
  {
   "cell_type": "code",
   "execution_count": 15,
   "id": "e38917fb",
   "metadata": {},
   "outputs": [
    {
     "data": {
      "text/plain": [
       "Do Not Email\n",
       "No     8506\n",
       "Yes     734\n",
       "Name: count, dtype: int64"
      ]
     },
     "execution_count": 15,
     "metadata": {},
     "output_type": "execute_result"
    }
   ],
   "source": [
    "df[\"Do Not Email\"].value_counts()"
   ]
  },
  {
   "cell_type": "code",
   "execution_count": 16,
   "id": "35d6d84e",
   "metadata": {},
   "outputs": [
    {
     "data": {
      "text/plain": [
       "Do Not Call\n",
       "No     9238\n",
       "Yes       2\n",
       "Name: count, dtype: int64"
      ]
     },
     "execution_count": 16,
     "metadata": {},
     "output_type": "execute_result"
    }
   ],
   "source": [
    "df[\"Do Not Call\"].value_counts()"
   ]
  },
  {
   "cell_type": "markdown",
   "id": "b3d7d11e",
   "metadata": {},
   "source": [
    "This method converts yes / no to 1 / 0\n",
    "- inverted: if true yes to 0 and no to 1"
   ]
  },
  {
   "cell_type": "code",
   "execution_count": 17,
   "id": "5bc4f20b",
   "metadata": {},
   "outputs": [],
   "source": [
    "def yesno_to_01(x, inverted = False):\n",
    "    temp = 0\n",
    "    if inverted:\n",
    "        temp = 0 if x == \"yes\" else 1\n",
    "    else:\n",
    "        temp = 1 if x == \"yes\" else 0\n",
    "    return temp"
   ]
  },
  {
   "cell_type": "code",
   "execution_count": 18,
   "id": "74508793",
   "metadata": {},
   "outputs": [],
   "source": [
    "df[\"Do Not Email\"]  = df[\"Do Not Email\"].apply(lambda x: yesno_to_01(x.lower(), inverted = True))"
   ]
  },
  {
   "cell_type": "code",
   "execution_count": 19,
   "id": "f134d271",
   "metadata": {},
   "outputs": [
    {
     "data": {
      "text/plain": [
       "Do Not Email\n",
       "1    8506\n",
       "0     734\n",
       "Name: count, dtype: int64"
      ]
     },
     "execution_count": 19,
     "metadata": {},
     "output_type": "execute_result"
    }
   ],
   "source": [
    "df[\"Do Not Email\"].value_counts()"
   ]
  },
  {
   "cell_type": "code",
   "execution_count": 20,
   "id": "f65a786e",
   "metadata": {},
   "outputs": [
    {
     "data": {
      "text/plain": [
       "0    1\n",
       "1    1\n",
       "2    1\n",
       "3    1\n",
       "4    1\n",
       "Name: Do Not Email, dtype: int64"
      ]
     },
     "execution_count": 20,
     "metadata": {},
     "output_type": "execute_result"
    }
   ],
   "source": [
    "df[\"Do Not Email\"].head()"
   ]
  },
  {
   "cell_type": "markdown",
   "id": "cccc3f7e",
   "metadata": {},
   "source": [
    "Before these columns were no and now it has been converted to true. Let's us rename column also as send_email"
   ]
  },
  {
   "cell_type": "code",
   "execution_count": 21,
   "id": "be0ab75b",
   "metadata": {},
   "outputs": [],
   "source": [
    "df.rename(columns = {\"Do Not Email\": \"send_email\"}, inplace = True)"
   ]
  },
  {
   "cell_type": "code",
   "execution_count": 22,
   "id": "e2ac1e19",
   "metadata": {},
   "outputs": [
    {
     "data": {
      "text/html": [
       "<div>\n",
       "<style scoped>\n",
       "    .dataframe tbody tr th:only-of-type {\n",
       "        vertical-align: middle;\n",
       "    }\n",
       "\n",
       "    .dataframe tbody tr th {\n",
       "        vertical-align: top;\n",
       "    }\n",
       "\n",
       "    .dataframe thead th {\n",
       "        text-align: right;\n",
       "    }\n",
       "</style>\n",
       "<table border=\"1\" class=\"dataframe\">\n",
       "  <thead>\n",
       "    <tr style=\"text-align: right;\">\n",
       "      <th></th>\n",
       "      <th>Lead Number</th>\n",
       "      <th>origin</th>\n",
       "      <th>lead_source</th>\n",
       "      <th>send_email</th>\n",
       "      <th>Do Not Call</th>\n",
       "      <th>Converted</th>\n",
       "      <th>TotalVisits</th>\n",
       "      <th>time_spent</th>\n",
       "      <th>num_page_per_visit</th>\n",
       "      <th>last_activity</th>\n",
       "      <th>country</th>\n",
       "      <th>specialization</th>\n",
       "      <th>hear_about_source</th>\n",
       "      <th>cur_occupation</th>\n",
       "      <th>course_value</th>\n",
       "      <th>search</th>\n",
       "      <th>magazine</th>\n",
       "      <th>newspaper_article</th>\n",
       "      <th>x_education_forum</th>\n",
       "      <th>newspaper</th>\n",
       "      <th>digital_Advertisement</th>\n",
       "      <th>was_recommended</th>\n",
       "      <th>rcv_updates_course</th>\n",
       "      <th>Tags</th>\n",
       "      <th>lead_quality</th>\n",
       "      <th>rcv_updates_supplychain</th>\n",
       "      <th>rcv_updates_dm</th>\n",
       "      <th>lead_profile</th>\n",
       "      <th>City</th>\n",
       "      <th>asymetric_activity_index</th>\n",
       "      <th>asymmetric_profile_index</th>\n",
       "      <th>asymmetric_activity_score</th>\n",
       "      <th>asymmetric_profile_score</th>\n",
       "      <th>agree_paymnt_cheque</th>\n",
       "      <th>free_copy_mastering_the_interview</th>\n",
       "      <th>last_notable_activity</th>\n",
       "    </tr>\n",
       "  </thead>\n",
       "  <tbody>\n",
       "    <tr>\n",
       "      <th>0</th>\n",
       "      <td>660737</td>\n",
       "      <td>API</td>\n",
       "      <td>Olark Chat</td>\n",
       "      <td>1</td>\n",
       "      <td>No</td>\n",
       "      <td>0</td>\n",
       "      <td>0.0</td>\n",
       "      <td>0</td>\n",
       "      <td>0.0</td>\n",
       "      <td>Page Visited on Website</td>\n",
       "      <td>NaN</td>\n",
       "      <td>Select</td>\n",
       "      <td>Select</td>\n",
       "      <td>Unemployed</td>\n",
       "      <td>Better Career Prospects</td>\n",
       "      <td>No</td>\n",
       "      <td>No</td>\n",
       "      <td>No</td>\n",
       "      <td>No</td>\n",
       "      <td>No</td>\n",
       "      <td>No</td>\n",
       "      <td>No</td>\n",
       "      <td>No</td>\n",
       "      <td>Interested in other courses</td>\n",
       "      <td>Low in Relevance</td>\n",
       "      <td>No</td>\n",
       "      <td>No</td>\n",
       "      <td>Select</td>\n",
       "      <td>Select</td>\n",
       "      <td>02.Medium</td>\n",
       "      <td>02.Medium</td>\n",
       "      <td>15.0</td>\n",
       "      <td>15.0</td>\n",
       "      <td>No</td>\n",
       "      <td>No</td>\n",
       "      <td>Modified</td>\n",
       "    </tr>\n",
       "    <tr>\n",
       "      <th>1</th>\n",
       "      <td>660728</td>\n",
       "      <td>API</td>\n",
       "      <td>Organic Search</td>\n",
       "      <td>1</td>\n",
       "      <td>No</td>\n",
       "      <td>0</td>\n",
       "      <td>5.0</td>\n",
       "      <td>674</td>\n",
       "      <td>2.5</td>\n",
       "      <td>Email Opened</td>\n",
       "      <td>India</td>\n",
       "      <td>Select</td>\n",
       "      <td>Select</td>\n",
       "      <td>Unemployed</td>\n",
       "      <td>Better Career Prospects</td>\n",
       "      <td>No</td>\n",
       "      <td>No</td>\n",
       "      <td>No</td>\n",
       "      <td>No</td>\n",
       "      <td>No</td>\n",
       "      <td>No</td>\n",
       "      <td>No</td>\n",
       "      <td>No</td>\n",
       "      <td>Ringing</td>\n",
       "      <td>NaN</td>\n",
       "      <td>No</td>\n",
       "      <td>No</td>\n",
       "      <td>Select</td>\n",
       "      <td>Select</td>\n",
       "      <td>02.Medium</td>\n",
       "      <td>02.Medium</td>\n",
       "      <td>15.0</td>\n",
       "      <td>15.0</td>\n",
       "      <td>No</td>\n",
       "      <td>No</td>\n",
       "      <td>Email Opened</td>\n",
       "    </tr>\n",
       "    <tr>\n",
       "      <th>2</th>\n",
       "      <td>660727</td>\n",
       "      <td>Landing Page Submission</td>\n",
       "      <td>Direct Traffic</td>\n",
       "      <td>1</td>\n",
       "      <td>No</td>\n",
       "      <td>1</td>\n",
       "      <td>2.0</td>\n",
       "      <td>1532</td>\n",
       "      <td>2.0</td>\n",
       "      <td>Email Opened</td>\n",
       "      <td>India</td>\n",
       "      <td>Business Administration</td>\n",
       "      <td>Select</td>\n",
       "      <td>Student</td>\n",
       "      <td>Better Career Prospects</td>\n",
       "      <td>No</td>\n",
       "      <td>No</td>\n",
       "      <td>No</td>\n",
       "      <td>No</td>\n",
       "      <td>No</td>\n",
       "      <td>No</td>\n",
       "      <td>No</td>\n",
       "      <td>No</td>\n",
       "      <td>Will revert after reading the email</td>\n",
       "      <td>Might be</td>\n",
       "      <td>No</td>\n",
       "      <td>No</td>\n",
       "      <td>Potential Lead</td>\n",
       "      <td>Mumbai</td>\n",
       "      <td>02.Medium</td>\n",
       "      <td>01.High</td>\n",
       "      <td>14.0</td>\n",
       "      <td>20.0</td>\n",
       "      <td>No</td>\n",
       "      <td>Yes</td>\n",
       "      <td>Email Opened</td>\n",
       "    </tr>\n",
       "    <tr>\n",
       "      <th>3</th>\n",
       "      <td>660719</td>\n",
       "      <td>Landing Page Submission</td>\n",
       "      <td>Direct Traffic</td>\n",
       "      <td>1</td>\n",
       "      <td>No</td>\n",
       "      <td>0</td>\n",
       "      <td>1.0</td>\n",
       "      <td>305</td>\n",
       "      <td>1.0</td>\n",
       "      <td>Unreachable</td>\n",
       "      <td>India</td>\n",
       "      <td>Media and Advertising</td>\n",
       "      <td>Word Of Mouth</td>\n",
       "      <td>Unemployed</td>\n",
       "      <td>Better Career Prospects</td>\n",
       "      <td>No</td>\n",
       "      <td>No</td>\n",
       "      <td>No</td>\n",
       "      <td>No</td>\n",
       "      <td>No</td>\n",
       "      <td>No</td>\n",
       "      <td>No</td>\n",
       "      <td>No</td>\n",
       "      <td>Ringing</td>\n",
       "      <td>Not Sure</td>\n",
       "      <td>No</td>\n",
       "      <td>No</td>\n",
       "      <td>Select</td>\n",
       "      <td>Mumbai</td>\n",
       "      <td>02.Medium</td>\n",
       "      <td>01.High</td>\n",
       "      <td>13.0</td>\n",
       "      <td>17.0</td>\n",
       "      <td>No</td>\n",
       "      <td>No</td>\n",
       "      <td>Modified</td>\n",
       "    </tr>\n",
       "    <tr>\n",
       "      <th>4</th>\n",
       "      <td>660681</td>\n",
       "      <td>Landing Page Submission</td>\n",
       "      <td>Google</td>\n",
       "      <td>1</td>\n",
       "      <td>No</td>\n",
       "      <td>1</td>\n",
       "      <td>2.0</td>\n",
       "      <td>1428</td>\n",
       "      <td>1.0</td>\n",
       "      <td>Converted to Lead</td>\n",
       "      <td>India</td>\n",
       "      <td>Select</td>\n",
       "      <td>Other</td>\n",
       "      <td>Unemployed</td>\n",
       "      <td>Better Career Prospects</td>\n",
       "      <td>No</td>\n",
       "      <td>No</td>\n",
       "      <td>No</td>\n",
       "      <td>No</td>\n",
       "      <td>No</td>\n",
       "      <td>No</td>\n",
       "      <td>No</td>\n",
       "      <td>No</td>\n",
       "      <td>Will revert after reading the email</td>\n",
       "      <td>Might be</td>\n",
       "      <td>No</td>\n",
       "      <td>No</td>\n",
       "      <td>Select</td>\n",
       "      <td>Mumbai</td>\n",
       "      <td>02.Medium</td>\n",
       "      <td>01.High</td>\n",
       "      <td>15.0</td>\n",
       "      <td>18.0</td>\n",
       "      <td>No</td>\n",
       "      <td>No</td>\n",
       "      <td>Modified</td>\n",
       "    </tr>\n",
       "  </tbody>\n",
       "</table>\n",
       "</div>"
      ],
      "text/plain": [
       "   Lead Number                   origin     lead_source  send_email  \\\n",
       "0       660737                      API      Olark Chat           1   \n",
       "1       660728                      API  Organic Search           1   \n",
       "2       660727  Landing Page Submission  Direct Traffic           1   \n",
       "3       660719  Landing Page Submission  Direct Traffic           1   \n",
       "4       660681  Landing Page Submission          Google           1   \n",
       "\n",
       "  Do Not Call  Converted  TotalVisits  time_spent  num_page_per_visit  \\\n",
       "0          No          0          0.0           0                 0.0   \n",
       "1          No          0          5.0         674                 2.5   \n",
       "2          No          1          2.0        1532                 2.0   \n",
       "3          No          0          1.0         305                 1.0   \n",
       "4          No          1          2.0        1428                 1.0   \n",
       "\n",
       "             last_activity country           specialization hear_about_source  \\\n",
       "0  Page Visited on Website     NaN                   Select            Select   \n",
       "1             Email Opened   India                   Select            Select   \n",
       "2             Email Opened   India  Business Administration            Select   \n",
       "3              Unreachable   India    Media and Advertising     Word Of Mouth   \n",
       "4        Converted to Lead   India                   Select             Other   \n",
       "\n",
       "  cur_occupation             course_value search magazine newspaper_article  \\\n",
       "0     Unemployed  Better Career Prospects     No       No                No   \n",
       "1     Unemployed  Better Career Prospects     No       No                No   \n",
       "2        Student  Better Career Prospects     No       No                No   \n",
       "3     Unemployed  Better Career Prospects     No       No                No   \n",
       "4     Unemployed  Better Career Prospects     No       No                No   \n",
       "\n",
       "  x_education_forum newspaper digital_Advertisement was_recommended  \\\n",
       "0                No        No                    No              No   \n",
       "1                No        No                    No              No   \n",
       "2                No        No                    No              No   \n",
       "3                No        No                    No              No   \n",
       "4                No        No                    No              No   \n",
       "\n",
       "  rcv_updates_course                                 Tags      lead_quality  \\\n",
       "0                 No          Interested in other courses  Low in Relevance   \n",
       "1                 No                              Ringing               NaN   \n",
       "2                 No  Will revert after reading the email          Might be   \n",
       "3                 No                              Ringing          Not Sure   \n",
       "4                 No  Will revert after reading the email          Might be   \n",
       "\n",
       "  rcv_updates_supplychain rcv_updates_dm    lead_profile    City  \\\n",
       "0                      No             No          Select  Select   \n",
       "1                      No             No          Select  Select   \n",
       "2                      No             No  Potential Lead  Mumbai   \n",
       "3                      No             No          Select  Mumbai   \n",
       "4                      No             No          Select  Mumbai   \n",
       "\n",
       "  asymetric_activity_index asymmetric_profile_index  \\\n",
       "0                02.Medium                02.Medium   \n",
       "1                02.Medium                02.Medium   \n",
       "2                02.Medium                  01.High   \n",
       "3                02.Medium                  01.High   \n",
       "4                02.Medium                  01.High   \n",
       "\n",
       "   asymmetric_activity_score  asymmetric_profile_score agree_paymnt_cheque  \\\n",
       "0                       15.0                      15.0                  No   \n",
       "1                       15.0                      15.0                  No   \n",
       "2                       14.0                      20.0                  No   \n",
       "3                       13.0                      17.0                  No   \n",
       "4                       15.0                      18.0                  No   \n",
       "\n",
       "  free_copy_mastering_the_interview last_notable_activity  \n",
       "0                                No              Modified  \n",
       "1                                No          Email Opened  \n",
       "2                               Yes          Email Opened  \n",
       "3                                No              Modified  \n",
       "4                                No              Modified  "
      ]
     },
     "execution_count": 22,
     "metadata": {},
     "output_type": "execute_result"
    }
   ],
   "source": [
    "df.head()"
   ]
  },
  {
   "cell_type": "markdown",
   "id": "24542de8",
   "metadata": {},
   "source": [
    "Let us do same for Do Not Call"
   ]
  },
  {
   "cell_type": "code",
   "execution_count": 23,
   "id": "4051a944",
   "metadata": {},
   "outputs": [],
   "source": [
    "df[\"Do Not Call\"]  = df[\"Do Not Call\"].apply(lambda x: yesno_to_01(x.lower(), inverted = True))"
   ]
  },
  {
   "cell_type": "code",
   "execution_count": 24,
   "id": "90e9851f",
   "metadata": {},
   "outputs": [
    {
     "data": {
      "text/plain": [
       "Do Not Call\n",
       "1    9238\n",
       "0       2\n",
       "Name: count, dtype: int64"
      ]
     },
     "execution_count": 24,
     "metadata": {},
     "output_type": "execute_result"
    }
   ],
   "source": [
    "df[\"Do Not Call\"].value_counts()"
   ]
  },
  {
   "cell_type": "code",
   "execution_count": 25,
   "id": "334b0030",
   "metadata": {},
   "outputs": [
    {
     "data": {
      "text/html": [
       "<div>\n",
       "<style scoped>\n",
       "    .dataframe tbody tr th:only-of-type {\n",
       "        vertical-align: middle;\n",
       "    }\n",
       "\n",
       "    .dataframe tbody tr th {\n",
       "        vertical-align: top;\n",
       "    }\n",
       "\n",
       "    .dataframe thead th {\n",
       "        text-align: right;\n",
       "    }\n",
       "</style>\n",
       "<table border=\"1\" class=\"dataframe\">\n",
       "  <thead>\n",
       "    <tr style=\"text-align: right;\">\n",
       "      <th></th>\n",
       "      <th>Lead Number</th>\n",
       "      <th>origin</th>\n",
       "      <th>lead_source</th>\n",
       "      <th>send_email</th>\n",
       "      <th>Do Not Call</th>\n",
       "      <th>Converted</th>\n",
       "      <th>TotalVisits</th>\n",
       "      <th>time_spent</th>\n",
       "      <th>num_page_per_visit</th>\n",
       "      <th>last_activity</th>\n",
       "      <th>country</th>\n",
       "      <th>specialization</th>\n",
       "      <th>hear_about_source</th>\n",
       "      <th>cur_occupation</th>\n",
       "      <th>course_value</th>\n",
       "      <th>search</th>\n",
       "      <th>magazine</th>\n",
       "      <th>newspaper_article</th>\n",
       "      <th>x_education_forum</th>\n",
       "      <th>newspaper</th>\n",
       "      <th>digital_Advertisement</th>\n",
       "      <th>was_recommended</th>\n",
       "      <th>rcv_updates_course</th>\n",
       "      <th>Tags</th>\n",
       "      <th>lead_quality</th>\n",
       "      <th>rcv_updates_supplychain</th>\n",
       "      <th>rcv_updates_dm</th>\n",
       "      <th>lead_profile</th>\n",
       "      <th>City</th>\n",
       "      <th>asymetric_activity_index</th>\n",
       "      <th>asymmetric_profile_index</th>\n",
       "      <th>asymmetric_activity_score</th>\n",
       "      <th>asymmetric_profile_score</th>\n",
       "      <th>agree_paymnt_cheque</th>\n",
       "      <th>free_copy_mastering_the_interview</th>\n",
       "      <th>last_notable_activity</th>\n",
       "    </tr>\n",
       "  </thead>\n",
       "  <tbody>\n",
       "    <tr>\n",
       "      <th>0</th>\n",
       "      <td>660737</td>\n",
       "      <td>API</td>\n",
       "      <td>Olark Chat</td>\n",
       "      <td>1</td>\n",
       "      <td>1</td>\n",
       "      <td>0</td>\n",
       "      <td>0.0</td>\n",
       "      <td>0</td>\n",
       "      <td>0.0</td>\n",
       "      <td>Page Visited on Website</td>\n",
       "      <td>NaN</td>\n",
       "      <td>Select</td>\n",
       "      <td>Select</td>\n",
       "      <td>Unemployed</td>\n",
       "      <td>Better Career Prospects</td>\n",
       "      <td>No</td>\n",
       "      <td>No</td>\n",
       "      <td>No</td>\n",
       "      <td>No</td>\n",
       "      <td>No</td>\n",
       "      <td>No</td>\n",
       "      <td>No</td>\n",
       "      <td>No</td>\n",
       "      <td>Interested in other courses</td>\n",
       "      <td>Low in Relevance</td>\n",
       "      <td>No</td>\n",
       "      <td>No</td>\n",
       "      <td>Select</td>\n",
       "      <td>Select</td>\n",
       "      <td>02.Medium</td>\n",
       "      <td>02.Medium</td>\n",
       "      <td>15.0</td>\n",
       "      <td>15.0</td>\n",
       "      <td>No</td>\n",
       "      <td>No</td>\n",
       "      <td>Modified</td>\n",
       "    </tr>\n",
       "    <tr>\n",
       "      <th>1</th>\n",
       "      <td>660728</td>\n",
       "      <td>API</td>\n",
       "      <td>Organic Search</td>\n",
       "      <td>1</td>\n",
       "      <td>1</td>\n",
       "      <td>0</td>\n",
       "      <td>5.0</td>\n",
       "      <td>674</td>\n",
       "      <td>2.5</td>\n",
       "      <td>Email Opened</td>\n",
       "      <td>India</td>\n",
       "      <td>Select</td>\n",
       "      <td>Select</td>\n",
       "      <td>Unemployed</td>\n",
       "      <td>Better Career Prospects</td>\n",
       "      <td>No</td>\n",
       "      <td>No</td>\n",
       "      <td>No</td>\n",
       "      <td>No</td>\n",
       "      <td>No</td>\n",
       "      <td>No</td>\n",
       "      <td>No</td>\n",
       "      <td>No</td>\n",
       "      <td>Ringing</td>\n",
       "      <td>NaN</td>\n",
       "      <td>No</td>\n",
       "      <td>No</td>\n",
       "      <td>Select</td>\n",
       "      <td>Select</td>\n",
       "      <td>02.Medium</td>\n",
       "      <td>02.Medium</td>\n",
       "      <td>15.0</td>\n",
       "      <td>15.0</td>\n",
       "      <td>No</td>\n",
       "      <td>No</td>\n",
       "      <td>Email Opened</td>\n",
       "    </tr>\n",
       "    <tr>\n",
       "      <th>2</th>\n",
       "      <td>660727</td>\n",
       "      <td>Landing Page Submission</td>\n",
       "      <td>Direct Traffic</td>\n",
       "      <td>1</td>\n",
       "      <td>1</td>\n",
       "      <td>1</td>\n",
       "      <td>2.0</td>\n",
       "      <td>1532</td>\n",
       "      <td>2.0</td>\n",
       "      <td>Email Opened</td>\n",
       "      <td>India</td>\n",
       "      <td>Business Administration</td>\n",
       "      <td>Select</td>\n",
       "      <td>Student</td>\n",
       "      <td>Better Career Prospects</td>\n",
       "      <td>No</td>\n",
       "      <td>No</td>\n",
       "      <td>No</td>\n",
       "      <td>No</td>\n",
       "      <td>No</td>\n",
       "      <td>No</td>\n",
       "      <td>No</td>\n",
       "      <td>No</td>\n",
       "      <td>Will revert after reading the email</td>\n",
       "      <td>Might be</td>\n",
       "      <td>No</td>\n",
       "      <td>No</td>\n",
       "      <td>Potential Lead</td>\n",
       "      <td>Mumbai</td>\n",
       "      <td>02.Medium</td>\n",
       "      <td>01.High</td>\n",
       "      <td>14.0</td>\n",
       "      <td>20.0</td>\n",
       "      <td>No</td>\n",
       "      <td>Yes</td>\n",
       "      <td>Email Opened</td>\n",
       "    </tr>\n",
       "    <tr>\n",
       "      <th>3</th>\n",
       "      <td>660719</td>\n",
       "      <td>Landing Page Submission</td>\n",
       "      <td>Direct Traffic</td>\n",
       "      <td>1</td>\n",
       "      <td>1</td>\n",
       "      <td>0</td>\n",
       "      <td>1.0</td>\n",
       "      <td>305</td>\n",
       "      <td>1.0</td>\n",
       "      <td>Unreachable</td>\n",
       "      <td>India</td>\n",
       "      <td>Media and Advertising</td>\n",
       "      <td>Word Of Mouth</td>\n",
       "      <td>Unemployed</td>\n",
       "      <td>Better Career Prospects</td>\n",
       "      <td>No</td>\n",
       "      <td>No</td>\n",
       "      <td>No</td>\n",
       "      <td>No</td>\n",
       "      <td>No</td>\n",
       "      <td>No</td>\n",
       "      <td>No</td>\n",
       "      <td>No</td>\n",
       "      <td>Ringing</td>\n",
       "      <td>Not Sure</td>\n",
       "      <td>No</td>\n",
       "      <td>No</td>\n",
       "      <td>Select</td>\n",
       "      <td>Mumbai</td>\n",
       "      <td>02.Medium</td>\n",
       "      <td>01.High</td>\n",
       "      <td>13.0</td>\n",
       "      <td>17.0</td>\n",
       "      <td>No</td>\n",
       "      <td>No</td>\n",
       "      <td>Modified</td>\n",
       "    </tr>\n",
       "    <tr>\n",
       "      <th>4</th>\n",
       "      <td>660681</td>\n",
       "      <td>Landing Page Submission</td>\n",
       "      <td>Google</td>\n",
       "      <td>1</td>\n",
       "      <td>1</td>\n",
       "      <td>1</td>\n",
       "      <td>2.0</td>\n",
       "      <td>1428</td>\n",
       "      <td>1.0</td>\n",
       "      <td>Converted to Lead</td>\n",
       "      <td>India</td>\n",
       "      <td>Select</td>\n",
       "      <td>Other</td>\n",
       "      <td>Unemployed</td>\n",
       "      <td>Better Career Prospects</td>\n",
       "      <td>No</td>\n",
       "      <td>No</td>\n",
       "      <td>No</td>\n",
       "      <td>No</td>\n",
       "      <td>No</td>\n",
       "      <td>No</td>\n",
       "      <td>No</td>\n",
       "      <td>No</td>\n",
       "      <td>Will revert after reading the email</td>\n",
       "      <td>Might be</td>\n",
       "      <td>No</td>\n",
       "      <td>No</td>\n",
       "      <td>Select</td>\n",
       "      <td>Mumbai</td>\n",
       "      <td>02.Medium</td>\n",
       "      <td>01.High</td>\n",
       "      <td>15.0</td>\n",
       "      <td>18.0</td>\n",
       "      <td>No</td>\n",
       "      <td>No</td>\n",
       "      <td>Modified</td>\n",
       "    </tr>\n",
       "  </tbody>\n",
       "</table>\n",
       "</div>"
      ],
      "text/plain": [
       "   Lead Number                   origin     lead_source  send_email  \\\n",
       "0       660737                      API      Olark Chat           1   \n",
       "1       660728                      API  Organic Search           1   \n",
       "2       660727  Landing Page Submission  Direct Traffic           1   \n",
       "3       660719  Landing Page Submission  Direct Traffic           1   \n",
       "4       660681  Landing Page Submission          Google           1   \n",
       "\n",
       "   Do Not Call  Converted  TotalVisits  time_spent  num_page_per_visit  \\\n",
       "0            1          0          0.0           0                 0.0   \n",
       "1            1          0          5.0         674                 2.5   \n",
       "2            1          1          2.0        1532                 2.0   \n",
       "3            1          0          1.0         305                 1.0   \n",
       "4            1          1          2.0        1428                 1.0   \n",
       "\n",
       "             last_activity country           specialization hear_about_source  \\\n",
       "0  Page Visited on Website     NaN                   Select            Select   \n",
       "1             Email Opened   India                   Select            Select   \n",
       "2             Email Opened   India  Business Administration            Select   \n",
       "3              Unreachable   India    Media and Advertising     Word Of Mouth   \n",
       "4        Converted to Lead   India                   Select             Other   \n",
       "\n",
       "  cur_occupation             course_value search magazine newspaper_article  \\\n",
       "0     Unemployed  Better Career Prospects     No       No                No   \n",
       "1     Unemployed  Better Career Prospects     No       No                No   \n",
       "2        Student  Better Career Prospects     No       No                No   \n",
       "3     Unemployed  Better Career Prospects     No       No                No   \n",
       "4     Unemployed  Better Career Prospects     No       No                No   \n",
       "\n",
       "  x_education_forum newspaper digital_Advertisement was_recommended  \\\n",
       "0                No        No                    No              No   \n",
       "1                No        No                    No              No   \n",
       "2                No        No                    No              No   \n",
       "3                No        No                    No              No   \n",
       "4                No        No                    No              No   \n",
       "\n",
       "  rcv_updates_course                                 Tags      lead_quality  \\\n",
       "0                 No          Interested in other courses  Low in Relevance   \n",
       "1                 No                              Ringing               NaN   \n",
       "2                 No  Will revert after reading the email          Might be   \n",
       "3                 No                              Ringing          Not Sure   \n",
       "4                 No  Will revert after reading the email          Might be   \n",
       "\n",
       "  rcv_updates_supplychain rcv_updates_dm    lead_profile    City  \\\n",
       "0                      No             No          Select  Select   \n",
       "1                      No             No          Select  Select   \n",
       "2                      No             No  Potential Lead  Mumbai   \n",
       "3                      No             No          Select  Mumbai   \n",
       "4                      No             No          Select  Mumbai   \n",
       "\n",
       "  asymetric_activity_index asymmetric_profile_index  \\\n",
       "0                02.Medium                02.Medium   \n",
       "1                02.Medium                02.Medium   \n",
       "2                02.Medium                  01.High   \n",
       "3                02.Medium                  01.High   \n",
       "4                02.Medium                  01.High   \n",
       "\n",
       "   asymmetric_activity_score  asymmetric_profile_score agree_paymnt_cheque  \\\n",
       "0                       15.0                      15.0                  No   \n",
       "1                       15.0                      15.0                  No   \n",
       "2                       14.0                      20.0                  No   \n",
       "3                       13.0                      17.0                  No   \n",
       "4                       15.0                      18.0                  No   \n",
       "\n",
       "  free_copy_mastering_the_interview last_notable_activity  \n",
       "0                                No              Modified  \n",
       "1                                No          Email Opened  \n",
       "2                               Yes          Email Opened  \n",
       "3                                No              Modified  \n",
       "4                                No              Modified  "
      ]
     },
     "execution_count": 25,
     "metadata": {},
     "output_type": "execute_result"
    }
   ],
   "source": [
    "df.head()"
   ]
  },
  {
   "cell_type": "code",
   "execution_count": 26,
   "id": "07f7292c",
   "metadata": {},
   "outputs": [],
   "source": [
    "df.rename(columns = {\"Do Not Call\": \"call\"}, inplace = True)"
   ]
  },
  {
   "cell_type": "code",
   "execution_count": 27,
   "id": "3e4f60ee",
   "metadata": {},
   "outputs": [
    {
     "data": {
      "text/html": [
       "<div>\n",
       "<style scoped>\n",
       "    .dataframe tbody tr th:only-of-type {\n",
       "        vertical-align: middle;\n",
       "    }\n",
       "\n",
       "    .dataframe tbody tr th {\n",
       "        vertical-align: top;\n",
       "    }\n",
       "\n",
       "    .dataframe thead th {\n",
       "        text-align: right;\n",
       "    }\n",
       "</style>\n",
       "<table border=\"1\" class=\"dataframe\">\n",
       "  <thead>\n",
       "    <tr style=\"text-align: right;\">\n",
       "      <th></th>\n",
       "      <th>Lead Number</th>\n",
       "      <th>origin</th>\n",
       "      <th>lead_source</th>\n",
       "      <th>send_email</th>\n",
       "      <th>call</th>\n",
       "      <th>Converted</th>\n",
       "      <th>TotalVisits</th>\n",
       "      <th>time_spent</th>\n",
       "      <th>num_page_per_visit</th>\n",
       "      <th>last_activity</th>\n",
       "      <th>country</th>\n",
       "      <th>specialization</th>\n",
       "      <th>hear_about_source</th>\n",
       "      <th>cur_occupation</th>\n",
       "      <th>course_value</th>\n",
       "      <th>search</th>\n",
       "      <th>magazine</th>\n",
       "      <th>newspaper_article</th>\n",
       "      <th>x_education_forum</th>\n",
       "      <th>newspaper</th>\n",
       "      <th>digital_Advertisement</th>\n",
       "      <th>was_recommended</th>\n",
       "      <th>rcv_updates_course</th>\n",
       "      <th>Tags</th>\n",
       "      <th>lead_quality</th>\n",
       "      <th>rcv_updates_supplychain</th>\n",
       "      <th>rcv_updates_dm</th>\n",
       "      <th>lead_profile</th>\n",
       "      <th>City</th>\n",
       "      <th>asymetric_activity_index</th>\n",
       "      <th>asymmetric_profile_index</th>\n",
       "      <th>asymmetric_activity_score</th>\n",
       "      <th>asymmetric_profile_score</th>\n",
       "      <th>agree_paymnt_cheque</th>\n",
       "      <th>free_copy_mastering_the_interview</th>\n",
       "      <th>last_notable_activity</th>\n",
       "    </tr>\n",
       "  </thead>\n",
       "  <tbody>\n",
       "    <tr>\n",
       "      <th>0</th>\n",
       "      <td>660737</td>\n",
       "      <td>API</td>\n",
       "      <td>Olark Chat</td>\n",
       "      <td>1</td>\n",
       "      <td>1</td>\n",
       "      <td>0</td>\n",
       "      <td>0.0</td>\n",
       "      <td>0</td>\n",
       "      <td>0.0</td>\n",
       "      <td>Page Visited on Website</td>\n",
       "      <td>NaN</td>\n",
       "      <td>Select</td>\n",
       "      <td>Select</td>\n",
       "      <td>Unemployed</td>\n",
       "      <td>Better Career Prospects</td>\n",
       "      <td>No</td>\n",
       "      <td>No</td>\n",
       "      <td>No</td>\n",
       "      <td>No</td>\n",
       "      <td>No</td>\n",
       "      <td>No</td>\n",
       "      <td>No</td>\n",
       "      <td>No</td>\n",
       "      <td>Interested in other courses</td>\n",
       "      <td>Low in Relevance</td>\n",
       "      <td>No</td>\n",
       "      <td>No</td>\n",
       "      <td>Select</td>\n",
       "      <td>Select</td>\n",
       "      <td>02.Medium</td>\n",
       "      <td>02.Medium</td>\n",
       "      <td>15.0</td>\n",
       "      <td>15.0</td>\n",
       "      <td>No</td>\n",
       "      <td>No</td>\n",
       "      <td>Modified</td>\n",
       "    </tr>\n",
       "    <tr>\n",
       "      <th>1</th>\n",
       "      <td>660728</td>\n",
       "      <td>API</td>\n",
       "      <td>Organic Search</td>\n",
       "      <td>1</td>\n",
       "      <td>1</td>\n",
       "      <td>0</td>\n",
       "      <td>5.0</td>\n",
       "      <td>674</td>\n",
       "      <td>2.5</td>\n",
       "      <td>Email Opened</td>\n",
       "      <td>India</td>\n",
       "      <td>Select</td>\n",
       "      <td>Select</td>\n",
       "      <td>Unemployed</td>\n",
       "      <td>Better Career Prospects</td>\n",
       "      <td>No</td>\n",
       "      <td>No</td>\n",
       "      <td>No</td>\n",
       "      <td>No</td>\n",
       "      <td>No</td>\n",
       "      <td>No</td>\n",
       "      <td>No</td>\n",
       "      <td>No</td>\n",
       "      <td>Ringing</td>\n",
       "      <td>NaN</td>\n",
       "      <td>No</td>\n",
       "      <td>No</td>\n",
       "      <td>Select</td>\n",
       "      <td>Select</td>\n",
       "      <td>02.Medium</td>\n",
       "      <td>02.Medium</td>\n",
       "      <td>15.0</td>\n",
       "      <td>15.0</td>\n",
       "      <td>No</td>\n",
       "      <td>No</td>\n",
       "      <td>Email Opened</td>\n",
       "    </tr>\n",
       "    <tr>\n",
       "      <th>2</th>\n",
       "      <td>660727</td>\n",
       "      <td>Landing Page Submission</td>\n",
       "      <td>Direct Traffic</td>\n",
       "      <td>1</td>\n",
       "      <td>1</td>\n",
       "      <td>1</td>\n",
       "      <td>2.0</td>\n",
       "      <td>1532</td>\n",
       "      <td>2.0</td>\n",
       "      <td>Email Opened</td>\n",
       "      <td>India</td>\n",
       "      <td>Business Administration</td>\n",
       "      <td>Select</td>\n",
       "      <td>Student</td>\n",
       "      <td>Better Career Prospects</td>\n",
       "      <td>No</td>\n",
       "      <td>No</td>\n",
       "      <td>No</td>\n",
       "      <td>No</td>\n",
       "      <td>No</td>\n",
       "      <td>No</td>\n",
       "      <td>No</td>\n",
       "      <td>No</td>\n",
       "      <td>Will revert after reading the email</td>\n",
       "      <td>Might be</td>\n",
       "      <td>No</td>\n",
       "      <td>No</td>\n",
       "      <td>Potential Lead</td>\n",
       "      <td>Mumbai</td>\n",
       "      <td>02.Medium</td>\n",
       "      <td>01.High</td>\n",
       "      <td>14.0</td>\n",
       "      <td>20.0</td>\n",
       "      <td>No</td>\n",
       "      <td>Yes</td>\n",
       "      <td>Email Opened</td>\n",
       "    </tr>\n",
       "    <tr>\n",
       "      <th>3</th>\n",
       "      <td>660719</td>\n",
       "      <td>Landing Page Submission</td>\n",
       "      <td>Direct Traffic</td>\n",
       "      <td>1</td>\n",
       "      <td>1</td>\n",
       "      <td>0</td>\n",
       "      <td>1.0</td>\n",
       "      <td>305</td>\n",
       "      <td>1.0</td>\n",
       "      <td>Unreachable</td>\n",
       "      <td>India</td>\n",
       "      <td>Media and Advertising</td>\n",
       "      <td>Word Of Mouth</td>\n",
       "      <td>Unemployed</td>\n",
       "      <td>Better Career Prospects</td>\n",
       "      <td>No</td>\n",
       "      <td>No</td>\n",
       "      <td>No</td>\n",
       "      <td>No</td>\n",
       "      <td>No</td>\n",
       "      <td>No</td>\n",
       "      <td>No</td>\n",
       "      <td>No</td>\n",
       "      <td>Ringing</td>\n",
       "      <td>Not Sure</td>\n",
       "      <td>No</td>\n",
       "      <td>No</td>\n",
       "      <td>Select</td>\n",
       "      <td>Mumbai</td>\n",
       "      <td>02.Medium</td>\n",
       "      <td>01.High</td>\n",
       "      <td>13.0</td>\n",
       "      <td>17.0</td>\n",
       "      <td>No</td>\n",
       "      <td>No</td>\n",
       "      <td>Modified</td>\n",
       "    </tr>\n",
       "    <tr>\n",
       "      <th>4</th>\n",
       "      <td>660681</td>\n",
       "      <td>Landing Page Submission</td>\n",
       "      <td>Google</td>\n",
       "      <td>1</td>\n",
       "      <td>1</td>\n",
       "      <td>1</td>\n",
       "      <td>2.0</td>\n",
       "      <td>1428</td>\n",
       "      <td>1.0</td>\n",
       "      <td>Converted to Lead</td>\n",
       "      <td>India</td>\n",
       "      <td>Select</td>\n",
       "      <td>Other</td>\n",
       "      <td>Unemployed</td>\n",
       "      <td>Better Career Prospects</td>\n",
       "      <td>No</td>\n",
       "      <td>No</td>\n",
       "      <td>No</td>\n",
       "      <td>No</td>\n",
       "      <td>No</td>\n",
       "      <td>No</td>\n",
       "      <td>No</td>\n",
       "      <td>No</td>\n",
       "      <td>Will revert after reading the email</td>\n",
       "      <td>Might be</td>\n",
       "      <td>No</td>\n",
       "      <td>No</td>\n",
       "      <td>Select</td>\n",
       "      <td>Mumbai</td>\n",
       "      <td>02.Medium</td>\n",
       "      <td>01.High</td>\n",
       "      <td>15.0</td>\n",
       "      <td>18.0</td>\n",
       "      <td>No</td>\n",
       "      <td>No</td>\n",
       "      <td>Modified</td>\n",
       "    </tr>\n",
       "  </tbody>\n",
       "</table>\n",
       "</div>"
      ],
      "text/plain": [
       "   Lead Number                   origin     lead_source  send_email  call  \\\n",
       "0       660737                      API      Olark Chat           1     1   \n",
       "1       660728                      API  Organic Search           1     1   \n",
       "2       660727  Landing Page Submission  Direct Traffic           1     1   \n",
       "3       660719  Landing Page Submission  Direct Traffic           1     1   \n",
       "4       660681  Landing Page Submission          Google           1     1   \n",
       "\n",
       "   Converted  TotalVisits  time_spent  num_page_per_visit  \\\n",
       "0          0          0.0           0                 0.0   \n",
       "1          0          5.0         674                 2.5   \n",
       "2          1          2.0        1532                 2.0   \n",
       "3          0          1.0         305                 1.0   \n",
       "4          1          2.0        1428                 1.0   \n",
       "\n",
       "             last_activity country           specialization hear_about_source  \\\n",
       "0  Page Visited on Website     NaN                   Select            Select   \n",
       "1             Email Opened   India                   Select            Select   \n",
       "2             Email Opened   India  Business Administration            Select   \n",
       "3              Unreachable   India    Media and Advertising     Word Of Mouth   \n",
       "4        Converted to Lead   India                   Select             Other   \n",
       "\n",
       "  cur_occupation             course_value search magazine newspaper_article  \\\n",
       "0     Unemployed  Better Career Prospects     No       No                No   \n",
       "1     Unemployed  Better Career Prospects     No       No                No   \n",
       "2        Student  Better Career Prospects     No       No                No   \n",
       "3     Unemployed  Better Career Prospects     No       No                No   \n",
       "4     Unemployed  Better Career Prospects     No       No                No   \n",
       "\n",
       "  x_education_forum newspaper digital_Advertisement was_recommended  \\\n",
       "0                No        No                    No              No   \n",
       "1                No        No                    No              No   \n",
       "2                No        No                    No              No   \n",
       "3                No        No                    No              No   \n",
       "4                No        No                    No              No   \n",
       "\n",
       "  rcv_updates_course                                 Tags      lead_quality  \\\n",
       "0                 No          Interested in other courses  Low in Relevance   \n",
       "1                 No                              Ringing               NaN   \n",
       "2                 No  Will revert after reading the email          Might be   \n",
       "3                 No                              Ringing          Not Sure   \n",
       "4                 No  Will revert after reading the email          Might be   \n",
       "\n",
       "  rcv_updates_supplychain rcv_updates_dm    lead_profile    City  \\\n",
       "0                      No             No          Select  Select   \n",
       "1                      No             No          Select  Select   \n",
       "2                      No             No  Potential Lead  Mumbai   \n",
       "3                      No             No          Select  Mumbai   \n",
       "4                      No             No          Select  Mumbai   \n",
       "\n",
       "  asymetric_activity_index asymmetric_profile_index  \\\n",
       "0                02.Medium                02.Medium   \n",
       "1                02.Medium                02.Medium   \n",
       "2                02.Medium                  01.High   \n",
       "3                02.Medium                  01.High   \n",
       "4                02.Medium                  01.High   \n",
       "\n",
       "   asymmetric_activity_score  asymmetric_profile_score agree_paymnt_cheque  \\\n",
       "0                       15.0                      15.0                  No   \n",
       "1                       15.0                      15.0                  No   \n",
       "2                       14.0                      20.0                  No   \n",
       "3                       13.0                      17.0                  No   \n",
       "4                       15.0                      18.0                  No   \n",
       "\n",
       "  free_copy_mastering_the_interview last_notable_activity  \n",
       "0                                No              Modified  \n",
       "1                                No          Email Opened  \n",
       "2                               Yes          Email Opened  \n",
       "3                                No              Modified  \n",
       "4                                No              Modified  "
      ]
     },
     "execution_count": 27,
     "metadata": {},
     "output_type": "execute_result"
    }
   ],
   "source": [
    "df.head()"
   ]
  },
  {
   "cell_type": "code",
   "execution_count": 28,
   "id": "b11db8e4",
   "metadata": {},
   "outputs": [
    {
     "data": {
      "text/plain": [
       "last_activity\n",
       "Email Opened                    3437\n",
       "SMS Sent                        2745\n",
       "Olark Chat Conversation          973\n",
       "Page Visited on Website          640\n",
       "Converted to Lead                428\n",
       "Email Bounced                    326\n",
       "Email Link Clicked               267\n",
       "Form Submitted on Website        116\n",
       "Unreachable                       93\n",
       "Unsubscribed                      61\n",
       "Had a Phone Conversation          30\n",
       "Approached upfront                 9\n",
       "View in browser link Clicked       6\n",
       "Email Received                     2\n",
       "Email Marked Spam                  2\n",
       "Visited Booth in Tradeshow         1\n",
       "Resubscribed to emails             1\n",
       "Name: count, dtype: int64"
      ]
     },
     "execution_count": 28,
     "metadata": {},
     "output_type": "execute_result"
    }
   ],
   "source": [
    "df.last_activity.value_counts()"
   ]
  },
  {
   "cell_type": "code",
   "execution_count": 29,
   "id": "a7701a28",
   "metadata": {},
   "outputs": [
    {
     "data": {
      "text/plain": [
       "2461"
      ]
     },
     "execution_count": 29,
     "metadata": {},
     "output_type": "execute_result"
    }
   ],
   "source": [
    "df.country.isna().sum()"
   ]
  },
  {
   "cell_type": "code",
   "execution_count": 30,
   "id": "3ad201b1",
   "metadata": {},
   "outputs": [
    {
     "data": {
      "text/plain": [
       "26.634199134199132"
      ]
     },
     "execution_count": 30,
     "metadata": {},
     "output_type": "execute_result"
    }
   ],
   "source": [
    "null_percentage = df.country.isna().sum() / len(df.country) * 100\n",
    "null_percentage"
   ]
  },
  {
   "cell_type": "markdown",
   "id": "77905263",
   "metadata": {},
   "source": [
    "27% Null values almost. Not a good idea to drop the column at this stage"
   ]
  },
  {
   "cell_type": "code",
   "execution_count": 31,
   "id": "1535436e",
   "metadata": {},
   "outputs": [
    {
     "data": {
      "text/plain": [
       "country\n",
       "India                   6492\n",
       "United States             69\n",
       "United Arab Emirates      53\n",
       "Singapore                 24\n",
       "Saudi Arabia              21\n",
       "United Kingdom            15\n",
       "Australia                 13\n",
       "Qatar                     10\n",
       "Hong Kong                  7\n",
       "Bahrain                    7\n",
       "Oman                       6\n",
       "France                     6\n",
       "unknown                    5\n",
       "South Africa               4\n",
       "Nigeria                    4\n",
       "Germany                    4\n",
       "Kuwait                     4\n",
       "Canada                     4\n",
       "Sweden                     3\n",
       "China                      2\n",
       "Asia/Pacific Region        2\n",
       "Uganda                     2\n",
       "Bangladesh                 2\n",
       "Italy                      2\n",
       "Belgium                    2\n",
       "Netherlands                2\n",
       "Ghana                      2\n",
       "Philippines                2\n",
       "Russia                     1\n",
       "Switzerland                1\n",
       "Vietnam                    1\n",
       "Denmark                    1\n",
       "Tanzania                   1\n",
       "Liberia                    1\n",
       "Malaysia                   1\n",
       "Kenya                      1\n",
       "Sri Lanka                  1\n",
       "Indonesia                  1\n",
       "Name: count, dtype: int64"
      ]
     },
     "execution_count": 31,
     "metadata": {},
     "output_type": "execute_result"
    }
   ],
   "source": [
    "df.country.value_counts()"
   ]
  },
  {
   "cell_type": "code",
   "execution_count": 32,
   "id": "9ace91b1",
   "metadata": {},
   "outputs": [
    {
     "data": {
      "text/html": [
       "<div>\n",
       "<style scoped>\n",
       "    .dataframe tbody tr th:only-of-type {\n",
       "        vertical-align: middle;\n",
       "    }\n",
       "\n",
       "    .dataframe tbody tr th {\n",
       "        vertical-align: top;\n",
       "    }\n",
       "\n",
       "    .dataframe thead th {\n",
       "        text-align: right;\n",
       "    }\n",
       "</style>\n",
       "<table border=\"1\" class=\"dataframe\">\n",
       "  <thead>\n",
       "    <tr style=\"text-align: right;\">\n",
       "      <th></th>\n",
       "      <th>Lead Number</th>\n",
       "      <th>origin</th>\n",
       "      <th>lead_source</th>\n",
       "      <th>send_email</th>\n",
       "      <th>call</th>\n",
       "      <th>Converted</th>\n",
       "      <th>TotalVisits</th>\n",
       "      <th>time_spent</th>\n",
       "      <th>num_page_per_visit</th>\n",
       "      <th>last_activity</th>\n",
       "      <th>country</th>\n",
       "      <th>specialization</th>\n",
       "      <th>hear_about_source</th>\n",
       "      <th>cur_occupation</th>\n",
       "      <th>course_value</th>\n",
       "      <th>search</th>\n",
       "      <th>magazine</th>\n",
       "      <th>newspaper_article</th>\n",
       "      <th>x_education_forum</th>\n",
       "      <th>newspaper</th>\n",
       "      <th>digital_Advertisement</th>\n",
       "      <th>was_recommended</th>\n",
       "      <th>rcv_updates_course</th>\n",
       "      <th>Tags</th>\n",
       "      <th>lead_quality</th>\n",
       "      <th>rcv_updates_supplychain</th>\n",
       "      <th>rcv_updates_dm</th>\n",
       "      <th>lead_profile</th>\n",
       "      <th>City</th>\n",
       "      <th>asymetric_activity_index</th>\n",
       "      <th>asymmetric_profile_index</th>\n",
       "      <th>asymmetric_activity_score</th>\n",
       "      <th>asymmetric_profile_score</th>\n",
       "      <th>agree_paymnt_cheque</th>\n",
       "      <th>free_copy_mastering_the_interview</th>\n",
       "      <th>last_notable_activity</th>\n",
       "    </tr>\n",
       "  </thead>\n",
       "  <tbody>\n",
       "    <tr>\n",
       "      <th>0</th>\n",
       "      <td>660737</td>\n",
       "      <td>API</td>\n",
       "      <td>Olark Chat</td>\n",
       "      <td>1</td>\n",
       "      <td>1</td>\n",
       "      <td>0</td>\n",
       "      <td>0.0</td>\n",
       "      <td>0</td>\n",
       "      <td>0.0</td>\n",
       "      <td>Page Visited on Website</td>\n",
       "      <td>NaN</td>\n",
       "      <td>Select</td>\n",
       "      <td>Select</td>\n",
       "      <td>Unemployed</td>\n",
       "      <td>Better Career Prospects</td>\n",
       "      <td>No</td>\n",
       "      <td>No</td>\n",
       "      <td>No</td>\n",
       "      <td>No</td>\n",
       "      <td>No</td>\n",
       "      <td>No</td>\n",
       "      <td>No</td>\n",
       "      <td>No</td>\n",
       "      <td>Interested in other courses</td>\n",
       "      <td>Low in Relevance</td>\n",
       "      <td>No</td>\n",
       "      <td>No</td>\n",
       "      <td>Select</td>\n",
       "      <td>Select</td>\n",
       "      <td>02.Medium</td>\n",
       "      <td>02.Medium</td>\n",
       "      <td>15.0</td>\n",
       "      <td>15.0</td>\n",
       "      <td>No</td>\n",
       "      <td>No</td>\n",
       "      <td>Modified</td>\n",
       "    </tr>\n",
       "    <tr>\n",
       "      <th>1</th>\n",
       "      <td>660728</td>\n",
       "      <td>API</td>\n",
       "      <td>Organic Search</td>\n",
       "      <td>1</td>\n",
       "      <td>1</td>\n",
       "      <td>0</td>\n",
       "      <td>5.0</td>\n",
       "      <td>674</td>\n",
       "      <td>2.5</td>\n",
       "      <td>Email Opened</td>\n",
       "      <td>India</td>\n",
       "      <td>Select</td>\n",
       "      <td>Select</td>\n",
       "      <td>Unemployed</td>\n",
       "      <td>Better Career Prospects</td>\n",
       "      <td>No</td>\n",
       "      <td>No</td>\n",
       "      <td>No</td>\n",
       "      <td>No</td>\n",
       "      <td>No</td>\n",
       "      <td>No</td>\n",
       "      <td>No</td>\n",
       "      <td>No</td>\n",
       "      <td>Ringing</td>\n",
       "      <td>NaN</td>\n",
       "      <td>No</td>\n",
       "      <td>No</td>\n",
       "      <td>Select</td>\n",
       "      <td>Select</td>\n",
       "      <td>02.Medium</td>\n",
       "      <td>02.Medium</td>\n",
       "      <td>15.0</td>\n",
       "      <td>15.0</td>\n",
       "      <td>No</td>\n",
       "      <td>No</td>\n",
       "      <td>Email Opened</td>\n",
       "    </tr>\n",
       "    <tr>\n",
       "      <th>2</th>\n",
       "      <td>660727</td>\n",
       "      <td>Landing Page Submission</td>\n",
       "      <td>Direct Traffic</td>\n",
       "      <td>1</td>\n",
       "      <td>1</td>\n",
       "      <td>1</td>\n",
       "      <td>2.0</td>\n",
       "      <td>1532</td>\n",
       "      <td>2.0</td>\n",
       "      <td>Email Opened</td>\n",
       "      <td>India</td>\n",
       "      <td>Business Administration</td>\n",
       "      <td>Select</td>\n",
       "      <td>Student</td>\n",
       "      <td>Better Career Prospects</td>\n",
       "      <td>No</td>\n",
       "      <td>No</td>\n",
       "      <td>No</td>\n",
       "      <td>No</td>\n",
       "      <td>No</td>\n",
       "      <td>No</td>\n",
       "      <td>No</td>\n",
       "      <td>No</td>\n",
       "      <td>Will revert after reading the email</td>\n",
       "      <td>Might be</td>\n",
       "      <td>No</td>\n",
       "      <td>No</td>\n",
       "      <td>Potential Lead</td>\n",
       "      <td>Mumbai</td>\n",
       "      <td>02.Medium</td>\n",
       "      <td>01.High</td>\n",
       "      <td>14.0</td>\n",
       "      <td>20.0</td>\n",
       "      <td>No</td>\n",
       "      <td>Yes</td>\n",
       "      <td>Email Opened</td>\n",
       "    </tr>\n",
       "    <tr>\n",
       "      <th>3</th>\n",
       "      <td>660719</td>\n",
       "      <td>Landing Page Submission</td>\n",
       "      <td>Direct Traffic</td>\n",
       "      <td>1</td>\n",
       "      <td>1</td>\n",
       "      <td>0</td>\n",
       "      <td>1.0</td>\n",
       "      <td>305</td>\n",
       "      <td>1.0</td>\n",
       "      <td>Unreachable</td>\n",
       "      <td>India</td>\n",
       "      <td>Media and Advertising</td>\n",
       "      <td>Word Of Mouth</td>\n",
       "      <td>Unemployed</td>\n",
       "      <td>Better Career Prospects</td>\n",
       "      <td>No</td>\n",
       "      <td>No</td>\n",
       "      <td>No</td>\n",
       "      <td>No</td>\n",
       "      <td>No</td>\n",
       "      <td>No</td>\n",
       "      <td>No</td>\n",
       "      <td>No</td>\n",
       "      <td>Ringing</td>\n",
       "      <td>Not Sure</td>\n",
       "      <td>No</td>\n",
       "      <td>No</td>\n",
       "      <td>Select</td>\n",
       "      <td>Mumbai</td>\n",
       "      <td>02.Medium</td>\n",
       "      <td>01.High</td>\n",
       "      <td>13.0</td>\n",
       "      <td>17.0</td>\n",
       "      <td>No</td>\n",
       "      <td>No</td>\n",
       "      <td>Modified</td>\n",
       "    </tr>\n",
       "    <tr>\n",
       "      <th>4</th>\n",
       "      <td>660681</td>\n",
       "      <td>Landing Page Submission</td>\n",
       "      <td>Google</td>\n",
       "      <td>1</td>\n",
       "      <td>1</td>\n",
       "      <td>1</td>\n",
       "      <td>2.0</td>\n",
       "      <td>1428</td>\n",
       "      <td>1.0</td>\n",
       "      <td>Converted to Lead</td>\n",
       "      <td>India</td>\n",
       "      <td>Select</td>\n",
       "      <td>Other</td>\n",
       "      <td>Unemployed</td>\n",
       "      <td>Better Career Prospects</td>\n",
       "      <td>No</td>\n",
       "      <td>No</td>\n",
       "      <td>No</td>\n",
       "      <td>No</td>\n",
       "      <td>No</td>\n",
       "      <td>No</td>\n",
       "      <td>No</td>\n",
       "      <td>No</td>\n",
       "      <td>Will revert after reading the email</td>\n",
       "      <td>Might be</td>\n",
       "      <td>No</td>\n",
       "      <td>No</td>\n",
       "      <td>Select</td>\n",
       "      <td>Mumbai</td>\n",
       "      <td>02.Medium</td>\n",
       "      <td>01.High</td>\n",
       "      <td>15.0</td>\n",
       "      <td>18.0</td>\n",
       "      <td>No</td>\n",
       "      <td>No</td>\n",
       "      <td>Modified</td>\n",
       "    </tr>\n",
       "  </tbody>\n",
       "</table>\n",
       "</div>"
      ],
      "text/plain": [
       "   Lead Number                   origin     lead_source  send_email  call  \\\n",
       "0       660737                      API      Olark Chat           1     1   \n",
       "1       660728                      API  Organic Search           1     1   \n",
       "2       660727  Landing Page Submission  Direct Traffic           1     1   \n",
       "3       660719  Landing Page Submission  Direct Traffic           1     1   \n",
       "4       660681  Landing Page Submission          Google           1     1   \n",
       "\n",
       "   Converted  TotalVisits  time_spent  num_page_per_visit  \\\n",
       "0          0          0.0           0                 0.0   \n",
       "1          0          5.0         674                 2.5   \n",
       "2          1          2.0        1532                 2.0   \n",
       "3          0          1.0         305                 1.0   \n",
       "4          1          2.0        1428                 1.0   \n",
       "\n",
       "             last_activity country           specialization hear_about_source  \\\n",
       "0  Page Visited on Website     NaN                   Select            Select   \n",
       "1             Email Opened   India                   Select            Select   \n",
       "2             Email Opened   India  Business Administration            Select   \n",
       "3              Unreachable   India    Media and Advertising     Word Of Mouth   \n",
       "4        Converted to Lead   India                   Select             Other   \n",
       "\n",
       "  cur_occupation             course_value search magazine newspaper_article  \\\n",
       "0     Unemployed  Better Career Prospects     No       No                No   \n",
       "1     Unemployed  Better Career Prospects     No       No                No   \n",
       "2        Student  Better Career Prospects     No       No                No   \n",
       "3     Unemployed  Better Career Prospects     No       No                No   \n",
       "4     Unemployed  Better Career Prospects     No       No                No   \n",
       "\n",
       "  x_education_forum newspaper digital_Advertisement was_recommended  \\\n",
       "0                No        No                    No              No   \n",
       "1                No        No                    No              No   \n",
       "2                No        No                    No              No   \n",
       "3                No        No                    No              No   \n",
       "4                No        No                    No              No   \n",
       "\n",
       "  rcv_updates_course                                 Tags      lead_quality  \\\n",
       "0                 No          Interested in other courses  Low in Relevance   \n",
       "1                 No                              Ringing               NaN   \n",
       "2                 No  Will revert after reading the email          Might be   \n",
       "3                 No                              Ringing          Not Sure   \n",
       "4                 No  Will revert after reading the email          Might be   \n",
       "\n",
       "  rcv_updates_supplychain rcv_updates_dm    lead_profile    City  \\\n",
       "0                      No             No          Select  Select   \n",
       "1                      No             No          Select  Select   \n",
       "2                      No             No  Potential Lead  Mumbai   \n",
       "3                      No             No          Select  Mumbai   \n",
       "4                      No             No          Select  Mumbai   \n",
       "\n",
       "  asymetric_activity_index asymmetric_profile_index  \\\n",
       "0                02.Medium                02.Medium   \n",
       "1                02.Medium                02.Medium   \n",
       "2                02.Medium                  01.High   \n",
       "3                02.Medium                  01.High   \n",
       "4                02.Medium                  01.High   \n",
       "\n",
       "   asymmetric_activity_score  asymmetric_profile_score agree_paymnt_cheque  \\\n",
       "0                       15.0                      15.0                  No   \n",
       "1                       15.0                      15.0                  No   \n",
       "2                       14.0                      20.0                  No   \n",
       "3                       13.0                      17.0                  No   \n",
       "4                       15.0                      18.0                  No   \n",
       "\n",
       "  free_copy_mastering_the_interview last_notable_activity  \n",
       "0                                No              Modified  \n",
       "1                                No          Email Opened  \n",
       "2                               Yes          Email Opened  \n",
       "3                                No              Modified  \n",
       "4                                No              Modified  "
      ]
     },
     "execution_count": 32,
     "metadata": {},
     "output_type": "execute_result"
    }
   ],
   "source": [
    "df.head()"
   ]
  },
  {
   "cell_type": "code",
   "execution_count": 33,
   "id": "2ace0624",
   "metadata": {},
   "outputs": [
    {
     "data": {
      "text/plain": [
       "specialization\n",
       "Select                               1942\n",
       "Finance Management                    976\n",
       "Human Resource Management             848\n",
       "Marketing Management                  838\n",
       "Operations Management                 503\n",
       "Business Administration               403\n",
       "IT Projects Management                366\n",
       "Supply Chain Management               349\n",
       "Banking, Investment And Insurance     338\n",
       "Travel and Tourism                    203\n",
       "Media and Advertising                 203\n",
       "International Business                178\n",
       "Healthcare Management                 159\n",
       "Hospitality Management                114\n",
       "E-COMMERCE                            112\n",
       "Retail Management                     100\n",
       "Rural and Agribusiness                 73\n",
       "E-Business                             57\n",
       "Services Excellence                    40\n",
       "Name: count, dtype: int64"
      ]
     },
     "execution_count": 33,
     "metadata": {},
     "output_type": "execute_result"
    }
   ],
   "source": [
    "df.specialization.value_counts()"
   ]
  },
  {
   "cell_type": "code",
   "execution_count": 34,
   "id": "a173825c",
   "metadata": {},
   "outputs": [
    {
     "data": {
      "text/plain": [
       "15.562770562770561"
      ]
     },
     "execution_count": 34,
     "metadata": {},
     "output_type": "execute_result"
    }
   ],
   "source": [
    "null_percentage = df.specialization.isna().sum() / len(df.specialization) * 100\n",
    "null_percentage"
   ]
  },
  {
   "cell_type": "markdown",
   "id": "0db27a2f",
   "metadata": {},
   "source": [
    "Let us treat Select as null value as it seems to be a fe error where user did not select any specialization in dropdown"
   ]
  },
  {
   "cell_type": "code",
   "execution_count": 35,
   "id": "ecd84732",
   "metadata": {},
   "outputs": [],
   "source": [
    "df[\"specialization\"] = df.specialization.apply(lambda x: np.nan if x == \"Select\" else x)"
   ]
  },
  {
   "cell_type": "code",
   "execution_count": 36,
   "id": "d85b0afd",
   "metadata": {},
   "outputs": [
    {
     "data": {
      "text/plain": [
       "specialization\n",
       "Finance Management                   976\n",
       "Human Resource Management            848\n",
       "Marketing Management                 838\n",
       "Operations Management                503\n",
       "Business Administration              403\n",
       "IT Projects Management               366\n",
       "Supply Chain Management              349\n",
       "Banking, Investment And Insurance    338\n",
       "Travel and Tourism                   203\n",
       "Media and Advertising                203\n",
       "International Business               178\n",
       "Healthcare Management                159\n",
       "Hospitality Management               114\n",
       "E-COMMERCE                           112\n",
       "Retail Management                    100\n",
       "Rural and Agribusiness                73\n",
       "E-Business                            57\n",
       "Services Excellence                   40\n",
       "Name: count, dtype: int64"
      ]
     },
     "execution_count": 36,
     "metadata": {},
     "output_type": "execute_result"
    }
   ],
   "source": [
    "df.specialization.value_counts()"
   ]
  },
  {
   "cell_type": "code",
   "execution_count": 37,
   "id": "aa447edc",
   "metadata": {},
   "outputs": [
    {
     "data": {
      "text/html": [
       "<div>\n",
       "<style scoped>\n",
       "    .dataframe tbody tr th:only-of-type {\n",
       "        vertical-align: middle;\n",
       "    }\n",
       "\n",
       "    .dataframe tbody tr th {\n",
       "        vertical-align: top;\n",
       "    }\n",
       "\n",
       "    .dataframe thead th {\n",
       "        text-align: right;\n",
       "    }\n",
       "</style>\n",
       "<table border=\"1\" class=\"dataframe\">\n",
       "  <thead>\n",
       "    <tr style=\"text-align: right;\">\n",
       "      <th></th>\n",
       "      <th>Lead Number</th>\n",
       "      <th>origin</th>\n",
       "      <th>lead_source</th>\n",
       "      <th>send_email</th>\n",
       "      <th>call</th>\n",
       "      <th>Converted</th>\n",
       "      <th>TotalVisits</th>\n",
       "      <th>time_spent</th>\n",
       "      <th>num_page_per_visit</th>\n",
       "      <th>last_activity</th>\n",
       "      <th>country</th>\n",
       "      <th>specialization</th>\n",
       "      <th>hear_about_source</th>\n",
       "      <th>cur_occupation</th>\n",
       "      <th>course_value</th>\n",
       "      <th>search</th>\n",
       "      <th>magazine</th>\n",
       "      <th>newspaper_article</th>\n",
       "      <th>x_education_forum</th>\n",
       "      <th>newspaper</th>\n",
       "      <th>digital_Advertisement</th>\n",
       "      <th>was_recommended</th>\n",
       "      <th>rcv_updates_course</th>\n",
       "      <th>Tags</th>\n",
       "      <th>lead_quality</th>\n",
       "      <th>rcv_updates_supplychain</th>\n",
       "      <th>rcv_updates_dm</th>\n",
       "      <th>lead_profile</th>\n",
       "      <th>City</th>\n",
       "      <th>asymetric_activity_index</th>\n",
       "      <th>asymmetric_profile_index</th>\n",
       "      <th>asymmetric_activity_score</th>\n",
       "      <th>asymmetric_profile_score</th>\n",
       "      <th>agree_paymnt_cheque</th>\n",
       "      <th>free_copy_mastering_the_interview</th>\n",
       "      <th>last_notable_activity</th>\n",
       "    </tr>\n",
       "  </thead>\n",
       "  <tbody>\n",
       "    <tr>\n",
       "      <th>0</th>\n",
       "      <td>660737</td>\n",
       "      <td>API</td>\n",
       "      <td>Olark Chat</td>\n",
       "      <td>1</td>\n",
       "      <td>1</td>\n",
       "      <td>0</td>\n",
       "      <td>0.0</td>\n",
       "      <td>0</td>\n",
       "      <td>0.0</td>\n",
       "      <td>Page Visited on Website</td>\n",
       "      <td>NaN</td>\n",
       "      <td>NaN</td>\n",
       "      <td>Select</td>\n",
       "      <td>Unemployed</td>\n",
       "      <td>Better Career Prospects</td>\n",
       "      <td>No</td>\n",
       "      <td>No</td>\n",
       "      <td>No</td>\n",
       "      <td>No</td>\n",
       "      <td>No</td>\n",
       "      <td>No</td>\n",
       "      <td>No</td>\n",
       "      <td>No</td>\n",
       "      <td>Interested in other courses</td>\n",
       "      <td>Low in Relevance</td>\n",
       "      <td>No</td>\n",
       "      <td>No</td>\n",
       "      <td>Select</td>\n",
       "      <td>Select</td>\n",
       "      <td>02.Medium</td>\n",
       "      <td>02.Medium</td>\n",
       "      <td>15.0</td>\n",
       "      <td>15.0</td>\n",
       "      <td>No</td>\n",
       "      <td>No</td>\n",
       "      <td>Modified</td>\n",
       "    </tr>\n",
       "    <tr>\n",
       "      <th>1</th>\n",
       "      <td>660728</td>\n",
       "      <td>API</td>\n",
       "      <td>Organic Search</td>\n",
       "      <td>1</td>\n",
       "      <td>1</td>\n",
       "      <td>0</td>\n",
       "      <td>5.0</td>\n",
       "      <td>674</td>\n",
       "      <td>2.5</td>\n",
       "      <td>Email Opened</td>\n",
       "      <td>India</td>\n",
       "      <td>NaN</td>\n",
       "      <td>Select</td>\n",
       "      <td>Unemployed</td>\n",
       "      <td>Better Career Prospects</td>\n",
       "      <td>No</td>\n",
       "      <td>No</td>\n",
       "      <td>No</td>\n",
       "      <td>No</td>\n",
       "      <td>No</td>\n",
       "      <td>No</td>\n",
       "      <td>No</td>\n",
       "      <td>No</td>\n",
       "      <td>Ringing</td>\n",
       "      <td>NaN</td>\n",
       "      <td>No</td>\n",
       "      <td>No</td>\n",
       "      <td>Select</td>\n",
       "      <td>Select</td>\n",
       "      <td>02.Medium</td>\n",
       "      <td>02.Medium</td>\n",
       "      <td>15.0</td>\n",
       "      <td>15.0</td>\n",
       "      <td>No</td>\n",
       "      <td>No</td>\n",
       "      <td>Email Opened</td>\n",
       "    </tr>\n",
       "    <tr>\n",
       "      <th>2</th>\n",
       "      <td>660727</td>\n",
       "      <td>Landing Page Submission</td>\n",
       "      <td>Direct Traffic</td>\n",
       "      <td>1</td>\n",
       "      <td>1</td>\n",
       "      <td>1</td>\n",
       "      <td>2.0</td>\n",
       "      <td>1532</td>\n",
       "      <td>2.0</td>\n",
       "      <td>Email Opened</td>\n",
       "      <td>India</td>\n",
       "      <td>Business Administration</td>\n",
       "      <td>Select</td>\n",
       "      <td>Student</td>\n",
       "      <td>Better Career Prospects</td>\n",
       "      <td>No</td>\n",
       "      <td>No</td>\n",
       "      <td>No</td>\n",
       "      <td>No</td>\n",
       "      <td>No</td>\n",
       "      <td>No</td>\n",
       "      <td>No</td>\n",
       "      <td>No</td>\n",
       "      <td>Will revert after reading the email</td>\n",
       "      <td>Might be</td>\n",
       "      <td>No</td>\n",
       "      <td>No</td>\n",
       "      <td>Potential Lead</td>\n",
       "      <td>Mumbai</td>\n",
       "      <td>02.Medium</td>\n",
       "      <td>01.High</td>\n",
       "      <td>14.0</td>\n",
       "      <td>20.0</td>\n",
       "      <td>No</td>\n",
       "      <td>Yes</td>\n",
       "      <td>Email Opened</td>\n",
       "    </tr>\n",
       "    <tr>\n",
       "      <th>3</th>\n",
       "      <td>660719</td>\n",
       "      <td>Landing Page Submission</td>\n",
       "      <td>Direct Traffic</td>\n",
       "      <td>1</td>\n",
       "      <td>1</td>\n",
       "      <td>0</td>\n",
       "      <td>1.0</td>\n",
       "      <td>305</td>\n",
       "      <td>1.0</td>\n",
       "      <td>Unreachable</td>\n",
       "      <td>India</td>\n",
       "      <td>Media and Advertising</td>\n",
       "      <td>Word Of Mouth</td>\n",
       "      <td>Unemployed</td>\n",
       "      <td>Better Career Prospects</td>\n",
       "      <td>No</td>\n",
       "      <td>No</td>\n",
       "      <td>No</td>\n",
       "      <td>No</td>\n",
       "      <td>No</td>\n",
       "      <td>No</td>\n",
       "      <td>No</td>\n",
       "      <td>No</td>\n",
       "      <td>Ringing</td>\n",
       "      <td>Not Sure</td>\n",
       "      <td>No</td>\n",
       "      <td>No</td>\n",
       "      <td>Select</td>\n",
       "      <td>Mumbai</td>\n",
       "      <td>02.Medium</td>\n",
       "      <td>01.High</td>\n",
       "      <td>13.0</td>\n",
       "      <td>17.0</td>\n",
       "      <td>No</td>\n",
       "      <td>No</td>\n",
       "      <td>Modified</td>\n",
       "    </tr>\n",
       "    <tr>\n",
       "      <th>4</th>\n",
       "      <td>660681</td>\n",
       "      <td>Landing Page Submission</td>\n",
       "      <td>Google</td>\n",
       "      <td>1</td>\n",
       "      <td>1</td>\n",
       "      <td>1</td>\n",
       "      <td>2.0</td>\n",
       "      <td>1428</td>\n",
       "      <td>1.0</td>\n",
       "      <td>Converted to Lead</td>\n",
       "      <td>India</td>\n",
       "      <td>NaN</td>\n",
       "      <td>Other</td>\n",
       "      <td>Unemployed</td>\n",
       "      <td>Better Career Prospects</td>\n",
       "      <td>No</td>\n",
       "      <td>No</td>\n",
       "      <td>No</td>\n",
       "      <td>No</td>\n",
       "      <td>No</td>\n",
       "      <td>No</td>\n",
       "      <td>No</td>\n",
       "      <td>No</td>\n",
       "      <td>Will revert after reading the email</td>\n",
       "      <td>Might be</td>\n",
       "      <td>No</td>\n",
       "      <td>No</td>\n",
       "      <td>Select</td>\n",
       "      <td>Mumbai</td>\n",
       "      <td>02.Medium</td>\n",
       "      <td>01.High</td>\n",
       "      <td>15.0</td>\n",
       "      <td>18.0</td>\n",
       "      <td>No</td>\n",
       "      <td>No</td>\n",
       "      <td>Modified</td>\n",
       "    </tr>\n",
       "  </tbody>\n",
       "</table>\n",
       "</div>"
      ],
      "text/plain": [
       "   Lead Number                   origin     lead_source  send_email  call  \\\n",
       "0       660737                      API      Olark Chat           1     1   \n",
       "1       660728                      API  Organic Search           1     1   \n",
       "2       660727  Landing Page Submission  Direct Traffic           1     1   \n",
       "3       660719  Landing Page Submission  Direct Traffic           1     1   \n",
       "4       660681  Landing Page Submission          Google           1     1   \n",
       "\n",
       "   Converted  TotalVisits  time_spent  num_page_per_visit  \\\n",
       "0          0          0.0           0                 0.0   \n",
       "1          0          5.0         674                 2.5   \n",
       "2          1          2.0        1532                 2.0   \n",
       "3          0          1.0         305                 1.0   \n",
       "4          1          2.0        1428                 1.0   \n",
       "\n",
       "             last_activity country           specialization hear_about_source  \\\n",
       "0  Page Visited on Website     NaN                      NaN            Select   \n",
       "1             Email Opened   India                      NaN            Select   \n",
       "2             Email Opened   India  Business Administration            Select   \n",
       "3              Unreachable   India    Media and Advertising     Word Of Mouth   \n",
       "4        Converted to Lead   India                      NaN             Other   \n",
       "\n",
       "  cur_occupation             course_value search magazine newspaper_article  \\\n",
       "0     Unemployed  Better Career Prospects     No       No                No   \n",
       "1     Unemployed  Better Career Prospects     No       No                No   \n",
       "2        Student  Better Career Prospects     No       No                No   \n",
       "3     Unemployed  Better Career Prospects     No       No                No   \n",
       "4     Unemployed  Better Career Prospects     No       No                No   \n",
       "\n",
       "  x_education_forum newspaper digital_Advertisement was_recommended  \\\n",
       "0                No        No                    No              No   \n",
       "1                No        No                    No              No   \n",
       "2                No        No                    No              No   \n",
       "3                No        No                    No              No   \n",
       "4                No        No                    No              No   \n",
       "\n",
       "  rcv_updates_course                                 Tags      lead_quality  \\\n",
       "0                 No          Interested in other courses  Low in Relevance   \n",
       "1                 No                              Ringing               NaN   \n",
       "2                 No  Will revert after reading the email          Might be   \n",
       "3                 No                              Ringing          Not Sure   \n",
       "4                 No  Will revert after reading the email          Might be   \n",
       "\n",
       "  rcv_updates_supplychain rcv_updates_dm    lead_profile    City  \\\n",
       "0                      No             No          Select  Select   \n",
       "1                      No             No          Select  Select   \n",
       "2                      No             No  Potential Lead  Mumbai   \n",
       "3                      No             No          Select  Mumbai   \n",
       "4                      No             No          Select  Mumbai   \n",
       "\n",
       "  asymetric_activity_index asymmetric_profile_index  \\\n",
       "0                02.Medium                02.Medium   \n",
       "1                02.Medium                02.Medium   \n",
       "2                02.Medium                  01.High   \n",
       "3                02.Medium                  01.High   \n",
       "4                02.Medium                  01.High   \n",
       "\n",
       "   asymmetric_activity_score  asymmetric_profile_score agree_paymnt_cheque  \\\n",
       "0                       15.0                      15.0                  No   \n",
       "1                       15.0                      15.0                  No   \n",
       "2                       14.0                      20.0                  No   \n",
       "3                       13.0                      17.0                  No   \n",
       "4                       15.0                      18.0                  No   \n",
       "\n",
       "  free_copy_mastering_the_interview last_notable_activity  \n",
       "0                                No              Modified  \n",
       "1                                No          Email Opened  \n",
       "2                               Yes          Email Opened  \n",
       "3                                No              Modified  \n",
       "4                                No              Modified  "
      ]
     },
     "execution_count": 37,
     "metadata": {},
     "output_type": "execute_result"
    }
   ],
   "source": [
    "df.head()"
   ]
  },
  {
   "cell_type": "code",
   "execution_count": 38,
   "id": "1ebe5568",
   "metadata": {},
   "outputs": [
    {
     "data": {
      "text/plain": [
       "36.58008658008658"
      ]
     },
     "execution_count": 38,
     "metadata": {},
     "output_type": "execute_result"
    }
   ],
   "source": [
    "null_percentage = df.specialization.isna().sum() / len(df.specialization) * 100\n",
    "null_percentage"
   ]
  },
  {
   "cell_type": "markdown",
   "id": "fd80688b",
   "metadata": {},
   "source": [
    "let us see null precentage of hear_about_source"
   ]
  },
  {
   "cell_type": "code",
   "execution_count": 39,
   "id": "0357f332",
   "metadata": {},
   "outputs": [
    {
     "data": {
      "text/plain": [
       "23.885281385281385"
      ]
     },
     "execution_count": 39,
     "metadata": {},
     "output_type": "execute_result"
    }
   ],
   "source": [
    "null_percentage = df.hear_about_source.isna().sum() / len(df.hear_about_source) * 100\n",
    "null_percentage"
   ]
  },
  {
   "cell_type": "code",
   "execution_count": 40,
   "id": "1b369dda",
   "metadata": {},
   "outputs": [
    {
     "data": {
      "text/plain": [
       "hear_about_source\n",
       "Select                   5043\n",
       "Online Search             808\n",
       "Word Of Mouth             348\n",
       "Student of SomeSchool     310\n",
       "Other                     186\n",
       "Multiple Sources          152\n",
       "Advertisements             70\n",
       "Social Media               67\n",
       "Email                      26\n",
       "SMS                        23\n",
       "Name: count, dtype: int64"
      ]
     },
     "execution_count": 40,
     "metadata": {},
     "output_type": "execute_result"
    }
   ],
   "source": [
    "df.hear_about_source.value_counts()"
   ]
  },
  {
   "cell_type": "markdown",
   "id": "5167d647",
   "metadata": {},
   "source": [
    "Again let us treat Select as null value "
   ]
  },
  {
   "cell_type": "code",
   "execution_count": 41,
   "id": "a1fcb585",
   "metadata": {},
   "outputs": [],
   "source": [
    "df[\"hear_about_source\"] = df.hear_about_source.apply(lambda x: np.nan if x == \"Select\" else x)"
   ]
  },
  {
   "cell_type": "code",
   "execution_count": 42,
   "id": "8bc8cd64",
   "metadata": {},
   "outputs": [
    {
     "data": {
      "text/plain": [
       "78.46320346320347"
      ]
     },
     "execution_count": 42,
     "metadata": {},
     "output_type": "execute_result"
    }
   ],
   "source": [
    "null_percentage = df.hear_about_source.isna().sum() / len(df.hear_about_source) * 100\n",
    "null_percentage"
   ]
  },
  {
   "cell_type": "markdown",
   "id": "6f531484",
   "metadata": {},
   "source": [
    "WHOOO!!! This column definitely needs to be dropped . Let us mark this column to be dropped later"
   ]
  },
  {
   "cell_type": "code",
   "execution_count": 43,
   "id": "fd04ddba",
   "metadata": {},
   "outputs": [
    {
     "name": "stdout",
     "output_type": "stream",
     "text": [
      "2690\n"
     ]
    }
   ],
   "source": [
    "print(df.cur_occupation.isna().sum())"
   ]
  },
  {
   "cell_type": "code",
   "execution_count": 44,
   "id": "22e2cdfb",
   "metadata": {},
   "outputs": [
    {
     "data": {
      "text/plain": [
       "cur_occupation\n",
       "Unemployed              5600\n",
       "Working Professional     706\n",
       "Student                  210\n",
       "Other                     16\n",
       "Housewife                 10\n",
       "Businessman                8\n",
       "Name: count, dtype: int64"
      ]
     },
     "execution_count": 44,
     "metadata": {},
     "output_type": "execute_result"
    }
   ],
   "source": [
    "df.cur_occupation.value_counts()"
   ]
  },
  {
   "cell_type": "code",
   "execution_count": 45,
   "id": "ab0ceafe",
   "metadata": {},
   "outputs": [
    {
     "name": "stdout",
     "output_type": "stream",
     "text": [
      "2709\n"
     ]
    }
   ],
   "source": [
    "print(df.course_value.isna().sum())"
   ]
  },
  {
   "cell_type": "code",
   "execution_count": 46,
   "id": "832b3621",
   "metadata": {},
   "outputs": [
    {
     "data": {
      "text/plain": [
       "course_value\n",
       "Better Career Prospects      6528\n",
       "Flexibility & Convenience       2\n",
       "Other                           1\n",
       "Name: count, dtype: int64"
      ]
     },
     "execution_count": 46,
     "metadata": {},
     "output_type": "execute_result"
    }
   ],
   "source": [
    "df.course_value.value_counts()"
   ]
  },
  {
   "cell_type": "code",
   "execution_count": 47,
   "id": "fb669ac3",
   "metadata": {},
   "outputs": [
    {
     "data": {
      "text/plain": [
       "search\n",
       "False    9240\n",
       "Name: count, dtype: int64"
      ]
     },
     "execution_count": 47,
     "metadata": {},
     "output_type": "execute_result"
    }
   ],
   "source": [
    "df.search.isna().value_counts()"
   ]
  },
  {
   "cell_type": "code",
   "execution_count": 48,
   "id": "fe2fd66b",
   "metadata": {},
   "outputs": [
    {
     "data": {
      "text/plain": [
       "search\n",
       "No     9226\n",
       "Yes      14\n",
       "Name: count, dtype: int64"
      ]
     },
     "execution_count": 48,
     "metadata": {},
     "output_type": "execute_result"
    }
   ],
   "source": [
    "df.search.value_counts()"
   ]
  },
  {
   "cell_type": "markdown",
   "id": "f13a5b14",
   "metadata": {},
   "source": [
    "Let us convert yes/no to 1/0"
   ]
  },
  {
   "cell_type": "code",
   "execution_count": 49,
   "id": "b83459ac",
   "metadata": {},
   "outputs": [],
   "source": [
    "df[\"search\"] = df.search.apply(lambda x: yesno_to_01(x.lower()))"
   ]
  },
  {
   "cell_type": "code",
   "execution_count": 50,
   "id": "1f69fde9",
   "metadata": {},
   "outputs": [
    {
     "data": {
      "text/plain": [
       "search\n",
       "0    9226\n",
       "1      14\n",
       "Name: count, dtype: int64"
      ]
     },
     "execution_count": 50,
     "metadata": {},
     "output_type": "execute_result"
    }
   ],
   "source": [
    "df.search.value_counts()\n"
   ]
  },
  {
   "cell_type": "code",
   "execution_count": 51,
   "id": "f0174091",
   "metadata": {},
   "outputs": [
    {
     "data": {
      "text/plain": [
       "0"
      ]
     },
     "execution_count": 51,
     "metadata": {},
     "output_type": "execute_result"
    }
   ],
   "source": [
    "df.magazine.isna().sum()"
   ]
  },
  {
   "cell_type": "code",
   "execution_count": 52,
   "id": "55175239",
   "metadata": {},
   "outputs": [
    {
     "data": {
      "text/plain": [
       "magazine\n",
       "No    9240\n",
       "Name: count, dtype: int64"
      ]
     },
     "execution_count": 52,
     "metadata": {},
     "output_type": "execute_result"
    }
   ],
   "source": [
    "df.magazine.value_counts()"
   ]
  },
  {
   "cell_type": "code",
   "execution_count": 53,
   "id": "3f04238a",
   "metadata": {},
   "outputs": [
    {
     "data": {
      "text/plain": [
       "(9240, 36)"
      ]
     },
     "execution_count": 53,
     "metadata": {},
     "output_type": "execute_result"
    }
   ],
   "source": [
    "df.shape"
   ]
  },
  {
   "cell_type": "code",
   "execution_count": 54,
   "id": "ebb9f798",
   "metadata": {},
   "outputs": [],
   "source": [
    "df[\"magazine\"] = df.magazine.apply(lambda x: yesno_to_01(x.lower()))"
   ]
  },
  {
   "cell_type": "code",
   "execution_count": 55,
   "id": "30a847fa",
   "metadata": {},
   "outputs": [
    {
     "data": {
      "text/plain": [
       "magazine\n",
       "0    9240\n",
       "Name: count, dtype: int64"
      ]
     },
     "execution_count": 55,
     "metadata": {},
     "output_type": "execute_result"
    }
   ],
   "source": [
    "df.magazine.value_counts()"
   ]
  },
  {
   "cell_type": "code",
   "execution_count": 56,
   "id": "d23ade90",
   "metadata": {},
   "outputs": [
    {
     "data": {
      "text/html": [
       "<div>\n",
       "<style scoped>\n",
       "    .dataframe tbody tr th:only-of-type {\n",
       "        vertical-align: middle;\n",
       "    }\n",
       "\n",
       "    .dataframe tbody tr th {\n",
       "        vertical-align: top;\n",
       "    }\n",
       "\n",
       "    .dataframe thead th {\n",
       "        text-align: right;\n",
       "    }\n",
       "</style>\n",
       "<table border=\"1\" class=\"dataframe\">\n",
       "  <thead>\n",
       "    <tr style=\"text-align: right;\">\n",
       "      <th></th>\n",
       "      <th>Lead Number</th>\n",
       "      <th>origin</th>\n",
       "      <th>lead_source</th>\n",
       "      <th>send_email</th>\n",
       "      <th>call</th>\n",
       "      <th>Converted</th>\n",
       "      <th>TotalVisits</th>\n",
       "      <th>time_spent</th>\n",
       "      <th>num_page_per_visit</th>\n",
       "      <th>last_activity</th>\n",
       "      <th>country</th>\n",
       "      <th>specialization</th>\n",
       "      <th>hear_about_source</th>\n",
       "      <th>cur_occupation</th>\n",
       "      <th>course_value</th>\n",
       "      <th>search</th>\n",
       "      <th>magazine</th>\n",
       "      <th>newspaper_article</th>\n",
       "      <th>x_education_forum</th>\n",
       "      <th>newspaper</th>\n",
       "      <th>digital_Advertisement</th>\n",
       "      <th>was_recommended</th>\n",
       "      <th>rcv_updates_course</th>\n",
       "      <th>Tags</th>\n",
       "      <th>lead_quality</th>\n",
       "      <th>rcv_updates_supplychain</th>\n",
       "      <th>rcv_updates_dm</th>\n",
       "      <th>lead_profile</th>\n",
       "      <th>City</th>\n",
       "      <th>asymetric_activity_index</th>\n",
       "      <th>asymmetric_profile_index</th>\n",
       "      <th>asymmetric_activity_score</th>\n",
       "      <th>asymmetric_profile_score</th>\n",
       "      <th>agree_paymnt_cheque</th>\n",
       "      <th>free_copy_mastering_the_interview</th>\n",
       "      <th>last_notable_activity</th>\n",
       "    </tr>\n",
       "  </thead>\n",
       "  <tbody>\n",
       "    <tr>\n",
       "      <th>0</th>\n",
       "      <td>660737</td>\n",
       "      <td>API</td>\n",
       "      <td>Olark Chat</td>\n",
       "      <td>1</td>\n",
       "      <td>1</td>\n",
       "      <td>0</td>\n",
       "      <td>0.0</td>\n",
       "      <td>0</td>\n",
       "      <td>0.0</td>\n",
       "      <td>Page Visited on Website</td>\n",
       "      <td>NaN</td>\n",
       "      <td>NaN</td>\n",
       "      <td>NaN</td>\n",
       "      <td>Unemployed</td>\n",
       "      <td>Better Career Prospects</td>\n",
       "      <td>0</td>\n",
       "      <td>0</td>\n",
       "      <td>No</td>\n",
       "      <td>No</td>\n",
       "      <td>No</td>\n",
       "      <td>No</td>\n",
       "      <td>No</td>\n",
       "      <td>No</td>\n",
       "      <td>Interested in other courses</td>\n",
       "      <td>Low in Relevance</td>\n",
       "      <td>No</td>\n",
       "      <td>No</td>\n",
       "      <td>Select</td>\n",
       "      <td>Select</td>\n",
       "      <td>02.Medium</td>\n",
       "      <td>02.Medium</td>\n",
       "      <td>15.0</td>\n",
       "      <td>15.0</td>\n",
       "      <td>No</td>\n",
       "      <td>No</td>\n",
       "      <td>Modified</td>\n",
       "    </tr>\n",
       "    <tr>\n",
       "      <th>1</th>\n",
       "      <td>660728</td>\n",
       "      <td>API</td>\n",
       "      <td>Organic Search</td>\n",
       "      <td>1</td>\n",
       "      <td>1</td>\n",
       "      <td>0</td>\n",
       "      <td>5.0</td>\n",
       "      <td>674</td>\n",
       "      <td>2.5</td>\n",
       "      <td>Email Opened</td>\n",
       "      <td>India</td>\n",
       "      <td>NaN</td>\n",
       "      <td>NaN</td>\n",
       "      <td>Unemployed</td>\n",
       "      <td>Better Career Prospects</td>\n",
       "      <td>0</td>\n",
       "      <td>0</td>\n",
       "      <td>No</td>\n",
       "      <td>No</td>\n",
       "      <td>No</td>\n",
       "      <td>No</td>\n",
       "      <td>No</td>\n",
       "      <td>No</td>\n",
       "      <td>Ringing</td>\n",
       "      <td>NaN</td>\n",
       "      <td>No</td>\n",
       "      <td>No</td>\n",
       "      <td>Select</td>\n",
       "      <td>Select</td>\n",
       "      <td>02.Medium</td>\n",
       "      <td>02.Medium</td>\n",
       "      <td>15.0</td>\n",
       "      <td>15.0</td>\n",
       "      <td>No</td>\n",
       "      <td>No</td>\n",
       "      <td>Email Opened</td>\n",
       "    </tr>\n",
       "    <tr>\n",
       "      <th>2</th>\n",
       "      <td>660727</td>\n",
       "      <td>Landing Page Submission</td>\n",
       "      <td>Direct Traffic</td>\n",
       "      <td>1</td>\n",
       "      <td>1</td>\n",
       "      <td>1</td>\n",
       "      <td>2.0</td>\n",
       "      <td>1532</td>\n",
       "      <td>2.0</td>\n",
       "      <td>Email Opened</td>\n",
       "      <td>India</td>\n",
       "      <td>Business Administration</td>\n",
       "      <td>NaN</td>\n",
       "      <td>Student</td>\n",
       "      <td>Better Career Prospects</td>\n",
       "      <td>0</td>\n",
       "      <td>0</td>\n",
       "      <td>No</td>\n",
       "      <td>No</td>\n",
       "      <td>No</td>\n",
       "      <td>No</td>\n",
       "      <td>No</td>\n",
       "      <td>No</td>\n",
       "      <td>Will revert after reading the email</td>\n",
       "      <td>Might be</td>\n",
       "      <td>No</td>\n",
       "      <td>No</td>\n",
       "      <td>Potential Lead</td>\n",
       "      <td>Mumbai</td>\n",
       "      <td>02.Medium</td>\n",
       "      <td>01.High</td>\n",
       "      <td>14.0</td>\n",
       "      <td>20.0</td>\n",
       "      <td>No</td>\n",
       "      <td>Yes</td>\n",
       "      <td>Email Opened</td>\n",
       "    </tr>\n",
       "    <tr>\n",
       "      <th>3</th>\n",
       "      <td>660719</td>\n",
       "      <td>Landing Page Submission</td>\n",
       "      <td>Direct Traffic</td>\n",
       "      <td>1</td>\n",
       "      <td>1</td>\n",
       "      <td>0</td>\n",
       "      <td>1.0</td>\n",
       "      <td>305</td>\n",
       "      <td>1.0</td>\n",
       "      <td>Unreachable</td>\n",
       "      <td>India</td>\n",
       "      <td>Media and Advertising</td>\n",
       "      <td>Word Of Mouth</td>\n",
       "      <td>Unemployed</td>\n",
       "      <td>Better Career Prospects</td>\n",
       "      <td>0</td>\n",
       "      <td>0</td>\n",
       "      <td>No</td>\n",
       "      <td>No</td>\n",
       "      <td>No</td>\n",
       "      <td>No</td>\n",
       "      <td>No</td>\n",
       "      <td>No</td>\n",
       "      <td>Ringing</td>\n",
       "      <td>Not Sure</td>\n",
       "      <td>No</td>\n",
       "      <td>No</td>\n",
       "      <td>Select</td>\n",
       "      <td>Mumbai</td>\n",
       "      <td>02.Medium</td>\n",
       "      <td>01.High</td>\n",
       "      <td>13.0</td>\n",
       "      <td>17.0</td>\n",
       "      <td>No</td>\n",
       "      <td>No</td>\n",
       "      <td>Modified</td>\n",
       "    </tr>\n",
       "    <tr>\n",
       "      <th>4</th>\n",
       "      <td>660681</td>\n",
       "      <td>Landing Page Submission</td>\n",
       "      <td>Google</td>\n",
       "      <td>1</td>\n",
       "      <td>1</td>\n",
       "      <td>1</td>\n",
       "      <td>2.0</td>\n",
       "      <td>1428</td>\n",
       "      <td>1.0</td>\n",
       "      <td>Converted to Lead</td>\n",
       "      <td>India</td>\n",
       "      <td>NaN</td>\n",
       "      <td>Other</td>\n",
       "      <td>Unemployed</td>\n",
       "      <td>Better Career Prospects</td>\n",
       "      <td>0</td>\n",
       "      <td>0</td>\n",
       "      <td>No</td>\n",
       "      <td>No</td>\n",
       "      <td>No</td>\n",
       "      <td>No</td>\n",
       "      <td>No</td>\n",
       "      <td>No</td>\n",
       "      <td>Will revert after reading the email</td>\n",
       "      <td>Might be</td>\n",
       "      <td>No</td>\n",
       "      <td>No</td>\n",
       "      <td>Select</td>\n",
       "      <td>Mumbai</td>\n",
       "      <td>02.Medium</td>\n",
       "      <td>01.High</td>\n",
       "      <td>15.0</td>\n",
       "      <td>18.0</td>\n",
       "      <td>No</td>\n",
       "      <td>No</td>\n",
       "      <td>Modified</td>\n",
       "    </tr>\n",
       "  </tbody>\n",
       "</table>\n",
       "</div>"
      ],
      "text/plain": [
       "   Lead Number                   origin     lead_source  send_email  call  \\\n",
       "0       660737                      API      Olark Chat           1     1   \n",
       "1       660728                      API  Organic Search           1     1   \n",
       "2       660727  Landing Page Submission  Direct Traffic           1     1   \n",
       "3       660719  Landing Page Submission  Direct Traffic           1     1   \n",
       "4       660681  Landing Page Submission          Google           1     1   \n",
       "\n",
       "   Converted  TotalVisits  time_spent  num_page_per_visit  \\\n",
       "0          0          0.0           0                 0.0   \n",
       "1          0          5.0         674                 2.5   \n",
       "2          1          2.0        1532                 2.0   \n",
       "3          0          1.0         305                 1.0   \n",
       "4          1          2.0        1428                 1.0   \n",
       "\n",
       "             last_activity country           specialization hear_about_source  \\\n",
       "0  Page Visited on Website     NaN                      NaN               NaN   \n",
       "1             Email Opened   India                      NaN               NaN   \n",
       "2             Email Opened   India  Business Administration               NaN   \n",
       "3              Unreachable   India    Media and Advertising     Word Of Mouth   \n",
       "4        Converted to Lead   India                      NaN             Other   \n",
       "\n",
       "  cur_occupation             course_value  search  magazine newspaper_article  \\\n",
       "0     Unemployed  Better Career Prospects       0         0                No   \n",
       "1     Unemployed  Better Career Prospects       0         0                No   \n",
       "2        Student  Better Career Prospects       0         0                No   \n",
       "3     Unemployed  Better Career Prospects       0         0                No   \n",
       "4     Unemployed  Better Career Prospects       0         0                No   \n",
       "\n",
       "  x_education_forum newspaper digital_Advertisement was_recommended  \\\n",
       "0                No        No                    No              No   \n",
       "1                No        No                    No              No   \n",
       "2                No        No                    No              No   \n",
       "3                No        No                    No              No   \n",
       "4                No        No                    No              No   \n",
       "\n",
       "  rcv_updates_course                                 Tags      lead_quality  \\\n",
       "0                 No          Interested in other courses  Low in Relevance   \n",
       "1                 No                              Ringing               NaN   \n",
       "2                 No  Will revert after reading the email          Might be   \n",
       "3                 No                              Ringing          Not Sure   \n",
       "4                 No  Will revert after reading the email          Might be   \n",
       "\n",
       "  rcv_updates_supplychain rcv_updates_dm    lead_profile    City  \\\n",
       "0                      No             No          Select  Select   \n",
       "1                      No             No          Select  Select   \n",
       "2                      No             No  Potential Lead  Mumbai   \n",
       "3                      No             No          Select  Mumbai   \n",
       "4                      No             No          Select  Mumbai   \n",
       "\n",
       "  asymetric_activity_index asymmetric_profile_index  \\\n",
       "0                02.Medium                02.Medium   \n",
       "1                02.Medium                02.Medium   \n",
       "2                02.Medium                  01.High   \n",
       "3                02.Medium                  01.High   \n",
       "4                02.Medium                  01.High   \n",
       "\n",
       "   asymmetric_activity_score  asymmetric_profile_score agree_paymnt_cheque  \\\n",
       "0                       15.0                      15.0                  No   \n",
       "1                       15.0                      15.0                  No   \n",
       "2                       14.0                      20.0                  No   \n",
       "3                       13.0                      17.0                  No   \n",
       "4                       15.0                      18.0                  No   \n",
       "\n",
       "  free_copy_mastering_the_interview last_notable_activity  \n",
       "0                                No              Modified  \n",
       "1                                No          Email Opened  \n",
       "2                               Yes          Email Opened  \n",
       "3                                No              Modified  \n",
       "4                                No              Modified  "
      ]
     },
     "execution_count": 56,
     "metadata": {},
     "output_type": "execute_result"
    }
   ],
   "source": [
    "df.head()"
   ]
  },
  {
   "cell_type": "code",
   "execution_count": 57,
   "id": "1ec16d85",
   "metadata": {},
   "outputs": [
    {
     "data": {
      "text/plain": [
       "0"
      ]
     },
     "execution_count": 57,
     "metadata": {},
     "output_type": "execute_result"
    }
   ],
   "source": [
    "df.newspaper_article.isna().sum()"
   ]
  },
  {
   "cell_type": "code",
   "execution_count": 58,
   "id": "789eee89",
   "metadata": {},
   "outputs": [
    {
     "data": {
      "text/plain": [
       "newspaper_article\n",
       "No     9238\n",
       "Yes       2\n",
       "Name: count, dtype: int64"
      ]
     },
     "execution_count": 58,
     "metadata": {},
     "output_type": "execute_result"
    }
   ],
   "source": [
    "df.newspaper_article.value_counts()"
   ]
  },
  {
   "cell_type": "code",
   "execution_count": 59,
   "id": "498e184d",
   "metadata": {},
   "outputs": [],
   "source": [
    "df[\"newspaper_article\"] = df.newspaper_article.apply(lambda x: yesno_to_01(x.lower()))"
   ]
  },
  {
   "cell_type": "code",
   "execution_count": 60,
   "id": "4ecd6471",
   "metadata": {},
   "outputs": [
    {
     "data": {
      "text/plain": [
       "newspaper_article\n",
       "0    9238\n",
       "1       2\n",
       "Name: count, dtype: int64"
      ]
     },
     "execution_count": 60,
     "metadata": {},
     "output_type": "execute_result"
    }
   ],
   "source": [
    "df.newspaper_article.value_counts()"
   ]
  },
  {
   "cell_type": "code",
   "execution_count": 61,
   "id": "53d5a0f3",
   "metadata": {},
   "outputs": [
    {
     "data": {
      "text/plain": [
       "0"
      ]
     },
     "execution_count": 61,
     "metadata": {},
     "output_type": "execute_result"
    }
   ],
   "source": [
    "df.x_education_forum.isna().sum()"
   ]
  },
  {
   "cell_type": "code",
   "execution_count": 62,
   "id": "7d6b3c09",
   "metadata": {},
   "outputs": [
    {
     "data": {
      "text/plain": [
       "x_education_forum\n",
       "No     9239\n",
       "Yes       1\n",
       "Name: count, dtype: int64"
      ]
     },
     "execution_count": 62,
     "metadata": {},
     "output_type": "execute_result"
    }
   ],
   "source": [
    "df.x_education_forum.value_counts()"
   ]
  },
  {
   "cell_type": "code",
   "execution_count": 63,
   "id": "2e6ebe12",
   "metadata": {},
   "outputs": [],
   "source": [
    "df[\"x_education_forum\"] = df.x_education_forum.apply(lambda x: yesno_to_01(x.lower()))"
   ]
  },
  {
   "cell_type": "code",
   "execution_count": 64,
   "id": "fff0c9bd",
   "metadata": {},
   "outputs": [
    {
     "data": {
      "text/plain": [
       "x_education_forum\n",
       "0    9239\n",
       "1       1\n",
       "Name: count, dtype: int64"
      ]
     },
     "execution_count": 64,
     "metadata": {},
     "output_type": "execute_result"
    }
   ],
   "source": [
    "df.x_education_forum.value_counts()"
   ]
  },
  {
   "cell_type": "code",
   "execution_count": 65,
   "id": "65705597",
   "metadata": {},
   "outputs": [
    {
     "data": {
      "text/plain": [
       "0"
      ]
     },
     "execution_count": 65,
     "metadata": {},
     "output_type": "execute_result"
    }
   ],
   "source": [
    "df.newspaper.isna().sum()"
   ]
  },
  {
   "cell_type": "code",
   "execution_count": 66,
   "id": "142449c8",
   "metadata": {},
   "outputs": [
    {
     "data": {
      "text/plain": [
       "newspaper\n",
       "No     9239\n",
       "Yes       1\n",
       "Name: count, dtype: int64"
      ]
     },
     "execution_count": 66,
     "metadata": {},
     "output_type": "execute_result"
    }
   ],
   "source": [
    "df.newspaper.value_counts()"
   ]
  },
  {
   "cell_type": "code",
   "execution_count": 67,
   "id": "817b95b6",
   "metadata": {},
   "outputs": [
    {
     "data": {
      "text/plain": [
       "0"
      ]
     },
     "execution_count": 67,
     "metadata": {},
     "output_type": "execute_result"
    }
   ],
   "source": [
    "df.digital_Advertisement.isna().sum()"
   ]
  },
  {
   "cell_type": "code",
   "execution_count": 68,
   "id": "fdfdd7cf",
   "metadata": {},
   "outputs": [
    {
     "data": {
      "text/plain": [
       "digital_Advertisement\n",
       "No     9236\n",
       "Yes       4\n",
       "Name: count, dtype: int64"
      ]
     },
     "execution_count": 68,
     "metadata": {},
     "output_type": "execute_result"
    }
   ],
   "source": [
    "df.digital_Advertisement.value_counts()"
   ]
  },
  {
   "cell_type": "code",
   "execution_count": 69,
   "id": "38226076",
   "metadata": {},
   "outputs": [],
   "source": [
    "df[\"digital_Advertisement\"] = df.digital_Advertisement.apply(lambda x: yesno_to_01(x.lower()))"
   ]
  },
  {
   "cell_type": "code",
   "execution_count": 70,
   "id": "b1964b29",
   "metadata": {},
   "outputs": [
    {
     "data": {
      "text/plain": [
       "digital_Advertisement\n",
       "0    9236\n",
       "1       4\n",
       "Name: count, dtype: int64"
      ]
     },
     "execution_count": 70,
     "metadata": {},
     "output_type": "execute_result"
    }
   ],
   "source": [
    "df.digital_Advertisement.value_counts()"
   ]
  },
  {
   "cell_type": "markdown",
   "id": "95e60b43",
   "metadata": {},
   "source": [
    "#### Let us keep in mind we can remove search to digital_Advertisement columns and create a new column ad_source later on"
   ]
  },
  {
   "cell_type": "code",
   "execution_count": 71,
   "id": "32699ceb",
   "metadata": {},
   "outputs": [
    {
     "data": {
      "text/plain": [
       "0"
      ]
     },
     "execution_count": 71,
     "metadata": {},
     "output_type": "execute_result"
    }
   ],
   "source": [
    "df.was_recommended.isna().sum()"
   ]
  },
  {
   "cell_type": "code",
   "execution_count": 72,
   "id": "2c6e4035",
   "metadata": {},
   "outputs": [
    {
     "data": {
      "text/plain": [
       "was_recommended\n",
       "No     9233\n",
       "Yes       7\n",
       "Name: count, dtype: int64"
      ]
     },
     "execution_count": 72,
     "metadata": {},
     "output_type": "execute_result"
    }
   ],
   "source": [
    "df.was_recommended.value_counts()"
   ]
  },
  {
   "cell_type": "code",
   "execution_count": 73,
   "id": "8ac41aa2",
   "metadata": {},
   "outputs": [],
   "source": [
    "df[\"was_recommended\"] = df.was_recommended.apply(lambda x: yesno_to_01(x.lower()))"
   ]
  },
  {
   "cell_type": "code",
   "execution_count": 74,
   "id": "eb833e79",
   "metadata": {},
   "outputs": [
    {
     "data": {
      "text/plain": [
       "was_recommended\n",
       "0    9233\n",
       "1       7\n",
       "Name: count, dtype: int64"
      ]
     },
     "execution_count": 74,
     "metadata": {},
     "output_type": "execute_result"
    }
   ],
   "source": [
    "df.was_recommended.value_counts()"
   ]
  },
  {
   "cell_type": "code",
   "execution_count": 75,
   "id": "ed46982c",
   "metadata": {},
   "outputs": [
    {
     "name": "stdout",
     "output_type": "stream",
     "text": [
      "<class 'pandas.core.frame.DataFrame'>\n",
      "RangeIndex: 9240 entries, 0 to 9239\n",
      "Data columns (total 36 columns):\n",
      " #   Column                             Non-Null Count  Dtype  \n",
      "---  ------                             --------------  -----  \n",
      " 0   Lead Number                        9240 non-null   int64  \n",
      " 1   origin                             9240 non-null   object \n",
      " 2   lead_source                        9204 non-null   object \n",
      " 3   send_email                         9240 non-null   int64  \n",
      " 4   call                               9240 non-null   int64  \n",
      " 5   Converted                          9240 non-null   int64  \n",
      " 6   TotalVisits                        9103 non-null   float64\n",
      " 7   time_spent                         9240 non-null   int64  \n",
      " 8   num_page_per_visit                 9103 non-null   float64\n",
      " 9   last_activity                      9137 non-null   object \n",
      " 10  country                            6779 non-null   object \n",
      " 11  specialization                     5860 non-null   object \n",
      " 12  hear_about_source                  1990 non-null   object \n",
      " 13  cur_occupation                     6550 non-null   object \n",
      " 14  course_value                       6531 non-null   object \n",
      " 15  search                             9240 non-null   int64  \n",
      " 16  magazine                           9240 non-null   int64  \n",
      " 17  newspaper_article                  9240 non-null   int64  \n",
      " 18  x_education_forum                  9240 non-null   int64  \n",
      " 19  newspaper                          9240 non-null   object \n",
      " 20  digital_Advertisement              9240 non-null   int64  \n",
      " 21  was_recommended                    9240 non-null   int64  \n",
      " 22  rcv_updates_course                 9240 non-null   object \n",
      " 23  Tags                               5887 non-null   object \n",
      " 24  lead_quality                       4473 non-null   object \n",
      " 25  rcv_updates_supplychain            9240 non-null   object \n",
      " 26  rcv_updates_dm                     9240 non-null   object \n",
      " 27  lead_profile                       6531 non-null   object \n",
      " 28  City                               7820 non-null   object \n",
      " 29  asymetric_activity_index           5022 non-null   object \n",
      " 30  asymmetric_profile_index           5022 non-null   object \n",
      " 31  asymmetric_activity_score          5022 non-null   float64\n",
      " 32  asymmetric_profile_score           5022 non-null   float64\n",
      " 33  agree_paymnt_cheque                9240 non-null   object \n",
      " 34  free_copy_mastering_the_interview  9240 non-null   object \n",
      " 35  last_notable_activity              9240 non-null   object \n",
      "dtypes: float64(4), int64(11), object(21)\n",
      "memory usage: 2.5+ MB\n"
     ]
    }
   ],
   "source": [
    "df.info()"
   ]
  },
  {
   "cell_type": "code",
   "execution_count": 76,
   "id": "7b97adba",
   "metadata": {},
   "outputs": [
    {
     "data": {
      "text/plain": [
       "rcv_updates_course\n",
       "No    9240\n",
       "Name: count, dtype: int64"
      ]
     },
     "execution_count": 76,
     "metadata": {},
     "output_type": "execute_result"
    }
   ],
   "source": [
    "df.rcv_updates_course.value_counts()"
   ]
  },
  {
   "cell_type": "code",
   "execution_count": 77,
   "id": "cb6b6633",
   "metadata": {},
   "outputs": [],
   "source": [
    "df[\"rcv_updates_course\"] = df.rcv_updates_course.apply(lambda x: yesno_to_01(x.lower()))"
   ]
  },
  {
   "cell_type": "code",
   "execution_count": 78,
   "id": "d06755fb",
   "metadata": {},
   "outputs": [
    {
     "data": {
      "text/plain": [
       "rcv_updates_course\n",
       "0    9240\n",
       "Name: count, dtype: int64"
      ]
     },
     "execution_count": 78,
     "metadata": {},
     "output_type": "execute_result"
    }
   ],
   "source": [
    "df.rcv_updates_course.value_counts()"
   ]
  },
  {
   "cell_type": "code",
   "execution_count": 79,
   "id": "2e7b1261",
   "metadata": {},
   "outputs": [
    {
     "data": {
      "text/plain": [
       "Tags\n",
       "Will revert after reading the email                  2072\n",
       "Ringing                                              1203\n",
       "Interested in other courses                           513\n",
       "Already a student                                     465\n",
       "Closed by Horizzon                                    358\n",
       "switched off                                          240\n",
       "Busy                                                  186\n",
       "Lost to EINS                                          175\n",
       "Not doing further education                           145\n",
       "Interested  in full time MBA                          117\n",
       "Graduation in progress                                111\n",
       "invalid number                                         83\n",
       "Diploma holder (Not Eligible)                          63\n",
       "wrong number given                                     47\n",
       "opp hangup                                             33\n",
       "number not provided                                    27\n",
       "in touch with EINS                                     12\n",
       "Lost to Others                                          7\n",
       "Still Thinking                                          6\n",
       "Want to take admission but has financial problems       6\n",
       "In confusion whether part time or DLP                   5\n",
       "Interested in Next batch                                5\n",
       "Lateral student                                         3\n",
       "Shall take in the next coming month                     2\n",
       "University not recognized                               2\n",
       "Recognition issue (DEC approval)                        1\n",
       "Name: count, dtype: int64"
      ]
     },
     "execution_count": 79,
     "metadata": {},
     "output_type": "execute_result"
    }
   ],
   "source": [
    "df.Tags.value_counts()"
   ]
  },
  {
   "cell_type": "code",
   "execution_count": 80,
   "id": "b7109019",
   "metadata": {},
   "outputs": [
    {
     "data": {
      "text/plain": [
       "lead_quality\n",
       "Might be             1560\n",
       "Not Sure             1092\n",
       "High in Relevance     637\n",
       "Worst                 601\n",
       "Low in Relevance      583\n",
       "Name: count, dtype: int64"
      ]
     },
     "execution_count": 80,
     "metadata": {},
     "output_type": "execute_result"
    }
   ],
   "source": [
    "df.lead_quality .value_counts()"
   ]
  },
  {
   "cell_type": "code",
   "execution_count": 81,
   "id": "4e1eec57",
   "metadata": {},
   "outputs": [
    {
     "data": {
      "text/plain": [
       "rcv_updates_supplychain\n",
       "No    9240\n",
       "Name: count, dtype: int64"
      ]
     },
     "execution_count": 81,
     "metadata": {},
     "output_type": "execute_result"
    }
   ],
   "source": [
    "df.rcv_updates_supplychain.value_counts()"
   ]
  },
  {
   "cell_type": "code",
   "execution_count": 82,
   "id": "c744f6ea",
   "metadata": {},
   "outputs": [],
   "source": [
    "df[\"rcv_updates_supplychain\"] = df.rcv_updates_supplychain.apply(lambda x: yesno_to_01(x.lower()))"
   ]
  },
  {
   "cell_type": "code",
   "execution_count": 83,
   "id": "01197ace",
   "metadata": {},
   "outputs": [
    {
     "data": {
      "text/plain": [
       "rcv_updates_supplychain\n",
       "0    9240\n",
       "Name: count, dtype: int64"
      ]
     },
     "execution_count": 83,
     "metadata": {},
     "output_type": "execute_result"
    }
   ],
   "source": [
    "df.rcv_updates_supplychain.value_counts()"
   ]
  },
  {
   "cell_type": "code",
   "execution_count": 84,
   "id": "909a1ce3",
   "metadata": {},
   "outputs": [
    {
     "data": {
      "text/plain": [
       "rcv_updates_dm\n",
       "No    9240\n",
       "Name: count, dtype: int64"
      ]
     },
     "execution_count": 84,
     "metadata": {},
     "output_type": "execute_result"
    }
   ],
   "source": [
    "df.rcv_updates_dm .value_counts()"
   ]
  },
  {
   "cell_type": "code",
   "execution_count": 85,
   "id": "c8714594",
   "metadata": {},
   "outputs": [],
   "source": [
    "df[\"rcv_updates_dm\"] = df.rcv_updates_dm.apply(lambda x: yesno_to_01(x.lower()))"
   ]
  },
  {
   "cell_type": "code",
   "execution_count": 86,
   "id": "9538bf85",
   "metadata": {},
   "outputs": [
    {
     "data": {
      "text/plain": [
       "rcv_updates_dm\n",
       "0    9240\n",
       "Name: count, dtype: int64"
      ]
     },
     "execution_count": 86,
     "metadata": {},
     "output_type": "execute_result"
    }
   ],
   "source": [
    "df.rcv_updates_dm .value_counts()\n"
   ]
  },
  {
   "cell_type": "code",
   "execution_count": 87,
   "id": "da73f97c",
   "metadata": {},
   "outputs": [
    {
     "data": {
      "text/plain": [
       "lead_profile\n",
       "Select                         4146\n",
       "Potential Lead                 1613\n",
       "Other Leads                     487\n",
       "Student of SomeSchool           241\n",
       "Lateral Student                  24\n",
       "Dual Specialization Student      20\n",
       "Name: count, dtype: int64"
      ]
     },
     "execution_count": 87,
     "metadata": {},
     "output_type": "execute_result"
    }
   ],
   "source": [
    "df.lead_profile.value_counts()"
   ]
  },
  {
   "cell_type": "code",
   "execution_count": 88,
   "id": "d9dead11",
   "metadata": {},
   "outputs": [],
   "source": [
    "df[\"lead_profile\"] = df.lead_profile.apply(lambda x: np.nan if x == \"Select\" else x) "
   ]
  },
  {
   "cell_type": "code",
   "execution_count": 89,
   "id": "50746c14",
   "metadata": {},
   "outputs": [
    {
     "data": {
      "text/plain": [
       "lead_profile\n",
       "Potential Lead                 1613\n",
       "Other Leads                     487\n",
       "Student of SomeSchool           241\n",
       "Lateral Student                  24\n",
       "Dual Specialization Student      20\n",
       "Name: count, dtype: int64"
      ]
     },
     "execution_count": 89,
     "metadata": {},
     "output_type": "execute_result"
    }
   ],
   "source": [
    "df.lead_profile.value_counts()\n"
   ]
  },
  {
   "cell_type": "code",
   "execution_count": 90,
   "id": "205a1e90",
   "metadata": {},
   "outputs": [
    {
     "data": {
      "text/plain": [
       "6855"
      ]
     },
     "execution_count": 90,
     "metadata": {},
     "output_type": "execute_result"
    }
   ],
   "source": [
    "df.lead_profile.isna().sum()"
   ]
  },
  {
   "cell_type": "code",
   "execution_count": 91,
   "id": "1ef8aef6",
   "metadata": {},
   "outputs": [
    {
     "data": {
      "text/plain": [
       "City\n",
       "Mumbai                         3222\n",
       "Select                         2249\n",
       "Thane & Outskirts               752\n",
       "Other Cities                    686\n",
       "Other Cities of Maharashtra     457\n",
       "Other Metro Cities              380\n",
       "Tier II Cities                   74\n",
       "Name: count, dtype: int64"
      ]
     },
     "execution_count": 91,
     "metadata": {},
     "output_type": "execute_result"
    }
   ],
   "source": [
    "df.City.value_counts() "
   ]
  },
  {
   "cell_type": "code",
   "execution_count": 92,
   "id": "c3ac09eb",
   "metadata": {},
   "outputs": [],
   "source": [
    "df[\"City\"] = df.City.apply(lambda x: np.nan if x == \"Select\" else x)"
   ]
  },
  {
   "cell_type": "code",
   "execution_count": 93,
   "id": "19e9fdcd",
   "metadata": {},
   "outputs": [
    {
     "data": {
      "text/plain": [
       "City\n",
       "Mumbai                         3222\n",
       "Thane & Outskirts               752\n",
       "Other Cities                    686\n",
       "Other Cities of Maharashtra     457\n",
       "Other Metro Cities              380\n",
       "Tier II Cities                   74\n",
       "Name: count, dtype: int64"
      ]
     },
     "execution_count": 93,
     "metadata": {},
     "output_type": "execute_result"
    }
   ],
   "source": [
    "df.City.value_counts() \n"
   ]
  },
  {
   "cell_type": "code",
   "execution_count": 94,
   "id": "6de4ad69",
   "metadata": {},
   "outputs": [
    {
     "data": {
      "text/plain": [
       "3669"
      ]
     },
     "execution_count": 94,
     "metadata": {},
     "output_type": "execute_result"
    }
   ],
   "source": [
    "df.City.isna().sum()"
   ]
  },
  {
   "cell_type": "code",
   "execution_count": 95,
   "id": "a4b88800",
   "metadata": {},
   "outputs": [
    {
     "name": "stdout",
     "output_type": "stream",
     "text": [
      "<class 'pandas.core.frame.DataFrame'>\n",
      "RangeIndex: 9240 entries, 0 to 9239\n",
      "Data columns (total 36 columns):\n",
      " #   Column                             Non-Null Count  Dtype  \n",
      "---  ------                             --------------  -----  \n",
      " 0   Lead Number                        9240 non-null   int64  \n",
      " 1   origin                             9240 non-null   object \n",
      " 2   lead_source                        9204 non-null   object \n",
      " 3   send_email                         9240 non-null   int64  \n",
      " 4   call                               9240 non-null   int64  \n",
      " 5   Converted                          9240 non-null   int64  \n",
      " 6   TotalVisits                        9103 non-null   float64\n",
      " 7   time_spent                         9240 non-null   int64  \n",
      " 8   num_page_per_visit                 9103 non-null   float64\n",
      " 9   last_activity                      9137 non-null   object \n",
      " 10  country                            6779 non-null   object \n",
      " 11  specialization                     5860 non-null   object \n",
      " 12  hear_about_source                  1990 non-null   object \n",
      " 13  cur_occupation                     6550 non-null   object \n",
      " 14  course_value                       6531 non-null   object \n",
      " 15  search                             9240 non-null   int64  \n",
      " 16  magazine                           9240 non-null   int64  \n",
      " 17  newspaper_article                  9240 non-null   int64  \n",
      " 18  x_education_forum                  9240 non-null   int64  \n",
      " 19  newspaper                          9240 non-null   object \n",
      " 20  digital_Advertisement              9240 non-null   int64  \n",
      " 21  was_recommended                    9240 non-null   int64  \n",
      " 22  rcv_updates_course                 9240 non-null   int64  \n",
      " 23  Tags                               5887 non-null   object \n",
      " 24  lead_quality                       4473 non-null   object \n",
      " 25  rcv_updates_supplychain            9240 non-null   int64  \n",
      " 26  rcv_updates_dm                     9240 non-null   int64  \n",
      " 27  lead_profile                       2385 non-null   object \n",
      " 28  City                               5571 non-null   object \n",
      " 29  asymetric_activity_index           5022 non-null   object \n",
      " 30  asymmetric_profile_index           5022 non-null   object \n",
      " 31  asymmetric_activity_score          5022 non-null   float64\n",
      " 32  asymmetric_profile_score           5022 non-null   float64\n",
      " 33  agree_paymnt_cheque                9240 non-null   object \n",
      " 34  free_copy_mastering_the_interview  9240 non-null   object \n",
      " 35  last_notable_activity              9240 non-null   object \n",
      "dtypes: float64(4), int64(14), object(18)\n",
      "memory usage: 2.5+ MB\n"
     ]
    }
   ],
   "source": [
    "df.info()"
   ]
  },
  {
   "cell_type": "code",
   "execution_count": 96,
   "id": "fd3e6bb0",
   "metadata": {},
   "outputs": [
    {
     "data": {
      "text/plain": [
       "newspaper\n",
       "No     9239\n",
       "Yes       1\n",
       "Name: count, dtype: int64"
      ]
     },
     "execution_count": 96,
     "metadata": {},
     "output_type": "execute_result"
    }
   ],
   "source": [
    "df.newspaper.value_counts()"
   ]
  },
  {
   "cell_type": "code",
   "execution_count": 97,
   "id": "8ab3fbb1",
   "metadata": {},
   "outputs": [],
   "source": [
    "df[\"newspaper\"] = df.newspaper.apply(lambda x: yesno_to_01(x.lower()))"
   ]
  },
  {
   "cell_type": "code",
   "execution_count": 98,
   "id": "ce832f4b",
   "metadata": {},
   "outputs": [
    {
     "data": {
      "text/plain": [
       "newspaper\n",
       "0    9239\n",
       "1       1\n",
       "Name: count, dtype: int64"
      ]
     },
     "execution_count": 98,
     "metadata": {},
     "output_type": "execute_result"
    }
   ],
   "source": [
    "df.newspaper.value_counts()"
   ]
  },
  {
   "cell_type": "code",
   "execution_count": 99,
   "id": "cc867d66",
   "metadata": {},
   "outputs": [
    {
     "name": "stdout",
     "output_type": "stream",
     "text": [
      "<class 'pandas.core.frame.DataFrame'>\n",
      "RangeIndex: 9240 entries, 0 to 9239\n",
      "Data columns (total 36 columns):\n",
      " #   Column                             Non-Null Count  Dtype  \n",
      "---  ------                             --------------  -----  \n",
      " 0   Lead Number                        9240 non-null   int64  \n",
      " 1   origin                             9240 non-null   object \n",
      " 2   lead_source                        9204 non-null   object \n",
      " 3   send_email                         9240 non-null   int64  \n",
      " 4   call                               9240 non-null   int64  \n",
      " 5   Converted                          9240 non-null   int64  \n",
      " 6   TotalVisits                        9103 non-null   float64\n",
      " 7   time_spent                         9240 non-null   int64  \n",
      " 8   num_page_per_visit                 9103 non-null   float64\n",
      " 9   last_activity                      9137 non-null   object \n",
      " 10  country                            6779 non-null   object \n",
      " 11  specialization                     5860 non-null   object \n",
      " 12  hear_about_source                  1990 non-null   object \n",
      " 13  cur_occupation                     6550 non-null   object \n",
      " 14  course_value                       6531 non-null   object \n",
      " 15  search                             9240 non-null   int64  \n",
      " 16  magazine                           9240 non-null   int64  \n",
      " 17  newspaper_article                  9240 non-null   int64  \n",
      " 18  x_education_forum                  9240 non-null   int64  \n",
      " 19  newspaper                          9240 non-null   int64  \n",
      " 20  digital_Advertisement              9240 non-null   int64  \n",
      " 21  was_recommended                    9240 non-null   int64  \n",
      " 22  rcv_updates_course                 9240 non-null   int64  \n",
      " 23  Tags                               5887 non-null   object \n",
      " 24  lead_quality                       4473 non-null   object \n",
      " 25  rcv_updates_supplychain            9240 non-null   int64  \n",
      " 26  rcv_updates_dm                     9240 non-null   int64  \n",
      " 27  lead_profile                       2385 non-null   object \n",
      " 28  City                               5571 non-null   object \n",
      " 29  asymetric_activity_index           5022 non-null   object \n",
      " 30  asymmetric_profile_index           5022 non-null   object \n",
      " 31  asymmetric_activity_score          5022 non-null   float64\n",
      " 32  asymmetric_profile_score           5022 non-null   float64\n",
      " 33  agree_paymnt_cheque                9240 non-null   object \n",
      " 34  free_copy_mastering_the_interview  9240 non-null   object \n",
      " 35  last_notable_activity              9240 non-null   object \n",
      "dtypes: float64(4), int64(15), object(17)\n",
      "memory usage: 2.5+ MB\n"
     ]
    }
   ],
   "source": [
    "df.info()"
   ]
  },
  {
   "cell_type": "code",
   "execution_count": 100,
   "id": "b47aec89",
   "metadata": {},
   "outputs": [
    {
     "data": {
      "text/plain": [
       "asymetric_activity_index\n",
       "02.Medium    3839\n",
       "01.High       821\n",
       "03.Low        362\n",
       "Name: count, dtype: int64"
      ]
     },
     "execution_count": 100,
     "metadata": {},
     "output_type": "execute_result"
    }
   ],
   "source": [
    "df.asymetric_activity_index.value_counts()"
   ]
  },
  {
   "cell_type": "code",
   "execution_count": 101,
   "id": "19ec26a0",
   "metadata": {},
   "outputs": [
    {
     "data": {
      "text/plain": [
       "asymmetric_profile_index\n",
       "02.Medium    2788\n",
       "01.High      2203\n",
       "03.Low         31\n",
       "Name: count, dtype: int64"
      ]
     },
     "execution_count": 101,
     "metadata": {},
     "output_type": "execute_result"
    }
   ],
   "source": [
    "df.asymmetric_profile_index.value_counts()"
   ]
  },
  {
   "cell_type": "markdown",
   "id": "d3580fe8",
   "metadata": {},
   "source": [
    "Let us rename these values of High, Low and Medium"
   ]
  },
  {
   "cell_type": "code",
   "execution_count": 102,
   "id": "79304930",
   "metadata": {},
   "outputs": [],
   "source": [
    "def process_index_values(x):\n",
    "    if x == \"02.Medium\":\n",
    "        return \"Medium\"\n",
    "    elif x == \"01.High\":\n",
    "        return \"High\"\n",
    "    elif x == \"03.Low\":\n",
    "        return \"Low\"\n",
    "    else:\n",
    "        return x"
   ]
  },
  {
   "cell_type": "code",
   "execution_count": 103,
   "id": "ee70ab75",
   "metadata": {},
   "outputs": [],
   "source": [
    "df[\"asymetric_activity_index\"] = df.asymetric_activity_index.apply(lambda x: process_index_values(x))"
   ]
  },
  {
   "cell_type": "code",
   "execution_count": 104,
   "id": "08a7044c",
   "metadata": {},
   "outputs": [
    {
     "data": {
      "text/plain": [
       "asymetric_activity_index\n",
       "Medium    3839\n",
       "High       821\n",
       "Low        362\n",
       "Name: count, dtype: int64"
      ]
     },
     "execution_count": 104,
     "metadata": {},
     "output_type": "execute_result"
    }
   ],
   "source": [
    "df.asymetric_activity_index.value_counts()"
   ]
  },
  {
   "cell_type": "code",
   "execution_count": 105,
   "id": "977b38cb",
   "metadata": {},
   "outputs": [],
   "source": [
    "df[\"asymmetric_profile_index\"] = df.asymmetric_profile_index.apply(lambda x: process_index_values(x))"
   ]
  },
  {
   "cell_type": "code",
   "execution_count": 106,
   "id": "b8f4286f",
   "metadata": {},
   "outputs": [
    {
     "data": {
      "text/plain": [
       "asymmetric_profile_index\n",
       "Medium    2788\n",
       "High      2203\n",
       "Low         31\n",
       "Name: count, dtype: int64"
      ]
     },
     "execution_count": 106,
     "metadata": {},
     "output_type": "execute_result"
    }
   ],
   "source": [
    "df.asymmetric_profile_index.value_counts()"
   ]
  },
  {
   "cell_type": "code",
   "execution_count": 107,
   "id": "38d14ec7",
   "metadata": {},
   "outputs": [
    {
     "name": "stdout",
     "output_type": "stream",
     "text": [
      "<class 'pandas.core.frame.DataFrame'>\n",
      "RangeIndex: 9240 entries, 0 to 9239\n",
      "Data columns (total 36 columns):\n",
      " #   Column                             Non-Null Count  Dtype  \n",
      "---  ------                             --------------  -----  \n",
      " 0   Lead Number                        9240 non-null   int64  \n",
      " 1   origin                             9240 non-null   object \n",
      " 2   lead_source                        9204 non-null   object \n",
      " 3   send_email                         9240 non-null   int64  \n",
      " 4   call                               9240 non-null   int64  \n",
      " 5   Converted                          9240 non-null   int64  \n",
      " 6   TotalVisits                        9103 non-null   float64\n",
      " 7   time_spent                         9240 non-null   int64  \n",
      " 8   num_page_per_visit                 9103 non-null   float64\n",
      " 9   last_activity                      9137 non-null   object \n",
      " 10  country                            6779 non-null   object \n",
      " 11  specialization                     5860 non-null   object \n",
      " 12  hear_about_source                  1990 non-null   object \n",
      " 13  cur_occupation                     6550 non-null   object \n",
      " 14  course_value                       6531 non-null   object \n",
      " 15  search                             9240 non-null   int64  \n",
      " 16  magazine                           9240 non-null   int64  \n",
      " 17  newspaper_article                  9240 non-null   int64  \n",
      " 18  x_education_forum                  9240 non-null   int64  \n",
      " 19  newspaper                          9240 non-null   int64  \n",
      " 20  digital_Advertisement              9240 non-null   int64  \n",
      " 21  was_recommended                    9240 non-null   int64  \n",
      " 22  rcv_updates_course                 9240 non-null   int64  \n",
      " 23  Tags                               5887 non-null   object \n",
      " 24  lead_quality                       4473 non-null   object \n",
      " 25  rcv_updates_supplychain            9240 non-null   int64  \n",
      " 26  rcv_updates_dm                     9240 non-null   int64  \n",
      " 27  lead_profile                       2385 non-null   object \n",
      " 28  City                               5571 non-null   object \n",
      " 29  asymetric_activity_index           5022 non-null   object \n",
      " 30  asymmetric_profile_index           5022 non-null   object \n",
      " 31  asymmetric_activity_score          5022 non-null   float64\n",
      " 32  asymmetric_profile_score           5022 non-null   float64\n",
      " 33  agree_paymnt_cheque                9240 non-null   object \n",
      " 34  free_copy_mastering_the_interview  9240 non-null   object \n",
      " 35  last_notable_activity              9240 non-null   object \n",
      "dtypes: float64(4), int64(15), object(17)\n",
      "memory usage: 2.5+ MB\n"
     ]
    }
   ],
   "source": [
    "df.info()"
   ]
  },
  {
   "cell_type": "code",
   "execution_count": 108,
   "id": "2d4ea564",
   "metadata": {},
   "outputs": [
    {
     "data": {
      "text/plain": [
       "agree_paymnt_cheque\n",
       "No    9240\n",
       "Name: count, dtype: int64"
      ]
     },
     "execution_count": 108,
     "metadata": {},
     "output_type": "execute_result"
    }
   ],
   "source": [
    "df.agree_paymnt_cheque.value_counts() "
   ]
  },
  {
   "cell_type": "code",
   "execution_count": 109,
   "id": "e425f03a",
   "metadata": {},
   "outputs": [],
   "source": [
    "df[\"agree_paymnt_cheque\"] = df.agree_paymnt_cheque.apply(lambda x: yesno_to_01(x.lower()))"
   ]
  },
  {
   "cell_type": "code",
   "execution_count": 110,
   "id": "a0b06722",
   "metadata": {},
   "outputs": [
    {
     "data": {
      "text/plain": [
       "agree_paymnt_cheque\n",
       "0    9240\n",
       "Name: count, dtype: int64"
      ]
     },
     "execution_count": 110,
     "metadata": {},
     "output_type": "execute_result"
    }
   ],
   "source": [
    "df.agree_paymnt_cheque.value_counts() "
   ]
  },
  {
   "cell_type": "code",
   "execution_count": 111,
   "id": "2f3bf03d",
   "metadata": {},
   "outputs": [
    {
     "data": {
      "text/plain": [
       "free_copy_mastering_the_interview\n",
       "No     6352\n",
       "Yes    2888\n",
       "Name: count, dtype: int64"
      ]
     },
     "execution_count": 111,
     "metadata": {},
     "output_type": "execute_result"
    }
   ],
   "source": [
    "df[\"free_copy_mastering_the_interview\"].value_counts()"
   ]
  },
  {
   "cell_type": "code",
   "execution_count": 112,
   "id": "185b9211",
   "metadata": {},
   "outputs": [],
   "source": [
    "df[\"free_copy_mastering_the_interview\"] = df.free_copy_mastering_the_interview.apply(lambda x: yesno_to_01(x.lower()))"
   ]
  },
  {
   "cell_type": "code",
   "execution_count": 113,
   "id": "30d664a5",
   "metadata": {},
   "outputs": [
    {
     "data": {
      "text/plain": [
       "free_copy_mastering_the_interview\n",
       "0    6352\n",
       "1    2888\n",
       "Name: count, dtype: int64"
      ]
     },
     "execution_count": 113,
     "metadata": {},
     "output_type": "execute_result"
    }
   ],
   "source": [
    "df.free_copy_mastering_the_interview.value_counts()"
   ]
  },
  {
   "cell_type": "code",
   "execution_count": 114,
   "id": "237f10ce",
   "metadata": {},
   "outputs": [
    {
     "data": {
      "text/plain": [
       "last_notable_activity\n",
       "Modified                        3407\n",
       "Email Opened                    2827\n",
       "SMS Sent                        2172\n",
       "Page Visited on Website          318\n",
       "Olark Chat Conversation          183\n",
       "Email Link Clicked               173\n",
       "Email Bounced                     60\n",
       "Unsubscribed                      47\n",
       "Unreachable                       32\n",
       "Had a Phone Conversation          14\n",
       "Email Marked Spam                  2\n",
       "Approached upfront                 1\n",
       "Resubscribed to emails             1\n",
       "View in browser link Clicked       1\n",
       "Form Submitted on Website          1\n",
       "Email Received                     1\n",
       "Name: count, dtype: int64"
      ]
     },
     "execution_count": 114,
     "metadata": {},
     "output_type": "execute_result"
    }
   ],
   "source": [
    "df.last_notable_activity.value_counts()"
   ]
  },
  {
   "cell_type": "code",
   "execution_count": 115,
   "id": "a3fff87c",
   "metadata": {},
   "outputs": [
    {
     "name": "stdout",
     "output_type": "stream",
     "text": [
      "<class 'pandas.core.frame.DataFrame'>\n",
      "RangeIndex: 9240 entries, 0 to 9239\n",
      "Data columns (total 36 columns):\n",
      " #   Column                             Non-Null Count  Dtype  \n",
      "---  ------                             --------------  -----  \n",
      " 0   Lead Number                        9240 non-null   int64  \n",
      " 1   origin                             9240 non-null   object \n",
      " 2   lead_source                        9204 non-null   object \n",
      " 3   send_email                         9240 non-null   int64  \n",
      " 4   call                               9240 non-null   int64  \n",
      " 5   Converted                          9240 non-null   int64  \n",
      " 6   TotalVisits                        9103 non-null   float64\n",
      " 7   time_spent                         9240 non-null   int64  \n",
      " 8   num_page_per_visit                 9103 non-null   float64\n",
      " 9   last_activity                      9137 non-null   object \n",
      " 10  country                            6779 non-null   object \n",
      " 11  specialization                     5860 non-null   object \n",
      " 12  hear_about_source                  1990 non-null   object \n",
      " 13  cur_occupation                     6550 non-null   object \n",
      " 14  course_value                       6531 non-null   object \n",
      " 15  search                             9240 non-null   int64  \n",
      " 16  magazine                           9240 non-null   int64  \n",
      " 17  newspaper_article                  9240 non-null   int64  \n",
      " 18  x_education_forum                  9240 non-null   int64  \n",
      " 19  newspaper                          9240 non-null   int64  \n",
      " 20  digital_Advertisement              9240 non-null   int64  \n",
      " 21  was_recommended                    9240 non-null   int64  \n",
      " 22  rcv_updates_course                 9240 non-null   int64  \n",
      " 23  Tags                               5887 non-null   object \n",
      " 24  lead_quality                       4473 non-null   object \n",
      " 25  rcv_updates_supplychain            9240 non-null   int64  \n",
      " 26  rcv_updates_dm                     9240 non-null   int64  \n",
      " 27  lead_profile                       2385 non-null   object \n",
      " 28  City                               5571 non-null   object \n",
      " 29  asymetric_activity_index           5022 non-null   object \n",
      " 30  asymmetric_profile_index           5022 non-null   object \n",
      " 31  asymmetric_activity_score          5022 non-null   float64\n",
      " 32  asymmetric_profile_score           5022 non-null   float64\n",
      " 33  agree_paymnt_cheque                9240 non-null   int64  \n",
      " 34  free_copy_mastering_the_interview  9240 non-null   int64  \n",
      " 35  last_notable_activity              9240 non-null   object \n",
      "dtypes: float64(4), int64(17), object(15)\n",
      "memory usage: 2.5+ MB\n"
     ]
    }
   ],
   "source": [
    "df.info()"
   ]
  },
  {
   "cell_type": "markdown",
   "id": "ca8becdb",
   "metadata": {},
   "source": [
    "#### So now we have cleaned the data. All the columns having yes no have been converted to 1 and 0. Categorical variables having Select as value has been assigned nan values. We are treating Select as null value. So finally  we can see above all the columns data types are also appropriate what we wanted. \n",
    "\n",
    "Now we will leave this original raw data as it is so that it can be cleaned raw data for future references.Let us create new df lead_data and use it for further processing."
   ]
  },
  {
   "cell_type": "code",
   "execution_count": 116,
   "id": "a1dcc33b",
   "metadata": {},
   "outputs": [
    {
     "data": {
      "text/html": [
       "<div>\n",
       "<style scoped>\n",
       "    .dataframe tbody tr th:only-of-type {\n",
       "        vertical-align: middle;\n",
       "    }\n",
       "\n",
       "    .dataframe tbody tr th {\n",
       "        vertical-align: top;\n",
       "    }\n",
       "\n",
       "    .dataframe thead th {\n",
       "        text-align: right;\n",
       "    }\n",
       "</style>\n",
       "<table border=\"1\" class=\"dataframe\">\n",
       "  <thead>\n",
       "    <tr style=\"text-align: right;\">\n",
       "      <th></th>\n",
       "      <th>Lead Number</th>\n",
       "      <th>origin</th>\n",
       "      <th>lead_source</th>\n",
       "      <th>send_email</th>\n",
       "      <th>call</th>\n",
       "      <th>Converted</th>\n",
       "      <th>TotalVisits</th>\n",
       "      <th>time_spent</th>\n",
       "      <th>num_page_per_visit</th>\n",
       "      <th>last_activity</th>\n",
       "      <th>country</th>\n",
       "      <th>specialization</th>\n",
       "      <th>hear_about_source</th>\n",
       "      <th>cur_occupation</th>\n",
       "      <th>course_value</th>\n",
       "      <th>search</th>\n",
       "      <th>magazine</th>\n",
       "      <th>newspaper_article</th>\n",
       "      <th>x_education_forum</th>\n",
       "      <th>newspaper</th>\n",
       "      <th>digital_Advertisement</th>\n",
       "      <th>was_recommended</th>\n",
       "      <th>rcv_updates_course</th>\n",
       "      <th>Tags</th>\n",
       "      <th>lead_quality</th>\n",
       "      <th>rcv_updates_supplychain</th>\n",
       "      <th>rcv_updates_dm</th>\n",
       "      <th>lead_profile</th>\n",
       "      <th>City</th>\n",
       "      <th>asymetric_activity_index</th>\n",
       "      <th>asymmetric_profile_index</th>\n",
       "      <th>asymmetric_activity_score</th>\n",
       "      <th>asymmetric_profile_score</th>\n",
       "      <th>agree_paymnt_cheque</th>\n",
       "      <th>free_copy_mastering_the_interview</th>\n",
       "      <th>last_notable_activity</th>\n",
       "    </tr>\n",
       "  </thead>\n",
       "  <tbody>\n",
       "    <tr>\n",
       "      <th>0</th>\n",
       "      <td>660737</td>\n",
       "      <td>API</td>\n",
       "      <td>Olark Chat</td>\n",
       "      <td>1</td>\n",
       "      <td>1</td>\n",
       "      <td>0</td>\n",
       "      <td>0.0</td>\n",
       "      <td>0</td>\n",
       "      <td>0.0</td>\n",
       "      <td>Page Visited on Website</td>\n",
       "      <td>NaN</td>\n",
       "      <td>NaN</td>\n",
       "      <td>NaN</td>\n",
       "      <td>Unemployed</td>\n",
       "      <td>Better Career Prospects</td>\n",
       "      <td>0</td>\n",
       "      <td>0</td>\n",
       "      <td>0</td>\n",
       "      <td>0</td>\n",
       "      <td>0</td>\n",
       "      <td>0</td>\n",
       "      <td>0</td>\n",
       "      <td>0</td>\n",
       "      <td>Interested in other courses</td>\n",
       "      <td>Low in Relevance</td>\n",
       "      <td>0</td>\n",
       "      <td>0</td>\n",
       "      <td>NaN</td>\n",
       "      <td>NaN</td>\n",
       "      <td>Medium</td>\n",
       "      <td>Medium</td>\n",
       "      <td>15.0</td>\n",
       "      <td>15.0</td>\n",
       "      <td>0</td>\n",
       "      <td>0</td>\n",
       "      <td>Modified</td>\n",
       "    </tr>\n",
       "    <tr>\n",
       "      <th>1</th>\n",
       "      <td>660728</td>\n",
       "      <td>API</td>\n",
       "      <td>Organic Search</td>\n",
       "      <td>1</td>\n",
       "      <td>1</td>\n",
       "      <td>0</td>\n",
       "      <td>5.0</td>\n",
       "      <td>674</td>\n",
       "      <td>2.5</td>\n",
       "      <td>Email Opened</td>\n",
       "      <td>India</td>\n",
       "      <td>NaN</td>\n",
       "      <td>NaN</td>\n",
       "      <td>Unemployed</td>\n",
       "      <td>Better Career Prospects</td>\n",
       "      <td>0</td>\n",
       "      <td>0</td>\n",
       "      <td>0</td>\n",
       "      <td>0</td>\n",
       "      <td>0</td>\n",
       "      <td>0</td>\n",
       "      <td>0</td>\n",
       "      <td>0</td>\n",
       "      <td>Ringing</td>\n",
       "      <td>NaN</td>\n",
       "      <td>0</td>\n",
       "      <td>0</td>\n",
       "      <td>NaN</td>\n",
       "      <td>NaN</td>\n",
       "      <td>Medium</td>\n",
       "      <td>Medium</td>\n",
       "      <td>15.0</td>\n",
       "      <td>15.0</td>\n",
       "      <td>0</td>\n",
       "      <td>0</td>\n",
       "      <td>Email Opened</td>\n",
       "    </tr>\n",
       "    <tr>\n",
       "      <th>2</th>\n",
       "      <td>660727</td>\n",
       "      <td>Landing Page Submission</td>\n",
       "      <td>Direct Traffic</td>\n",
       "      <td>1</td>\n",
       "      <td>1</td>\n",
       "      <td>1</td>\n",
       "      <td>2.0</td>\n",
       "      <td>1532</td>\n",
       "      <td>2.0</td>\n",
       "      <td>Email Opened</td>\n",
       "      <td>India</td>\n",
       "      <td>Business Administration</td>\n",
       "      <td>NaN</td>\n",
       "      <td>Student</td>\n",
       "      <td>Better Career Prospects</td>\n",
       "      <td>0</td>\n",
       "      <td>0</td>\n",
       "      <td>0</td>\n",
       "      <td>0</td>\n",
       "      <td>0</td>\n",
       "      <td>0</td>\n",
       "      <td>0</td>\n",
       "      <td>0</td>\n",
       "      <td>Will revert after reading the email</td>\n",
       "      <td>Might be</td>\n",
       "      <td>0</td>\n",
       "      <td>0</td>\n",
       "      <td>Potential Lead</td>\n",
       "      <td>Mumbai</td>\n",
       "      <td>Medium</td>\n",
       "      <td>High</td>\n",
       "      <td>14.0</td>\n",
       "      <td>20.0</td>\n",
       "      <td>0</td>\n",
       "      <td>1</td>\n",
       "      <td>Email Opened</td>\n",
       "    </tr>\n",
       "    <tr>\n",
       "      <th>3</th>\n",
       "      <td>660719</td>\n",
       "      <td>Landing Page Submission</td>\n",
       "      <td>Direct Traffic</td>\n",
       "      <td>1</td>\n",
       "      <td>1</td>\n",
       "      <td>0</td>\n",
       "      <td>1.0</td>\n",
       "      <td>305</td>\n",
       "      <td>1.0</td>\n",
       "      <td>Unreachable</td>\n",
       "      <td>India</td>\n",
       "      <td>Media and Advertising</td>\n",
       "      <td>Word Of Mouth</td>\n",
       "      <td>Unemployed</td>\n",
       "      <td>Better Career Prospects</td>\n",
       "      <td>0</td>\n",
       "      <td>0</td>\n",
       "      <td>0</td>\n",
       "      <td>0</td>\n",
       "      <td>0</td>\n",
       "      <td>0</td>\n",
       "      <td>0</td>\n",
       "      <td>0</td>\n",
       "      <td>Ringing</td>\n",
       "      <td>Not Sure</td>\n",
       "      <td>0</td>\n",
       "      <td>0</td>\n",
       "      <td>NaN</td>\n",
       "      <td>Mumbai</td>\n",
       "      <td>Medium</td>\n",
       "      <td>High</td>\n",
       "      <td>13.0</td>\n",
       "      <td>17.0</td>\n",
       "      <td>0</td>\n",
       "      <td>0</td>\n",
       "      <td>Modified</td>\n",
       "    </tr>\n",
       "    <tr>\n",
       "      <th>4</th>\n",
       "      <td>660681</td>\n",
       "      <td>Landing Page Submission</td>\n",
       "      <td>Google</td>\n",
       "      <td>1</td>\n",
       "      <td>1</td>\n",
       "      <td>1</td>\n",
       "      <td>2.0</td>\n",
       "      <td>1428</td>\n",
       "      <td>1.0</td>\n",
       "      <td>Converted to Lead</td>\n",
       "      <td>India</td>\n",
       "      <td>NaN</td>\n",
       "      <td>Other</td>\n",
       "      <td>Unemployed</td>\n",
       "      <td>Better Career Prospects</td>\n",
       "      <td>0</td>\n",
       "      <td>0</td>\n",
       "      <td>0</td>\n",
       "      <td>0</td>\n",
       "      <td>0</td>\n",
       "      <td>0</td>\n",
       "      <td>0</td>\n",
       "      <td>0</td>\n",
       "      <td>Will revert after reading the email</td>\n",
       "      <td>Might be</td>\n",
       "      <td>0</td>\n",
       "      <td>0</td>\n",
       "      <td>NaN</td>\n",
       "      <td>Mumbai</td>\n",
       "      <td>Medium</td>\n",
       "      <td>High</td>\n",
       "      <td>15.0</td>\n",
       "      <td>18.0</td>\n",
       "      <td>0</td>\n",
       "      <td>0</td>\n",
       "      <td>Modified</td>\n",
       "    </tr>\n",
       "  </tbody>\n",
       "</table>\n",
       "</div>"
      ],
      "text/plain": [
       "   Lead Number                   origin     lead_source  send_email  call  \\\n",
       "0       660737                      API      Olark Chat           1     1   \n",
       "1       660728                      API  Organic Search           1     1   \n",
       "2       660727  Landing Page Submission  Direct Traffic           1     1   \n",
       "3       660719  Landing Page Submission  Direct Traffic           1     1   \n",
       "4       660681  Landing Page Submission          Google           1     1   \n",
       "\n",
       "   Converted  TotalVisits  time_spent  num_page_per_visit  \\\n",
       "0          0          0.0           0                 0.0   \n",
       "1          0          5.0         674                 2.5   \n",
       "2          1          2.0        1532                 2.0   \n",
       "3          0          1.0         305                 1.0   \n",
       "4          1          2.0        1428                 1.0   \n",
       "\n",
       "             last_activity country           specialization hear_about_source  \\\n",
       "0  Page Visited on Website     NaN                      NaN               NaN   \n",
       "1             Email Opened   India                      NaN               NaN   \n",
       "2             Email Opened   India  Business Administration               NaN   \n",
       "3              Unreachable   India    Media and Advertising     Word Of Mouth   \n",
       "4        Converted to Lead   India                      NaN             Other   \n",
       "\n",
       "  cur_occupation             course_value  search  magazine  \\\n",
       "0     Unemployed  Better Career Prospects       0         0   \n",
       "1     Unemployed  Better Career Prospects       0         0   \n",
       "2        Student  Better Career Prospects       0         0   \n",
       "3     Unemployed  Better Career Prospects       0         0   \n",
       "4     Unemployed  Better Career Prospects       0         0   \n",
       "\n",
       "   newspaper_article  x_education_forum  newspaper  digital_Advertisement  \\\n",
       "0                  0                  0          0                      0   \n",
       "1                  0                  0          0                      0   \n",
       "2                  0                  0          0                      0   \n",
       "3                  0                  0          0                      0   \n",
       "4                  0                  0          0                      0   \n",
       "\n",
       "   was_recommended  rcv_updates_course                                 Tags  \\\n",
       "0                0                   0          Interested in other courses   \n",
       "1                0                   0                              Ringing   \n",
       "2                0                   0  Will revert after reading the email   \n",
       "3                0                   0                              Ringing   \n",
       "4                0                   0  Will revert after reading the email   \n",
       "\n",
       "       lead_quality  rcv_updates_supplychain  rcv_updates_dm    lead_profile  \\\n",
       "0  Low in Relevance                        0               0             NaN   \n",
       "1               NaN                        0               0             NaN   \n",
       "2          Might be                        0               0  Potential Lead   \n",
       "3          Not Sure                        0               0             NaN   \n",
       "4          Might be                        0               0             NaN   \n",
       "\n",
       "     City asymetric_activity_index asymmetric_profile_index  \\\n",
       "0     NaN                   Medium                   Medium   \n",
       "1     NaN                   Medium                   Medium   \n",
       "2  Mumbai                   Medium                     High   \n",
       "3  Mumbai                   Medium                     High   \n",
       "4  Mumbai                   Medium                     High   \n",
       "\n",
       "   asymmetric_activity_score  asymmetric_profile_score  agree_paymnt_cheque  \\\n",
       "0                       15.0                      15.0                    0   \n",
       "1                       15.0                      15.0                    0   \n",
       "2                       14.0                      20.0                    0   \n",
       "3                       13.0                      17.0                    0   \n",
       "4                       15.0                      18.0                    0   \n",
       "\n",
       "   free_copy_mastering_the_interview last_notable_activity  \n",
       "0                                  0              Modified  \n",
       "1                                  0          Email Opened  \n",
       "2                                  1          Email Opened  \n",
       "3                                  0              Modified  \n",
       "4                                  0              Modified  "
      ]
     },
     "execution_count": 116,
     "metadata": {},
     "output_type": "execute_result"
    }
   ],
   "source": [
    "df.head()"
   ]
  },
  {
   "cell_type": "code",
   "execution_count": 117,
   "id": "37a7fa79",
   "metadata": {},
   "outputs": [
    {
     "data": {
      "text/html": [
       "<div>\n",
       "<style scoped>\n",
       "    .dataframe tbody tr th:only-of-type {\n",
       "        vertical-align: middle;\n",
       "    }\n",
       "\n",
       "    .dataframe tbody tr th {\n",
       "        vertical-align: top;\n",
       "    }\n",
       "\n",
       "    .dataframe thead th {\n",
       "        text-align: right;\n",
       "    }\n",
       "</style>\n",
       "<table border=\"1\" class=\"dataframe\">\n",
       "  <thead>\n",
       "    <tr style=\"text-align: right;\">\n",
       "      <th></th>\n",
       "      <th>Lead Number</th>\n",
       "      <th>origin</th>\n",
       "      <th>lead_source</th>\n",
       "      <th>send_email</th>\n",
       "      <th>call</th>\n",
       "      <th>Converted</th>\n",
       "      <th>TotalVisits</th>\n",
       "      <th>time_spent</th>\n",
       "      <th>num_page_per_visit</th>\n",
       "      <th>last_activity</th>\n",
       "      <th>country</th>\n",
       "      <th>specialization</th>\n",
       "      <th>hear_about_source</th>\n",
       "      <th>cur_occupation</th>\n",
       "      <th>course_value</th>\n",
       "      <th>search</th>\n",
       "      <th>magazine</th>\n",
       "      <th>newspaper_article</th>\n",
       "      <th>x_education_forum</th>\n",
       "      <th>newspaper</th>\n",
       "      <th>digital_Advertisement</th>\n",
       "      <th>was_recommended</th>\n",
       "      <th>rcv_updates_course</th>\n",
       "      <th>Tags</th>\n",
       "      <th>lead_quality</th>\n",
       "      <th>rcv_updates_supplychain</th>\n",
       "      <th>rcv_updates_dm</th>\n",
       "      <th>lead_profile</th>\n",
       "      <th>City</th>\n",
       "      <th>asymetric_activity_index</th>\n",
       "      <th>asymmetric_profile_index</th>\n",
       "      <th>asymmetric_activity_score</th>\n",
       "      <th>asymmetric_profile_score</th>\n",
       "      <th>agree_paymnt_cheque</th>\n",
       "      <th>free_copy_mastering_the_interview</th>\n",
       "      <th>last_notable_activity</th>\n",
       "    </tr>\n",
       "  </thead>\n",
       "  <tbody>\n",
       "    <tr>\n",
       "      <th>0</th>\n",
       "      <td>660737</td>\n",
       "      <td>API</td>\n",
       "      <td>Olark Chat</td>\n",
       "      <td>1</td>\n",
       "      <td>1</td>\n",
       "      <td>0</td>\n",
       "      <td>0.0</td>\n",
       "      <td>0</td>\n",
       "      <td>0.0</td>\n",
       "      <td>Page Visited on Website</td>\n",
       "      <td>NaN</td>\n",
       "      <td>NaN</td>\n",
       "      <td>NaN</td>\n",
       "      <td>Unemployed</td>\n",
       "      <td>Better Career Prospects</td>\n",
       "      <td>0</td>\n",
       "      <td>0</td>\n",
       "      <td>0</td>\n",
       "      <td>0</td>\n",
       "      <td>0</td>\n",
       "      <td>0</td>\n",
       "      <td>0</td>\n",
       "      <td>0</td>\n",
       "      <td>Interested in other courses</td>\n",
       "      <td>Low in Relevance</td>\n",
       "      <td>0</td>\n",
       "      <td>0</td>\n",
       "      <td>NaN</td>\n",
       "      <td>NaN</td>\n",
       "      <td>Medium</td>\n",
       "      <td>Medium</td>\n",
       "      <td>15.0</td>\n",
       "      <td>15.0</td>\n",
       "      <td>0</td>\n",
       "      <td>0</td>\n",
       "      <td>Modified</td>\n",
       "    </tr>\n",
       "    <tr>\n",
       "      <th>1</th>\n",
       "      <td>660728</td>\n",
       "      <td>API</td>\n",
       "      <td>Organic Search</td>\n",
       "      <td>1</td>\n",
       "      <td>1</td>\n",
       "      <td>0</td>\n",
       "      <td>5.0</td>\n",
       "      <td>674</td>\n",
       "      <td>2.5</td>\n",
       "      <td>Email Opened</td>\n",
       "      <td>India</td>\n",
       "      <td>NaN</td>\n",
       "      <td>NaN</td>\n",
       "      <td>Unemployed</td>\n",
       "      <td>Better Career Prospects</td>\n",
       "      <td>0</td>\n",
       "      <td>0</td>\n",
       "      <td>0</td>\n",
       "      <td>0</td>\n",
       "      <td>0</td>\n",
       "      <td>0</td>\n",
       "      <td>0</td>\n",
       "      <td>0</td>\n",
       "      <td>Ringing</td>\n",
       "      <td>NaN</td>\n",
       "      <td>0</td>\n",
       "      <td>0</td>\n",
       "      <td>NaN</td>\n",
       "      <td>NaN</td>\n",
       "      <td>Medium</td>\n",
       "      <td>Medium</td>\n",
       "      <td>15.0</td>\n",
       "      <td>15.0</td>\n",
       "      <td>0</td>\n",
       "      <td>0</td>\n",
       "      <td>Email Opened</td>\n",
       "    </tr>\n",
       "    <tr>\n",
       "      <th>2</th>\n",
       "      <td>660727</td>\n",
       "      <td>Landing Page Submission</td>\n",
       "      <td>Direct Traffic</td>\n",
       "      <td>1</td>\n",
       "      <td>1</td>\n",
       "      <td>1</td>\n",
       "      <td>2.0</td>\n",
       "      <td>1532</td>\n",
       "      <td>2.0</td>\n",
       "      <td>Email Opened</td>\n",
       "      <td>India</td>\n",
       "      <td>Business Administration</td>\n",
       "      <td>NaN</td>\n",
       "      <td>Student</td>\n",
       "      <td>Better Career Prospects</td>\n",
       "      <td>0</td>\n",
       "      <td>0</td>\n",
       "      <td>0</td>\n",
       "      <td>0</td>\n",
       "      <td>0</td>\n",
       "      <td>0</td>\n",
       "      <td>0</td>\n",
       "      <td>0</td>\n",
       "      <td>Will revert after reading the email</td>\n",
       "      <td>Might be</td>\n",
       "      <td>0</td>\n",
       "      <td>0</td>\n",
       "      <td>Potential Lead</td>\n",
       "      <td>Mumbai</td>\n",
       "      <td>Medium</td>\n",
       "      <td>High</td>\n",
       "      <td>14.0</td>\n",
       "      <td>20.0</td>\n",
       "      <td>0</td>\n",
       "      <td>1</td>\n",
       "      <td>Email Opened</td>\n",
       "    </tr>\n",
       "    <tr>\n",
       "      <th>3</th>\n",
       "      <td>660719</td>\n",
       "      <td>Landing Page Submission</td>\n",
       "      <td>Direct Traffic</td>\n",
       "      <td>1</td>\n",
       "      <td>1</td>\n",
       "      <td>0</td>\n",
       "      <td>1.0</td>\n",
       "      <td>305</td>\n",
       "      <td>1.0</td>\n",
       "      <td>Unreachable</td>\n",
       "      <td>India</td>\n",
       "      <td>Media and Advertising</td>\n",
       "      <td>Word Of Mouth</td>\n",
       "      <td>Unemployed</td>\n",
       "      <td>Better Career Prospects</td>\n",
       "      <td>0</td>\n",
       "      <td>0</td>\n",
       "      <td>0</td>\n",
       "      <td>0</td>\n",
       "      <td>0</td>\n",
       "      <td>0</td>\n",
       "      <td>0</td>\n",
       "      <td>0</td>\n",
       "      <td>Ringing</td>\n",
       "      <td>Not Sure</td>\n",
       "      <td>0</td>\n",
       "      <td>0</td>\n",
       "      <td>NaN</td>\n",
       "      <td>Mumbai</td>\n",
       "      <td>Medium</td>\n",
       "      <td>High</td>\n",
       "      <td>13.0</td>\n",
       "      <td>17.0</td>\n",
       "      <td>0</td>\n",
       "      <td>0</td>\n",
       "      <td>Modified</td>\n",
       "    </tr>\n",
       "    <tr>\n",
       "      <th>4</th>\n",
       "      <td>660681</td>\n",
       "      <td>Landing Page Submission</td>\n",
       "      <td>Google</td>\n",
       "      <td>1</td>\n",
       "      <td>1</td>\n",
       "      <td>1</td>\n",
       "      <td>2.0</td>\n",
       "      <td>1428</td>\n",
       "      <td>1.0</td>\n",
       "      <td>Converted to Lead</td>\n",
       "      <td>India</td>\n",
       "      <td>NaN</td>\n",
       "      <td>Other</td>\n",
       "      <td>Unemployed</td>\n",
       "      <td>Better Career Prospects</td>\n",
       "      <td>0</td>\n",
       "      <td>0</td>\n",
       "      <td>0</td>\n",
       "      <td>0</td>\n",
       "      <td>0</td>\n",
       "      <td>0</td>\n",
       "      <td>0</td>\n",
       "      <td>0</td>\n",
       "      <td>Will revert after reading the email</td>\n",
       "      <td>Might be</td>\n",
       "      <td>0</td>\n",
       "      <td>0</td>\n",
       "      <td>NaN</td>\n",
       "      <td>Mumbai</td>\n",
       "      <td>Medium</td>\n",
       "      <td>High</td>\n",
       "      <td>15.0</td>\n",
       "      <td>18.0</td>\n",
       "      <td>0</td>\n",
       "      <td>0</td>\n",
       "      <td>Modified</td>\n",
       "    </tr>\n",
       "  </tbody>\n",
       "</table>\n",
       "</div>"
      ],
      "text/plain": [
       "   Lead Number                   origin     lead_source  send_email  call  \\\n",
       "0       660737                      API      Olark Chat           1     1   \n",
       "1       660728                      API  Organic Search           1     1   \n",
       "2       660727  Landing Page Submission  Direct Traffic           1     1   \n",
       "3       660719  Landing Page Submission  Direct Traffic           1     1   \n",
       "4       660681  Landing Page Submission          Google           1     1   \n",
       "\n",
       "   Converted  TotalVisits  time_spent  num_page_per_visit  \\\n",
       "0          0          0.0           0                 0.0   \n",
       "1          0          5.0         674                 2.5   \n",
       "2          1          2.0        1532                 2.0   \n",
       "3          0          1.0         305                 1.0   \n",
       "4          1          2.0        1428                 1.0   \n",
       "\n",
       "             last_activity country           specialization hear_about_source  \\\n",
       "0  Page Visited on Website     NaN                      NaN               NaN   \n",
       "1             Email Opened   India                      NaN               NaN   \n",
       "2             Email Opened   India  Business Administration               NaN   \n",
       "3              Unreachable   India    Media and Advertising     Word Of Mouth   \n",
       "4        Converted to Lead   India                      NaN             Other   \n",
       "\n",
       "  cur_occupation             course_value  search  magazine  \\\n",
       "0     Unemployed  Better Career Prospects       0         0   \n",
       "1     Unemployed  Better Career Prospects       0         0   \n",
       "2        Student  Better Career Prospects       0         0   \n",
       "3     Unemployed  Better Career Prospects       0         0   \n",
       "4     Unemployed  Better Career Prospects       0         0   \n",
       "\n",
       "   newspaper_article  x_education_forum  newspaper  digital_Advertisement  \\\n",
       "0                  0                  0          0                      0   \n",
       "1                  0                  0          0                      0   \n",
       "2                  0                  0          0                      0   \n",
       "3                  0                  0          0                      0   \n",
       "4                  0                  0          0                      0   \n",
       "\n",
       "   was_recommended  rcv_updates_course                                 Tags  \\\n",
       "0                0                   0          Interested in other courses   \n",
       "1                0                   0                              Ringing   \n",
       "2                0                   0  Will revert after reading the email   \n",
       "3                0                   0                              Ringing   \n",
       "4                0                   0  Will revert after reading the email   \n",
       "\n",
       "       lead_quality  rcv_updates_supplychain  rcv_updates_dm    lead_profile  \\\n",
       "0  Low in Relevance                        0               0             NaN   \n",
       "1               NaN                        0               0             NaN   \n",
       "2          Might be                        0               0  Potential Lead   \n",
       "3          Not Sure                        0               0             NaN   \n",
       "4          Might be                        0               0             NaN   \n",
       "\n",
       "     City asymetric_activity_index asymmetric_profile_index  \\\n",
       "0     NaN                   Medium                   Medium   \n",
       "1     NaN                   Medium                   Medium   \n",
       "2  Mumbai                   Medium                     High   \n",
       "3  Mumbai                   Medium                     High   \n",
       "4  Mumbai                   Medium                     High   \n",
       "\n",
       "   asymmetric_activity_score  asymmetric_profile_score  agree_paymnt_cheque  \\\n",
       "0                       15.0                      15.0                    0   \n",
       "1                       15.0                      15.0                    0   \n",
       "2                       14.0                      20.0                    0   \n",
       "3                       13.0                      17.0                    0   \n",
       "4                       15.0                      18.0                    0   \n",
       "\n",
       "   free_copy_mastering_the_interview last_notable_activity  \n",
       "0                                  0              Modified  \n",
       "1                                  0          Email Opened  \n",
       "2                                  1          Email Opened  \n",
       "3                                  0              Modified  \n",
       "4                                  0              Modified  "
      ]
     },
     "execution_count": 117,
     "metadata": {},
     "output_type": "execute_result"
    }
   ],
   "source": [
    "lead_data = df\n",
    "lead_data.head()"
   ]
  },
  {
   "cell_type": "markdown",
   "id": "729292c8",
   "metadata": {},
   "source": [
    "Let us create a new feature called ad_seen_in from search,magazine,newspaper_article,x_education_forum,newspaper,digital_Advertisement.\n",
    "\n",
    "We should take these ad source in ad_seen_in column if their value is 1."
   ]
  },
  {
   "cell_type": "code",
   "execution_count": 118,
   "id": "c45015ad",
   "metadata": {},
   "outputs": [],
   "source": [
    "def merge_ad_source(search,magazine,newspaper_article,x_education_forum,newspaper,digital_Advertisement):\n",
    "    ad_seen_in = []\n",
    "    if search == 1:\n",
    "       ad_seen_in.append(\"search\")\n",
    "    if magazine == 1:\n",
    "        ad_seen_in.append(\"magazine\")\n",
    "    if newspaper_article == 1:\n",
    "        ad_seen_in.append(\"newspaper_article\")\n",
    "    if x_education_forum == 1:\n",
    "        ad_seen_in.append(\"x_education_forum\")\n",
    "    if newspaper == 1:\n",
    "        ad_seen_in.append(\"newspaper\")\n",
    "    if digital_Advertisement == 1:\n",
    "        ad_seen_in.append(\"digital_Advertisement\")\n",
    "        \n",
    "    return \"|\".join(ad_seen_in)"
   ]
  },
  {
   "cell_type": "code",
   "execution_count": 119,
   "id": "fbbb2082",
   "metadata": {},
   "outputs": [],
   "source": [
    "lead_data[\"ad_seen_in\"] = lead_data.apply(lambda x: merge_ad_source(x.search, x.magazine, x.newspaper_article, x.x_education_forum, x.newspaper, x.digital_Advertisement), axis = 1)"
   ]
  },
  {
   "cell_type": "code",
   "execution_count": 120,
   "id": "40c01569",
   "metadata": {},
   "outputs": [
    {
     "data": {
      "text/html": [
       "<div>\n",
       "<style scoped>\n",
       "    .dataframe tbody tr th:only-of-type {\n",
       "        vertical-align: middle;\n",
       "    }\n",
       "\n",
       "    .dataframe tbody tr th {\n",
       "        vertical-align: top;\n",
       "    }\n",
       "\n",
       "    .dataframe thead th {\n",
       "        text-align: right;\n",
       "    }\n",
       "</style>\n",
       "<table border=\"1\" class=\"dataframe\">\n",
       "  <thead>\n",
       "    <tr style=\"text-align: right;\">\n",
       "      <th></th>\n",
       "      <th>search</th>\n",
       "      <th>magazine</th>\n",
       "      <th>newspaper_article</th>\n",
       "      <th>x_education_forum</th>\n",
       "      <th>newspaper</th>\n",
       "      <th>digital_Advertisement</th>\n",
       "      <th>ad_seen_in</th>\n",
       "    </tr>\n",
       "  </thead>\n",
       "  <tbody>\n",
       "    <tr>\n",
       "      <th>0</th>\n",
       "      <td>0</td>\n",
       "      <td>0</td>\n",
       "      <td>0</td>\n",
       "      <td>0</td>\n",
       "      <td>0</td>\n",
       "      <td>0</td>\n",
       "      <td></td>\n",
       "    </tr>\n",
       "    <tr>\n",
       "      <th>1</th>\n",
       "      <td>0</td>\n",
       "      <td>0</td>\n",
       "      <td>0</td>\n",
       "      <td>0</td>\n",
       "      <td>0</td>\n",
       "      <td>0</td>\n",
       "      <td></td>\n",
       "    </tr>\n",
       "    <tr>\n",
       "      <th>2</th>\n",
       "      <td>0</td>\n",
       "      <td>0</td>\n",
       "      <td>0</td>\n",
       "      <td>0</td>\n",
       "      <td>0</td>\n",
       "      <td>0</td>\n",
       "      <td></td>\n",
       "    </tr>\n",
       "    <tr>\n",
       "      <th>3</th>\n",
       "      <td>0</td>\n",
       "      <td>0</td>\n",
       "      <td>0</td>\n",
       "      <td>0</td>\n",
       "      <td>0</td>\n",
       "      <td>0</td>\n",
       "      <td></td>\n",
       "    </tr>\n",
       "    <tr>\n",
       "      <th>4</th>\n",
       "      <td>0</td>\n",
       "      <td>0</td>\n",
       "      <td>0</td>\n",
       "      <td>0</td>\n",
       "      <td>0</td>\n",
       "      <td>0</td>\n",
       "      <td></td>\n",
       "    </tr>\n",
       "  </tbody>\n",
       "</table>\n",
       "</div>"
      ],
      "text/plain": [
       "   search  magazine  newspaper_article  x_education_forum  newspaper  \\\n",
       "0       0         0                  0                  0          0   \n",
       "1       0         0                  0                  0          0   \n",
       "2       0         0                  0                  0          0   \n",
       "3       0         0                  0                  0          0   \n",
       "4       0         0                  0                  0          0   \n",
       "\n",
       "   digital_Advertisement ad_seen_in  \n",
       "0                      0             \n",
       "1                      0             \n",
       "2                      0             \n",
       "3                      0             \n",
       "4                      0             "
      ]
     },
     "execution_count": 120,
     "metadata": {},
     "output_type": "execute_result"
    }
   ],
   "source": [
    "lead_data[[\"search\", \"magazine\", \"newspaper_article\", \"x_education_forum\", \"newspaper\", \"digital_Advertisement\", \"ad_seen_in\"]].head()"
   ]
  },
  {
   "cell_type": "code",
   "execution_count": 121,
   "id": "96eeefc6",
   "metadata": {},
   "outputs": [
    {
     "data": {
      "text/plain": [
       "ad_seen_in\n",
       "                                                                    9221\n",
       "search                                                                13\n",
       "digital_Advertisement                                                  3\n",
       "newspaper                                                              1\n",
       "search|newspaper_article|x_education_forum|digital_Advertisement       1\n",
       "newspaper_article                                                      1\n",
       "Name: count, dtype: int64"
      ]
     },
     "execution_count": 121,
     "metadata": {},
     "output_type": "execute_result"
    }
   ],
   "source": [
    "lead_data.ad_seen_in.value_counts()"
   ]
  },
  {
   "cell_type": "code",
   "execution_count": 122,
   "id": "03c35e9e",
   "metadata": {},
   "outputs": [
    {
     "name": "stdout",
     "output_type": "stream",
     "text": [
      "<class 'pandas.core.frame.DataFrame'>\n",
      "RangeIndex: 9240 entries, 0 to 9239\n",
      "Data columns (total 37 columns):\n",
      " #   Column                             Non-Null Count  Dtype  \n",
      "---  ------                             --------------  -----  \n",
      " 0   Lead Number                        9240 non-null   int64  \n",
      " 1   origin                             9240 non-null   object \n",
      " 2   lead_source                        9204 non-null   object \n",
      " 3   send_email                         9240 non-null   int64  \n",
      " 4   call                               9240 non-null   int64  \n",
      " 5   Converted                          9240 non-null   int64  \n",
      " 6   TotalVisits                        9103 non-null   float64\n",
      " 7   time_spent                         9240 non-null   int64  \n",
      " 8   num_page_per_visit                 9103 non-null   float64\n",
      " 9   last_activity                      9137 non-null   object \n",
      " 10  country                            6779 non-null   object \n",
      " 11  specialization                     5860 non-null   object \n",
      " 12  hear_about_source                  1990 non-null   object \n",
      " 13  cur_occupation                     6550 non-null   object \n",
      " 14  course_value                       6531 non-null   object \n",
      " 15  search                             9240 non-null   int64  \n",
      " 16  magazine                           9240 non-null   int64  \n",
      " 17  newspaper_article                  9240 non-null   int64  \n",
      " 18  x_education_forum                  9240 non-null   int64  \n",
      " 19  newspaper                          9240 non-null   int64  \n",
      " 20  digital_Advertisement              9240 non-null   int64  \n",
      " 21  was_recommended                    9240 non-null   int64  \n",
      " 22  rcv_updates_course                 9240 non-null   int64  \n",
      " 23  Tags                               5887 non-null   object \n",
      " 24  lead_quality                       4473 non-null   object \n",
      " 25  rcv_updates_supplychain            9240 non-null   int64  \n",
      " 26  rcv_updates_dm                     9240 non-null   int64  \n",
      " 27  lead_profile                       2385 non-null   object \n",
      " 28  City                               5571 non-null   object \n",
      " 29  asymetric_activity_index           5022 non-null   object \n",
      " 30  asymmetric_profile_index           5022 non-null   object \n",
      " 31  asymmetric_activity_score          5022 non-null   float64\n",
      " 32  asymmetric_profile_score           5022 non-null   float64\n",
      " 33  agree_paymnt_cheque                9240 non-null   int64  \n",
      " 34  free_copy_mastering_the_interview  9240 non-null   int64  \n",
      " 35  last_notable_activity              9240 non-null   object \n",
      " 36  ad_seen_in                         9240 non-null   object \n",
      "dtypes: float64(4), int64(17), object(16)\n",
      "memory usage: 2.6+ MB\n"
     ]
    }
   ],
   "source": [
    "lead_data.info()"
   ]
  },
  {
   "cell_type": "code",
   "execution_count": 123,
   "id": "e8f9bc45",
   "metadata": {},
   "outputs": [],
   "source": [
    "def calc_null_percent(x):\n",
    "    return x.isna().sum() / len(x) * 100"
   ]
  },
  {
   "cell_type": "code",
   "execution_count": 124,
   "id": "e254cba3",
   "metadata": {},
   "outputs": [
    {
     "name": "stdout",
     "output_type": "stream",
     "text": [
      "country_null_percent = 26.634199134199132\n"
     ]
    }
   ],
   "source": [
    "print(\"country_null_percent = {}\".format(calc_null_percent(lead_data.country)))"
   ]
  },
  {
   "cell_type": "code",
   "execution_count": 125,
   "id": "038a0dd0",
   "metadata": {},
   "outputs": [
    {
     "name": "stdout",
     "output_type": "stream",
     "text": [
      "hear_about_source _null_percent = 78.46320346320347\n"
     ]
    }
   ],
   "source": [
    "print(\"hear_about_source _null_percent = {}\".format(calc_null_percent(lead_data.hear_about_source )))"
   ]
  },
  {
   "cell_type": "code",
   "execution_count": 126,
   "id": "6cb020ac",
   "metadata": {},
   "outputs": [
    {
     "name": "stdout",
     "output_type": "stream",
     "text": [
      "specialization_null_percent = 36.58008658008658\n"
     ]
    }
   ],
   "source": [
    "print(\"specialization_null_percent = {}\".format(calc_null_percent(lead_data.specialization)))"
   ]
  },
  {
   "cell_type": "code",
   "execution_count": 127,
   "id": "28ebb00c",
   "metadata": {},
   "outputs": [
    {
     "name": "stdout",
     "output_type": "stream",
     "text": [
      "cur_occupation_null_percent = 29.11255411255411\n"
     ]
    }
   ],
   "source": [
    "print(\"cur_occupation_null_percent = {}\".format(calc_null_percent(lead_data.cur_occupation)))"
   ]
  },
  {
   "cell_type": "code",
   "execution_count": 128,
   "id": "5e36e832",
   "metadata": {},
   "outputs": [
    {
     "name": "stdout",
     "output_type": "stream",
     "text": [
      "course_value_null_percent = 29.318181818181817\n"
     ]
    }
   ],
   "source": [
    "print(\"course_value_null_percent = {}\".format(calc_null_percent(lead_data.course_value)))"
   ]
  },
  {
   "cell_type": "code",
   "execution_count": 129,
   "id": "918e5acd",
   "metadata": {},
   "outputs": [
    {
     "name": "stdout",
     "output_type": "stream",
     "text": [
      "Tags_null_percent = 36.28787878787879\n"
     ]
    }
   ],
   "source": [
    "print(\"Tags_null_percent = {}\".format(calc_null_percent(lead_data.Tags)))"
   ]
  },
  {
   "cell_type": "code",
   "execution_count": 130,
   "id": "0b9c19c6",
   "metadata": {},
   "outputs": [
    {
     "name": "stdout",
     "output_type": "stream",
     "text": [
      "lead_quality_null_percent = 51.590909090909086\n"
     ]
    }
   ],
   "source": [
    "print(\"lead_quality_null_percent = {}\".format(calc_null_percent(lead_data.lead_quality)))"
   ]
  },
  {
   "cell_type": "code",
   "execution_count": 131,
   "id": "404e228f",
   "metadata": {},
   "outputs": [
    {
     "name": "stdout",
     "output_type": "stream",
     "text": [
      "lead_profile_null_percent = 74.18831168831169\n"
     ]
    }
   ],
   "source": [
    "print(\"lead_profile_null_percent = {}\".format(calc_null_percent(lead_data.lead_profile)))"
   ]
  },
  {
   "cell_type": "markdown",
   "id": "ad52af34",
   "metadata": {},
   "source": [
    "#### Following are few of the observations and assumptions on the data:-\n",
    "- Column hear_about_source and lead_profile has null value percentage 78 and 74 respectively. It should definitely be dropped. lead_quality also has almost 51% null values. It should also be dropped.\n",
    "- Column search, magazine, newspaper_article, x_education_forum, newspaper, digital_Advertisement has most of the values as false. Also when combined in ad_seen_in it is not adding much value. So it can be dropped as well\n",
    "- country , specialization, cur_occupation, course_value, Tags , City , asymetric_activity_index, asymmetric_profile_index, asymmetric_activity_score and  asymmetric_profile_score also have high null percentage. But let us not drop them as of now.\n",
    "- rcv_updates_course, rcv_updates_supplychain, rcv_updates_dm, agree_paymnt_cheque have all no values. It wont have any affect on the regression. So these should be dropped\n",
    "- Landing Page Submission origin should have higher conversion rate.\n",
    "- One who  told do not email or do not call is more likely not to be converted.\n",
    "- Users having last activity as Email Opened , Olark Chat Conversation  should have higher conversion rate. One whose mail Bounced will definitely be having lower conversion rate.\n",
    "- specialisation should also have some strong effect on the conversion.\n",
    "- Users having current occupation as unemployed should have more conversion rate.\n",
    "- Although very less count but ones recommended should have higher conversion rate\n",
    "- Tags will also have a major impact on conversion.\n",
    "- One who has visited websites a lot of times and have higher time spent on website are more likely to convert.\n",
    "\n",
    "\n",
    "\n",
    "### Dealing with Null values\n",
    "#### Here we are going to take two approaches\n",
    "- We are going to remove the surely identified columns having null value greater than 40%\n",
    "- For few columns between 25% to 40% we are going to take dataset d1 with all the columns removed and another with all the columns filled. Then we are going to do the further analysis on these two datasets seperately to create models m1 and m2 and let us see what happens.\n",
    "\n",
    "\n",
    "\n",
    "#### Remove sure columns"
   ]
  },
  {
   "cell_type": "code",
   "execution_count": 134,
   "id": "3e502918",
   "metadata": {},
   "outputs": [
    {
     "name": "stdout",
     "output_type": "stream",
     "text": [
      "<class 'pandas.core.frame.DataFrame'>\n",
      "RangeIndex: 9240 entries, 0 to 9239\n",
      "Data columns (total 23 columns):\n",
      " #   Column                             Non-Null Count  Dtype  \n",
      "---  ------                             --------------  -----  \n",
      " 0   Lead Number                        9240 non-null   int64  \n",
      " 1   origin                             9240 non-null   object \n",
      " 2   lead_source                        9204 non-null   object \n",
      " 3   send_email                         9240 non-null   int64  \n",
      " 4   call                               9240 non-null   int64  \n",
      " 5   Converted                          9240 non-null   int64  \n",
      " 6   TotalVisits                        9103 non-null   float64\n",
      " 7   time_spent                         9240 non-null   int64  \n",
      " 8   num_page_per_visit                 9103 non-null   float64\n",
      " 9   last_activity                      9137 non-null   object \n",
      " 10  country                            6779 non-null   object \n",
      " 11  specialization                     5860 non-null   object \n",
      " 12  cur_occupation                     6550 non-null   object \n",
      " 13  course_value                       6531 non-null   object \n",
      " 14  was_recommended                    9240 non-null   int64  \n",
      " 15  Tags                               5887 non-null   object \n",
      " 16  City                               5571 non-null   object \n",
      " 17  asymetric_activity_index           5022 non-null   object \n",
      " 18  asymmetric_profile_index           5022 non-null   object \n",
      " 19  asymmetric_activity_score          5022 non-null   float64\n",
      " 20  asymmetric_profile_score           5022 non-null   float64\n",
      " 21  free_copy_mastering_the_interview  9240 non-null   int64  \n",
      " 22  last_notable_activity              9240 non-null   object \n",
      "dtypes: float64(4), int64(7), object(12)\n",
      "memory usage: 1.6+ MB\n"
     ]
    }
   ],
   "source": [
    "sure_feature_del = [\"hear_about_source\",\n",
    "                    \"lead_profile\",\n",
    "                    \"lead_quality\",\n",
    "                    \"search\",\n",
    "                    \"magazine\",\n",
    "                    \"newspaper_article\",\n",
    "                    \"x_education_forum\",\n",
    "                    \"newspaper\",\n",
    "                    \"digital_Advertisement\",\n",
    "                    \"ad_seen_in\",\n",
    "                    \"rcv_updates_course\",\n",
    "                    \"rcv_updates_supplychain\",\n",
    "                    \"rcv_updates_dm\",\n",
    "                    \"agree_paymnt_cheque\" \n",
    "                   ]\n",
    "lead_data = lead_data.drop(columns = sure_feature_del, axis = 1)\n",
    "lead_data.info()"
   ]
  },
  {
   "cell_type": "markdown",
   "id": "d1d61a4a",
   "metadata": {},
   "source": [
    "### EDA\n",
    "\n",
    "#### Univariate analysis"
   ]
  },
  {
   "cell_type": "code",
   "execution_count": 144,
   "id": "5babbe5a",
   "metadata": {},
   "outputs": [
    {
     "data": {
      "image/png": "[encoded data removed]",
      "text/plain": [
       "<Figure size 640x480 with 1 Axes>"
      ]
     },
     "metadata": {},
     "output_type": "display_data"
    }
   ],
   "source": [
    "ax = sns.countplot(x = lead_data.origin)\n",
    "ax.set_xticklabels(ax.get_xticklabels(), rotation=90, ha=\"right\")\n",
    "plt.show()"
   ]
  },
  {
   "cell_type": "code",
   "execution_count": 145,
   "id": "680935c7",
   "metadata": {},
   "outputs": [
    {
     "data": {
      "image/png": "[encoded data removed]",
      "text/plain": [
       "<Figure size 640x480 with 1 Axes>"
      ]
     },
     "metadata": {},
     "output_type": "display_data"
    }
   ],
   "source": [
    "ax = sns.countplot(x = lead_data.lead_source)\n",
    "ax.set_xticklabels(ax.get_xticklabels(), rotation=90, ha=\"right\")\n",
    "plt.show()"
   ]
  },
  {
   "cell_type": "code",
   "execution_count": 147,
   "id": "ff4849cf",
   "metadata": {},
   "outputs": [
    {
     "data": {
      "text/plain": [
       "<Axes: xlabel='send_email', ylabel='count'>"
      ]
     },
     "execution_count": 147,
     "metadata": {},
     "output_type": "execute_result"
    },
    {
     "data": {
      "image/png": "[encoded data removed]",
      "text/plain": [
       "<Figure size 640x480 with 1 Axes>"
      ]
     },
     "metadata": {},
     "output_type": "display_data"
    }
   ],
   "source": [
    "sns.countplot(x = lead_data.send_email)\n"
   ]
  },
  {
   "cell_type": "code",
   "execution_count": 148,
   "id": "6cbcdea5",
   "metadata": {},
   "outputs": [
    {
     "data": {
      "text/plain": [
       "<Axes: xlabel='call', ylabel='count'>"
      ]
     },
     "execution_count": 148,
     "metadata": {},
     "output_type": "execute_result"
    },
    {
     "data": {
      "image/png": "[encoded data removed]",
      "text/plain": [
       "<Figure size 640x480 with 1 Axes>"
      ]
     },
     "metadata": {},
     "output_type": "display_data"
    }
   ],
   "source": [
    "sns.countplot(x = lead_data.call)"
   ]
  },
  {
   "cell_type": "code",
   "execution_count": 150,
   "id": "6ad7ef5b",
   "metadata": {},
   "outputs": [
    {
     "data": {
      "text/plain": [
       "<Axes: xlabel='Converted', ylabel='count'>"
      ]
     },
     "execution_count": 150,
     "metadata": {},
     "output_type": "execute_result"
    },
    {
     "data": {
      "image/png": "[encoded data removed]",
      "text/plain": [
       "<Figure size 640x480 with 1 Axes>"
      ]
     },
     "metadata": {},
     "output_type": "display_data"
    }
   ],
   "source": [
    "sns.countplot(x = lead_data.Converted)"
   ]
  },
  {
   "cell_type": "code",
   "execution_count": 155,
   "id": "ddae70b7",
   "metadata": {},
   "outputs": [
    {
     "data": {
      "text/plain": [
       "<Axes: >"
      ]
     },
     "execution_count": 155,
     "metadata": {},
     "output_type": "execute_result"
    },
    {
     "data": {
      "image/png": "[encoded data removed]",
      "text/plain": [
       "<Figure size 640x480 with 1 Axes>"
      ]
     },
     "metadata": {},
     "output_type": "display_data"
    }
   ],
   "source": [
    "sns.boxplot(lead_data.TotalVisits)"
   ]
  },
  {
   "cell_type": "code",
   "execution_count": 158,
   "id": "eee3904f",
   "metadata": {},
   "outputs": [
    {
     "data": {
      "text/plain": [
       "count    9103.000000\n",
       "mean        3.445238\n",
       "std         4.854853\n",
       "min         0.000000\n",
       "25%         1.000000\n",
       "50%         3.000000\n",
       "75%         5.000000\n",
       "max       251.000000\n",
       "Name: TotalVisits, dtype: float64"
      ]
     },
     "execution_count": 158,
     "metadata": {},
     "output_type": "execute_result"
    }
   ],
   "source": [
    "lead_data.TotalVisits.describe()"
   ]
  },
  {
   "cell_type": "code",
   "execution_count": 160,
   "id": "dfec9a23",
   "metadata": {},
   "outputs": [
    {
     "data": {
      "text/plain": [
       "13.0"
      ]
     },
     "execution_count": 160,
     "metadata": {},
     "output_type": "execute_result"
    }
   ],
   "source": [
    "lead_data.TotalVisits.quantile(0.98)"
   ]
  },
  {
   "cell_type": "markdown",
   "id": "ddca81c2",
   "metadata": {},
   "source": [
    "Let us take till 98th percentile here"
   ]
  },
  {
   "cell_type": "code",
   "execution_count": 162,
   "id": "007963a2",
   "metadata": {},
   "outputs": [
    {
     "data": {
      "text/plain": [
       "(8636, 23)"
      ]
     },
     "execution_count": 162,
     "metadata": {},
     "output_type": "execute_result"
    }
   ],
   "source": [
    "lead_data = lead_data[lead_data.TotalVisits < lead_data.TotalVisits.quantile(0.98)]\n",
    "lead_data.shape"
   ]
  },
  {
   "cell_type": "code",
   "execution_count": 163,
   "id": "343efbe4",
   "metadata": {},
   "outputs": [
    {
     "data": {
      "text/plain": [
       "count    8636.000000\n",
       "mean        2.813224\n",
       "std         2.346719\n",
       "min         0.000000\n",
       "25%         0.000000\n",
       "50%         3.000000\n",
       "75%         4.000000\n",
       "max         9.000000\n",
       "Name: TotalVisits, dtype: float64"
      ]
     },
     "execution_count": 163,
     "metadata": {},
     "output_type": "execute_result"
    }
   ],
   "source": [
    "lead_data.TotalVisits.describe()"
   ]
  },
  {
   "cell_type": "code",
   "execution_count": 165,
   "id": "e59b9776",
   "metadata": {},
   "outputs": [
    {
     "name": "stderr",
     "output_type": "stream",
     "text": [
      "/Users/keshavraj/anaconda3/lib/python3.11/site-packages/seaborn/axisgrid.py:118: UserWarning: The figure layout has changed to tight\n",
      "  self._figure.tight_layout(*args, **kwargs)\n"
     ]
    },
    {
     "data": {
      "text/plain": [
       "<seaborn.axisgrid.FacetGrid at 0x138dd43d0>"
      ]
     },
     "execution_count": 165,
     "metadata": {},
     "output_type": "execute_result"
    },
    {
     "data": {
      "image/png": "[encoded data removed]",
      "text/plain": [
       "<Figure size 500x500 with 1 Axes>"
      ]
     },
     "metadata": {},
     "output_type": "display_data"
    }
   ],
   "source": [
    "sns.displot(lead_data.TotalVisits, bins = 9)"
   ]
  },
  {
   "cell_type": "markdown",
   "id": "56c33cd3",
   "metadata": {},
   "source": [
    "Here 0 times site visit are there for almost 2500 leads. Let us see if it is because a lot of leads are from other sources too."
   ]
  },
  {
   "cell_type": "code",
   "execution_count": 166,
   "id": "d4c704b2",
   "metadata": {},
   "outputs": [
    {
     "name": "stdout",
     "output_type": "stream",
     "text": [
      "<class 'pandas.core.frame.DataFrame'>\n",
      "Index: 8636 entries, 0 to 9239\n",
      "Data columns (total 23 columns):\n",
      " #   Column                             Non-Null Count  Dtype  \n",
      "---  ------                             --------------  -----  \n",
      " 0   Lead Number                        8636 non-null   int64  \n",
      " 1   origin                             8636 non-null   object \n",
      " 2   lead_source                        8607 non-null   object \n",
      " 3   send_email                         8636 non-null   int64  \n",
      " 4   call                               8636 non-null   int64  \n",
      " 5   Converted                          8636 non-null   int64  \n",
      " 6   TotalVisits                        8636 non-null   float64\n",
      " 7   time_spent                         8636 non-null   int64  \n",
      " 8   num_page_per_visit                 8636 non-null   float64\n",
      " 9   last_activity                      8636 non-null   object \n",
      " 10  country                            6319 non-null   object \n",
      " 11  specialization                     5408 non-null   object \n",
      " 12  cur_occupation                     6069 non-null   object \n",
      " 13  course_value                       6051 non-null   object \n",
      " 14  was_recommended                    8636 non-null   int64  \n",
      " 15  Tags                               5450 non-null   object \n",
      " 16  City                               5118 non-null   object \n",
      " 17  asymetric_activity_index           4654 non-null   object \n",
      " 18  asymmetric_profile_index           4654 non-null   object \n",
      " 19  asymmetric_activity_score          4654 non-null   float64\n",
      " 20  asymmetric_profile_score           4654 non-null   float64\n",
      " 21  free_copy_mastering_the_interview  8636 non-null   int64  \n",
      " 22  last_notable_activity              8636 non-null   object \n",
      "dtypes: float64(4), int64(7), object(12)\n",
      "memory usage: 1.6+ MB\n"
     ]
    }
   ],
   "source": [
    "lead_data.info()"
   ]
  },
  {
   "cell_type": "code",
   "execution_count": 167,
   "id": "158f3173",
   "metadata": {},
   "outputs": [
    {
     "data": {
      "text/plain": [
       "<Axes: >"
      ]
     },
     "execution_count": 167,
     "metadata": {},
     "output_type": "execute_result"
    },
    {
     "data": {
      "image/png": "[encoded data removed]",
      "text/plain": [
       "<Figure size 640x480 with 1 Axes>"
      ]
     },
     "metadata": {},
     "output_type": "display_data"
    }
   ],
   "source": [
    "sns.boxplot(lead_data.time_spent)"
   ]
  },
  {
   "cell_type": "code",
   "execution_count": 168,
   "id": "5481376a",
   "metadata": {},
   "outputs": [
    {
     "data": {
      "text/plain": [
       "count    8636.000000\n",
       "mean      467.120658\n",
       "std       540.219911\n",
       "min         0.000000\n",
       "25%         0.000000\n",
       "50%       232.000000\n",
       "75%       885.000000\n",
       "max      2272.000000\n",
       "Name: time_spent, dtype: float64"
      ]
     },
     "execution_count": 168,
     "metadata": {},
     "output_type": "execute_result"
    }
   ],
   "source": [
    "lead_data.time_spent.describe()"
   ]
  },
  {
   "cell_type": "code",
   "execution_count": 169,
   "id": "32b1ebf7",
   "metadata": {},
   "outputs": [
    {
     "data": {
      "text/plain": [
       "1715.0"
      ]
     },
     "execution_count": 169,
     "metadata": {},
     "output_type": "execute_result"
    }
   ],
   "source": [
    "lead_data.time_spent.quantile(0.98)"
   ]
  },
  {
   "cell_type": "code",
   "execution_count": 170,
   "id": "413a7ded",
   "metadata": {},
   "outputs": [],
   "source": [
    "lead_data = lead_data[lead_data.time_spent < lead_data.time_spent.quantile(0.98)]"
   ]
  },
  {
   "cell_type": "code",
   "execution_count": 172,
   "id": "e9e1ec8b",
   "metadata": {},
   "outputs": [
    {
     "data": {
      "text/plain": [
       "(8462, 23)"
      ]
     },
     "execution_count": 172,
     "metadata": {},
     "output_type": "execute_result"
    }
   ],
   "source": [
    "lead_data.shape"
   ]
  },
  {
   "cell_type": "code",
   "execution_count": 173,
   "id": "461aeaa2",
   "metadata": {},
   "outputs": [
    {
     "data": {
      "text/plain": [
       "count    8462.000000\n",
       "mean      438.565706\n",
       "std       507.020899\n",
       "min         0.000000\n",
       "25%         0.000000\n",
       "50%       221.000000\n",
       "75%       818.000000\n",
       "max      1714.000000\n",
       "Name: time_spent, dtype: float64"
      ]
     },
     "execution_count": 173,
     "metadata": {},
     "output_type": "execute_result"
    }
   ],
   "source": [
    "lead_data.time_spent.describe()"
   ]
  },
  {
   "cell_type": "code",
   "execution_count": 176,
   "id": "9f51c370",
   "metadata": {},
   "outputs": [
    {
     "name": "stderr",
     "output_type": "stream",
     "text": [
      "/Users/keshavraj/anaconda3/lib/python3.11/site-packages/seaborn/axisgrid.py:118: UserWarning: The figure layout has changed to tight\n",
      "  self._figure.tight_layout(*args, **kwargs)\n"
     ]
    },
    {
     "data": {
      "text/plain": [
       "<seaborn.axisgrid.FacetGrid at 0x138e1ed90>"
      ]
     },
     "execution_count": 176,
     "metadata": {},
     "output_type": "execute_result"
    },
    {
     "data": {
      "image/png": "[encoded data removed]",
      "text/plain": [
       "<Figure size 500x500 with 1 Axes>"
      ]
     },
     "metadata": {},
     "output_type": "display_data"
    }
   ],
   "source": [
    "sns.displot(lead_data.time_spent, bins = 19)"
   ]
  },
  {
   "cell_type": "code",
   "execution_count": 175,
   "id": "5f23507e",
   "metadata": {},
   "outputs": [
    {
     "data": {
      "text/plain": [
       "<Axes: >"
      ]
     },
     "execution_count": 175,
     "metadata": {},
     "output_type": "execute_result"
    },
    {
     "data": {
      "image/png": "[encoded data removed]",
      "text/plain": [
       "<Figure size 640x480 with 1 Axes>"
      ]
     },
     "metadata": {},
     "output_type": "display_data"
    }
   ],
   "source": [
    "sns.boxplot(lead_data.num_page_per_visit)"
   ]
  },
  {
   "cell_type": "code",
   "execution_count": 178,
   "id": "49d85847",
   "metadata": {},
   "outputs": [
    {
     "data": {
      "text/plain": [
       "count    8462.000000\n",
       "mean        2.197135\n",
       "std         1.886573\n",
       "min         0.000000\n",
       "25%         0.000000\n",
       "50%         2.000000\n",
       "75%         3.000000\n",
       "max         9.000000\n",
       "Name: num_page_per_visit, dtype: float64"
      ]
     },
     "execution_count": 178,
     "metadata": {},
     "output_type": "execute_result"
    }
   ],
   "source": [
    "lead_data.num_page_per_visit.describe()"
   ]
  },
  {
   "cell_type": "code",
   "execution_count": 180,
   "id": "5b4493d1",
   "metadata": {},
   "outputs": [
    {
     "data": {
      "text/plain": [
       "(8462, 23)"
      ]
     },
     "execution_count": 180,
     "metadata": {},
     "output_type": "execute_result"
    }
   ],
   "source": [
    "lead_data.shape"
   ]
  },
  {
   "cell_type": "code",
   "execution_count": 181,
   "id": "6de3558b",
   "metadata": {},
   "outputs": [],
   "source": [
    "lead_data = lead_data[lead_data.num_page_per_visit < lead_data.num_page_per_visit.quantile(0.98)]"
   ]
  },
  {
   "cell_type": "code",
   "execution_count": 182,
   "id": "c35da8dd",
   "metadata": {},
   "outputs": [
    {
     "data": {
      "text/plain": [
       "(8217, 23)"
      ]
     },
     "execution_count": 182,
     "metadata": {},
     "output_type": "execute_result"
    }
   ],
   "source": [
    "lead_data.shape"
   ]
  },
  {
   "cell_type": "code",
   "execution_count": 183,
   "id": "57a1529d",
   "metadata": {},
   "outputs": [
    {
     "data": {
      "text/plain": [
       "count    8217.000000\n",
       "mean        2.033608\n",
       "std         1.650573\n",
       "min         0.000000\n",
       "25%         0.000000\n",
       "50%         2.000000\n",
       "75%         3.000000\n",
       "max         6.000000\n",
       "Name: num_page_per_visit, dtype: float64"
      ]
     },
     "execution_count": 183,
     "metadata": {},
     "output_type": "execute_result"
    }
   ],
   "source": [
    "lead_data.num_page_per_visit.describe()"
   ]
  },
  {
   "cell_type": "code",
   "execution_count": 184,
   "id": "64c9ada9",
   "metadata": {},
   "outputs": [
    {
     "name": "stderr",
     "output_type": "stream",
     "text": [
      "/Users/keshavraj/anaconda3/lib/python3.11/site-packages/seaborn/axisgrid.py:118: UserWarning: The figure layout has changed to tight\n",
      "  self._figure.tight_layout(*args, **kwargs)\n"
     ]
    },
    {
     "data": {
      "text/plain": [
       "<seaborn.axisgrid.FacetGrid at 0x138228d50>"
      ]
     },
     "execution_count": 184,
     "metadata": {},
     "output_type": "execute_result"
    },
    {
     "data": {
      "image/png": "[encoded data removed]",
      "text/plain": [
       "<Figure size 500x500 with 1 Axes>"
      ]
     },
     "metadata": {},
     "output_type": "display_data"
    }
   ],
   "source": [
    "sns.displot(lead_data.num_page_per_visit, bins = 6)"
   ]
  },
  {
   "cell_type": "code",
   "execution_count": 187,
   "id": "1123df9c",
   "metadata": {},
   "outputs": [
    {
     "data": {
      "image/png": "[encoded data removed]",
      "text/plain": [
       "<Figure size 640x480 with 1 Axes>"
      ]
     },
     "metadata": {},
     "output_type": "display_data"
    }
   ],
   "source": [
    "ax = sns.countplot(x = lead_data.last_activity)\n",
    "ax.set_xticklabels(ax.get_xticklabels(), rotation=90, ha=\"right\")\n",
    "plt.show()"
   ]
  },
  {
   "cell_type": "code",
   "execution_count": 189,
   "id": "8ef48ca7",
   "metadata": {},
   "outputs": [
    {
     "name": "stdout",
     "output_type": "stream",
     "text": [
      "<class 'pandas.core.frame.DataFrame'>\n",
      "Index: 8217 entries, 0 to 9239\n",
      "Data columns (total 23 columns):\n",
      " #   Column                             Non-Null Count  Dtype  \n",
      "---  ------                             --------------  -----  \n",
      " 0   Lead Number                        8217 non-null   int64  \n",
      " 1   origin                             8217 non-null   object \n",
      " 2   lead_source                        8188 non-null   object \n",
      " 3   send_email                         8217 non-null   int64  \n",
      " 4   call                               8217 non-null   int64  \n",
      " 5   Converted                          8217 non-null   int64  \n",
      " 6   TotalVisits                        8217 non-null   float64\n",
      " 7   time_spent                         8217 non-null   int64  \n",
      " 8   num_page_per_visit                 8217 non-null   float64\n",
      " 9   last_activity                      8217 non-null   object \n",
      " 10  country                            5909 non-null   object \n",
      " 11  specialization                     5051 non-null   object \n",
      " 12  cur_occupation                     5744 non-null   object \n",
      " 13  course_value                       5726 non-null   object \n",
      " 14  was_recommended                    8217 non-null   int64  \n",
      " 15  Tags                               5141 non-null   object \n",
      " 16  City                               4773 non-null   object \n",
      " 17  asymetric_activity_index           4419 non-null   object \n",
      " 18  asymmetric_profile_index           4419 non-null   object \n",
      " 19  asymmetric_activity_score          4419 non-null   float64\n",
      " 20  asymmetric_profile_score           4419 non-null   float64\n",
      " 21  free_copy_mastering_the_interview  8217 non-null   int64  \n",
      " 22  last_notable_activity              8217 non-null   object \n",
      "dtypes: float64(4), int64(7), object(12)\n",
      "memory usage: 1.8+ MB\n"
     ]
    }
   ],
   "source": [
    "lead_data.info()"
   ]
  },
  {
   "cell_type": "code",
   "execution_count": 190,
   "id": "492cc994",
   "metadata": {},
   "outputs": [
    {
     "data": {
      "image/png": "[encoded data removed]",
      "text/plain": [
       "<Figure size 640x480 with 1 Axes>"
      ]
     },
     "metadata": {},
     "output_type": "display_data"
    }
   ],
   "source": [
    "ax = sns.countplot(x = lead_data.country)\n",
    "ax.set_xticklabels(ax.get_xticklabels(), rotation=90, ha=\"right\")\n",
    "plt.show()"
   ]
  },
  {
   "cell_type": "markdown",
   "id": "3087fd6c",
   "metadata": {},
   "source": [
    "Most of the countries are India. Let us fill all the na values with india."
   ]
  },
  {
   "cell_type": "code",
   "execution_count": 191,
   "id": "3e7c4453",
   "metadata": {},
   "outputs": [],
   "source": [
    "lead_data[\"country\"] = lead_data.country.fillna(\"India\")"
   ]
  },
  {
   "cell_type": "code",
   "execution_count": 192,
   "id": "663a0092",
   "metadata": {},
   "outputs": [
    {
     "data": {
      "text/plain": [
       "count      8217\n",
       "unique       38\n",
       "top       India\n",
       "freq       7960\n",
       "Name: country, dtype: object"
      ]
     },
     "execution_count": 192,
     "metadata": {},
     "output_type": "execute_result"
    }
   ],
   "source": [
    "lead_data.country.describe()"
   ]
  },
  {
   "cell_type": "code",
   "execution_count": 193,
   "id": "838c30a1",
   "metadata": {},
   "outputs": [
    {
     "data": {
      "image/png": "[encoded data removed]",
      "text/plain": [
       "<Figure size 640x480 with 1 Axes>"
      ]
     },
     "metadata": {},
     "output_type": "display_data"
    }
   ],
   "source": [
    "ax = sns.countplot(x = lead_data.specialization)\n",
    "ax.set_xticklabels(ax.get_xticklabels(), rotation=90, ha=\"right\")\n",
    "plt.show()"
   ]
  },
  {
   "cell_type": "code",
   "execution_count": 194,
   "id": "28146a34",
   "metadata": {},
   "outputs": [
    {
     "data": {
      "text/plain": [
       "count                   5051\n",
       "unique                    18\n",
       "top       Finance Management\n",
       "freq                     850\n",
       "Name: specialization, dtype: object"
      ]
     },
     "execution_count": 194,
     "metadata": {},
     "output_type": "execute_result"
    }
   ],
   "source": [
    "lead_data.specialization.describe()"
   ]
  },
  {
   "cell_type": "markdown",
   "id": "5c9ea458",
   "metadata": {},
   "source": [
    "We sure don't have a clear single winner to fill na values.\n",
    "\n",
    "#### I will like to go two versions of data where in one we don't elimnate this feature and fill it using some mechanism. In another we drop it. So keeping it for now."
   ]
  },
  {
   "cell_type": "code",
   "execution_count": 195,
   "id": "551fa173",
   "metadata": {},
   "outputs": [
    {
     "data": {
      "image/png": "[encoded data removed]",
      "text/plain": [
       "<Figure size 640x480 with 1 Axes>"
      ]
     },
     "metadata": {},
     "output_type": "display_data"
    }
   ],
   "source": [
    "ax = sns.countplot(x = lead_data.cur_occupation)\n",
    "ax.set_xticklabels(ax.get_xticklabels(), rotation=90, ha=\"right\")\n",
    "plt.show()"
   ]
  },
  {
   "cell_type": "markdown",
   "id": "f43e2fb8",
   "metadata": {},
   "source": [
    "Let us fill na values with Unemployed"
   ]
  },
  {
   "cell_type": "code",
   "execution_count": 196,
   "id": "d40d3830",
   "metadata": {},
   "outputs": [
    {
     "data": {
      "text/plain": [
       "count           5744\n",
       "unique             6\n",
       "top       Unemployed\n",
       "freq            4919\n",
       "Name: cur_occupation, dtype: object"
      ]
     },
     "execution_count": 196,
     "metadata": {},
     "output_type": "execute_result"
    }
   ],
   "source": [
    "lead_data.cur_occupation.describe()"
   ]
  },
  {
   "cell_type": "code",
   "execution_count": 197,
   "id": "6646790b",
   "metadata": {},
   "outputs": [],
   "source": [
    "lead_data[\"cur_occupation\"] = lead_data.cur_occupation.fillna(\"Unemployed\")"
   ]
  },
  {
   "cell_type": "code",
   "execution_count": 199,
   "id": "299cf206",
   "metadata": {},
   "outputs": [
    {
     "data": {
      "text/plain": [
       "count           8217\n",
       "unique             6\n",
       "top       Unemployed\n",
       "freq            7392\n",
       "Name: cur_occupation, dtype: object"
      ]
     },
     "execution_count": 199,
     "metadata": {},
     "output_type": "execute_result"
    }
   ],
   "source": [
    "lead_data.cur_occupation.describe()"
   ]
  },
  {
   "cell_type": "code",
   "execution_count": 200,
   "id": "76148b47",
   "metadata": {},
   "outputs": [
    {
     "data": {
      "image/png": "[encoded data removed]",
      "text/plain": [
       "<Figure size 640x480 with 1 Axes>"
      ]
     },
     "metadata": {},
     "output_type": "display_data"
    }
   ],
   "source": [
    "ax = sns.countplot(x = lead_data.course_value)\n",
    "ax.set_xticklabels(ax.get_xticklabels(), rotation=90, ha=\"right\")\n",
    "plt.show()"
   ]
  },
  {
   "cell_type": "code",
   "execution_count": 201,
   "id": "ac3d7a4b",
   "metadata": {},
   "outputs": [
    {
     "data": {
      "text/plain": [
       "count                        5726\n",
       "unique                          3\n",
       "top       Better Career Prospects\n",
       "freq                         5724\n",
       "Name: course_value, dtype: object"
      ]
     },
     "execution_count": 201,
     "metadata": {},
     "output_type": "execute_result"
    }
   ],
   "source": [
    "lead_data.course_value.describe()"
   ]
  },
  {
   "cell_type": "code",
   "execution_count": 202,
   "id": "b58e00a2",
   "metadata": {},
   "outputs": [],
   "source": [
    "lead_data[\"course_value\"] = lead_data.course_value.fillna(\"Better Career Prospects\")"
   ]
  },
  {
   "cell_type": "code",
   "execution_count": 203,
   "id": "c024fb15",
   "metadata": {},
   "outputs": [
    {
     "data": {
      "text/plain": [
       "count                        8217\n",
       "unique                          3\n",
       "top       Better Career Prospects\n",
       "freq                         8215\n",
       "Name: course_value, dtype: object"
      ]
     },
     "execution_count": 203,
     "metadata": {},
     "output_type": "execute_result"
    }
   ],
   "source": [
    "lead_data.course_value.describe()"
   ]
  },
  {
   "cell_type": "code",
   "execution_count": 204,
   "id": "b3880c21",
   "metadata": {},
   "outputs": [
    {
     "name": "stdout",
     "output_type": "stream",
     "text": [
      "<class 'pandas.core.frame.DataFrame'>\n",
      "Index: 8217 entries, 0 to 9239\n",
      "Data columns (total 23 columns):\n",
      " #   Column                             Non-Null Count  Dtype  \n",
      "---  ------                             --------------  -----  \n",
      " 0   Lead Number                        8217 non-null   int64  \n",
      " 1   origin                             8217 non-null   object \n",
      " 2   lead_source                        8188 non-null   object \n",
      " 3   send_email                         8217 non-null   int64  \n",
      " 4   call                               8217 non-null   int64  \n",
      " 5   Converted                          8217 non-null   int64  \n",
      " 6   TotalVisits                        8217 non-null   float64\n",
      " 7   time_spent                         8217 non-null   int64  \n",
      " 8   num_page_per_visit                 8217 non-null   float64\n",
      " 9   last_activity                      8217 non-null   object \n",
      " 10  country                            8217 non-null   object \n",
      " 11  specialization                     5051 non-null   object \n",
      " 12  cur_occupation                     8217 non-null   object \n",
      " 13  course_value                       8217 non-null   object \n",
      " 14  was_recommended                    8217 non-null   int64  \n",
      " 15  Tags                               5141 non-null   object \n",
      " 16  City                               4773 non-null   object \n",
      " 17  asymetric_activity_index           4419 non-null   object \n",
      " 18  asymmetric_profile_index           4419 non-null   object \n",
      " 19  asymmetric_activity_score          4419 non-null   float64\n",
      " 20  asymmetric_profile_score           4419 non-null   float64\n",
      " 21  free_copy_mastering_the_interview  8217 non-null   int64  \n",
      " 22  last_notable_activity              8217 non-null   object \n",
      "dtypes: float64(4), int64(7), object(12)\n",
      "memory usage: 1.8+ MB\n"
     ]
    }
   ],
   "source": [
    "lead_data.info()"
   ]
  },
  {
   "cell_type": "code",
   "execution_count": 208,
   "id": "0a4e99e1",
   "metadata": {},
   "outputs": [
    {
     "data": {
      "text/plain": [
       "was_recommended\n",
       "0    8214\n",
       "1       3\n",
       "Name: count, dtype: int64"
      ]
     },
     "execution_count": 208,
     "metadata": {},
     "output_type": "execute_result"
    }
   ],
   "source": [
    "lead_data.was_recommended.value_counts()"
   ]
  },
  {
   "cell_type": "code",
   "execution_count": 210,
   "id": "41f36f1c",
   "metadata": {},
   "outputs": [
    {
     "data": {
      "image/png": "[encoded data removed]",
      "text/plain": [
       "<Figure size 640x480 with 1 Axes>"
      ]
     },
     "metadata": {},
     "output_type": "display_data"
    }
   ],
   "source": [
    "ax = sns.countplot(x = lead_data.Tags)\n",
    "ax.set_xticklabels(ax.get_xticklabels(), rotation=90, ha=\"right\")\n",
    "plt.show()"
   ]
  },
  {
   "cell_type": "markdown",
   "id": "47397650",
   "metadata": {},
   "source": [
    "Here also we seem to have a clear winner to fill the missing values"
   ]
  },
  {
   "cell_type": "code",
   "execution_count": 212,
   "id": "7ede3b33",
   "metadata": {},
   "outputs": [
    {
     "data": {
      "text/plain": [
       "count                                    5141\n",
       "unique                                     26\n",
       "top       Will revert after reading the email\n",
       "freq                                     1794\n",
       "Name: Tags, dtype: object"
      ]
     },
     "execution_count": 212,
     "metadata": {},
     "output_type": "execute_result"
    }
   ],
   "source": [
    "lead_data.Tags.describe()"
   ]
  },
  {
   "cell_type": "code",
   "execution_count": 213,
   "id": "d8e27471",
   "metadata": {},
   "outputs": [],
   "source": [
    "lead_data[\"Tags\"] = lead_data.Tags.fillna(\"Will revert after reading the email\")"
   ]
  },
  {
   "cell_type": "code",
   "execution_count": 214,
   "id": "357a1830",
   "metadata": {},
   "outputs": [
    {
     "data": {
      "text/plain": [
       "count                                    8217\n",
       "unique                                     26\n",
       "top       Will revert after reading the email\n",
       "freq                                     4870\n",
       "Name: Tags, dtype: object"
      ]
     },
     "execution_count": 214,
     "metadata": {},
     "output_type": "execute_result"
    }
   ],
   "source": [
    "lead_data.Tags.describe()"
   ]
  },
  {
   "cell_type": "code",
   "execution_count": 215,
   "id": "fa88973e",
   "metadata": {},
   "outputs": [
    {
     "data": {
      "image/png": "[encoded data removed]",
      "text/plain": [
       "<Figure size 640x480 with 1 Axes>"
      ]
     },
     "metadata": {},
     "output_type": "display_data"
    }
   ],
   "source": [
    "ax = sns.countplot(x = lead_data.City)\n",
    "ax.set_xticklabels(ax.get_xticklabels(), rotation=90, ha=\"right\")\n",
    "plt.show()"
   ]
  },
  {
   "cell_type": "code",
   "execution_count": 217,
   "id": "aeadc3b6",
   "metadata": {},
   "outputs": [
    {
     "data": {
      "text/plain": [
       "41.913106973347936"
      ]
     },
     "execution_count": 217,
     "metadata": {},
     "output_type": "execute_result"
    }
   ],
   "source": [
    "calc_null_percent(lead_data.City)"
   ]
  },
  {
   "cell_type": "markdown",
   "id": "abd2f176",
   "metadata": {},
   "source": [
    "Dropping this columns as there are 41% missing values. Also since it is an online course city doesn't matter much. "
   ]
  },
  {
   "cell_type": "code",
   "execution_count": 219,
   "id": "ecfdfea1",
   "metadata": {},
   "outputs": [],
   "source": [
    "lead_data = lead_data.drop(columns = [\"City\"], axis = 1)"
   ]
  },
  {
   "cell_type": "code",
   "execution_count": 220,
   "id": "28e8649d",
   "metadata": {},
   "outputs": [
    {
     "name": "stdout",
     "output_type": "stream",
     "text": [
      "<class 'pandas.core.frame.DataFrame'>\n",
      "Index: 8217 entries, 0 to 9239\n",
      "Data columns (total 22 columns):\n",
      " #   Column                             Non-Null Count  Dtype  \n",
      "---  ------                             --------------  -----  \n",
      " 0   Lead Number                        8217 non-null   int64  \n",
      " 1   origin                             8217 non-null   object \n",
      " 2   lead_source                        8188 non-null   object \n",
      " 3   send_email                         8217 non-null   int64  \n",
      " 4   call                               8217 non-null   int64  \n",
      " 5   Converted                          8217 non-null   int64  \n",
      " 6   TotalVisits                        8217 non-null   float64\n",
      " 7   time_spent                         8217 non-null   int64  \n",
      " 8   num_page_per_visit                 8217 non-null   float64\n",
      " 9   last_activity                      8217 non-null   object \n",
      " 10  country                            8217 non-null   object \n",
      " 11  specialization                     5051 non-null   object \n",
      " 12  cur_occupation                     8217 non-null   object \n",
      " 13  course_value                       8217 non-null   object \n",
      " 14  was_recommended                    8217 non-null   int64  \n",
      " 15  Tags                               8217 non-null   object \n",
      " 16  asymetric_activity_index           4419 non-null   object \n",
      " 17  asymmetric_profile_index           4419 non-null   object \n",
      " 18  asymmetric_activity_score          4419 non-null   float64\n",
      " 19  asymmetric_profile_score           4419 non-null   float64\n",
      " 20  free_copy_mastering_the_interview  8217 non-null   int64  \n",
      " 21  last_notable_activity              8217 non-null   object \n",
      "dtypes: float64(4), int64(7), object(11)\n",
      "memory usage: 1.7+ MB\n"
     ]
    }
   ],
   "source": [
    "lead_data.info()"
   ]
  },
  {
   "cell_type": "code",
   "execution_count": 221,
   "id": "964415a0",
   "metadata": {},
   "outputs": [
    {
     "data": {
      "text/plain": [
       "46.22124863088718"
      ]
     },
     "execution_count": 221,
     "metadata": {},
     "output_type": "execute_result"
    }
   ],
   "source": [
    "calc_null_percent(lead_data.asymetric_activity_index)"
   ]
  },
  {
   "cell_type": "markdown",
   "id": "e4eca494",
   "metadata": {},
   "source": [
    "Dropping asymetric_activity_index to asymmetric_profile_score  due to very high missing value percentage."
   ]
  },
  {
   "cell_type": "code",
   "execution_count": 223,
   "id": "c360fa38",
   "metadata": {},
   "outputs": [],
   "source": [
    "drop_columns = [\"asymetric_activity_index\",\n",
    "               \"asymmetric_profile_index\",\n",
    "               \"asymmetric_activity_score\",\n",
    "                \"asymmetric_profile_score\"\n",
    "               ]\n",
    "lead_data = lead_data.drop(columns = drop_columns, axis = 1)"
   ]
  },
  {
   "cell_type": "code",
   "execution_count": 224,
   "id": "74b1ac39",
   "metadata": {},
   "outputs": [
    {
     "name": "stdout",
     "output_type": "stream",
     "text": [
      "<class 'pandas.core.frame.DataFrame'>\n",
      "Index: 8217 entries, 0 to 9239\n",
      "Data columns (total 18 columns):\n",
      " #   Column                             Non-Null Count  Dtype  \n",
      "---  ------                             --------------  -----  \n",
      " 0   Lead Number                        8217 non-null   int64  \n",
      " 1   origin                             8217 non-null   object \n",
      " 2   lead_source                        8188 non-null   object \n",
      " 3   send_email                         8217 non-null   int64  \n",
      " 4   call                               8217 non-null   int64  \n",
      " 5   Converted                          8217 non-null   int64  \n",
      " 6   TotalVisits                        8217 non-null   float64\n",
      " 7   time_spent                         8217 non-null   int64  \n",
      " 8   num_page_per_visit                 8217 non-null   float64\n",
      " 9   last_activity                      8217 non-null   object \n",
      " 10  country                            8217 non-null   object \n",
      " 11  specialization                     5051 non-null   object \n",
      " 12  cur_occupation                     8217 non-null   object \n",
      " 13  course_value                       8217 non-null   object \n",
      " 14  was_recommended                    8217 non-null   int64  \n",
      " 15  Tags                               8217 non-null   object \n",
      " 16  free_copy_mastering_the_interview  8217 non-null   int64  \n",
      " 17  last_notable_activity              8217 non-null   object \n",
      "dtypes: float64(2), int64(7), object(9)\n",
      "memory usage: 1.4+ MB\n"
     ]
    }
   ],
   "source": [
    "lead_data.info()"
   ]
  },
  {
   "cell_type": "code",
   "execution_count": 225,
   "id": "d2039280",
   "metadata": {},
   "outputs": [
    {
     "data": {
      "image/png": "[encoded data removed]",
      "text/plain": [
       "<Figure size 640x480 with 1 Axes>"
      ]
     },
     "metadata": {},
     "output_type": "display_data"
    }
   ],
   "source": [
    "ax = sns.countplot(x = lead_data.last_notable_activity)\n",
    "ax.set_xticklabels(ax.get_xticklabels(), rotation=90, ha=\"right\")\n",
    "plt.show()"
   ]
  },
  {
   "cell_type": "code",
   "execution_count": 226,
   "id": "65fe912c",
   "metadata": {},
   "outputs": [
    {
     "data": {
      "image/png": "[encoded data removed]",
      "text/plain": [
       "<Figure size 640x480 with 1 Axes>"
      ]
     },
     "metadata": {},
     "output_type": "display_data"
    }
   ],
   "source": [
    "ax = sns.countplot(x = lead_data.lead_source)\n",
    "ax.set_xticklabels(ax.get_xticklabels(), rotation=90, ha=\"right\")\n",
    "plt.show()"
   ]
  },
  {
   "cell_type": "markdown",
   "id": "cf200194",
   "metadata": {},
   "source": [
    "Let us delete rows for na values in lead_source"
   ]
  },
  {
   "cell_type": "code",
   "execution_count": 228,
   "id": "4177fdd8",
   "metadata": {},
   "outputs": [],
   "source": [
    "lead_data = lead_data[lead_data[\"lead_source\"].notna()]"
   ]
  },
  {
   "cell_type": "code",
   "execution_count": 230,
   "id": "5ee16275",
   "metadata": {},
   "outputs": [
    {
     "data": {
      "text/plain": [
       "(8188, 18)"
      ]
     },
     "execution_count": 230,
     "metadata": {},
     "output_type": "execute_result"
    }
   ],
   "source": [
    "lead_data.shape"
   ]
  },
  {
   "cell_type": "code",
   "execution_count": 231,
   "id": "c8fc7618",
   "metadata": {},
   "outputs": [
    {
     "name": "stdout",
     "output_type": "stream",
     "text": [
      "<class 'pandas.core.frame.DataFrame'>\n",
      "Index: 8188 entries, 0 to 9239\n",
      "Data columns (total 18 columns):\n",
      " #   Column                             Non-Null Count  Dtype  \n",
      "---  ------                             --------------  -----  \n",
      " 0   Lead Number                        8188 non-null   int64  \n",
      " 1   origin                             8188 non-null   object \n",
      " 2   lead_source                        8188 non-null   object \n",
      " 3   send_email                         8188 non-null   int64  \n",
      " 4   call                               8188 non-null   int64  \n",
      " 5   Converted                          8188 non-null   int64  \n",
      " 6   TotalVisits                        8188 non-null   float64\n",
      " 7   time_spent                         8188 non-null   int64  \n",
      " 8   num_page_per_visit                 8188 non-null   float64\n",
      " 9   last_activity                      8188 non-null   object \n",
      " 10  country                            8188 non-null   object \n",
      " 11  specialization                     5044 non-null   object \n",
      " 12  cur_occupation                     8188 non-null   object \n",
      " 13  course_value                       8188 non-null   object \n",
      " 14  was_recommended                    8188 non-null   int64  \n",
      " 15  Tags                               8188 non-null   object \n",
      " 16  free_copy_mastering_the_interview  8188 non-null   int64  \n",
      " 17  last_notable_activity              8188 non-null   object \n",
      "dtypes: float64(2), int64(7), object(9)\n",
      "memory usage: 1.2+ MB\n"
     ]
    }
   ],
   "source": [
    "lead_data.info()"
   ]
  },
  {
   "cell_type": "code",
   "execution_count": null,
   "id": "881f8cb1",
   "metadata": {},
   "outputs": [],
   "source": []
  }
 ],
 "metadata": {
  "kernelspec": {
   "display_name": "Python 3 (ipykernel)",
   "language": "python",
   "name": "python3"
  },
  "language_info": {
   "codemirror_mode": {
    "name": "ipython",
    "version": 3
   },
   "file_extension": ".py",
   "mimetype": "text/x-python",
   "name": "python",
   "nbconvert_exporter": "python",
   "pygments_lexer": "ipython3",
   "version": "3.11.5"
  }
 },
 "nbformat": 4,
 "nbformat_minor": 5
}
