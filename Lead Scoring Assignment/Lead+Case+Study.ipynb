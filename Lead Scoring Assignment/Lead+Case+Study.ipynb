{
 "cells": [
  {
   "cell_type": "code",
   "execution_count": 514,
   "id": "00edcb73",
   "metadata": {},
   "outputs": [],
   "source": [
    "import pandas as pd\n",
    "import numpy as np\n",
    "import matplotlib as plt\n",
    "import seaborn as sns"
   ]
  },
  {
   "cell_type": "markdown",
   "id": "a5608fb5",
   "metadata": {},
   "source": [
    "Set all the options"
   ]
  },
  {
   "cell_type": "code",
   "execution_count": 515,
   "id": "75745aaf",
   "metadata": {},
   "outputs": [],
   "source": [
    "pd.set_option(\"display.max_colwidth\", None)\n",
    "pd.set_option(\"display.max_columns\", None)"
   ]
  },
  {
   "cell_type": "markdown",
   "id": "934da162",
   "metadata": {},
   "source": [
    "Read the data\n"
   ]
  },
  {
   "cell_type": "code",
   "execution_count": 516,
   "id": "22577702",
   "metadata": {},
   "outputs": [],
   "source": [
    "df = pd.read_csv(\"Leads.csv\")"
   ]
  },
  {
   "cell_type": "code",
   "execution_count": 517,
   "id": "1538f2c4",
   "metadata": {},
   "outputs": [
    {
     "data": {
      "text/html": [
       "<div>\n",
       "<style scoped>\n",
       "    .dataframe tbody tr th:only-of-type {\n",
       "        vertical-align: middle;\n",
       "    }\n",
       "\n",
       "    .dataframe tbody tr th {\n",
       "        vertical-align: top;\n",
       "    }\n",
       "\n",
       "    .dataframe thead th {\n",
       "        text-align: right;\n",
       "    }\n",
       "</style>\n",
       "<table border=\"1\" class=\"dataframe\">\n",
       "  <thead>\n",
       "    <tr style=\"text-align: right;\">\n",
       "      <th></th>\n",
       "      <th>Prospect ID</th>\n",
       "      <th>Lead Number</th>\n",
       "      <th>Lead Origin</th>\n",
       "      <th>Lead Source</th>\n",
       "      <th>Do Not Email</th>\n",
       "      <th>Do Not Call</th>\n",
       "      <th>Converted</th>\n",
       "      <th>TotalVisits</th>\n",
       "      <th>Total Time Spent on Website</th>\n",
       "      <th>Page Views Per Visit</th>\n",
       "      <th>Last Activity</th>\n",
       "      <th>Country</th>\n",
       "      <th>Specialization</th>\n",
       "      <th>How did you hear about X Education</th>\n",
       "      <th>What is your current occupation</th>\n",
       "      <th>What matters most to you in choosing a course</th>\n",
       "      <th>Search</th>\n",
       "      <th>Magazine</th>\n",
       "      <th>Newspaper Article</th>\n",
       "      <th>X Education Forums</th>\n",
       "      <th>Newspaper</th>\n",
       "      <th>Digital Advertisement</th>\n",
       "      <th>Through Recommendations</th>\n",
       "      <th>Receive More Updates About Our Courses</th>\n",
       "      <th>Tags</th>\n",
       "      <th>Lead Quality</th>\n",
       "      <th>Update me on Supply Chain Content</th>\n",
       "      <th>Get updates on DM Content</th>\n",
       "      <th>Lead Profile</th>\n",
       "      <th>City</th>\n",
       "      <th>Asymmetrique Activity Index</th>\n",
       "      <th>Asymmetrique Profile Index</th>\n",
       "      <th>Asymmetrique Activity Score</th>\n",
       "      <th>Asymmetrique Profile Score</th>\n",
       "      <th>I agree to pay the amount through cheque</th>\n",
       "      <th>A free copy of Mastering The Interview</th>\n",
       "      <th>Last Notable Activity</th>\n",
       "    </tr>\n",
       "  </thead>\n",
       "  <tbody>\n",
       "    <tr>\n",
       "      <th>0</th>\n",
       "      <td>7927b2df-8bba-4d29-b9a2-b6e0beafe620</td>\n",
       "      <td>660737</td>\n",
       "      <td>API</td>\n",
       "      <td>Olark Chat</td>\n",
       "      <td>No</td>\n",
       "      <td>No</td>\n",
       "      <td>0</td>\n",
       "      <td>0.0</td>\n",
       "      <td>0</td>\n",
       "      <td>0.0</td>\n",
       "      <td>Page Visited on Website</td>\n",
       "      <td>NaN</td>\n",
       "      <td>Select</td>\n",
       "      <td>Select</td>\n",
       "      <td>Unemployed</td>\n",
       "      <td>Better Career Prospects</td>\n",
       "      <td>No</td>\n",
       "      <td>No</td>\n",
       "      <td>No</td>\n",
       "      <td>No</td>\n",
       "      <td>No</td>\n",
       "      <td>No</td>\n",
       "      <td>No</td>\n",
       "      <td>No</td>\n",
       "      <td>Interested in other courses</td>\n",
       "      <td>Low in Relevance</td>\n",
       "      <td>No</td>\n",
       "      <td>No</td>\n",
       "      <td>Select</td>\n",
       "      <td>Select</td>\n",
       "      <td>02.Medium</td>\n",
       "      <td>02.Medium</td>\n",
       "      <td>15.0</td>\n",
       "      <td>15.0</td>\n",
       "      <td>No</td>\n",
       "      <td>No</td>\n",
       "      <td>Modified</td>\n",
       "    </tr>\n",
       "    <tr>\n",
       "      <th>1</th>\n",
       "      <td>2a272436-5132-4136-86fa-dcc88c88f482</td>\n",
       "      <td>660728</td>\n",
       "      <td>API</td>\n",
       "      <td>Organic Search</td>\n",
       "      <td>No</td>\n",
       "      <td>No</td>\n",
       "      <td>0</td>\n",
       "      <td>5.0</td>\n",
       "      <td>674</td>\n",
       "      <td>2.5</td>\n",
       "      <td>Email Opened</td>\n",
       "      <td>India</td>\n",
       "      <td>Select</td>\n",
       "      <td>Select</td>\n",
       "      <td>Unemployed</td>\n",
       "      <td>Better Career Prospects</td>\n",
       "      <td>No</td>\n",
       "      <td>No</td>\n",
       "      <td>No</td>\n",
       "      <td>No</td>\n",
       "      <td>No</td>\n",
       "      <td>No</td>\n",
       "      <td>No</td>\n",
       "      <td>No</td>\n",
       "      <td>Ringing</td>\n",
       "      <td>NaN</td>\n",
       "      <td>No</td>\n",
       "      <td>No</td>\n",
       "      <td>Select</td>\n",
       "      <td>Select</td>\n",
       "      <td>02.Medium</td>\n",
       "      <td>02.Medium</td>\n",
       "      <td>15.0</td>\n",
       "      <td>15.0</td>\n",
       "      <td>No</td>\n",
       "      <td>No</td>\n",
       "      <td>Email Opened</td>\n",
       "    </tr>\n",
       "    <tr>\n",
       "      <th>2</th>\n",
       "      <td>8cc8c611-a219-4f35-ad23-fdfd2656bd8a</td>\n",
       "      <td>660727</td>\n",
       "      <td>Landing Page Submission</td>\n",
       "      <td>Direct Traffic</td>\n",
       "      <td>No</td>\n",
       "      <td>No</td>\n",
       "      <td>1</td>\n",
       "      <td>2.0</td>\n",
       "      <td>1532</td>\n",
       "      <td>2.0</td>\n",
       "      <td>Email Opened</td>\n",
       "      <td>India</td>\n",
       "      <td>Business Administration</td>\n",
       "      <td>Select</td>\n",
       "      <td>Student</td>\n",
       "      <td>Better Career Prospects</td>\n",
       "      <td>No</td>\n",
       "      <td>No</td>\n",
       "      <td>No</td>\n",
       "      <td>No</td>\n",
       "      <td>No</td>\n",
       "      <td>No</td>\n",
       "      <td>No</td>\n",
       "      <td>No</td>\n",
       "      <td>Will revert after reading the email</td>\n",
       "      <td>Might be</td>\n",
       "      <td>No</td>\n",
       "      <td>No</td>\n",
       "      <td>Potential Lead</td>\n",
       "      <td>Mumbai</td>\n",
       "      <td>02.Medium</td>\n",
       "      <td>01.High</td>\n",
       "      <td>14.0</td>\n",
       "      <td>20.0</td>\n",
       "      <td>No</td>\n",
       "      <td>Yes</td>\n",
       "      <td>Email Opened</td>\n",
       "    </tr>\n",
       "    <tr>\n",
       "      <th>3</th>\n",
       "      <td>0cc2df48-7cf4-4e39-9de9-19797f9b38cc</td>\n",
       "      <td>660719</td>\n",
       "      <td>Landing Page Submission</td>\n",
       "      <td>Direct Traffic</td>\n",
       "      <td>No</td>\n",
       "      <td>No</td>\n",
       "      <td>0</td>\n",
       "      <td>1.0</td>\n",
       "      <td>305</td>\n",
       "      <td>1.0</td>\n",
       "      <td>Unreachable</td>\n",
       "      <td>India</td>\n",
       "      <td>Media and Advertising</td>\n",
       "      <td>Word Of Mouth</td>\n",
       "      <td>Unemployed</td>\n",
       "      <td>Better Career Prospects</td>\n",
       "      <td>No</td>\n",
       "      <td>No</td>\n",
       "      <td>No</td>\n",
       "      <td>No</td>\n",
       "      <td>No</td>\n",
       "      <td>No</td>\n",
       "      <td>No</td>\n",
       "      <td>No</td>\n",
       "      <td>Ringing</td>\n",
       "      <td>Not Sure</td>\n",
       "      <td>No</td>\n",
       "      <td>No</td>\n",
       "      <td>Select</td>\n",
       "      <td>Mumbai</td>\n",
       "      <td>02.Medium</td>\n",
       "      <td>01.High</td>\n",
       "      <td>13.0</td>\n",
       "      <td>17.0</td>\n",
       "      <td>No</td>\n",
       "      <td>No</td>\n",
       "      <td>Modified</td>\n",
       "    </tr>\n",
       "    <tr>\n",
       "      <th>4</th>\n",
       "      <td>3256f628-e534-4826-9d63-4a8b88782852</td>\n",
       "      <td>660681</td>\n",
       "      <td>Landing Page Submission</td>\n",
       "      <td>Google</td>\n",
       "      <td>No</td>\n",
       "      <td>No</td>\n",
       "      <td>1</td>\n",
       "      <td>2.0</td>\n",
       "      <td>1428</td>\n",
       "      <td>1.0</td>\n",
       "      <td>Converted to Lead</td>\n",
       "      <td>India</td>\n",
       "      <td>Select</td>\n",
       "      <td>Other</td>\n",
       "      <td>Unemployed</td>\n",
       "      <td>Better Career Prospects</td>\n",
       "      <td>No</td>\n",
       "      <td>No</td>\n",
       "      <td>No</td>\n",
       "      <td>No</td>\n",
       "      <td>No</td>\n",
       "      <td>No</td>\n",
       "      <td>No</td>\n",
       "      <td>No</td>\n",
       "      <td>Will revert after reading the email</td>\n",
       "      <td>Might be</td>\n",
       "      <td>No</td>\n",
       "      <td>No</td>\n",
       "      <td>Select</td>\n",
       "      <td>Mumbai</td>\n",
       "      <td>02.Medium</td>\n",
       "      <td>01.High</td>\n",
       "      <td>15.0</td>\n",
       "      <td>18.0</td>\n",
       "      <td>No</td>\n",
       "      <td>No</td>\n",
       "      <td>Modified</td>\n",
       "    </tr>\n",
       "  </tbody>\n",
       "</table>\n",
       "</div>"
      ],
      "text/plain": [
       "                            Prospect ID  Lead Number              Lead Origin  \\\n",
       "0  7927b2df-8bba-4d29-b9a2-b6e0beafe620       660737                      API   \n",
       "1  2a272436-5132-4136-86fa-dcc88c88f482       660728                      API   \n",
       "2  8cc8c611-a219-4f35-ad23-fdfd2656bd8a       660727  Landing Page Submission   \n",
       "3  0cc2df48-7cf4-4e39-9de9-19797f9b38cc       660719  Landing Page Submission   \n",
       "4  3256f628-e534-4826-9d63-4a8b88782852       660681  Landing Page Submission   \n",
       "\n",
       "      Lead Source Do Not Email Do Not Call  Converted  TotalVisits  \\\n",
       "0      Olark Chat           No          No          0          0.0   \n",
       "1  Organic Search           No          No          0          5.0   \n",
       "2  Direct Traffic           No          No          1          2.0   \n",
       "3  Direct Traffic           No          No          0          1.0   \n",
       "4          Google           No          No          1          2.0   \n",
       "\n",
       "   Total Time Spent on Website  Page Views Per Visit            Last Activity  \\\n",
       "0                            0                   0.0  Page Visited on Website   \n",
       "1                          674                   2.5             Email Opened   \n",
       "2                         1532                   2.0             Email Opened   \n",
       "3                          305                   1.0              Unreachable   \n",
       "4                         1428                   1.0        Converted to Lead   \n",
       "\n",
       "  Country           Specialization How did you hear about X Education  \\\n",
       "0     NaN                   Select                             Select   \n",
       "1   India                   Select                             Select   \n",
       "2   India  Business Administration                             Select   \n",
       "3   India    Media and Advertising                      Word Of Mouth   \n",
       "4   India                   Select                              Other   \n",
       "\n",
       "  What is your current occupation  \\\n",
       "0                      Unemployed   \n",
       "1                      Unemployed   \n",
       "2                         Student   \n",
       "3                      Unemployed   \n",
       "4                      Unemployed   \n",
       "\n",
       "  What matters most to you in choosing a course Search Magazine  \\\n",
       "0                       Better Career Prospects     No       No   \n",
       "1                       Better Career Prospects     No       No   \n",
       "2                       Better Career Prospects     No       No   \n",
       "3                       Better Career Prospects     No       No   \n",
       "4                       Better Career Prospects     No       No   \n",
       "\n",
       "  Newspaper Article X Education Forums Newspaper Digital Advertisement  \\\n",
       "0                No                 No        No                    No   \n",
       "1                No                 No        No                    No   \n",
       "2                No                 No        No                    No   \n",
       "3                No                 No        No                    No   \n",
       "4                No                 No        No                    No   \n",
       "\n",
       "  Through Recommendations Receive More Updates About Our Courses  \\\n",
       "0                      No                                     No   \n",
       "1                      No                                     No   \n",
       "2                      No                                     No   \n",
       "3                      No                                     No   \n",
       "4                      No                                     No   \n",
       "\n",
       "                                  Tags      Lead Quality  \\\n",
       "0          Interested in other courses  Low in Relevance   \n",
       "1                              Ringing               NaN   \n",
       "2  Will revert after reading the email          Might be   \n",
       "3                              Ringing          Not Sure   \n",
       "4  Will revert after reading the email          Might be   \n",
       "\n",
       "  Update me on Supply Chain Content Get updates on DM Content    Lead Profile  \\\n",
       "0                                No                        No          Select   \n",
       "1                                No                        No          Select   \n",
       "2                                No                        No  Potential Lead   \n",
       "3                                No                        No          Select   \n",
       "4                                No                        No          Select   \n",
       "\n",
       "     City Asymmetrique Activity Index Asymmetrique Profile Index  \\\n",
       "0  Select                   02.Medium                  02.Medium   \n",
       "1  Select                   02.Medium                  02.Medium   \n",
       "2  Mumbai                   02.Medium                    01.High   \n",
       "3  Mumbai                   02.Medium                    01.High   \n",
       "4  Mumbai                   02.Medium                    01.High   \n",
       "\n",
       "   Asymmetrique Activity Score  Asymmetrique Profile Score  \\\n",
       "0                         15.0                        15.0   \n",
       "1                         15.0                        15.0   \n",
       "2                         14.0                        20.0   \n",
       "3                         13.0                        17.0   \n",
       "4                         15.0                        18.0   \n",
       "\n",
       "  I agree to pay the amount through cheque  \\\n",
       "0                                       No   \n",
       "1                                       No   \n",
       "2                                       No   \n",
       "3                                       No   \n",
       "4                                       No   \n",
       "\n",
       "  A free copy of Mastering The Interview Last Notable Activity  \n",
       "0                                     No              Modified  \n",
       "1                                     No          Email Opened  \n",
       "2                                    Yes          Email Opened  \n",
       "3                                     No              Modified  \n",
       "4                                     No              Modified  "
      ]
     },
     "execution_count": 517,
     "metadata": {},
     "output_type": "execute_result"
    }
   ],
   "source": [
    "df.head()"
   ]
  },
  {
   "cell_type": "markdown",
   "id": "8119b95e",
   "metadata": {},
   "source": [
    "Rename the columns"
   ]
  },
  {
   "cell_type": "code",
   "execution_count": 518,
   "id": "68dfbcd2",
   "metadata": {},
   "outputs": [],
   "source": [
    "columns = {\n",
    "    \"Lead Origin\": \"origin\",\n",
    "    \"Lead Source\": \"lead_source\",\n",
    "    \"Total Time Spent on Website\": \"time_spent\",\n",
    "    \"Page Views Per Visit\": \"num_page_per_visit\",\n",
    "    \"Last Activity\": \"last_activity\",\n",
    "    \"How did you hear about X Education\": \"hear_about_source\",\n",
    "    \"What is your current occupation\": \"cur_occupation\",\n",
    "    \"What matters most to you in choosing a course\": \"course_value\",\n",
    "    \"Receive More Updates About Our Courses\": \"rcv_updates_course\",\n",
    "    \"Lead Quality\": \"lead_quality\",\n",
    "    \"Search\": \"search\",\n",
    "    \"Magazine\": \"magazine\",\n",
    "    \"Newspaper Article\": \"newspaper_article\",\n",
    "    \"X Education Forums\": \"x_education_forum\",\n",
    "    \"Newspaper\": \"newspaper\",\n",
    "    \"Digital Advertisement\": \"digital_Advertisement\",\n",
    "    \"Through Recommendations\": \"was_recommended\",\n",
    "    \"Update me on Supply Chain Content\": \"rcv_updates_supplychain\",\n",
    "    \"Get updates on DM Content\": \"rcv_updates_dm\",\n",
    "    \"Lead Profile\": \"lead_profile\",\n",
    "    \"Asymmetrique Activity Index\": \"asymetric_activity_index\",\n",
    "    \"Asymmetrique Profile Index\": \"asymmetric_profile_index\",\n",
    "    \"Asymmetrique Activity Score\": \"asymmetric_activity_score\",\n",
    "    \"Asymmetrique Profile Score\": \"asymmetric_profile_score\",\n",
    "    \"I agree to pay the amount through cheque\": \"agree_paymnt_cheque\",\n",
    "    \"A free copy of Mastering The Interview\": \"free_copy_mastering_the_interview\",\n",
    "    \"Last Notable Activity\": \"last_notable_activity\",\n",
    "    \"Country\": \"country\",\n",
    "    \"Specialization\": \"specialization\"\n",
    "}"
   ]
  },
  {
   "cell_type": "code",
   "execution_count": 519,
   "id": "373f673e",
   "metadata": {},
   "outputs": [],
   "source": [
    "df.rename(columns = columns, inplace = True)"
   ]
  },
  {
   "cell_type": "code",
   "execution_count": 520,
   "id": "3c339d0a",
   "metadata": {},
   "outputs": [
    {
     "data": {
      "text/html": [
       "<div>\n",
       "<style scoped>\n",
       "    .dataframe tbody tr th:only-of-type {\n",
       "        vertical-align: middle;\n",
       "    }\n",
       "\n",
       "    .dataframe tbody tr th {\n",
       "        vertical-align: top;\n",
       "    }\n",
       "\n",
       "    .dataframe thead th {\n",
       "        text-align: right;\n",
       "    }\n",
       "</style>\n",
       "<table border=\"1\" class=\"dataframe\">\n",
       "  <thead>\n",
       "    <tr style=\"text-align: right;\">\n",
       "      <th></th>\n",
       "      <th>Prospect ID</th>\n",
       "      <th>Lead Number</th>\n",
       "      <th>origin</th>\n",
       "      <th>lead_source</th>\n",
       "      <th>Do Not Email</th>\n",
       "      <th>Do Not Call</th>\n",
       "      <th>Converted</th>\n",
       "      <th>TotalVisits</th>\n",
       "      <th>time_spent</th>\n",
       "      <th>num_page_per_visit</th>\n",
       "      <th>last_activity</th>\n",
       "      <th>country</th>\n",
       "      <th>specialization</th>\n",
       "      <th>hear_about_source</th>\n",
       "      <th>cur_occupation</th>\n",
       "      <th>course_value</th>\n",
       "      <th>search</th>\n",
       "      <th>magazine</th>\n",
       "      <th>newspaper_article</th>\n",
       "      <th>x_education_forum</th>\n",
       "      <th>newspaper</th>\n",
       "      <th>digital_Advertisement</th>\n",
       "      <th>was_recommended</th>\n",
       "      <th>rcv_updates_course</th>\n",
       "      <th>Tags</th>\n",
       "      <th>lead_quality</th>\n",
       "      <th>rcv_updates_supplychain</th>\n",
       "      <th>rcv_updates_dm</th>\n",
       "      <th>lead_profile</th>\n",
       "      <th>City</th>\n",
       "      <th>asymetric_activity_index</th>\n",
       "      <th>asymmetric_profile_index</th>\n",
       "      <th>asymmetric_activity_score</th>\n",
       "      <th>asymmetric_profile_score</th>\n",
       "      <th>agree_paymnt_cheque</th>\n",
       "      <th>free_copy_mastering_the_interview</th>\n",
       "      <th>last_notable_activity</th>\n",
       "    </tr>\n",
       "  </thead>\n",
       "  <tbody>\n",
       "    <tr>\n",
       "      <th>0</th>\n",
       "      <td>7927b2df-8bba-4d29-b9a2-b6e0beafe620</td>\n",
       "      <td>660737</td>\n",
       "      <td>API</td>\n",
       "      <td>Olark Chat</td>\n",
       "      <td>No</td>\n",
       "      <td>No</td>\n",
       "      <td>0</td>\n",
       "      <td>0.0</td>\n",
       "      <td>0</td>\n",
       "      <td>0.0</td>\n",
       "      <td>Page Visited on Website</td>\n",
       "      <td>NaN</td>\n",
       "      <td>Select</td>\n",
       "      <td>Select</td>\n",
       "      <td>Unemployed</td>\n",
       "      <td>Better Career Prospects</td>\n",
       "      <td>No</td>\n",
       "      <td>No</td>\n",
       "      <td>No</td>\n",
       "      <td>No</td>\n",
       "      <td>No</td>\n",
       "      <td>No</td>\n",
       "      <td>No</td>\n",
       "      <td>No</td>\n",
       "      <td>Interested in other courses</td>\n",
       "      <td>Low in Relevance</td>\n",
       "      <td>No</td>\n",
       "      <td>No</td>\n",
       "      <td>Select</td>\n",
       "      <td>Select</td>\n",
       "      <td>02.Medium</td>\n",
       "      <td>02.Medium</td>\n",
       "      <td>15.0</td>\n",
       "      <td>15.0</td>\n",
       "      <td>No</td>\n",
       "      <td>No</td>\n",
       "      <td>Modified</td>\n",
       "    </tr>\n",
       "    <tr>\n",
       "      <th>1</th>\n",
       "      <td>2a272436-5132-4136-86fa-dcc88c88f482</td>\n",
       "      <td>660728</td>\n",
       "      <td>API</td>\n",
       "      <td>Organic Search</td>\n",
       "      <td>No</td>\n",
       "      <td>No</td>\n",
       "      <td>0</td>\n",
       "      <td>5.0</td>\n",
       "      <td>674</td>\n",
       "      <td>2.5</td>\n",
       "      <td>Email Opened</td>\n",
       "      <td>India</td>\n",
       "      <td>Select</td>\n",
       "      <td>Select</td>\n",
       "      <td>Unemployed</td>\n",
       "      <td>Better Career Prospects</td>\n",
       "      <td>No</td>\n",
       "      <td>No</td>\n",
       "      <td>No</td>\n",
       "      <td>No</td>\n",
       "      <td>No</td>\n",
       "      <td>No</td>\n",
       "      <td>No</td>\n",
       "      <td>No</td>\n",
       "      <td>Ringing</td>\n",
       "      <td>NaN</td>\n",
       "      <td>No</td>\n",
       "      <td>No</td>\n",
       "      <td>Select</td>\n",
       "      <td>Select</td>\n",
       "      <td>02.Medium</td>\n",
       "      <td>02.Medium</td>\n",
       "      <td>15.0</td>\n",
       "      <td>15.0</td>\n",
       "      <td>No</td>\n",
       "      <td>No</td>\n",
       "      <td>Email Opened</td>\n",
       "    </tr>\n",
       "    <tr>\n",
       "      <th>2</th>\n",
       "      <td>8cc8c611-a219-4f35-ad23-fdfd2656bd8a</td>\n",
       "      <td>660727</td>\n",
       "      <td>Landing Page Submission</td>\n",
       "      <td>Direct Traffic</td>\n",
       "      <td>No</td>\n",
       "      <td>No</td>\n",
       "      <td>1</td>\n",
       "      <td>2.0</td>\n",
       "      <td>1532</td>\n",
       "      <td>2.0</td>\n",
       "      <td>Email Opened</td>\n",
       "      <td>India</td>\n",
       "      <td>Business Administration</td>\n",
       "      <td>Select</td>\n",
       "      <td>Student</td>\n",
       "      <td>Better Career Prospects</td>\n",
       "      <td>No</td>\n",
       "      <td>No</td>\n",
       "      <td>No</td>\n",
       "      <td>No</td>\n",
       "      <td>No</td>\n",
       "      <td>No</td>\n",
       "      <td>No</td>\n",
       "      <td>No</td>\n",
       "      <td>Will revert after reading the email</td>\n",
       "      <td>Might be</td>\n",
       "      <td>No</td>\n",
       "      <td>No</td>\n",
       "      <td>Potential Lead</td>\n",
       "      <td>Mumbai</td>\n",
       "      <td>02.Medium</td>\n",
       "      <td>01.High</td>\n",
       "      <td>14.0</td>\n",
       "      <td>20.0</td>\n",
       "      <td>No</td>\n",
       "      <td>Yes</td>\n",
       "      <td>Email Opened</td>\n",
       "    </tr>\n",
       "    <tr>\n",
       "      <th>3</th>\n",
       "      <td>0cc2df48-7cf4-4e39-9de9-19797f9b38cc</td>\n",
       "      <td>660719</td>\n",
       "      <td>Landing Page Submission</td>\n",
       "      <td>Direct Traffic</td>\n",
       "      <td>No</td>\n",
       "      <td>No</td>\n",
       "      <td>0</td>\n",
       "      <td>1.0</td>\n",
       "      <td>305</td>\n",
       "      <td>1.0</td>\n",
       "      <td>Unreachable</td>\n",
       "      <td>India</td>\n",
       "      <td>Media and Advertising</td>\n",
       "      <td>Word Of Mouth</td>\n",
       "      <td>Unemployed</td>\n",
       "      <td>Better Career Prospects</td>\n",
       "      <td>No</td>\n",
       "      <td>No</td>\n",
       "      <td>No</td>\n",
       "      <td>No</td>\n",
       "      <td>No</td>\n",
       "      <td>No</td>\n",
       "      <td>No</td>\n",
       "      <td>No</td>\n",
       "      <td>Ringing</td>\n",
       "      <td>Not Sure</td>\n",
       "      <td>No</td>\n",
       "      <td>No</td>\n",
       "      <td>Select</td>\n",
       "      <td>Mumbai</td>\n",
       "      <td>02.Medium</td>\n",
       "      <td>01.High</td>\n",
       "      <td>13.0</td>\n",
       "      <td>17.0</td>\n",
       "      <td>No</td>\n",
       "      <td>No</td>\n",
       "      <td>Modified</td>\n",
       "    </tr>\n",
       "    <tr>\n",
       "      <th>4</th>\n",
       "      <td>3256f628-e534-4826-9d63-4a8b88782852</td>\n",
       "      <td>660681</td>\n",
       "      <td>Landing Page Submission</td>\n",
       "      <td>Google</td>\n",
       "      <td>No</td>\n",
       "      <td>No</td>\n",
       "      <td>1</td>\n",
       "      <td>2.0</td>\n",
       "      <td>1428</td>\n",
       "      <td>1.0</td>\n",
       "      <td>Converted to Lead</td>\n",
       "      <td>India</td>\n",
       "      <td>Select</td>\n",
       "      <td>Other</td>\n",
       "      <td>Unemployed</td>\n",
       "      <td>Better Career Prospects</td>\n",
       "      <td>No</td>\n",
       "      <td>No</td>\n",
       "      <td>No</td>\n",
       "      <td>No</td>\n",
       "      <td>No</td>\n",
       "      <td>No</td>\n",
       "      <td>No</td>\n",
       "      <td>No</td>\n",
       "      <td>Will revert after reading the email</td>\n",
       "      <td>Might be</td>\n",
       "      <td>No</td>\n",
       "      <td>No</td>\n",
       "      <td>Select</td>\n",
       "      <td>Mumbai</td>\n",
       "      <td>02.Medium</td>\n",
       "      <td>01.High</td>\n",
       "      <td>15.0</td>\n",
       "      <td>18.0</td>\n",
       "      <td>No</td>\n",
       "      <td>No</td>\n",
       "      <td>Modified</td>\n",
       "    </tr>\n",
       "  </tbody>\n",
       "</table>\n",
       "</div>"
      ],
      "text/plain": [
       "                            Prospect ID  Lead Number                   origin  \\\n",
       "0  7927b2df-8bba-4d29-b9a2-b6e0beafe620       660737                      API   \n",
       "1  2a272436-5132-4136-86fa-dcc88c88f482       660728                      API   \n",
       "2  8cc8c611-a219-4f35-ad23-fdfd2656bd8a       660727  Landing Page Submission   \n",
       "3  0cc2df48-7cf4-4e39-9de9-19797f9b38cc       660719  Landing Page Submission   \n",
       "4  3256f628-e534-4826-9d63-4a8b88782852       660681  Landing Page Submission   \n",
       "\n",
       "      lead_source Do Not Email Do Not Call  Converted  TotalVisits  \\\n",
       "0      Olark Chat           No          No          0          0.0   \n",
       "1  Organic Search           No          No          0          5.0   \n",
       "2  Direct Traffic           No          No          1          2.0   \n",
       "3  Direct Traffic           No          No          0          1.0   \n",
       "4          Google           No          No          1          2.0   \n",
       "\n",
       "   time_spent  num_page_per_visit            last_activity country  \\\n",
       "0           0                 0.0  Page Visited on Website     NaN   \n",
       "1         674                 2.5             Email Opened   India   \n",
       "2        1532                 2.0             Email Opened   India   \n",
       "3         305                 1.0              Unreachable   India   \n",
       "4        1428                 1.0        Converted to Lead   India   \n",
       "\n",
       "            specialization hear_about_source cur_occupation  \\\n",
       "0                   Select            Select     Unemployed   \n",
       "1                   Select            Select     Unemployed   \n",
       "2  Business Administration            Select        Student   \n",
       "3    Media and Advertising     Word Of Mouth     Unemployed   \n",
       "4                   Select             Other     Unemployed   \n",
       "\n",
       "              course_value search magazine newspaper_article  \\\n",
       "0  Better Career Prospects     No       No                No   \n",
       "1  Better Career Prospects     No       No                No   \n",
       "2  Better Career Prospects     No       No                No   \n",
       "3  Better Career Prospects     No       No                No   \n",
       "4  Better Career Prospects     No       No                No   \n",
       "\n",
       "  x_education_forum newspaper digital_Advertisement was_recommended  \\\n",
       "0                No        No                    No              No   \n",
       "1                No        No                    No              No   \n",
       "2                No        No                    No              No   \n",
       "3                No        No                    No              No   \n",
       "4                No        No                    No              No   \n",
       "\n",
       "  rcv_updates_course                                 Tags      lead_quality  \\\n",
       "0                 No          Interested in other courses  Low in Relevance   \n",
       "1                 No                              Ringing               NaN   \n",
       "2                 No  Will revert after reading the email          Might be   \n",
       "3                 No                              Ringing          Not Sure   \n",
       "4                 No  Will revert after reading the email          Might be   \n",
       "\n",
       "  rcv_updates_supplychain rcv_updates_dm    lead_profile    City  \\\n",
       "0                      No             No          Select  Select   \n",
       "1                      No             No          Select  Select   \n",
       "2                      No             No  Potential Lead  Mumbai   \n",
       "3                      No             No          Select  Mumbai   \n",
       "4                      No             No          Select  Mumbai   \n",
       "\n",
       "  asymetric_activity_index asymmetric_profile_index  \\\n",
       "0                02.Medium                02.Medium   \n",
       "1                02.Medium                02.Medium   \n",
       "2                02.Medium                  01.High   \n",
       "3                02.Medium                  01.High   \n",
       "4                02.Medium                  01.High   \n",
       "\n",
       "   asymmetric_activity_score  asymmetric_profile_score agree_paymnt_cheque  \\\n",
       "0                       15.0                      15.0                  No   \n",
       "1                       15.0                      15.0                  No   \n",
       "2                       14.0                      20.0                  No   \n",
       "3                       13.0                      17.0                  No   \n",
       "4                       15.0                      18.0                  No   \n",
       "\n",
       "  free_copy_mastering_the_interview last_notable_activity  \n",
       "0                                No              Modified  \n",
       "1                                No          Email Opened  \n",
       "2                               Yes          Email Opened  \n",
       "3                                No              Modified  \n",
       "4                                No              Modified  "
      ]
     },
     "execution_count": 520,
     "metadata": {},
     "output_type": "execute_result"
    }
   ],
   "source": [
    "df.head()"
   ]
  },
  {
   "cell_type": "markdown",
   "id": "8708433f",
   "metadata": {},
   "source": [
    "Inspect the data"
   ]
  },
  {
   "cell_type": "code",
   "execution_count": 521,
   "id": "ca2526a8",
   "metadata": {},
   "outputs": [
    {
     "data": {
      "text/plain": [
       "(9240, 37)"
      ]
     },
     "execution_count": 521,
     "metadata": {},
     "output_type": "execute_result"
    }
   ],
   "source": [
    "df.shape"
   ]
  },
  {
   "cell_type": "code",
   "execution_count": 522,
   "id": "fa2be3d0",
   "metadata": {},
   "outputs": [
    {
     "data": {
      "text/html": [
       "<div>\n",
       "<style scoped>\n",
       "    .dataframe tbody tr th:only-of-type {\n",
       "        vertical-align: middle;\n",
       "    }\n",
       "\n",
       "    .dataframe tbody tr th {\n",
       "        vertical-align: top;\n",
       "    }\n",
       "\n",
       "    .dataframe thead th {\n",
       "        text-align: right;\n",
       "    }\n",
       "</style>\n",
       "<table border=\"1\" class=\"dataframe\">\n",
       "  <thead>\n",
       "    <tr style=\"text-align: right;\">\n",
       "      <th></th>\n",
       "      <th>Lead Number</th>\n",
       "      <th>Converted</th>\n",
       "      <th>TotalVisits</th>\n",
       "      <th>time_spent</th>\n",
       "      <th>num_page_per_visit</th>\n",
       "      <th>asymmetric_activity_score</th>\n",
       "      <th>asymmetric_profile_score</th>\n",
       "    </tr>\n",
       "  </thead>\n",
       "  <tbody>\n",
       "    <tr>\n",
       "      <th>count</th>\n",
       "      <td>9240.000000</td>\n",
       "      <td>9240.000000</td>\n",
       "      <td>9103.000000</td>\n",
       "      <td>9240.000000</td>\n",
       "      <td>9103.000000</td>\n",
       "      <td>5022.000000</td>\n",
       "      <td>5022.000000</td>\n",
       "    </tr>\n",
       "    <tr>\n",
       "      <th>mean</th>\n",
       "      <td>617188.435606</td>\n",
       "      <td>0.385390</td>\n",
       "      <td>3.445238</td>\n",
       "      <td>487.698268</td>\n",
       "      <td>2.362820</td>\n",
       "      <td>14.306252</td>\n",
       "      <td>16.344883</td>\n",
       "    </tr>\n",
       "    <tr>\n",
       "      <th>std</th>\n",
       "      <td>23405.995698</td>\n",
       "      <td>0.486714</td>\n",
       "      <td>4.854853</td>\n",
       "      <td>548.021466</td>\n",
       "      <td>2.161418</td>\n",
       "      <td>1.386694</td>\n",
       "      <td>1.811395</td>\n",
       "    </tr>\n",
       "    <tr>\n",
       "      <th>min</th>\n",
       "      <td>579533.000000</td>\n",
       "      <td>0.000000</td>\n",
       "      <td>0.000000</td>\n",
       "      <td>0.000000</td>\n",
       "      <td>0.000000</td>\n",
       "      <td>7.000000</td>\n",
       "      <td>11.000000</td>\n",
       "    </tr>\n",
       "    <tr>\n",
       "      <th>25%</th>\n",
       "      <td>596484.500000</td>\n",
       "      <td>0.000000</td>\n",
       "      <td>1.000000</td>\n",
       "      <td>12.000000</td>\n",
       "      <td>1.000000</td>\n",
       "      <td>14.000000</td>\n",
       "      <td>15.000000</td>\n",
       "    </tr>\n",
       "    <tr>\n",
       "      <th>50%</th>\n",
       "      <td>615479.000000</td>\n",
       "      <td>0.000000</td>\n",
       "      <td>3.000000</td>\n",
       "      <td>248.000000</td>\n",
       "      <td>2.000000</td>\n",
       "      <td>14.000000</td>\n",
       "      <td>16.000000</td>\n",
       "    </tr>\n",
       "    <tr>\n",
       "      <th>75%</th>\n",
       "      <td>637387.250000</td>\n",
       "      <td>1.000000</td>\n",
       "      <td>5.000000</td>\n",
       "      <td>936.000000</td>\n",
       "      <td>3.000000</td>\n",
       "      <td>15.000000</td>\n",
       "      <td>18.000000</td>\n",
       "    </tr>\n",
       "    <tr>\n",
       "      <th>max</th>\n",
       "      <td>660737.000000</td>\n",
       "      <td>1.000000</td>\n",
       "      <td>251.000000</td>\n",
       "      <td>2272.000000</td>\n",
       "      <td>55.000000</td>\n",
       "      <td>18.000000</td>\n",
       "      <td>20.000000</td>\n",
       "    </tr>\n",
       "  </tbody>\n",
       "</table>\n",
       "</div>"
      ],
      "text/plain": [
       "         Lead Number    Converted  TotalVisits   time_spent  \\\n",
       "count    9240.000000  9240.000000  9103.000000  9240.000000   \n",
       "mean   617188.435606     0.385390     3.445238   487.698268   \n",
       "std     23405.995698     0.486714     4.854853   548.021466   \n",
       "min    579533.000000     0.000000     0.000000     0.000000   \n",
       "25%    596484.500000     0.000000     1.000000    12.000000   \n",
       "50%    615479.000000     0.000000     3.000000   248.000000   \n",
       "75%    637387.250000     1.000000     5.000000   936.000000   \n",
       "max    660737.000000     1.000000   251.000000  2272.000000   \n",
       "\n",
       "       num_page_per_visit  asymmetric_activity_score  asymmetric_profile_score  \n",
       "count         9103.000000                5022.000000               5022.000000  \n",
       "mean             2.362820                  14.306252                 16.344883  \n",
       "std              2.161418                   1.386694                  1.811395  \n",
       "min              0.000000                   7.000000                 11.000000  \n",
       "25%              1.000000                  14.000000                 15.000000  \n",
       "50%              2.000000                  14.000000                 16.000000  \n",
       "75%              3.000000                  15.000000                 18.000000  \n",
       "max             55.000000                  18.000000                 20.000000  "
      ]
     },
     "execution_count": 522,
     "metadata": {},
     "output_type": "execute_result"
    }
   ],
   "source": [
    "df.describe()"
   ]
  },
  {
   "cell_type": "code",
   "execution_count": 523,
   "id": "919cc219",
   "metadata": {},
   "outputs": [
    {
     "name": "stdout",
     "output_type": "stream",
     "text": [
      "<class 'pandas.core.frame.DataFrame'>\n",
      "RangeIndex: 9240 entries, 0 to 9239\n",
      "Data columns (total 37 columns):\n",
      " #   Column                             Non-Null Count  Dtype  \n",
      "---  ------                             --------------  -----  \n",
      " 0   Prospect ID                        9240 non-null   object \n",
      " 1   Lead Number                        9240 non-null   int64  \n",
      " 2   origin                             9240 non-null   object \n",
      " 3   lead_source                        9204 non-null   object \n",
      " 4   Do Not Email                       9240 non-null   object \n",
      " 5   Do Not Call                        9240 non-null   object \n",
      " 6   Converted                          9240 non-null   int64  \n",
      " 7   TotalVisits                        9103 non-null   float64\n",
      " 8   time_spent                         9240 non-null   int64  \n",
      " 9   num_page_per_visit                 9103 non-null   float64\n",
      " 10  last_activity                      9137 non-null   object \n",
      " 11  country                            6779 non-null   object \n",
      " 12  specialization                     7802 non-null   object \n",
      " 13  hear_about_source                  7033 non-null   object \n",
      " 14  cur_occupation                     6550 non-null   object \n",
      " 15  course_value                       6531 non-null   object \n",
      " 16  search                             9240 non-null   object \n",
      " 17  magazine                           9240 non-null   object \n",
      " 18  newspaper_article                  9240 non-null   object \n",
      " 19  x_education_forum                  9240 non-null   object \n",
      " 20  newspaper                          9240 non-null   object \n",
      " 21  digital_Advertisement              9240 non-null   object \n",
      " 22  was_recommended                    9240 non-null   object \n",
      " 23  rcv_updates_course                 9240 non-null   object \n",
      " 24  Tags                               5887 non-null   object \n",
      " 25  lead_quality                       4473 non-null   object \n",
      " 26  rcv_updates_supplychain            9240 non-null   object \n",
      " 27  rcv_updates_dm                     9240 non-null   object \n",
      " 28  lead_profile                       6531 non-null   object \n",
      " 29  City                               7820 non-null   object \n",
      " 30  asymetric_activity_index           5022 non-null   object \n",
      " 31  asymmetric_profile_index           5022 non-null   object \n",
      " 32  asymmetric_activity_score          5022 non-null   float64\n",
      " 33  asymmetric_profile_score           5022 non-null   float64\n",
      " 34  agree_paymnt_cheque                9240 non-null   object \n",
      " 35  free_copy_mastering_the_interview  9240 non-null   object \n",
      " 36  last_notable_activity              9240 non-null   object \n",
      "dtypes: float64(4), int64(3), object(30)\n",
      "memory usage: 2.6+ MB\n"
     ]
    }
   ],
   "source": [
    "df.info()"
   ]
  },
  {
   "cell_type": "markdown",
   "id": "ec97f80c",
   "metadata": {},
   "source": [
    "### Data Cleaning "
   ]
  },
  {
   "cell_type": "markdown",
   "id": "9d796da7",
   "metadata": {},
   "source": [
    "\n",
    "Remove Prospect Id as already Lead Number is present and it can be used as Id for predicted and actual value comparison"
   ]
  },
  {
   "cell_type": "code",
   "execution_count": 524,
   "id": "418bf090",
   "metadata": {},
   "outputs": [],
   "source": [
    "df = df.drop([\"Prospect ID\"], axis = 1)"
   ]
  },
  {
   "cell_type": "code",
   "execution_count": 525,
   "id": "cb551f5f",
   "metadata": {},
   "outputs": [
    {
     "data": {
      "text/html": [
       "<div>\n",
       "<style scoped>\n",
       "    .dataframe tbody tr th:only-of-type {\n",
       "        vertical-align: middle;\n",
       "    }\n",
       "\n",
       "    .dataframe tbody tr th {\n",
       "        vertical-align: top;\n",
       "    }\n",
       "\n",
       "    .dataframe thead th {\n",
       "        text-align: right;\n",
       "    }\n",
       "</style>\n",
       "<table border=\"1\" class=\"dataframe\">\n",
       "  <thead>\n",
       "    <tr style=\"text-align: right;\">\n",
       "      <th></th>\n",
       "      <th>Lead Number</th>\n",
       "      <th>origin</th>\n",
       "      <th>lead_source</th>\n",
       "      <th>Do Not Email</th>\n",
       "      <th>Do Not Call</th>\n",
       "      <th>Converted</th>\n",
       "      <th>TotalVisits</th>\n",
       "      <th>time_spent</th>\n",
       "      <th>num_page_per_visit</th>\n",
       "      <th>last_activity</th>\n",
       "      <th>country</th>\n",
       "      <th>specialization</th>\n",
       "      <th>hear_about_source</th>\n",
       "      <th>cur_occupation</th>\n",
       "      <th>course_value</th>\n",
       "      <th>search</th>\n",
       "      <th>magazine</th>\n",
       "      <th>newspaper_article</th>\n",
       "      <th>x_education_forum</th>\n",
       "      <th>newspaper</th>\n",
       "      <th>digital_Advertisement</th>\n",
       "      <th>was_recommended</th>\n",
       "      <th>rcv_updates_course</th>\n",
       "      <th>Tags</th>\n",
       "      <th>lead_quality</th>\n",
       "      <th>rcv_updates_supplychain</th>\n",
       "      <th>rcv_updates_dm</th>\n",
       "      <th>lead_profile</th>\n",
       "      <th>City</th>\n",
       "      <th>asymetric_activity_index</th>\n",
       "      <th>asymmetric_profile_index</th>\n",
       "      <th>asymmetric_activity_score</th>\n",
       "      <th>asymmetric_profile_score</th>\n",
       "      <th>agree_paymnt_cheque</th>\n",
       "      <th>free_copy_mastering_the_interview</th>\n",
       "      <th>last_notable_activity</th>\n",
       "    </tr>\n",
       "  </thead>\n",
       "  <tbody>\n",
       "    <tr>\n",
       "      <th>0</th>\n",
       "      <td>660737</td>\n",
       "      <td>API</td>\n",
       "      <td>Olark Chat</td>\n",
       "      <td>No</td>\n",
       "      <td>No</td>\n",
       "      <td>0</td>\n",
       "      <td>0.0</td>\n",
       "      <td>0</td>\n",
       "      <td>0.0</td>\n",
       "      <td>Page Visited on Website</td>\n",
       "      <td>NaN</td>\n",
       "      <td>Select</td>\n",
       "      <td>Select</td>\n",
       "      <td>Unemployed</td>\n",
       "      <td>Better Career Prospects</td>\n",
       "      <td>No</td>\n",
       "      <td>No</td>\n",
       "      <td>No</td>\n",
       "      <td>No</td>\n",
       "      <td>No</td>\n",
       "      <td>No</td>\n",
       "      <td>No</td>\n",
       "      <td>No</td>\n",
       "      <td>Interested in other courses</td>\n",
       "      <td>Low in Relevance</td>\n",
       "      <td>No</td>\n",
       "      <td>No</td>\n",
       "      <td>Select</td>\n",
       "      <td>Select</td>\n",
       "      <td>02.Medium</td>\n",
       "      <td>02.Medium</td>\n",
       "      <td>15.0</td>\n",
       "      <td>15.0</td>\n",
       "      <td>No</td>\n",
       "      <td>No</td>\n",
       "      <td>Modified</td>\n",
       "    </tr>\n",
       "    <tr>\n",
       "      <th>1</th>\n",
       "      <td>660728</td>\n",
       "      <td>API</td>\n",
       "      <td>Organic Search</td>\n",
       "      <td>No</td>\n",
       "      <td>No</td>\n",
       "      <td>0</td>\n",
       "      <td>5.0</td>\n",
       "      <td>674</td>\n",
       "      <td>2.5</td>\n",
       "      <td>Email Opened</td>\n",
       "      <td>India</td>\n",
       "      <td>Select</td>\n",
       "      <td>Select</td>\n",
       "      <td>Unemployed</td>\n",
       "      <td>Better Career Prospects</td>\n",
       "      <td>No</td>\n",
       "      <td>No</td>\n",
       "      <td>No</td>\n",
       "      <td>No</td>\n",
       "      <td>No</td>\n",
       "      <td>No</td>\n",
       "      <td>No</td>\n",
       "      <td>No</td>\n",
       "      <td>Ringing</td>\n",
       "      <td>NaN</td>\n",
       "      <td>No</td>\n",
       "      <td>No</td>\n",
       "      <td>Select</td>\n",
       "      <td>Select</td>\n",
       "      <td>02.Medium</td>\n",
       "      <td>02.Medium</td>\n",
       "      <td>15.0</td>\n",
       "      <td>15.0</td>\n",
       "      <td>No</td>\n",
       "      <td>No</td>\n",
       "      <td>Email Opened</td>\n",
       "    </tr>\n",
       "    <tr>\n",
       "      <th>2</th>\n",
       "      <td>660727</td>\n",
       "      <td>Landing Page Submission</td>\n",
       "      <td>Direct Traffic</td>\n",
       "      <td>No</td>\n",
       "      <td>No</td>\n",
       "      <td>1</td>\n",
       "      <td>2.0</td>\n",
       "      <td>1532</td>\n",
       "      <td>2.0</td>\n",
       "      <td>Email Opened</td>\n",
       "      <td>India</td>\n",
       "      <td>Business Administration</td>\n",
       "      <td>Select</td>\n",
       "      <td>Student</td>\n",
       "      <td>Better Career Prospects</td>\n",
       "      <td>No</td>\n",
       "      <td>No</td>\n",
       "      <td>No</td>\n",
       "      <td>No</td>\n",
       "      <td>No</td>\n",
       "      <td>No</td>\n",
       "      <td>No</td>\n",
       "      <td>No</td>\n",
       "      <td>Will revert after reading the email</td>\n",
       "      <td>Might be</td>\n",
       "      <td>No</td>\n",
       "      <td>No</td>\n",
       "      <td>Potential Lead</td>\n",
       "      <td>Mumbai</td>\n",
       "      <td>02.Medium</td>\n",
       "      <td>01.High</td>\n",
       "      <td>14.0</td>\n",
       "      <td>20.0</td>\n",
       "      <td>No</td>\n",
       "      <td>Yes</td>\n",
       "      <td>Email Opened</td>\n",
       "    </tr>\n",
       "    <tr>\n",
       "      <th>3</th>\n",
       "      <td>660719</td>\n",
       "      <td>Landing Page Submission</td>\n",
       "      <td>Direct Traffic</td>\n",
       "      <td>No</td>\n",
       "      <td>No</td>\n",
       "      <td>0</td>\n",
       "      <td>1.0</td>\n",
       "      <td>305</td>\n",
       "      <td>1.0</td>\n",
       "      <td>Unreachable</td>\n",
       "      <td>India</td>\n",
       "      <td>Media and Advertising</td>\n",
       "      <td>Word Of Mouth</td>\n",
       "      <td>Unemployed</td>\n",
       "      <td>Better Career Prospects</td>\n",
       "      <td>No</td>\n",
       "      <td>No</td>\n",
       "      <td>No</td>\n",
       "      <td>No</td>\n",
       "      <td>No</td>\n",
       "      <td>No</td>\n",
       "      <td>No</td>\n",
       "      <td>No</td>\n",
       "      <td>Ringing</td>\n",
       "      <td>Not Sure</td>\n",
       "      <td>No</td>\n",
       "      <td>No</td>\n",
       "      <td>Select</td>\n",
       "      <td>Mumbai</td>\n",
       "      <td>02.Medium</td>\n",
       "      <td>01.High</td>\n",
       "      <td>13.0</td>\n",
       "      <td>17.0</td>\n",
       "      <td>No</td>\n",
       "      <td>No</td>\n",
       "      <td>Modified</td>\n",
       "    </tr>\n",
       "    <tr>\n",
       "      <th>4</th>\n",
       "      <td>660681</td>\n",
       "      <td>Landing Page Submission</td>\n",
       "      <td>Google</td>\n",
       "      <td>No</td>\n",
       "      <td>No</td>\n",
       "      <td>1</td>\n",
       "      <td>2.0</td>\n",
       "      <td>1428</td>\n",
       "      <td>1.0</td>\n",
       "      <td>Converted to Lead</td>\n",
       "      <td>India</td>\n",
       "      <td>Select</td>\n",
       "      <td>Other</td>\n",
       "      <td>Unemployed</td>\n",
       "      <td>Better Career Prospects</td>\n",
       "      <td>No</td>\n",
       "      <td>No</td>\n",
       "      <td>No</td>\n",
       "      <td>No</td>\n",
       "      <td>No</td>\n",
       "      <td>No</td>\n",
       "      <td>No</td>\n",
       "      <td>No</td>\n",
       "      <td>Will revert after reading the email</td>\n",
       "      <td>Might be</td>\n",
       "      <td>No</td>\n",
       "      <td>No</td>\n",
       "      <td>Select</td>\n",
       "      <td>Mumbai</td>\n",
       "      <td>02.Medium</td>\n",
       "      <td>01.High</td>\n",
       "      <td>15.0</td>\n",
       "      <td>18.0</td>\n",
       "      <td>No</td>\n",
       "      <td>No</td>\n",
       "      <td>Modified</td>\n",
       "    </tr>\n",
       "  </tbody>\n",
       "</table>\n",
       "</div>"
      ],
      "text/plain": [
       "   Lead Number                   origin     lead_source Do Not Email  \\\n",
       "0       660737                      API      Olark Chat           No   \n",
       "1       660728                      API  Organic Search           No   \n",
       "2       660727  Landing Page Submission  Direct Traffic           No   \n",
       "3       660719  Landing Page Submission  Direct Traffic           No   \n",
       "4       660681  Landing Page Submission          Google           No   \n",
       "\n",
       "  Do Not Call  Converted  TotalVisits  time_spent  num_page_per_visit  \\\n",
       "0          No          0          0.0           0                 0.0   \n",
       "1          No          0          5.0         674                 2.5   \n",
       "2          No          1          2.0        1532                 2.0   \n",
       "3          No          0          1.0         305                 1.0   \n",
       "4          No          1          2.0        1428                 1.0   \n",
       "\n",
       "             last_activity country           specialization hear_about_source  \\\n",
       "0  Page Visited on Website     NaN                   Select            Select   \n",
       "1             Email Opened   India                   Select            Select   \n",
       "2             Email Opened   India  Business Administration            Select   \n",
       "3              Unreachable   India    Media and Advertising     Word Of Mouth   \n",
       "4        Converted to Lead   India                   Select             Other   \n",
       "\n",
       "  cur_occupation             course_value search magazine newspaper_article  \\\n",
       "0     Unemployed  Better Career Prospects     No       No                No   \n",
       "1     Unemployed  Better Career Prospects     No       No                No   \n",
       "2        Student  Better Career Prospects     No       No                No   \n",
       "3     Unemployed  Better Career Prospects     No       No                No   \n",
       "4     Unemployed  Better Career Prospects     No       No                No   \n",
       "\n",
       "  x_education_forum newspaper digital_Advertisement was_recommended  \\\n",
       "0                No        No                    No              No   \n",
       "1                No        No                    No              No   \n",
       "2                No        No                    No              No   \n",
       "3                No        No                    No              No   \n",
       "4                No        No                    No              No   \n",
       "\n",
       "  rcv_updates_course                                 Tags      lead_quality  \\\n",
       "0                 No          Interested in other courses  Low in Relevance   \n",
       "1                 No                              Ringing               NaN   \n",
       "2                 No  Will revert after reading the email          Might be   \n",
       "3                 No                              Ringing          Not Sure   \n",
       "4                 No  Will revert after reading the email          Might be   \n",
       "\n",
       "  rcv_updates_supplychain rcv_updates_dm    lead_profile    City  \\\n",
       "0                      No             No          Select  Select   \n",
       "1                      No             No          Select  Select   \n",
       "2                      No             No  Potential Lead  Mumbai   \n",
       "3                      No             No          Select  Mumbai   \n",
       "4                      No             No          Select  Mumbai   \n",
       "\n",
       "  asymetric_activity_index asymmetric_profile_index  \\\n",
       "0                02.Medium                02.Medium   \n",
       "1                02.Medium                02.Medium   \n",
       "2                02.Medium                  01.High   \n",
       "3                02.Medium                  01.High   \n",
       "4                02.Medium                  01.High   \n",
       "\n",
       "   asymmetric_activity_score  asymmetric_profile_score agree_paymnt_cheque  \\\n",
       "0                       15.0                      15.0                  No   \n",
       "1                       15.0                      15.0                  No   \n",
       "2                       14.0                      20.0                  No   \n",
       "3                       13.0                      17.0                  No   \n",
       "4                       15.0                      18.0                  No   \n",
       "\n",
       "  free_copy_mastering_the_interview last_notable_activity  \n",
       "0                                No              Modified  \n",
       "1                                No          Email Opened  \n",
       "2                               Yes          Email Opened  \n",
       "3                                No              Modified  \n",
       "4                                No              Modified  "
      ]
     },
     "execution_count": 525,
     "metadata": {},
     "output_type": "execute_result"
    }
   ],
   "source": [
    "df.head()"
   ]
  },
  {
   "cell_type": "code",
   "execution_count": 526,
   "id": "3885240c",
   "metadata": {},
   "outputs": [
    {
     "data": {
      "text/plain": [
       "origin\n",
       "Landing Page Submission    4886\n",
       "API                        3580\n",
       "Lead Add Form               718\n",
       "Lead Import                  55\n",
       "Quick Add Form                1\n",
       "Name: count, dtype: int64"
      ]
     },
     "execution_count": 526,
     "metadata": {},
     "output_type": "execute_result"
    }
   ],
   "source": [
    "df.origin.value_counts()"
   ]
  },
  {
   "cell_type": "code",
   "execution_count": 527,
   "id": "e1aaab8d",
   "metadata": {},
   "outputs": [
    {
     "data": {
      "text/plain": [
       "lead_source\n",
       "Google               2868\n",
       "Direct Traffic       2543\n",
       "Olark Chat           1755\n",
       "Organic Search       1154\n",
       "Reference             534\n",
       "Welingak Website      142\n",
       "Referral Sites        125\n",
       "Facebook               55\n",
       "bing                    6\n",
       "google                  5\n",
       "Click2call              4\n",
       "Press_Release           2\n",
       "Social Media            2\n",
       "Live Chat               2\n",
       "youtubechannel          1\n",
       "testone                 1\n",
       "Pay per Click Ads       1\n",
       "welearnblog_Home        1\n",
       "WeLearn                 1\n",
       "blog                    1\n",
       "NC_EDM                  1\n",
       "Name: count, dtype: int64"
      ]
     },
     "execution_count": 527,
     "metadata": {},
     "output_type": "execute_result"
    }
   ],
   "source": [
    "df.lead_source.value_counts()"
   ]
  },
  {
   "cell_type": "code",
   "execution_count": 528,
   "id": "e38917fb",
   "metadata": {},
   "outputs": [
    {
     "data": {
      "text/plain": [
       "Do Not Email\n",
       "No     8506\n",
       "Yes     734\n",
       "Name: count, dtype: int64"
      ]
     },
     "execution_count": 528,
     "metadata": {},
     "output_type": "execute_result"
    }
   ],
   "source": [
    "df[\"Do Not Email\"].value_counts()"
   ]
  },
  {
   "cell_type": "code",
   "execution_count": 529,
   "id": "35d6d84e",
   "metadata": {},
   "outputs": [
    {
     "data": {
      "text/plain": [
       "Do Not Call\n",
       "No     9238\n",
       "Yes       2\n",
       "Name: count, dtype: int64"
      ]
     },
     "execution_count": 529,
     "metadata": {},
     "output_type": "execute_result"
    }
   ],
   "source": [
    "df[\"Do Not Call\"].value_counts()"
   ]
  },
  {
   "cell_type": "markdown",
   "id": "b3d7d11e",
   "metadata": {},
   "source": [
    "This method converts yes / no to 1 / 0\n",
    "- inverted: if true yes to 0 and no to 1"
   ]
  },
  {
   "cell_type": "code",
   "execution_count": 530,
   "id": "5bc4f20b",
   "metadata": {},
   "outputs": [],
   "source": [
    "def yesno_to_01(x, inverted = False):\n",
    "    temp = 0\n",
    "    if inverted:\n",
    "        temp = 0 if x == \"yes\" else 1\n",
    "    else:\n",
    "        temp = 1 if x == \"yes\" else 0\n",
    "    return temp"
   ]
  },
  {
   "cell_type": "code",
   "execution_count": 531,
   "id": "74508793",
   "metadata": {},
   "outputs": [],
   "source": [
    "df[\"Do Not Email\"]  = df[\"Do Not Email\"].apply(lambda x: yesno_to_01(x.lower(), inverted = True))"
   ]
  },
  {
   "cell_type": "code",
   "execution_count": 532,
   "id": "1efc6981",
   "metadata": {},
   "outputs": [
    {
     "data": {
      "text/plain": [
       "Do Not Email\n",
       "1    8506\n",
       "0     734\n",
       "Name: count, dtype: int64"
      ]
     },
     "execution_count": 532,
     "metadata": {},
     "output_type": "execute_result"
    }
   ],
   "source": [
    "df[\"Do Not Email\"].value_counts()"
   ]
  },
  {
   "cell_type": "code",
   "execution_count": 533,
   "id": "f65a786e",
   "metadata": {},
   "outputs": [
    {
     "data": {
      "text/plain": [
       "0    1\n",
       "1    1\n",
       "2    1\n",
       "3    1\n",
       "4    1\n",
       "Name: Do Not Email, dtype: int64"
      ]
     },
     "execution_count": 533,
     "metadata": {},
     "output_type": "execute_result"
    }
   ],
   "source": [
    "df[\"Do Not Email\"].head()"
   ]
  },
  {
   "cell_type": "markdown",
   "id": "cccc3f7e",
   "metadata": {},
   "source": [
    "Before these columns were no and now it has been converted to true. Let's us rename column also as send_email"
   ]
  },
  {
   "cell_type": "code",
   "execution_count": 534,
   "id": "be0ab75b",
   "metadata": {},
   "outputs": [],
   "source": [
    "df.rename(columns = {\"Do Not Email\": \"send_email\"}, inplace = True)"
   ]
  },
  {
   "cell_type": "code",
   "execution_count": 535,
   "id": "e2ac1e19",
   "metadata": {},
   "outputs": [
    {
     "data": {
      "text/html": [
       "<div>\n",
       "<style scoped>\n",
       "    .dataframe tbody tr th:only-of-type {\n",
       "        vertical-align: middle;\n",
       "    }\n",
       "\n",
       "    .dataframe tbody tr th {\n",
       "        vertical-align: top;\n",
       "    }\n",
       "\n",
       "    .dataframe thead th {\n",
       "        text-align: right;\n",
       "    }\n",
       "</style>\n",
       "<table border=\"1\" class=\"dataframe\">\n",
       "  <thead>\n",
       "    <tr style=\"text-align: right;\">\n",
       "      <th></th>\n",
       "      <th>Lead Number</th>\n",
       "      <th>origin</th>\n",
       "      <th>lead_source</th>\n",
       "      <th>send_email</th>\n",
       "      <th>Do Not Call</th>\n",
       "      <th>Converted</th>\n",
       "      <th>TotalVisits</th>\n",
       "      <th>time_spent</th>\n",
       "      <th>num_page_per_visit</th>\n",
       "      <th>last_activity</th>\n",
       "      <th>country</th>\n",
       "      <th>specialization</th>\n",
       "      <th>hear_about_source</th>\n",
       "      <th>cur_occupation</th>\n",
       "      <th>course_value</th>\n",
       "      <th>search</th>\n",
       "      <th>magazine</th>\n",
       "      <th>newspaper_article</th>\n",
       "      <th>x_education_forum</th>\n",
       "      <th>newspaper</th>\n",
       "      <th>digital_Advertisement</th>\n",
       "      <th>was_recommended</th>\n",
       "      <th>rcv_updates_course</th>\n",
       "      <th>Tags</th>\n",
       "      <th>lead_quality</th>\n",
       "      <th>rcv_updates_supplychain</th>\n",
       "      <th>rcv_updates_dm</th>\n",
       "      <th>lead_profile</th>\n",
       "      <th>City</th>\n",
       "      <th>asymetric_activity_index</th>\n",
       "      <th>asymmetric_profile_index</th>\n",
       "      <th>asymmetric_activity_score</th>\n",
       "      <th>asymmetric_profile_score</th>\n",
       "      <th>agree_paymnt_cheque</th>\n",
       "      <th>free_copy_mastering_the_interview</th>\n",
       "      <th>last_notable_activity</th>\n",
       "    </tr>\n",
       "  </thead>\n",
       "  <tbody>\n",
       "    <tr>\n",
       "      <th>0</th>\n",
       "      <td>660737</td>\n",
       "      <td>API</td>\n",
       "      <td>Olark Chat</td>\n",
       "      <td>1</td>\n",
       "      <td>No</td>\n",
       "      <td>0</td>\n",
       "      <td>0.0</td>\n",
       "      <td>0</td>\n",
       "      <td>0.0</td>\n",
       "      <td>Page Visited on Website</td>\n",
       "      <td>NaN</td>\n",
       "      <td>Select</td>\n",
       "      <td>Select</td>\n",
       "      <td>Unemployed</td>\n",
       "      <td>Better Career Prospects</td>\n",
       "      <td>No</td>\n",
       "      <td>No</td>\n",
       "      <td>No</td>\n",
       "      <td>No</td>\n",
       "      <td>No</td>\n",
       "      <td>No</td>\n",
       "      <td>No</td>\n",
       "      <td>No</td>\n",
       "      <td>Interested in other courses</td>\n",
       "      <td>Low in Relevance</td>\n",
       "      <td>No</td>\n",
       "      <td>No</td>\n",
       "      <td>Select</td>\n",
       "      <td>Select</td>\n",
       "      <td>02.Medium</td>\n",
       "      <td>02.Medium</td>\n",
       "      <td>15.0</td>\n",
       "      <td>15.0</td>\n",
       "      <td>No</td>\n",
       "      <td>No</td>\n",
       "      <td>Modified</td>\n",
       "    </tr>\n",
       "    <tr>\n",
       "      <th>1</th>\n",
       "      <td>660728</td>\n",
       "      <td>API</td>\n",
       "      <td>Organic Search</td>\n",
       "      <td>1</td>\n",
       "      <td>No</td>\n",
       "      <td>0</td>\n",
       "      <td>5.0</td>\n",
       "      <td>674</td>\n",
       "      <td>2.5</td>\n",
       "      <td>Email Opened</td>\n",
       "      <td>India</td>\n",
       "      <td>Select</td>\n",
       "      <td>Select</td>\n",
       "      <td>Unemployed</td>\n",
       "      <td>Better Career Prospects</td>\n",
       "      <td>No</td>\n",
       "      <td>No</td>\n",
       "      <td>No</td>\n",
       "      <td>No</td>\n",
       "      <td>No</td>\n",
       "      <td>No</td>\n",
       "      <td>No</td>\n",
       "      <td>No</td>\n",
       "      <td>Ringing</td>\n",
       "      <td>NaN</td>\n",
       "      <td>No</td>\n",
       "      <td>No</td>\n",
       "      <td>Select</td>\n",
       "      <td>Select</td>\n",
       "      <td>02.Medium</td>\n",
       "      <td>02.Medium</td>\n",
       "      <td>15.0</td>\n",
       "      <td>15.0</td>\n",
       "      <td>No</td>\n",
       "      <td>No</td>\n",
       "      <td>Email Opened</td>\n",
       "    </tr>\n",
       "    <tr>\n",
       "      <th>2</th>\n",
       "      <td>660727</td>\n",
       "      <td>Landing Page Submission</td>\n",
       "      <td>Direct Traffic</td>\n",
       "      <td>1</td>\n",
       "      <td>No</td>\n",
       "      <td>1</td>\n",
       "      <td>2.0</td>\n",
       "      <td>1532</td>\n",
       "      <td>2.0</td>\n",
       "      <td>Email Opened</td>\n",
       "      <td>India</td>\n",
       "      <td>Business Administration</td>\n",
       "      <td>Select</td>\n",
       "      <td>Student</td>\n",
       "      <td>Better Career Prospects</td>\n",
       "      <td>No</td>\n",
       "      <td>No</td>\n",
       "      <td>No</td>\n",
       "      <td>No</td>\n",
       "      <td>No</td>\n",
       "      <td>No</td>\n",
       "      <td>No</td>\n",
       "      <td>No</td>\n",
       "      <td>Will revert after reading the email</td>\n",
       "      <td>Might be</td>\n",
       "      <td>No</td>\n",
       "      <td>No</td>\n",
       "      <td>Potential Lead</td>\n",
       "      <td>Mumbai</td>\n",
       "      <td>02.Medium</td>\n",
       "      <td>01.High</td>\n",
       "      <td>14.0</td>\n",
       "      <td>20.0</td>\n",
       "      <td>No</td>\n",
       "      <td>Yes</td>\n",
       "      <td>Email Opened</td>\n",
       "    </tr>\n",
       "    <tr>\n",
       "      <th>3</th>\n",
       "      <td>660719</td>\n",
       "      <td>Landing Page Submission</td>\n",
       "      <td>Direct Traffic</td>\n",
       "      <td>1</td>\n",
       "      <td>No</td>\n",
       "      <td>0</td>\n",
       "      <td>1.0</td>\n",
       "      <td>305</td>\n",
       "      <td>1.0</td>\n",
       "      <td>Unreachable</td>\n",
       "      <td>India</td>\n",
       "      <td>Media and Advertising</td>\n",
       "      <td>Word Of Mouth</td>\n",
       "      <td>Unemployed</td>\n",
       "      <td>Better Career Prospects</td>\n",
       "      <td>No</td>\n",
       "      <td>No</td>\n",
       "      <td>No</td>\n",
       "      <td>No</td>\n",
       "      <td>No</td>\n",
       "      <td>No</td>\n",
       "      <td>No</td>\n",
       "      <td>No</td>\n",
       "      <td>Ringing</td>\n",
       "      <td>Not Sure</td>\n",
       "      <td>No</td>\n",
       "      <td>No</td>\n",
       "      <td>Select</td>\n",
       "      <td>Mumbai</td>\n",
       "      <td>02.Medium</td>\n",
       "      <td>01.High</td>\n",
       "      <td>13.0</td>\n",
       "      <td>17.0</td>\n",
       "      <td>No</td>\n",
       "      <td>No</td>\n",
       "      <td>Modified</td>\n",
       "    </tr>\n",
       "    <tr>\n",
       "      <th>4</th>\n",
       "      <td>660681</td>\n",
       "      <td>Landing Page Submission</td>\n",
       "      <td>Google</td>\n",
       "      <td>1</td>\n",
       "      <td>No</td>\n",
       "      <td>1</td>\n",
       "      <td>2.0</td>\n",
       "      <td>1428</td>\n",
       "      <td>1.0</td>\n",
       "      <td>Converted to Lead</td>\n",
       "      <td>India</td>\n",
       "      <td>Select</td>\n",
       "      <td>Other</td>\n",
       "      <td>Unemployed</td>\n",
       "      <td>Better Career Prospects</td>\n",
       "      <td>No</td>\n",
       "      <td>No</td>\n",
       "      <td>No</td>\n",
       "      <td>No</td>\n",
       "      <td>No</td>\n",
       "      <td>No</td>\n",
       "      <td>No</td>\n",
       "      <td>No</td>\n",
       "      <td>Will revert after reading the email</td>\n",
       "      <td>Might be</td>\n",
       "      <td>No</td>\n",
       "      <td>No</td>\n",
       "      <td>Select</td>\n",
       "      <td>Mumbai</td>\n",
       "      <td>02.Medium</td>\n",
       "      <td>01.High</td>\n",
       "      <td>15.0</td>\n",
       "      <td>18.0</td>\n",
       "      <td>No</td>\n",
       "      <td>No</td>\n",
       "      <td>Modified</td>\n",
       "    </tr>\n",
       "  </tbody>\n",
       "</table>\n",
       "</div>"
      ],
      "text/plain": [
       "   Lead Number                   origin     lead_source  send_email  \\\n",
       "0       660737                      API      Olark Chat           1   \n",
       "1       660728                      API  Organic Search           1   \n",
       "2       660727  Landing Page Submission  Direct Traffic           1   \n",
       "3       660719  Landing Page Submission  Direct Traffic           1   \n",
       "4       660681  Landing Page Submission          Google           1   \n",
       "\n",
       "  Do Not Call  Converted  TotalVisits  time_spent  num_page_per_visit  \\\n",
       "0          No          0          0.0           0                 0.0   \n",
       "1          No          0          5.0         674                 2.5   \n",
       "2          No          1          2.0        1532                 2.0   \n",
       "3          No          0          1.0         305                 1.0   \n",
       "4          No          1          2.0        1428                 1.0   \n",
       "\n",
       "             last_activity country           specialization hear_about_source  \\\n",
       "0  Page Visited on Website     NaN                   Select            Select   \n",
       "1             Email Opened   India                   Select            Select   \n",
       "2             Email Opened   India  Business Administration            Select   \n",
       "3              Unreachable   India    Media and Advertising     Word Of Mouth   \n",
       "4        Converted to Lead   India                   Select             Other   \n",
       "\n",
       "  cur_occupation             course_value search magazine newspaper_article  \\\n",
       "0     Unemployed  Better Career Prospects     No       No                No   \n",
       "1     Unemployed  Better Career Prospects     No       No                No   \n",
       "2        Student  Better Career Prospects     No       No                No   \n",
       "3     Unemployed  Better Career Prospects     No       No                No   \n",
       "4     Unemployed  Better Career Prospects     No       No                No   \n",
       "\n",
       "  x_education_forum newspaper digital_Advertisement was_recommended  \\\n",
       "0                No        No                    No              No   \n",
       "1                No        No                    No              No   \n",
       "2                No        No                    No              No   \n",
       "3                No        No                    No              No   \n",
       "4                No        No                    No              No   \n",
       "\n",
       "  rcv_updates_course                                 Tags      lead_quality  \\\n",
       "0                 No          Interested in other courses  Low in Relevance   \n",
       "1                 No                              Ringing               NaN   \n",
       "2                 No  Will revert after reading the email          Might be   \n",
       "3                 No                              Ringing          Not Sure   \n",
       "4                 No  Will revert after reading the email          Might be   \n",
       "\n",
       "  rcv_updates_supplychain rcv_updates_dm    lead_profile    City  \\\n",
       "0                      No             No          Select  Select   \n",
       "1                      No             No          Select  Select   \n",
       "2                      No             No  Potential Lead  Mumbai   \n",
       "3                      No             No          Select  Mumbai   \n",
       "4                      No             No          Select  Mumbai   \n",
       "\n",
       "  asymetric_activity_index asymmetric_profile_index  \\\n",
       "0                02.Medium                02.Medium   \n",
       "1                02.Medium                02.Medium   \n",
       "2                02.Medium                  01.High   \n",
       "3                02.Medium                  01.High   \n",
       "4                02.Medium                  01.High   \n",
       "\n",
       "   asymmetric_activity_score  asymmetric_profile_score agree_paymnt_cheque  \\\n",
       "0                       15.0                      15.0                  No   \n",
       "1                       15.0                      15.0                  No   \n",
       "2                       14.0                      20.0                  No   \n",
       "3                       13.0                      17.0                  No   \n",
       "4                       15.0                      18.0                  No   \n",
       "\n",
       "  free_copy_mastering_the_interview last_notable_activity  \n",
       "0                                No              Modified  \n",
       "1                                No          Email Opened  \n",
       "2                               Yes          Email Opened  \n",
       "3                                No              Modified  \n",
       "4                                No              Modified  "
      ]
     },
     "execution_count": 535,
     "metadata": {},
     "output_type": "execute_result"
    }
   ],
   "source": [
    "df.head()"
   ]
  },
  {
   "cell_type": "markdown",
   "id": "24542de8",
   "metadata": {},
   "source": [
    "Let us do same for Do Not Call"
   ]
  },
  {
   "cell_type": "code",
   "execution_count": 536,
   "id": "4051a944",
   "metadata": {},
   "outputs": [],
   "source": [
    "df[\"Do Not Call\"]  = df[\"Do Not Call\"].apply(lambda x: yesno_to_01(x.lower(), inverted = True))"
   ]
  },
  {
   "cell_type": "code",
   "execution_count": 537,
   "id": "7e663026",
   "metadata": {},
   "outputs": [
    {
     "data": {
      "text/plain": [
       "Do Not Call\n",
       "1    9238\n",
       "0       2\n",
       "Name: count, dtype: int64"
      ]
     },
     "execution_count": 537,
     "metadata": {},
     "output_type": "execute_result"
    }
   ],
   "source": [
    "df[\"Do Not Call\"].value_counts()"
   ]
  },
  {
   "cell_type": "code",
   "execution_count": 538,
   "id": "334b0030",
   "metadata": {},
   "outputs": [
    {
     "data": {
      "text/html": [
       "<div>\n",
       "<style scoped>\n",
       "    .dataframe tbody tr th:only-of-type {\n",
       "        vertical-align: middle;\n",
       "    }\n",
       "\n",
       "    .dataframe tbody tr th {\n",
       "        vertical-align: top;\n",
       "    }\n",
       "\n",
       "    .dataframe thead th {\n",
       "        text-align: right;\n",
       "    }\n",
       "</style>\n",
       "<table border=\"1\" class=\"dataframe\">\n",
       "  <thead>\n",
       "    <tr style=\"text-align: right;\">\n",
       "      <th></th>\n",
       "      <th>Lead Number</th>\n",
       "      <th>origin</th>\n",
       "      <th>lead_source</th>\n",
       "      <th>send_email</th>\n",
       "      <th>Do Not Call</th>\n",
       "      <th>Converted</th>\n",
       "      <th>TotalVisits</th>\n",
       "      <th>time_spent</th>\n",
       "      <th>num_page_per_visit</th>\n",
       "      <th>last_activity</th>\n",
       "      <th>country</th>\n",
       "      <th>specialization</th>\n",
       "      <th>hear_about_source</th>\n",
       "      <th>cur_occupation</th>\n",
       "      <th>course_value</th>\n",
       "      <th>search</th>\n",
       "      <th>magazine</th>\n",
       "      <th>newspaper_article</th>\n",
       "      <th>x_education_forum</th>\n",
       "      <th>newspaper</th>\n",
       "      <th>digital_Advertisement</th>\n",
       "      <th>was_recommended</th>\n",
       "      <th>rcv_updates_course</th>\n",
       "      <th>Tags</th>\n",
       "      <th>lead_quality</th>\n",
       "      <th>rcv_updates_supplychain</th>\n",
       "      <th>rcv_updates_dm</th>\n",
       "      <th>lead_profile</th>\n",
       "      <th>City</th>\n",
       "      <th>asymetric_activity_index</th>\n",
       "      <th>asymmetric_profile_index</th>\n",
       "      <th>asymmetric_activity_score</th>\n",
       "      <th>asymmetric_profile_score</th>\n",
       "      <th>agree_paymnt_cheque</th>\n",
       "      <th>free_copy_mastering_the_interview</th>\n",
       "      <th>last_notable_activity</th>\n",
       "    </tr>\n",
       "  </thead>\n",
       "  <tbody>\n",
       "    <tr>\n",
       "      <th>0</th>\n",
       "      <td>660737</td>\n",
       "      <td>API</td>\n",
       "      <td>Olark Chat</td>\n",
       "      <td>1</td>\n",
       "      <td>1</td>\n",
       "      <td>0</td>\n",
       "      <td>0.0</td>\n",
       "      <td>0</td>\n",
       "      <td>0.0</td>\n",
       "      <td>Page Visited on Website</td>\n",
       "      <td>NaN</td>\n",
       "      <td>Select</td>\n",
       "      <td>Select</td>\n",
       "      <td>Unemployed</td>\n",
       "      <td>Better Career Prospects</td>\n",
       "      <td>No</td>\n",
       "      <td>No</td>\n",
       "      <td>No</td>\n",
       "      <td>No</td>\n",
       "      <td>No</td>\n",
       "      <td>No</td>\n",
       "      <td>No</td>\n",
       "      <td>No</td>\n",
       "      <td>Interested in other courses</td>\n",
       "      <td>Low in Relevance</td>\n",
       "      <td>No</td>\n",
       "      <td>No</td>\n",
       "      <td>Select</td>\n",
       "      <td>Select</td>\n",
       "      <td>02.Medium</td>\n",
       "      <td>02.Medium</td>\n",
       "      <td>15.0</td>\n",
       "      <td>15.0</td>\n",
       "      <td>No</td>\n",
       "      <td>No</td>\n",
       "      <td>Modified</td>\n",
       "    </tr>\n",
       "    <tr>\n",
       "      <th>1</th>\n",
       "      <td>660728</td>\n",
       "      <td>API</td>\n",
       "      <td>Organic Search</td>\n",
       "      <td>1</td>\n",
       "      <td>1</td>\n",
       "      <td>0</td>\n",
       "      <td>5.0</td>\n",
       "      <td>674</td>\n",
       "      <td>2.5</td>\n",
       "      <td>Email Opened</td>\n",
       "      <td>India</td>\n",
       "      <td>Select</td>\n",
       "      <td>Select</td>\n",
       "      <td>Unemployed</td>\n",
       "      <td>Better Career Prospects</td>\n",
       "      <td>No</td>\n",
       "      <td>No</td>\n",
       "      <td>No</td>\n",
       "      <td>No</td>\n",
       "      <td>No</td>\n",
       "      <td>No</td>\n",
       "      <td>No</td>\n",
       "      <td>No</td>\n",
       "      <td>Ringing</td>\n",
       "      <td>NaN</td>\n",
       "      <td>No</td>\n",
       "      <td>No</td>\n",
       "      <td>Select</td>\n",
       "      <td>Select</td>\n",
       "      <td>02.Medium</td>\n",
       "      <td>02.Medium</td>\n",
       "      <td>15.0</td>\n",
       "      <td>15.0</td>\n",
       "      <td>No</td>\n",
       "      <td>No</td>\n",
       "      <td>Email Opened</td>\n",
       "    </tr>\n",
       "    <tr>\n",
       "      <th>2</th>\n",
       "      <td>660727</td>\n",
       "      <td>Landing Page Submission</td>\n",
       "      <td>Direct Traffic</td>\n",
       "      <td>1</td>\n",
       "      <td>1</td>\n",
       "      <td>1</td>\n",
       "      <td>2.0</td>\n",
       "      <td>1532</td>\n",
       "      <td>2.0</td>\n",
       "      <td>Email Opened</td>\n",
       "      <td>India</td>\n",
       "      <td>Business Administration</td>\n",
       "      <td>Select</td>\n",
       "      <td>Student</td>\n",
       "      <td>Better Career Prospects</td>\n",
       "      <td>No</td>\n",
       "      <td>No</td>\n",
       "      <td>No</td>\n",
       "      <td>No</td>\n",
       "      <td>No</td>\n",
       "      <td>No</td>\n",
       "      <td>No</td>\n",
       "      <td>No</td>\n",
       "      <td>Will revert after reading the email</td>\n",
       "      <td>Might be</td>\n",
       "      <td>No</td>\n",
       "      <td>No</td>\n",
       "      <td>Potential Lead</td>\n",
       "      <td>Mumbai</td>\n",
       "      <td>02.Medium</td>\n",
       "      <td>01.High</td>\n",
       "      <td>14.0</td>\n",
       "      <td>20.0</td>\n",
       "      <td>No</td>\n",
       "      <td>Yes</td>\n",
       "      <td>Email Opened</td>\n",
       "    </tr>\n",
       "    <tr>\n",
       "      <th>3</th>\n",
       "      <td>660719</td>\n",
       "      <td>Landing Page Submission</td>\n",
       "      <td>Direct Traffic</td>\n",
       "      <td>1</td>\n",
       "      <td>1</td>\n",
       "      <td>0</td>\n",
       "      <td>1.0</td>\n",
       "      <td>305</td>\n",
       "      <td>1.0</td>\n",
       "      <td>Unreachable</td>\n",
       "      <td>India</td>\n",
       "      <td>Media and Advertising</td>\n",
       "      <td>Word Of Mouth</td>\n",
       "      <td>Unemployed</td>\n",
       "      <td>Better Career Prospects</td>\n",
       "      <td>No</td>\n",
       "      <td>No</td>\n",
       "      <td>No</td>\n",
       "      <td>No</td>\n",
       "      <td>No</td>\n",
       "      <td>No</td>\n",
       "      <td>No</td>\n",
       "      <td>No</td>\n",
       "      <td>Ringing</td>\n",
       "      <td>Not Sure</td>\n",
       "      <td>No</td>\n",
       "      <td>No</td>\n",
       "      <td>Select</td>\n",
       "      <td>Mumbai</td>\n",
       "      <td>02.Medium</td>\n",
       "      <td>01.High</td>\n",
       "      <td>13.0</td>\n",
       "      <td>17.0</td>\n",
       "      <td>No</td>\n",
       "      <td>No</td>\n",
       "      <td>Modified</td>\n",
       "    </tr>\n",
       "    <tr>\n",
       "      <th>4</th>\n",
       "      <td>660681</td>\n",
       "      <td>Landing Page Submission</td>\n",
       "      <td>Google</td>\n",
       "      <td>1</td>\n",
       "      <td>1</td>\n",
       "      <td>1</td>\n",
       "      <td>2.0</td>\n",
       "      <td>1428</td>\n",
       "      <td>1.0</td>\n",
       "      <td>Converted to Lead</td>\n",
       "      <td>India</td>\n",
       "      <td>Select</td>\n",
       "      <td>Other</td>\n",
       "      <td>Unemployed</td>\n",
       "      <td>Better Career Prospects</td>\n",
       "      <td>No</td>\n",
       "      <td>No</td>\n",
       "      <td>No</td>\n",
       "      <td>No</td>\n",
       "      <td>No</td>\n",
       "      <td>No</td>\n",
       "      <td>No</td>\n",
       "      <td>No</td>\n",
       "      <td>Will revert after reading the email</td>\n",
       "      <td>Might be</td>\n",
       "      <td>No</td>\n",
       "      <td>No</td>\n",
       "      <td>Select</td>\n",
       "      <td>Mumbai</td>\n",
       "      <td>02.Medium</td>\n",
       "      <td>01.High</td>\n",
       "      <td>15.0</td>\n",
       "      <td>18.0</td>\n",
       "      <td>No</td>\n",
       "      <td>No</td>\n",
       "      <td>Modified</td>\n",
       "    </tr>\n",
       "  </tbody>\n",
       "</table>\n",
       "</div>"
      ],
      "text/plain": [
       "   Lead Number                   origin     lead_source  send_email  \\\n",
       "0       660737                      API      Olark Chat           1   \n",
       "1       660728                      API  Organic Search           1   \n",
       "2       660727  Landing Page Submission  Direct Traffic           1   \n",
       "3       660719  Landing Page Submission  Direct Traffic           1   \n",
       "4       660681  Landing Page Submission          Google           1   \n",
       "\n",
       "   Do Not Call  Converted  TotalVisits  time_spent  num_page_per_visit  \\\n",
       "0            1          0          0.0           0                 0.0   \n",
       "1            1          0          5.0         674                 2.5   \n",
       "2            1          1          2.0        1532                 2.0   \n",
       "3            1          0          1.0         305                 1.0   \n",
       "4            1          1          2.0        1428                 1.0   \n",
       "\n",
       "             last_activity country           specialization hear_about_source  \\\n",
       "0  Page Visited on Website     NaN                   Select            Select   \n",
       "1             Email Opened   India                   Select            Select   \n",
       "2             Email Opened   India  Business Administration            Select   \n",
       "3              Unreachable   India    Media and Advertising     Word Of Mouth   \n",
       "4        Converted to Lead   India                   Select             Other   \n",
       "\n",
       "  cur_occupation             course_value search magazine newspaper_article  \\\n",
       "0     Unemployed  Better Career Prospects     No       No                No   \n",
       "1     Unemployed  Better Career Prospects     No       No                No   \n",
       "2        Student  Better Career Prospects     No       No                No   \n",
       "3     Unemployed  Better Career Prospects     No       No                No   \n",
       "4     Unemployed  Better Career Prospects     No       No                No   \n",
       "\n",
       "  x_education_forum newspaper digital_Advertisement was_recommended  \\\n",
       "0                No        No                    No              No   \n",
       "1                No        No                    No              No   \n",
       "2                No        No                    No              No   \n",
       "3                No        No                    No              No   \n",
       "4                No        No                    No              No   \n",
       "\n",
       "  rcv_updates_course                                 Tags      lead_quality  \\\n",
       "0                 No          Interested in other courses  Low in Relevance   \n",
       "1                 No                              Ringing               NaN   \n",
       "2                 No  Will revert after reading the email          Might be   \n",
       "3                 No                              Ringing          Not Sure   \n",
       "4                 No  Will revert after reading the email          Might be   \n",
       "\n",
       "  rcv_updates_supplychain rcv_updates_dm    lead_profile    City  \\\n",
       "0                      No             No          Select  Select   \n",
       "1                      No             No          Select  Select   \n",
       "2                      No             No  Potential Lead  Mumbai   \n",
       "3                      No             No          Select  Mumbai   \n",
       "4                      No             No          Select  Mumbai   \n",
       "\n",
       "  asymetric_activity_index asymmetric_profile_index  \\\n",
       "0                02.Medium                02.Medium   \n",
       "1                02.Medium                02.Medium   \n",
       "2                02.Medium                  01.High   \n",
       "3                02.Medium                  01.High   \n",
       "4                02.Medium                  01.High   \n",
       "\n",
       "   asymmetric_activity_score  asymmetric_profile_score agree_paymnt_cheque  \\\n",
       "0                       15.0                      15.0                  No   \n",
       "1                       15.0                      15.0                  No   \n",
       "2                       14.0                      20.0                  No   \n",
       "3                       13.0                      17.0                  No   \n",
       "4                       15.0                      18.0                  No   \n",
       "\n",
       "  free_copy_mastering_the_interview last_notable_activity  \n",
       "0                                No              Modified  \n",
       "1                                No          Email Opened  \n",
       "2                               Yes          Email Opened  \n",
       "3                                No              Modified  \n",
       "4                                No              Modified  "
      ]
     },
     "execution_count": 538,
     "metadata": {},
     "output_type": "execute_result"
    }
   ],
   "source": [
    "df.head()"
   ]
  },
  {
   "cell_type": "code",
   "execution_count": 539,
   "id": "07f7292c",
   "metadata": {},
   "outputs": [],
   "source": [
    "df.rename(columns = {\"Do Not Call\": \"call\"}, inplace = True)"
   ]
  },
  {
   "cell_type": "code",
   "execution_count": 540,
   "id": "3e4f60ee",
   "metadata": {},
   "outputs": [
    {
     "data": {
      "text/html": [
       "<div>\n",
       "<style scoped>\n",
       "    .dataframe tbody tr th:only-of-type {\n",
       "        vertical-align: middle;\n",
       "    }\n",
       "\n",
       "    .dataframe tbody tr th {\n",
       "        vertical-align: top;\n",
       "    }\n",
       "\n",
       "    .dataframe thead th {\n",
       "        text-align: right;\n",
       "    }\n",
       "</style>\n",
       "<table border=\"1\" class=\"dataframe\">\n",
       "  <thead>\n",
       "    <tr style=\"text-align: right;\">\n",
       "      <th></th>\n",
       "      <th>Lead Number</th>\n",
       "      <th>origin</th>\n",
       "      <th>lead_source</th>\n",
       "      <th>send_email</th>\n",
       "      <th>call</th>\n",
       "      <th>Converted</th>\n",
       "      <th>TotalVisits</th>\n",
       "      <th>time_spent</th>\n",
       "      <th>num_page_per_visit</th>\n",
       "      <th>last_activity</th>\n",
       "      <th>country</th>\n",
       "      <th>specialization</th>\n",
       "      <th>hear_about_source</th>\n",
       "      <th>cur_occupation</th>\n",
       "      <th>course_value</th>\n",
       "      <th>search</th>\n",
       "      <th>magazine</th>\n",
       "      <th>newspaper_article</th>\n",
       "      <th>x_education_forum</th>\n",
       "      <th>newspaper</th>\n",
       "      <th>digital_Advertisement</th>\n",
       "      <th>was_recommended</th>\n",
       "      <th>rcv_updates_course</th>\n",
       "      <th>Tags</th>\n",
       "      <th>lead_quality</th>\n",
       "      <th>rcv_updates_supplychain</th>\n",
       "      <th>rcv_updates_dm</th>\n",
       "      <th>lead_profile</th>\n",
       "      <th>City</th>\n",
       "      <th>asymetric_activity_index</th>\n",
       "      <th>asymmetric_profile_index</th>\n",
       "      <th>asymmetric_activity_score</th>\n",
       "      <th>asymmetric_profile_score</th>\n",
       "      <th>agree_paymnt_cheque</th>\n",
       "      <th>free_copy_mastering_the_interview</th>\n",
       "      <th>last_notable_activity</th>\n",
       "    </tr>\n",
       "  </thead>\n",
       "  <tbody>\n",
       "    <tr>\n",
       "      <th>0</th>\n",
       "      <td>660737</td>\n",
       "      <td>API</td>\n",
       "      <td>Olark Chat</td>\n",
       "      <td>1</td>\n",
       "      <td>1</td>\n",
       "      <td>0</td>\n",
       "      <td>0.0</td>\n",
       "      <td>0</td>\n",
       "      <td>0.0</td>\n",
       "      <td>Page Visited on Website</td>\n",
       "      <td>NaN</td>\n",
       "      <td>Select</td>\n",
       "      <td>Select</td>\n",
       "      <td>Unemployed</td>\n",
       "      <td>Better Career Prospects</td>\n",
       "      <td>No</td>\n",
       "      <td>No</td>\n",
       "      <td>No</td>\n",
       "      <td>No</td>\n",
       "      <td>No</td>\n",
       "      <td>No</td>\n",
       "      <td>No</td>\n",
       "      <td>No</td>\n",
       "      <td>Interested in other courses</td>\n",
       "      <td>Low in Relevance</td>\n",
       "      <td>No</td>\n",
       "      <td>No</td>\n",
       "      <td>Select</td>\n",
       "      <td>Select</td>\n",
       "      <td>02.Medium</td>\n",
       "      <td>02.Medium</td>\n",
       "      <td>15.0</td>\n",
       "      <td>15.0</td>\n",
       "      <td>No</td>\n",
       "      <td>No</td>\n",
       "      <td>Modified</td>\n",
       "    </tr>\n",
       "    <tr>\n",
       "      <th>1</th>\n",
       "      <td>660728</td>\n",
       "      <td>API</td>\n",
       "      <td>Organic Search</td>\n",
       "      <td>1</td>\n",
       "      <td>1</td>\n",
       "      <td>0</td>\n",
       "      <td>5.0</td>\n",
       "      <td>674</td>\n",
       "      <td>2.5</td>\n",
       "      <td>Email Opened</td>\n",
       "      <td>India</td>\n",
       "      <td>Select</td>\n",
       "      <td>Select</td>\n",
       "      <td>Unemployed</td>\n",
       "      <td>Better Career Prospects</td>\n",
       "      <td>No</td>\n",
       "      <td>No</td>\n",
       "      <td>No</td>\n",
       "      <td>No</td>\n",
       "      <td>No</td>\n",
       "      <td>No</td>\n",
       "      <td>No</td>\n",
       "      <td>No</td>\n",
       "      <td>Ringing</td>\n",
       "      <td>NaN</td>\n",
       "      <td>No</td>\n",
       "      <td>No</td>\n",
       "      <td>Select</td>\n",
       "      <td>Select</td>\n",
       "      <td>02.Medium</td>\n",
       "      <td>02.Medium</td>\n",
       "      <td>15.0</td>\n",
       "      <td>15.0</td>\n",
       "      <td>No</td>\n",
       "      <td>No</td>\n",
       "      <td>Email Opened</td>\n",
       "    </tr>\n",
       "    <tr>\n",
       "      <th>2</th>\n",
       "      <td>660727</td>\n",
       "      <td>Landing Page Submission</td>\n",
       "      <td>Direct Traffic</td>\n",
       "      <td>1</td>\n",
       "      <td>1</td>\n",
       "      <td>1</td>\n",
       "      <td>2.0</td>\n",
       "      <td>1532</td>\n",
       "      <td>2.0</td>\n",
       "      <td>Email Opened</td>\n",
       "      <td>India</td>\n",
       "      <td>Business Administration</td>\n",
       "      <td>Select</td>\n",
       "      <td>Student</td>\n",
       "      <td>Better Career Prospects</td>\n",
       "      <td>No</td>\n",
       "      <td>No</td>\n",
       "      <td>No</td>\n",
       "      <td>No</td>\n",
       "      <td>No</td>\n",
       "      <td>No</td>\n",
       "      <td>No</td>\n",
       "      <td>No</td>\n",
       "      <td>Will revert after reading the email</td>\n",
       "      <td>Might be</td>\n",
       "      <td>No</td>\n",
       "      <td>No</td>\n",
       "      <td>Potential Lead</td>\n",
       "      <td>Mumbai</td>\n",
       "      <td>02.Medium</td>\n",
       "      <td>01.High</td>\n",
       "      <td>14.0</td>\n",
       "      <td>20.0</td>\n",
       "      <td>No</td>\n",
       "      <td>Yes</td>\n",
       "      <td>Email Opened</td>\n",
       "    </tr>\n",
       "    <tr>\n",
       "      <th>3</th>\n",
       "      <td>660719</td>\n",
       "      <td>Landing Page Submission</td>\n",
       "      <td>Direct Traffic</td>\n",
       "      <td>1</td>\n",
       "      <td>1</td>\n",
       "      <td>0</td>\n",
       "      <td>1.0</td>\n",
       "      <td>305</td>\n",
       "      <td>1.0</td>\n",
       "      <td>Unreachable</td>\n",
       "      <td>India</td>\n",
       "      <td>Media and Advertising</td>\n",
       "      <td>Word Of Mouth</td>\n",
       "      <td>Unemployed</td>\n",
       "      <td>Better Career Prospects</td>\n",
       "      <td>No</td>\n",
       "      <td>No</td>\n",
       "      <td>No</td>\n",
       "      <td>No</td>\n",
       "      <td>No</td>\n",
       "      <td>No</td>\n",
       "      <td>No</td>\n",
       "      <td>No</td>\n",
       "      <td>Ringing</td>\n",
       "      <td>Not Sure</td>\n",
       "      <td>No</td>\n",
       "      <td>No</td>\n",
       "      <td>Select</td>\n",
       "      <td>Mumbai</td>\n",
       "      <td>02.Medium</td>\n",
       "      <td>01.High</td>\n",
       "      <td>13.0</td>\n",
       "      <td>17.0</td>\n",
       "      <td>No</td>\n",
       "      <td>No</td>\n",
       "      <td>Modified</td>\n",
       "    </tr>\n",
       "    <tr>\n",
       "      <th>4</th>\n",
       "      <td>660681</td>\n",
       "      <td>Landing Page Submission</td>\n",
       "      <td>Google</td>\n",
       "      <td>1</td>\n",
       "      <td>1</td>\n",
       "      <td>1</td>\n",
       "      <td>2.0</td>\n",
       "      <td>1428</td>\n",
       "      <td>1.0</td>\n",
       "      <td>Converted to Lead</td>\n",
       "      <td>India</td>\n",
       "      <td>Select</td>\n",
       "      <td>Other</td>\n",
       "      <td>Unemployed</td>\n",
       "      <td>Better Career Prospects</td>\n",
       "      <td>No</td>\n",
       "      <td>No</td>\n",
       "      <td>No</td>\n",
       "      <td>No</td>\n",
       "      <td>No</td>\n",
       "      <td>No</td>\n",
       "      <td>No</td>\n",
       "      <td>No</td>\n",
       "      <td>Will revert after reading the email</td>\n",
       "      <td>Might be</td>\n",
       "      <td>No</td>\n",
       "      <td>No</td>\n",
       "      <td>Select</td>\n",
       "      <td>Mumbai</td>\n",
       "      <td>02.Medium</td>\n",
       "      <td>01.High</td>\n",
       "      <td>15.0</td>\n",
       "      <td>18.0</td>\n",
       "      <td>No</td>\n",
       "      <td>No</td>\n",
       "      <td>Modified</td>\n",
       "    </tr>\n",
       "  </tbody>\n",
       "</table>\n",
       "</div>"
      ],
      "text/plain": [
       "   Lead Number                   origin     lead_source  send_email  call  \\\n",
       "0       660737                      API      Olark Chat           1     1   \n",
       "1       660728                      API  Organic Search           1     1   \n",
       "2       660727  Landing Page Submission  Direct Traffic           1     1   \n",
       "3       660719  Landing Page Submission  Direct Traffic           1     1   \n",
       "4       660681  Landing Page Submission          Google           1     1   \n",
       "\n",
       "   Converted  TotalVisits  time_spent  num_page_per_visit  \\\n",
       "0          0          0.0           0                 0.0   \n",
       "1          0          5.0         674                 2.5   \n",
       "2          1          2.0        1532                 2.0   \n",
       "3          0          1.0         305                 1.0   \n",
       "4          1          2.0        1428                 1.0   \n",
       "\n",
       "             last_activity country           specialization hear_about_source  \\\n",
       "0  Page Visited on Website     NaN                   Select            Select   \n",
       "1             Email Opened   India                   Select            Select   \n",
       "2             Email Opened   India  Business Administration            Select   \n",
       "3              Unreachable   India    Media and Advertising     Word Of Mouth   \n",
       "4        Converted to Lead   India                   Select             Other   \n",
       "\n",
       "  cur_occupation             course_value search magazine newspaper_article  \\\n",
       "0     Unemployed  Better Career Prospects     No       No                No   \n",
       "1     Unemployed  Better Career Prospects     No       No                No   \n",
       "2        Student  Better Career Prospects     No       No                No   \n",
       "3     Unemployed  Better Career Prospects     No       No                No   \n",
       "4     Unemployed  Better Career Prospects     No       No                No   \n",
       "\n",
       "  x_education_forum newspaper digital_Advertisement was_recommended  \\\n",
       "0                No        No                    No              No   \n",
       "1                No        No                    No              No   \n",
       "2                No        No                    No              No   \n",
       "3                No        No                    No              No   \n",
       "4                No        No                    No              No   \n",
       "\n",
       "  rcv_updates_course                                 Tags      lead_quality  \\\n",
       "0                 No          Interested in other courses  Low in Relevance   \n",
       "1                 No                              Ringing               NaN   \n",
       "2                 No  Will revert after reading the email          Might be   \n",
       "3                 No                              Ringing          Not Sure   \n",
       "4                 No  Will revert after reading the email          Might be   \n",
       "\n",
       "  rcv_updates_supplychain rcv_updates_dm    lead_profile    City  \\\n",
       "0                      No             No          Select  Select   \n",
       "1                      No             No          Select  Select   \n",
       "2                      No             No  Potential Lead  Mumbai   \n",
       "3                      No             No          Select  Mumbai   \n",
       "4                      No             No          Select  Mumbai   \n",
       "\n",
       "  asymetric_activity_index asymmetric_profile_index  \\\n",
       "0                02.Medium                02.Medium   \n",
       "1                02.Medium                02.Medium   \n",
       "2                02.Medium                  01.High   \n",
       "3                02.Medium                  01.High   \n",
       "4                02.Medium                  01.High   \n",
       "\n",
       "   asymmetric_activity_score  asymmetric_profile_score agree_paymnt_cheque  \\\n",
       "0                       15.0                      15.0                  No   \n",
       "1                       15.0                      15.0                  No   \n",
       "2                       14.0                      20.0                  No   \n",
       "3                       13.0                      17.0                  No   \n",
       "4                       15.0                      18.0                  No   \n",
       "\n",
       "  free_copy_mastering_the_interview last_notable_activity  \n",
       "0                                No              Modified  \n",
       "1                                No          Email Opened  \n",
       "2                               Yes          Email Opened  \n",
       "3                                No              Modified  \n",
       "4                                No              Modified  "
      ]
     },
     "execution_count": 540,
     "metadata": {},
     "output_type": "execute_result"
    }
   ],
   "source": [
    "df.head()"
   ]
  },
  {
   "cell_type": "code",
   "execution_count": 541,
   "id": "b11db8e4",
   "metadata": {},
   "outputs": [
    {
     "data": {
      "text/plain": [
       "last_activity\n",
       "Email Opened                    3437\n",
       "SMS Sent                        2745\n",
       "Olark Chat Conversation          973\n",
       "Page Visited on Website          640\n",
       "Converted to Lead                428\n",
       "Email Bounced                    326\n",
       "Email Link Clicked               267\n",
       "Form Submitted on Website        116\n",
       "Unreachable                       93\n",
       "Unsubscribed                      61\n",
       "Had a Phone Conversation          30\n",
       "Approached upfront                 9\n",
       "View in browser link Clicked       6\n",
       "Email Received                     2\n",
       "Email Marked Spam                  2\n",
       "Visited Booth in Tradeshow         1\n",
       "Resubscribed to emails             1\n",
       "Name: count, dtype: int64"
      ]
     },
     "execution_count": 541,
     "metadata": {},
     "output_type": "execute_result"
    }
   ],
   "source": [
    "df.last_activity.value_counts()"
   ]
  },
  {
   "cell_type": "code",
   "execution_count": 542,
   "id": "a7701a28",
   "metadata": {},
   "outputs": [
    {
     "data": {
      "text/plain": [
       "2461"
      ]
     },
     "execution_count": 542,
     "metadata": {},
     "output_type": "execute_result"
    }
   ],
   "source": [
    "df.country.isna().sum()"
   ]
  },
  {
   "cell_type": "code",
   "execution_count": 543,
   "id": "3ad201b1",
   "metadata": {},
   "outputs": [
    {
     "data": {
      "text/plain": [
       "26.634199134199132"
      ]
     },
     "execution_count": 543,
     "metadata": {},
     "output_type": "execute_result"
    }
   ],
   "source": [
    "null_percentage = df.country.isna().sum() / len(df.country) * 100\n",
    "null_percentage"
   ]
  },
  {
   "cell_type": "markdown",
   "id": "77905263",
   "metadata": {},
   "source": [
    "27% Null values almost. Not a good idea to drop the column at this stage"
   ]
  },
  {
   "cell_type": "code",
   "execution_count": 544,
   "id": "1535436e",
   "metadata": {},
   "outputs": [
    {
     "data": {
      "text/plain": [
       "country\n",
       "India                   6492\n",
       "United States             69\n",
       "United Arab Emirates      53\n",
       "Singapore                 24\n",
       "Saudi Arabia              21\n",
       "United Kingdom            15\n",
       "Australia                 13\n",
       "Qatar                     10\n",
       "Hong Kong                  7\n",
       "Bahrain                    7\n",
       "Oman                       6\n",
       "France                     6\n",
       "unknown                    5\n",
       "South Africa               4\n",
       "Nigeria                    4\n",
       "Germany                    4\n",
       "Kuwait                     4\n",
       "Canada                     4\n",
       "Sweden                     3\n",
       "China                      2\n",
       "Asia/Pacific Region        2\n",
       "Uganda                     2\n",
       "Bangladesh                 2\n",
       "Italy                      2\n",
       "Belgium                    2\n",
       "Netherlands                2\n",
       "Ghana                      2\n",
       "Philippines                2\n",
       "Russia                     1\n",
       "Switzerland                1\n",
       "Vietnam                    1\n",
       "Denmark                    1\n",
       "Tanzania                   1\n",
       "Liberia                    1\n",
       "Malaysia                   1\n",
       "Kenya                      1\n",
       "Sri Lanka                  1\n",
       "Indonesia                  1\n",
       "Name: count, dtype: int64"
      ]
     },
     "execution_count": 544,
     "metadata": {},
     "output_type": "execute_result"
    }
   ],
   "source": [
    "df.country.value_counts()"
   ]
  },
  {
   "cell_type": "code",
   "execution_count": 545,
   "id": "9ace91b1",
   "metadata": {},
   "outputs": [
    {
     "data": {
      "text/html": [
       "<div>\n",
       "<style scoped>\n",
       "    .dataframe tbody tr th:only-of-type {\n",
       "        vertical-align: middle;\n",
       "    }\n",
       "\n",
       "    .dataframe tbody tr th {\n",
       "        vertical-align: top;\n",
       "    }\n",
       "\n",
       "    .dataframe thead th {\n",
       "        text-align: right;\n",
       "    }\n",
       "</style>\n",
       "<table border=\"1\" class=\"dataframe\">\n",
       "  <thead>\n",
       "    <tr style=\"text-align: right;\">\n",
       "      <th></th>\n",
       "      <th>Lead Number</th>\n",
       "      <th>origin</th>\n",
       "      <th>lead_source</th>\n",
       "      <th>send_email</th>\n",
       "      <th>call</th>\n",
       "      <th>Converted</th>\n",
       "      <th>TotalVisits</th>\n",
       "      <th>time_spent</th>\n",
       "      <th>num_page_per_visit</th>\n",
       "      <th>last_activity</th>\n",
       "      <th>country</th>\n",
       "      <th>specialization</th>\n",
       "      <th>hear_about_source</th>\n",
       "      <th>cur_occupation</th>\n",
       "      <th>course_value</th>\n",
       "      <th>search</th>\n",
       "      <th>magazine</th>\n",
       "      <th>newspaper_article</th>\n",
       "      <th>x_education_forum</th>\n",
       "      <th>newspaper</th>\n",
       "      <th>digital_Advertisement</th>\n",
       "      <th>was_recommended</th>\n",
       "      <th>rcv_updates_course</th>\n",
       "      <th>Tags</th>\n",
       "      <th>lead_quality</th>\n",
       "      <th>rcv_updates_supplychain</th>\n",
       "      <th>rcv_updates_dm</th>\n",
       "      <th>lead_profile</th>\n",
       "      <th>City</th>\n",
       "      <th>asymetric_activity_index</th>\n",
       "      <th>asymmetric_profile_index</th>\n",
       "      <th>asymmetric_activity_score</th>\n",
       "      <th>asymmetric_profile_score</th>\n",
       "      <th>agree_paymnt_cheque</th>\n",
       "      <th>free_copy_mastering_the_interview</th>\n",
       "      <th>last_notable_activity</th>\n",
       "    </tr>\n",
       "  </thead>\n",
       "  <tbody>\n",
       "    <tr>\n",
       "      <th>0</th>\n",
       "      <td>660737</td>\n",
       "      <td>API</td>\n",
       "      <td>Olark Chat</td>\n",
       "      <td>1</td>\n",
       "      <td>1</td>\n",
       "      <td>0</td>\n",
       "      <td>0.0</td>\n",
       "      <td>0</td>\n",
       "      <td>0.0</td>\n",
       "      <td>Page Visited on Website</td>\n",
       "      <td>NaN</td>\n",
       "      <td>Select</td>\n",
       "      <td>Select</td>\n",
       "      <td>Unemployed</td>\n",
       "      <td>Better Career Prospects</td>\n",
       "      <td>No</td>\n",
       "      <td>No</td>\n",
       "      <td>No</td>\n",
       "      <td>No</td>\n",
       "      <td>No</td>\n",
       "      <td>No</td>\n",
       "      <td>No</td>\n",
       "      <td>No</td>\n",
       "      <td>Interested in other courses</td>\n",
       "      <td>Low in Relevance</td>\n",
       "      <td>No</td>\n",
       "      <td>No</td>\n",
       "      <td>Select</td>\n",
       "      <td>Select</td>\n",
       "      <td>02.Medium</td>\n",
       "      <td>02.Medium</td>\n",
       "      <td>15.0</td>\n",
       "      <td>15.0</td>\n",
       "      <td>No</td>\n",
       "      <td>No</td>\n",
       "      <td>Modified</td>\n",
       "    </tr>\n",
       "    <tr>\n",
       "      <th>1</th>\n",
       "      <td>660728</td>\n",
       "      <td>API</td>\n",
       "      <td>Organic Search</td>\n",
       "      <td>1</td>\n",
       "      <td>1</td>\n",
       "      <td>0</td>\n",
       "      <td>5.0</td>\n",
       "      <td>674</td>\n",
       "      <td>2.5</td>\n",
       "      <td>Email Opened</td>\n",
       "      <td>India</td>\n",
       "      <td>Select</td>\n",
       "      <td>Select</td>\n",
       "      <td>Unemployed</td>\n",
       "      <td>Better Career Prospects</td>\n",
       "      <td>No</td>\n",
       "      <td>No</td>\n",
       "      <td>No</td>\n",
       "      <td>No</td>\n",
       "      <td>No</td>\n",
       "      <td>No</td>\n",
       "      <td>No</td>\n",
       "      <td>No</td>\n",
       "      <td>Ringing</td>\n",
       "      <td>NaN</td>\n",
       "      <td>No</td>\n",
       "      <td>No</td>\n",
       "      <td>Select</td>\n",
       "      <td>Select</td>\n",
       "      <td>02.Medium</td>\n",
       "      <td>02.Medium</td>\n",
       "      <td>15.0</td>\n",
       "      <td>15.0</td>\n",
       "      <td>No</td>\n",
       "      <td>No</td>\n",
       "      <td>Email Opened</td>\n",
       "    </tr>\n",
       "    <tr>\n",
       "      <th>2</th>\n",
       "      <td>660727</td>\n",
       "      <td>Landing Page Submission</td>\n",
       "      <td>Direct Traffic</td>\n",
       "      <td>1</td>\n",
       "      <td>1</td>\n",
       "      <td>1</td>\n",
       "      <td>2.0</td>\n",
       "      <td>1532</td>\n",
       "      <td>2.0</td>\n",
       "      <td>Email Opened</td>\n",
       "      <td>India</td>\n",
       "      <td>Business Administration</td>\n",
       "      <td>Select</td>\n",
       "      <td>Student</td>\n",
       "      <td>Better Career Prospects</td>\n",
       "      <td>No</td>\n",
       "      <td>No</td>\n",
       "      <td>No</td>\n",
       "      <td>No</td>\n",
       "      <td>No</td>\n",
       "      <td>No</td>\n",
       "      <td>No</td>\n",
       "      <td>No</td>\n",
       "      <td>Will revert after reading the email</td>\n",
       "      <td>Might be</td>\n",
       "      <td>No</td>\n",
       "      <td>No</td>\n",
       "      <td>Potential Lead</td>\n",
       "      <td>Mumbai</td>\n",
       "      <td>02.Medium</td>\n",
       "      <td>01.High</td>\n",
       "      <td>14.0</td>\n",
       "      <td>20.0</td>\n",
       "      <td>No</td>\n",
       "      <td>Yes</td>\n",
       "      <td>Email Opened</td>\n",
       "    </tr>\n",
       "    <tr>\n",
       "      <th>3</th>\n",
       "      <td>660719</td>\n",
       "      <td>Landing Page Submission</td>\n",
       "      <td>Direct Traffic</td>\n",
       "      <td>1</td>\n",
       "      <td>1</td>\n",
       "      <td>0</td>\n",
       "      <td>1.0</td>\n",
       "      <td>305</td>\n",
       "      <td>1.0</td>\n",
       "      <td>Unreachable</td>\n",
       "      <td>India</td>\n",
       "      <td>Media and Advertising</td>\n",
       "      <td>Word Of Mouth</td>\n",
       "      <td>Unemployed</td>\n",
       "      <td>Better Career Prospects</td>\n",
       "      <td>No</td>\n",
       "      <td>No</td>\n",
       "      <td>No</td>\n",
       "      <td>No</td>\n",
       "      <td>No</td>\n",
       "      <td>No</td>\n",
       "      <td>No</td>\n",
       "      <td>No</td>\n",
       "      <td>Ringing</td>\n",
       "      <td>Not Sure</td>\n",
       "      <td>No</td>\n",
       "      <td>No</td>\n",
       "      <td>Select</td>\n",
       "      <td>Mumbai</td>\n",
       "      <td>02.Medium</td>\n",
       "      <td>01.High</td>\n",
       "      <td>13.0</td>\n",
       "      <td>17.0</td>\n",
       "      <td>No</td>\n",
       "      <td>No</td>\n",
       "      <td>Modified</td>\n",
       "    </tr>\n",
       "    <tr>\n",
       "      <th>4</th>\n",
       "      <td>660681</td>\n",
       "      <td>Landing Page Submission</td>\n",
       "      <td>Google</td>\n",
       "      <td>1</td>\n",
       "      <td>1</td>\n",
       "      <td>1</td>\n",
       "      <td>2.0</td>\n",
       "      <td>1428</td>\n",
       "      <td>1.0</td>\n",
       "      <td>Converted to Lead</td>\n",
       "      <td>India</td>\n",
       "      <td>Select</td>\n",
       "      <td>Other</td>\n",
       "      <td>Unemployed</td>\n",
       "      <td>Better Career Prospects</td>\n",
       "      <td>No</td>\n",
       "      <td>No</td>\n",
       "      <td>No</td>\n",
       "      <td>No</td>\n",
       "      <td>No</td>\n",
       "      <td>No</td>\n",
       "      <td>No</td>\n",
       "      <td>No</td>\n",
       "      <td>Will revert after reading the email</td>\n",
       "      <td>Might be</td>\n",
       "      <td>No</td>\n",
       "      <td>No</td>\n",
       "      <td>Select</td>\n",
       "      <td>Mumbai</td>\n",
       "      <td>02.Medium</td>\n",
       "      <td>01.High</td>\n",
       "      <td>15.0</td>\n",
       "      <td>18.0</td>\n",
       "      <td>No</td>\n",
       "      <td>No</td>\n",
       "      <td>Modified</td>\n",
       "    </tr>\n",
       "  </tbody>\n",
       "</table>\n",
       "</div>"
      ],
      "text/plain": [
       "   Lead Number                   origin     lead_source  send_email  call  \\\n",
       "0       660737                      API      Olark Chat           1     1   \n",
       "1       660728                      API  Organic Search           1     1   \n",
       "2       660727  Landing Page Submission  Direct Traffic           1     1   \n",
       "3       660719  Landing Page Submission  Direct Traffic           1     1   \n",
       "4       660681  Landing Page Submission          Google           1     1   \n",
       "\n",
       "   Converted  TotalVisits  time_spent  num_page_per_visit  \\\n",
       "0          0          0.0           0                 0.0   \n",
       "1          0          5.0         674                 2.5   \n",
       "2          1          2.0        1532                 2.0   \n",
       "3          0          1.0         305                 1.0   \n",
       "4          1          2.0        1428                 1.0   \n",
       "\n",
       "             last_activity country           specialization hear_about_source  \\\n",
       "0  Page Visited on Website     NaN                   Select            Select   \n",
       "1             Email Opened   India                   Select            Select   \n",
       "2             Email Opened   India  Business Administration            Select   \n",
       "3              Unreachable   India    Media and Advertising     Word Of Mouth   \n",
       "4        Converted to Lead   India                   Select             Other   \n",
       "\n",
       "  cur_occupation             course_value search magazine newspaper_article  \\\n",
       "0     Unemployed  Better Career Prospects     No       No                No   \n",
       "1     Unemployed  Better Career Prospects     No       No                No   \n",
       "2        Student  Better Career Prospects     No       No                No   \n",
       "3     Unemployed  Better Career Prospects     No       No                No   \n",
       "4     Unemployed  Better Career Prospects     No       No                No   \n",
       "\n",
       "  x_education_forum newspaper digital_Advertisement was_recommended  \\\n",
       "0                No        No                    No              No   \n",
       "1                No        No                    No              No   \n",
       "2                No        No                    No              No   \n",
       "3                No        No                    No              No   \n",
       "4                No        No                    No              No   \n",
       "\n",
       "  rcv_updates_course                                 Tags      lead_quality  \\\n",
       "0                 No          Interested in other courses  Low in Relevance   \n",
       "1                 No                              Ringing               NaN   \n",
       "2                 No  Will revert after reading the email          Might be   \n",
       "3                 No                              Ringing          Not Sure   \n",
       "4                 No  Will revert after reading the email          Might be   \n",
       "\n",
       "  rcv_updates_supplychain rcv_updates_dm    lead_profile    City  \\\n",
       "0                      No             No          Select  Select   \n",
       "1                      No             No          Select  Select   \n",
       "2                      No             No  Potential Lead  Mumbai   \n",
       "3                      No             No          Select  Mumbai   \n",
       "4                      No             No          Select  Mumbai   \n",
       "\n",
       "  asymetric_activity_index asymmetric_profile_index  \\\n",
       "0                02.Medium                02.Medium   \n",
       "1                02.Medium                02.Medium   \n",
       "2                02.Medium                  01.High   \n",
       "3                02.Medium                  01.High   \n",
       "4                02.Medium                  01.High   \n",
       "\n",
       "   asymmetric_activity_score  asymmetric_profile_score agree_paymnt_cheque  \\\n",
       "0                       15.0                      15.0                  No   \n",
       "1                       15.0                      15.0                  No   \n",
       "2                       14.0                      20.0                  No   \n",
       "3                       13.0                      17.0                  No   \n",
       "4                       15.0                      18.0                  No   \n",
       "\n",
       "  free_copy_mastering_the_interview last_notable_activity  \n",
       "0                                No              Modified  \n",
       "1                                No          Email Opened  \n",
       "2                               Yes          Email Opened  \n",
       "3                                No              Modified  \n",
       "4                                No              Modified  "
      ]
     },
     "execution_count": 545,
     "metadata": {},
     "output_type": "execute_result"
    }
   ],
   "source": [
    "df.head()"
   ]
  },
  {
   "cell_type": "code",
   "execution_count": 546,
   "id": "2ace0624",
   "metadata": {},
   "outputs": [
    {
     "data": {
      "text/plain": [
       "specialization\n",
       "Select                               1942\n",
       "Finance Management                    976\n",
       "Human Resource Management             848\n",
       "Marketing Management                  838\n",
       "Operations Management                 503\n",
       "Business Administration               403\n",
       "IT Projects Management                366\n",
       "Supply Chain Management               349\n",
       "Banking, Investment And Insurance     338\n",
       "Travel and Tourism                    203\n",
       "Media and Advertising                 203\n",
       "International Business                178\n",
       "Healthcare Management                 159\n",
       "Hospitality Management                114\n",
       "E-COMMERCE                            112\n",
       "Retail Management                     100\n",
       "Rural and Agribusiness                 73\n",
       "E-Business                             57\n",
       "Services Excellence                    40\n",
       "Name: count, dtype: int64"
      ]
     },
     "execution_count": 546,
     "metadata": {},
     "output_type": "execute_result"
    }
   ],
   "source": [
    "df.specialization.value_counts()"
   ]
  },
  {
   "cell_type": "code",
   "execution_count": 547,
   "id": "02182f7e",
   "metadata": {},
   "outputs": [
    {
     "data": {
      "text/plain": [
       "15.562770562770561"
      ]
     },
     "execution_count": 547,
     "metadata": {},
     "output_type": "execute_result"
    }
   ],
   "source": [
    "null_percentage = df.specialization.isna().sum() / len(df.specialization) * 100\n",
    "null_percentage"
   ]
  },
  {
   "cell_type": "markdown",
   "id": "b451d12c",
   "metadata": {},
   "source": [
    "Let us treat Select as null value as it seems to be a fe error where user did not select any specialization in dropdown"
   ]
  },
  {
   "cell_type": "code",
   "execution_count": 548,
   "id": "ecd84732",
   "metadata": {},
   "outputs": [],
   "source": [
    "df[\"specialization\"] = df.specialization.apply(lambda x: np.nan if x == \"Select\" else x)"
   ]
  },
  {
   "cell_type": "code",
   "execution_count": 549,
   "id": "f8d007f9",
   "metadata": {},
   "outputs": [
    {
     "data": {
      "text/plain": [
       "specialization\n",
       "Finance Management                   976\n",
       "Human Resource Management            848\n",
       "Marketing Management                 838\n",
       "Operations Management                503\n",
       "Business Administration              403\n",
       "IT Projects Management               366\n",
       "Supply Chain Management              349\n",
       "Banking, Investment And Insurance    338\n",
       "Travel and Tourism                   203\n",
       "Media and Advertising                203\n",
       "International Business               178\n",
       "Healthcare Management                159\n",
       "Hospitality Management               114\n",
       "E-COMMERCE                           112\n",
       "Retail Management                    100\n",
       "Rural and Agribusiness                73\n",
       "E-Business                            57\n",
       "Services Excellence                   40\n",
       "Name: count, dtype: int64"
      ]
     },
     "execution_count": 549,
     "metadata": {},
     "output_type": "execute_result"
    }
   ],
   "source": [
    "df.specialization.value_counts()"
   ]
  },
  {
   "cell_type": "code",
   "execution_count": 550,
   "id": "daae03d8",
   "metadata": {},
   "outputs": [
    {
     "data": {
      "text/html": [
       "<div>\n",
       "<style scoped>\n",
       "    .dataframe tbody tr th:only-of-type {\n",
       "        vertical-align: middle;\n",
       "    }\n",
       "\n",
       "    .dataframe tbody tr th {\n",
       "        vertical-align: top;\n",
       "    }\n",
       "\n",
       "    .dataframe thead th {\n",
       "        text-align: right;\n",
       "    }\n",
       "</style>\n",
       "<table border=\"1\" class=\"dataframe\">\n",
       "  <thead>\n",
       "    <tr style=\"text-align: right;\">\n",
       "      <th></th>\n",
       "      <th>Lead Number</th>\n",
       "      <th>origin</th>\n",
       "      <th>lead_source</th>\n",
       "      <th>send_email</th>\n",
       "      <th>call</th>\n",
       "      <th>Converted</th>\n",
       "      <th>TotalVisits</th>\n",
       "      <th>time_spent</th>\n",
       "      <th>num_page_per_visit</th>\n",
       "      <th>last_activity</th>\n",
       "      <th>country</th>\n",
       "      <th>specialization</th>\n",
       "      <th>hear_about_source</th>\n",
       "      <th>cur_occupation</th>\n",
       "      <th>course_value</th>\n",
       "      <th>search</th>\n",
       "      <th>magazine</th>\n",
       "      <th>newspaper_article</th>\n",
       "      <th>x_education_forum</th>\n",
       "      <th>newspaper</th>\n",
       "      <th>digital_Advertisement</th>\n",
       "      <th>was_recommended</th>\n",
       "      <th>rcv_updates_course</th>\n",
       "      <th>Tags</th>\n",
       "      <th>lead_quality</th>\n",
       "      <th>rcv_updates_supplychain</th>\n",
       "      <th>rcv_updates_dm</th>\n",
       "      <th>lead_profile</th>\n",
       "      <th>City</th>\n",
       "      <th>asymetric_activity_index</th>\n",
       "      <th>asymmetric_profile_index</th>\n",
       "      <th>asymmetric_activity_score</th>\n",
       "      <th>asymmetric_profile_score</th>\n",
       "      <th>agree_paymnt_cheque</th>\n",
       "      <th>free_copy_mastering_the_interview</th>\n",
       "      <th>last_notable_activity</th>\n",
       "    </tr>\n",
       "  </thead>\n",
       "  <tbody>\n",
       "    <tr>\n",
       "      <th>0</th>\n",
       "      <td>660737</td>\n",
       "      <td>API</td>\n",
       "      <td>Olark Chat</td>\n",
       "      <td>1</td>\n",
       "      <td>1</td>\n",
       "      <td>0</td>\n",
       "      <td>0.0</td>\n",
       "      <td>0</td>\n",
       "      <td>0.0</td>\n",
       "      <td>Page Visited on Website</td>\n",
       "      <td>NaN</td>\n",
       "      <td>NaN</td>\n",
       "      <td>Select</td>\n",
       "      <td>Unemployed</td>\n",
       "      <td>Better Career Prospects</td>\n",
       "      <td>No</td>\n",
       "      <td>No</td>\n",
       "      <td>No</td>\n",
       "      <td>No</td>\n",
       "      <td>No</td>\n",
       "      <td>No</td>\n",
       "      <td>No</td>\n",
       "      <td>No</td>\n",
       "      <td>Interested in other courses</td>\n",
       "      <td>Low in Relevance</td>\n",
       "      <td>No</td>\n",
       "      <td>No</td>\n",
       "      <td>Select</td>\n",
       "      <td>Select</td>\n",
       "      <td>02.Medium</td>\n",
       "      <td>02.Medium</td>\n",
       "      <td>15.0</td>\n",
       "      <td>15.0</td>\n",
       "      <td>No</td>\n",
       "      <td>No</td>\n",
       "      <td>Modified</td>\n",
       "    </tr>\n",
       "    <tr>\n",
       "      <th>1</th>\n",
       "      <td>660728</td>\n",
       "      <td>API</td>\n",
       "      <td>Organic Search</td>\n",
       "      <td>1</td>\n",
       "      <td>1</td>\n",
       "      <td>0</td>\n",
       "      <td>5.0</td>\n",
       "      <td>674</td>\n",
       "      <td>2.5</td>\n",
       "      <td>Email Opened</td>\n",
       "      <td>India</td>\n",
       "      <td>NaN</td>\n",
       "      <td>Select</td>\n",
       "      <td>Unemployed</td>\n",
       "      <td>Better Career Prospects</td>\n",
       "      <td>No</td>\n",
       "      <td>No</td>\n",
       "      <td>No</td>\n",
       "      <td>No</td>\n",
       "      <td>No</td>\n",
       "      <td>No</td>\n",
       "      <td>No</td>\n",
       "      <td>No</td>\n",
       "      <td>Ringing</td>\n",
       "      <td>NaN</td>\n",
       "      <td>No</td>\n",
       "      <td>No</td>\n",
       "      <td>Select</td>\n",
       "      <td>Select</td>\n",
       "      <td>02.Medium</td>\n",
       "      <td>02.Medium</td>\n",
       "      <td>15.0</td>\n",
       "      <td>15.0</td>\n",
       "      <td>No</td>\n",
       "      <td>No</td>\n",
       "      <td>Email Opened</td>\n",
       "    </tr>\n",
       "    <tr>\n",
       "      <th>2</th>\n",
       "      <td>660727</td>\n",
       "      <td>Landing Page Submission</td>\n",
       "      <td>Direct Traffic</td>\n",
       "      <td>1</td>\n",
       "      <td>1</td>\n",
       "      <td>1</td>\n",
       "      <td>2.0</td>\n",
       "      <td>1532</td>\n",
       "      <td>2.0</td>\n",
       "      <td>Email Opened</td>\n",
       "      <td>India</td>\n",
       "      <td>Business Administration</td>\n",
       "      <td>Select</td>\n",
       "      <td>Student</td>\n",
       "      <td>Better Career Prospects</td>\n",
       "      <td>No</td>\n",
       "      <td>No</td>\n",
       "      <td>No</td>\n",
       "      <td>No</td>\n",
       "      <td>No</td>\n",
       "      <td>No</td>\n",
       "      <td>No</td>\n",
       "      <td>No</td>\n",
       "      <td>Will revert after reading the email</td>\n",
       "      <td>Might be</td>\n",
       "      <td>No</td>\n",
       "      <td>No</td>\n",
       "      <td>Potential Lead</td>\n",
       "      <td>Mumbai</td>\n",
       "      <td>02.Medium</td>\n",
       "      <td>01.High</td>\n",
       "      <td>14.0</td>\n",
       "      <td>20.0</td>\n",
       "      <td>No</td>\n",
       "      <td>Yes</td>\n",
       "      <td>Email Opened</td>\n",
       "    </tr>\n",
       "    <tr>\n",
       "      <th>3</th>\n",
       "      <td>660719</td>\n",
       "      <td>Landing Page Submission</td>\n",
       "      <td>Direct Traffic</td>\n",
       "      <td>1</td>\n",
       "      <td>1</td>\n",
       "      <td>0</td>\n",
       "      <td>1.0</td>\n",
       "      <td>305</td>\n",
       "      <td>1.0</td>\n",
       "      <td>Unreachable</td>\n",
       "      <td>India</td>\n",
       "      <td>Media and Advertising</td>\n",
       "      <td>Word Of Mouth</td>\n",
       "      <td>Unemployed</td>\n",
       "      <td>Better Career Prospects</td>\n",
       "      <td>No</td>\n",
       "      <td>No</td>\n",
       "      <td>No</td>\n",
       "      <td>No</td>\n",
       "      <td>No</td>\n",
       "      <td>No</td>\n",
       "      <td>No</td>\n",
       "      <td>No</td>\n",
       "      <td>Ringing</td>\n",
       "      <td>Not Sure</td>\n",
       "      <td>No</td>\n",
       "      <td>No</td>\n",
       "      <td>Select</td>\n",
       "      <td>Mumbai</td>\n",
       "      <td>02.Medium</td>\n",
       "      <td>01.High</td>\n",
       "      <td>13.0</td>\n",
       "      <td>17.0</td>\n",
       "      <td>No</td>\n",
       "      <td>No</td>\n",
       "      <td>Modified</td>\n",
       "    </tr>\n",
       "    <tr>\n",
       "      <th>4</th>\n",
       "      <td>660681</td>\n",
       "      <td>Landing Page Submission</td>\n",
       "      <td>Google</td>\n",
       "      <td>1</td>\n",
       "      <td>1</td>\n",
       "      <td>1</td>\n",
       "      <td>2.0</td>\n",
       "      <td>1428</td>\n",
       "      <td>1.0</td>\n",
       "      <td>Converted to Lead</td>\n",
       "      <td>India</td>\n",
       "      <td>NaN</td>\n",
       "      <td>Other</td>\n",
       "      <td>Unemployed</td>\n",
       "      <td>Better Career Prospects</td>\n",
       "      <td>No</td>\n",
       "      <td>No</td>\n",
       "      <td>No</td>\n",
       "      <td>No</td>\n",
       "      <td>No</td>\n",
       "      <td>No</td>\n",
       "      <td>No</td>\n",
       "      <td>No</td>\n",
       "      <td>Will revert after reading the email</td>\n",
       "      <td>Might be</td>\n",
       "      <td>No</td>\n",
       "      <td>No</td>\n",
       "      <td>Select</td>\n",
       "      <td>Mumbai</td>\n",
       "      <td>02.Medium</td>\n",
       "      <td>01.High</td>\n",
       "      <td>15.0</td>\n",
       "      <td>18.0</td>\n",
       "      <td>No</td>\n",
       "      <td>No</td>\n",
       "      <td>Modified</td>\n",
       "    </tr>\n",
       "  </tbody>\n",
       "</table>\n",
       "</div>"
      ],
      "text/plain": [
       "   Lead Number                   origin     lead_source  send_email  call  \\\n",
       "0       660737                      API      Olark Chat           1     1   \n",
       "1       660728                      API  Organic Search           1     1   \n",
       "2       660727  Landing Page Submission  Direct Traffic           1     1   \n",
       "3       660719  Landing Page Submission  Direct Traffic           1     1   \n",
       "4       660681  Landing Page Submission          Google           1     1   \n",
       "\n",
       "   Converted  TotalVisits  time_spent  num_page_per_visit  \\\n",
       "0          0          0.0           0                 0.0   \n",
       "1          0          5.0         674                 2.5   \n",
       "2          1          2.0        1532                 2.0   \n",
       "3          0          1.0         305                 1.0   \n",
       "4          1          2.0        1428                 1.0   \n",
       "\n",
       "             last_activity country           specialization hear_about_source  \\\n",
       "0  Page Visited on Website     NaN                      NaN            Select   \n",
       "1             Email Opened   India                      NaN            Select   \n",
       "2             Email Opened   India  Business Administration            Select   \n",
       "3              Unreachable   India    Media and Advertising     Word Of Mouth   \n",
       "4        Converted to Lead   India                      NaN             Other   \n",
       "\n",
       "  cur_occupation             course_value search magazine newspaper_article  \\\n",
       "0     Unemployed  Better Career Prospects     No       No                No   \n",
       "1     Unemployed  Better Career Prospects     No       No                No   \n",
       "2        Student  Better Career Prospects     No       No                No   \n",
       "3     Unemployed  Better Career Prospects     No       No                No   \n",
       "4     Unemployed  Better Career Prospects     No       No                No   \n",
       "\n",
       "  x_education_forum newspaper digital_Advertisement was_recommended  \\\n",
       "0                No        No                    No              No   \n",
       "1                No        No                    No              No   \n",
       "2                No        No                    No              No   \n",
       "3                No        No                    No              No   \n",
       "4                No        No                    No              No   \n",
       "\n",
       "  rcv_updates_course                                 Tags      lead_quality  \\\n",
       "0                 No          Interested in other courses  Low in Relevance   \n",
       "1                 No                              Ringing               NaN   \n",
       "2                 No  Will revert after reading the email          Might be   \n",
       "3                 No                              Ringing          Not Sure   \n",
       "4                 No  Will revert after reading the email          Might be   \n",
       "\n",
       "  rcv_updates_supplychain rcv_updates_dm    lead_profile    City  \\\n",
       "0                      No             No          Select  Select   \n",
       "1                      No             No          Select  Select   \n",
       "2                      No             No  Potential Lead  Mumbai   \n",
       "3                      No             No          Select  Mumbai   \n",
       "4                      No             No          Select  Mumbai   \n",
       "\n",
       "  asymetric_activity_index asymmetric_profile_index  \\\n",
       "0                02.Medium                02.Medium   \n",
       "1                02.Medium                02.Medium   \n",
       "2                02.Medium                  01.High   \n",
       "3                02.Medium                  01.High   \n",
       "4                02.Medium                  01.High   \n",
       "\n",
       "   asymmetric_activity_score  asymmetric_profile_score agree_paymnt_cheque  \\\n",
       "0                       15.0                      15.0                  No   \n",
       "1                       15.0                      15.0                  No   \n",
       "2                       14.0                      20.0                  No   \n",
       "3                       13.0                      17.0                  No   \n",
       "4                       15.0                      18.0                  No   \n",
       "\n",
       "  free_copy_mastering_the_interview last_notable_activity  \n",
       "0                                No              Modified  \n",
       "1                                No          Email Opened  \n",
       "2                               Yes          Email Opened  \n",
       "3                                No              Modified  \n",
       "4                                No              Modified  "
      ]
     },
     "execution_count": 550,
     "metadata": {},
     "output_type": "execute_result"
    }
   ],
   "source": [
    "df.head()"
   ]
  },
  {
   "cell_type": "code",
   "execution_count": 551,
   "id": "3311883a",
   "metadata": {},
   "outputs": [
    {
     "data": {
      "text/plain": [
       "36.58008658008658"
      ]
     },
     "execution_count": 551,
     "metadata": {},
     "output_type": "execute_result"
    }
   ],
   "source": [
    "null_percentage = df.specialization.isna().sum() / len(df.specialization) * 100\n",
    "null_percentage"
   ]
  },
  {
   "cell_type": "markdown",
   "id": "9cd11e19",
   "metadata": {},
   "source": [
    "let us see null precentage of hear_about_source"
   ]
  },
  {
   "cell_type": "code",
   "execution_count": 552,
   "id": "36bc8a64",
   "metadata": {},
   "outputs": [
    {
     "data": {
      "text/plain": [
       "23.885281385281385"
      ]
     },
     "execution_count": 552,
     "metadata": {},
     "output_type": "execute_result"
    }
   ],
   "source": [
    "null_percentage = df.hear_about_source.isna().sum() / len(df.hear_about_source) * 100\n",
    "null_percentage"
   ]
  },
  {
   "cell_type": "code",
   "execution_count": 553,
   "id": "ba4e0d80",
   "metadata": {},
   "outputs": [
    {
     "data": {
      "text/plain": [
       "hear_about_source\n",
       "Select                   5043\n",
       "Online Search             808\n",
       "Word Of Mouth             348\n",
       "Student of SomeSchool     310\n",
       "Other                     186\n",
       "Multiple Sources          152\n",
       "Advertisements             70\n",
       "Social Media               67\n",
       "Email                      26\n",
       "SMS                        23\n",
       "Name: count, dtype: int64"
      ]
     },
     "execution_count": 553,
     "metadata": {},
     "output_type": "execute_result"
    }
   ],
   "source": [
    "df.hear_about_source.value_counts()"
   ]
  },
  {
   "cell_type": "markdown",
   "id": "1a68a136",
   "metadata": {},
   "source": [
    "Again let us treat Select as null value "
   ]
  },
  {
   "cell_type": "code",
   "execution_count": 554,
   "id": "20a5b948",
   "metadata": {},
   "outputs": [],
   "source": [
    "df[\"hear_about_source\"] = df.hear_about_source.apply(lambda x: np.nan if x == \"Select\" else x)"
   ]
  },
  {
   "cell_type": "code",
   "execution_count": 555,
   "id": "e2e237b2",
   "metadata": {},
   "outputs": [
    {
     "data": {
      "text/plain": [
       "78.46320346320347"
      ]
     },
     "execution_count": 555,
     "metadata": {},
     "output_type": "execute_result"
    }
   ],
   "source": [
    "null_percentage = df.hear_about_source.isna().sum() / len(df.hear_about_source) * 100\n",
    "null_percentage"
   ]
  },
  {
   "cell_type": "markdown",
   "id": "1af3438b",
   "metadata": {},
   "source": [
    "WHOOO!!! This column definitely needs to be dropped . Let us mark this column to be dropped later"
   ]
  },
  {
   "cell_type": "code",
   "execution_count": 556,
   "id": "a3d029c1",
   "metadata": {},
   "outputs": [
    {
     "name": "stdout",
     "output_type": "stream",
     "text": [
      "2690\n"
     ]
    }
   ],
   "source": [
    "print(df.cur_occupation.isna().sum())"
   ]
  },
  {
   "cell_type": "code",
   "execution_count": 557,
   "id": "2b77f1fd",
   "metadata": {},
   "outputs": [
    {
     "data": {
      "text/plain": [
       "cur_occupation\n",
       "Unemployed              5600\n",
       "Working Professional     706\n",
       "Student                  210\n",
       "Other                     16\n",
       "Housewife                 10\n",
       "Businessman                8\n",
       "Name: count, dtype: int64"
      ]
     },
     "execution_count": 557,
     "metadata": {},
     "output_type": "execute_result"
    }
   ],
   "source": [
    "df.cur_occupation.value_counts()"
   ]
  },
  {
   "cell_type": "code",
   "execution_count": 558,
   "id": "9f4b3cb6",
   "metadata": {},
   "outputs": [
    {
     "name": "stdout",
     "output_type": "stream",
     "text": [
      "2709\n"
     ]
    }
   ],
   "source": [
    "print(df.course_value.isna().sum())"
   ]
  },
  {
   "cell_type": "code",
   "execution_count": 559,
   "id": "00cd7f38",
   "metadata": {},
   "outputs": [
    {
     "data": {
      "text/plain": [
       "course_value\n",
       "Better Career Prospects      6528\n",
       "Flexibility & Convenience       2\n",
       "Other                           1\n",
       "Name: count, dtype: int64"
      ]
     },
     "execution_count": 559,
     "metadata": {},
     "output_type": "execute_result"
    }
   ],
   "source": [
    "df.course_value.value_counts()"
   ]
  },
  {
   "cell_type": "code",
   "execution_count": 560,
   "id": "ae0fd50f",
   "metadata": {},
   "outputs": [
    {
     "data": {
      "text/plain": [
       "search\n",
       "False    9240\n",
       "Name: count, dtype: int64"
      ]
     },
     "execution_count": 560,
     "metadata": {},
     "output_type": "execute_result"
    }
   ],
   "source": [
    "df.search.isna().value_counts()"
   ]
  },
  {
   "cell_type": "code",
   "execution_count": 561,
   "id": "f7b756da",
   "metadata": {},
   "outputs": [
    {
     "data": {
      "text/plain": [
       "search\n",
       "No     9226\n",
       "Yes      14\n",
       "Name: count, dtype: int64"
      ]
     },
     "execution_count": 561,
     "metadata": {},
     "output_type": "execute_result"
    }
   ],
   "source": [
    "df.search.value_counts()"
   ]
  },
  {
   "cell_type": "markdown",
   "id": "646f76ba",
   "metadata": {},
   "source": [
    "Let us convert yes/no to 1/0"
   ]
  },
  {
   "cell_type": "code",
   "execution_count": 562,
   "id": "835f0910",
   "metadata": {},
   "outputs": [],
   "source": [
    "df[\"search\"] = df.search.apply(lambda x: yesno_to_01(x.lower()))"
   ]
  },
  {
   "cell_type": "code",
   "execution_count": 563,
   "id": "46b7d885",
   "metadata": {},
   "outputs": [
    {
     "data": {
      "text/plain": [
       "search\n",
       "0    9226\n",
       "1      14\n",
       "Name: count, dtype: int64"
      ]
     },
     "execution_count": 563,
     "metadata": {},
     "output_type": "execute_result"
    }
   ],
   "source": [
    "df.search.value_counts()\n"
   ]
  },
  {
   "cell_type": "code",
   "execution_count": 564,
   "id": "906d838c",
   "metadata": {},
   "outputs": [
    {
     "data": {
      "text/plain": [
       "0"
      ]
     },
     "execution_count": 564,
     "metadata": {},
     "output_type": "execute_result"
    }
   ],
   "source": [
    "df.magazine.isna().sum()"
   ]
  },
  {
   "cell_type": "code",
   "execution_count": 565,
   "id": "a3e3bcf8",
   "metadata": {},
   "outputs": [
    {
     "data": {
      "text/plain": [
       "magazine\n",
       "No    9240\n",
       "Name: count, dtype: int64"
      ]
     },
     "execution_count": 565,
     "metadata": {},
     "output_type": "execute_result"
    }
   ],
   "source": [
    "df.magazine.value_counts()"
   ]
  },
  {
   "cell_type": "code",
   "execution_count": 566,
   "id": "028e8e89",
   "metadata": {},
   "outputs": [
    {
     "data": {
      "text/plain": [
       "(9240, 36)"
      ]
     },
     "execution_count": 566,
     "metadata": {},
     "output_type": "execute_result"
    }
   ],
   "source": [
    "df.shape"
   ]
  },
  {
   "cell_type": "code",
   "execution_count": 567,
   "id": "4f275713",
   "metadata": {},
   "outputs": [],
   "source": [
    "df[\"magazine\"] = df.magazine.apply(lambda x: yesno_to_01(x.lower()))"
   ]
  },
  {
   "cell_type": "code",
   "execution_count": 568,
   "id": "11143148",
   "metadata": {},
   "outputs": [
    {
     "data": {
      "text/plain": [
       "magazine\n",
       "0    9240\n",
       "Name: count, dtype: int64"
      ]
     },
     "execution_count": 568,
     "metadata": {},
     "output_type": "execute_result"
    }
   ],
   "source": [
    "df.magazine.value_counts()"
   ]
  },
  {
   "cell_type": "code",
   "execution_count": 569,
   "id": "d7a09c15",
   "metadata": {},
   "outputs": [
    {
     "data": {
      "text/html": [
       "<div>\n",
       "<style scoped>\n",
       "    .dataframe tbody tr th:only-of-type {\n",
       "        vertical-align: middle;\n",
       "    }\n",
       "\n",
       "    .dataframe tbody tr th {\n",
       "        vertical-align: top;\n",
       "    }\n",
       "\n",
       "    .dataframe thead th {\n",
       "        text-align: right;\n",
       "    }\n",
       "</style>\n",
       "<table border=\"1\" class=\"dataframe\">\n",
       "  <thead>\n",
       "    <tr style=\"text-align: right;\">\n",
       "      <th></th>\n",
       "      <th>Lead Number</th>\n",
       "      <th>origin</th>\n",
       "      <th>lead_source</th>\n",
       "      <th>send_email</th>\n",
       "      <th>call</th>\n",
       "      <th>Converted</th>\n",
       "      <th>TotalVisits</th>\n",
       "      <th>time_spent</th>\n",
       "      <th>num_page_per_visit</th>\n",
       "      <th>last_activity</th>\n",
       "      <th>country</th>\n",
       "      <th>specialization</th>\n",
       "      <th>hear_about_source</th>\n",
       "      <th>cur_occupation</th>\n",
       "      <th>course_value</th>\n",
       "      <th>search</th>\n",
       "      <th>magazine</th>\n",
       "      <th>newspaper_article</th>\n",
       "      <th>x_education_forum</th>\n",
       "      <th>newspaper</th>\n",
       "      <th>digital_Advertisement</th>\n",
       "      <th>was_recommended</th>\n",
       "      <th>rcv_updates_course</th>\n",
       "      <th>Tags</th>\n",
       "      <th>lead_quality</th>\n",
       "      <th>rcv_updates_supplychain</th>\n",
       "      <th>rcv_updates_dm</th>\n",
       "      <th>lead_profile</th>\n",
       "      <th>City</th>\n",
       "      <th>asymetric_activity_index</th>\n",
       "      <th>asymmetric_profile_index</th>\n",
       "      <th>asymmetric_activity_score</th>\n",
       "      <th>asymmetric_profile_score</th>\n",
       "      <th>agree_paymnt_cheque</th>\n",
       "      <th>free_copy_mastering_the_interview</th>\n",
       "      <th>last_notable_activity</th>\n",
       "    </tr>\n",
       "  </thead>\n",
       "  <tbody>\n",
       "    <tr>\n",
       "      <th>0</th>\n",
       "      <td>660737</td>\n",
       "      <td>API</td>\n",
       "      <td>Olark Chat</td>\n",
       "      <td>1</td>\n",
       "      <td>1</td>\n",
       "      <td>0</td>\n",
       "      <td>0.0</td>\n",
       "      <td>0</td>\n",
       "      <td>0.0</td>\n",
       "      <td>Page Visited on Website</td>\n",
       "      <td>NaN</td>\n",
       "      <td>NaN</td>\n",
       "      <td>NaN</td>\n",
       "      <td>Unemployed</td>\n",
       "      <td>Better Career Prospects</td>\n",
       "      <td>0</td>\n",
       "      <td>0</td>\n",
       "      <td>No</td>\n",
       "      <td>No</td>\n",
       "      <td>No</td>\n",
       "      <td>No</td>\n",
       "      <td>No</td>\n",
       "      <td>No</td>\n",
       "      <td>Interested in other courses</td>\n",
       "      <td>Low in Relevance</td>\n",
       "      <td>No</td>\n",
       "      <td>No</td>\n",
       "      <td>Select</td>\n",
       "      <td>Select</td>\n",
       "      <td>02.Medium</td>\n",
       "      <td>02.Medium</td>\n",
       "      <td>15.0</td>\n",
       "      <td>15.0</td>\n",
       "      <td>No</td>\n",
       "      <td>No</td>\n",
       "      <td>Modified</td>\n",
       "    </tr>\n",
       "    <tr>\n",
       "      <th>1</th>\n",
       "      <td>660728</td>\n",
       "      <td>API</td>\n",
       "      <td>Organic Search</td>\n",
       "      <td>1</td>\n",
       "      <td>1</td>\n",
       "      <td>0</td>\n",
       "      <td>5.0</td>\n",
       "      <td>674</td>\n",
       "      <td>2.5</td>\n",
       "      <td>Email Opened</td>\n",
       "      <td>India</td>\n",
       "      <td>NaN</td>\n",
       "      <td>NaN</td>\n",
       "      <td>Unemployed</td>\n",
       "      <td>Better Career Prospects</td>\n",
       "      <td>0</td>\n",
       "      <td>0</td>\n",
       "      <td>No</td>\n",
       "      <td>No</td>\n",
       "      <td>No</td>\n",
       "      <td>No</td>\n",
       "      <td>No</td>\n",
       "      <td>No</td>\n",
       "      <td>Ringing</td>\n",
       "      <td>NaN</td>\n",
       "      <td>No</td>\n",
       "      <td>No</td>\n",
       "      <td>Select</td>\n",
       "      <td>Select</td>\n",
       "      <td>02.Medium</td>\n",
       "      <td>02.Medium</td>\n",
       "      <td>15.0</td>\n",
       "      <td>15.0</td>\n",
       "      <td>No</td>\n",
       "      <td>No</td>\n",
       "      <td>Email Opened</td>\n",
       "    </tr>\n",
       "    <tr>\n",
       "      <th>2</th>\n",
       "      <td>660727</td>\n",
       "      <td>Landing Page Submission</td>\n",
       "      <td>Direct Traffic</td>\n",
       "      <td>1</td>\n",
       "      <td>1</td>\n",
       "      <td>1</td>\n",
       "      <td>2.0</td>\n",
       "      <td>1532</td>\n",
       "      <td>2.0</td>\n",
       "      <td>Email Opened</td>\n",
       "      <td>India</td>\n",
       "      <td>Business Administration</td>\n",
       "      <td>NaN</td>\n",
       "      <td>Student</td>\n",
       "      <td>Better Career Prospects</td>\n",
       "      <td>0</td>\n",
       "      <td>0</td>\n",
       "      <td>No</td>\n",
       "      <td>No</td>\n",
       "      <td>No</td>\n",
       "      <td>No</td>\n",
       "      <td>No</td>\n",
       "      <td>No</td>\n",
       "      <td>Will revert after reading the email</td>\n",
       "      <td>Might be</td>\n",
       "      <td>No</td>\n",
       "      <td>No</td>\n",
       "      <td>Potential Lead</td>\n",
       "      <td>Mumbai</td>\n",
       "      <td>02.Medium</td>\n",
       "      <td>01.High</td>\n",
       "      <td>14.0</td>\n",
       "      <td>20.0</td>\n",
       "      <td>No</td>\n",
       "      <td>Yes</td>\n",
       "      <td>Email Opened</td>\n",
       "    </tr>\n",
       "    <tr>\n",
       "      <th>3</th>\n",
       "      <td>660719</td>\n",
       "      <td>Landing Page Submission</td>\n",
       "      <td>Direct Traffic</td>\n",
       "      <td>1</td>\n",
       "      <td>1</td>\n",
       "      <td>0</td>\n",
       "      <td>1.0</td>\n",
       "      <td>305</td>\n",
       "      <td>1.0</td>\n",
       "      <td>Unreachable</td>\n",
       "      <td>India</td>\n",
       "      <td>Media and Advertising</td>\n",
       "      <td>Word Of Mouth</td>\n",
       "      <td>Unemployed</td>\n",
       "      <td>Better Career Prospects</td>\n",
       "      <td>0</td>\n",
       "      <td>0</td>\n",
       "      <td>No</td>\n",
       "      <td>No</td>\n",
       "      <td>No</td>\n",
       "      <td>No</td>\n",
       "      <td>No</td>\n",
       "      <td>No</td>\n",
       "      <td>Ringing</td>\n",
       "      <td>Not Sure</td>\n",
       "      <td>No</td>\n",
       "      <td>No</td>\n",
       "      <td>Select</td>\n",
       "      <td>Mumbai</td>\n",
       "      <td>02.Medium</td>\n",
       "      <td>01.High</td>\n",
       "      <td>13.0</td>\n",
       "      <td>17.0</td>\n",
       "      <td>No</td>\n",
       "      <td>No</td>\n",
       "      <td>Modified</td>\n",
       "    </tr>\n",
       "    <tr>\n",
       "      <th>4</th>\n",
       "      <td>660681</td>\n",
       "      <td>Landing Page Submission</td>\n",
       "      <td>Google</td>\n",
       "      <td>1</td>\n",
       "      <td>1</td>\n",
       "      <td>1</td>\n",
       "      <td>2.0</td>\n",
       "      <td>1428</td>\n",
       "      <td>1.0</td>\n",
       "      <td>Converted to Lead</td>\n",
       "      <td>India</td>\n",
       "      <td>NaN</td>\n",
       "      <td>Other</td>\n",
       "      <td>Unemployed</td>\n",
       "      <td>Better Career Prospects</td>\n",
       "      <td>0</td>\n",
       "      <td>0</td>\n",
       "      <td>No</td>\n",
       "      <td>No</td>\n",
       "      <td>No</td>\n",
       "      <td>No</td>\n",
       "      <td>No</td>\n",
       "      <td>No</td>\n",
       "      <td>Will revert after reading the email</td>\n",
       "      <td>Might be</td>\n",
       "      <td>No</td>\n",
       "      <td>No</td>\n",
       "      <td>Select</td>\n",
       "      <td>Mumbai</td>\n",
       "      <td>02.Medium</td>\n",
       "      <td>01.High</td>\n",
       "      <td>15.0</td>\n",
       "      <td>18.0</td>\n",
       "      <td>No</td>\n",
       "      <td>No</td>\n",
       "      <td>Modified</td>\n",
       "    </tr>\n",
       "  </tbody>\n",
       "</table>\n",
       "</div>"
      ],
      "text/plain": [
       "   Lead Number                   origin     lead_source  send_email  call  \\\n",
       "0       660737                      API      Olark Chat           1     1   \n",
       "1       660728                      API  Organic Search           1     1   \n",
       "2       660727  Landing Page Submission  Direct Traffic           1     1   \n",
       "3       660719  Landing Page Submission  Direct Traffic           1     1   \n",
       "4       660681  Landing Page Submission          Google           1     1   \n",
       "\n",
       "   Converted  TotalVisits  time_spent  num_page_per_visit  \\\n",
       "0          0          0.0           0                 0.0   \n",
       "1          0          5.0         674                 2.5   \n",
       "2          1          2.0        1532                 2.0   \n",
       "3          0          1.0         305                 1.0   \n",
       "4          1          2.0        1428                 1.0   \n",
       "\n",
       "             last_activity country           specialization hear_about_source  \\\n",
       "0  Page Visited on Website     NaN                      NaN               NaN   \n",
       "1             Email Opened   India                      NaN               NaN   \n",
       "2             Email Opened   India  Business Administration               NaN   \n",
       "3              Unreachable   India    Media and Advertising     Word Of Mouth   \n",
       "4        Converted to Lead   India                      NaN             Other   \n",
       "\n",
       "  cur_occupation             course_value  search  magazine newspaper_article  \\\n",
       "0     Unemployed  Better Career Prospects       0         0                No   \n",
       "1     Unemployed  Better Career Prospects       0         0                No   \n",
       "2        Student  Better Career Prospects       0         0                No   \n",
       "3     Unemployed  Better Career Prospects       0         0                No   \n",
       "4     Unemployed  Better Career Prospects       0         0                No   \n",
       "\n",
       "  x_education_forum newspaper digital_Advertisement was_recommended  \\\n",
       "0                No        No                    No              No   \n",
       "1                No        No                    No              No   \n",
       "2                No        No                    No              No   \n",
       "3                No        No                    No              No   \n",
       "4                No        No                    No              No   \n",
       "\n",
       "  rcv_updates_course                                 Tags      lead_quality  \\\n",
       "0                 No          Interested in other courses  Low in Relevance   \n",
       "1                 No                              Ringing               NaN   \n",
       "2                 No  Will revert after reading the email          Might be   \n",
       "3                 No                              Ringing          Not Sure   \n",
       "4                 No  Will revert after reading the email          Might be   \n",
       "\n",
       "  rcv_updates_supplychain rcv_updates_dm    lead_profile    City  \\\n",
       "0                      No             No          Select  Select   \n",
       "1                      No             No          Select  Select   \n",
       "2                      No             No  Potential Lead  Mumbai   \n",
       "3                      No             No          Select  Mumbai   \n",
       "4                      No             No          Select  Mumbai   \n",
       "\n",
       "  asymetric_activity_index asymmetric_profile_index  \\\n",
       "0                02.Medium                02.Medium   \n",
       "1                02.Medium                02.Medium   \n",
       "2                02.Medium                  01.High   \n",
       "3                02.Medium                  01.High   \n",
       "4                02.Medium                  01.High   \n",
       "\n",
       "   asymmetric_activity_score  asymmetric_profile_score agree_paymnt_cheque  \\\n",
       "0                       15.0                      15.0                  No   \n",
       "1                       15.0                      15.0                  No   \n",
       "2                       14.0                      20.0                  No   \n",
       "3                       13.0                      17.0                  No   \n",
       "4                       15.0                      18.0                  No   \n",
       "\n",
       "  free_copy_mastering_the_interview last_notable_activity  \n",
       "0                                No              Modified  \n",
       "1                                No          Email Opened  \n",
       "2                               Yes          Email Opened  \n",
       "3                                No              Modified  \n",
       "4                                No              Modified  "
      ]
     },
     "execution_count": 569,
     "metadata": {},
     "output_type": "execute_result"
    }
   ],
   "source": [
    "df.head()"
   ]
  },
  {
   "cell_type": "code",
   "execution_count": 570,
   "id": "a9b54306",
   "metadata": {},
   "outputs": [
    {
     "data": {
      "text/plain": [
       "0"
      ]
     },
     "execution_count": 570,
     "metadata": {},
     "output_type": "execute_result"
    }
   ],
   "source": [
    "df.newspaper_article.isna().sum()"
   ]
  },
  {
   "cell_type": "code",
   "execution_count": 571,
   "id": "f4021267",
   "metadata": {},
   "outputs": [
    {
     "data": {
      "text/plain": [
       "newspaper_article\n",
       "No     9238\n",
       "Yes       2\n",
       "Name: count, dtype: int64"
      ]
     },
     "execution_count": 571,
     "metadata": {},
     "output_type": "execute_result"
    }
   ],
   "source": [
    "df.newspaper_article.value_counts()"
   ]
  },
  {
   "cell_type": "code",
   "execution_count": 572,
   "id": "0315e9fb",
   "metadata": {},
   "outputs": [],
   "source": [
    "df[\"newspaper_article\"] = df.newspaper_article.apply(lambda x: yesno_to_01(x.lower()))"
   ]
  },
  {
   "cell_type": "code",
   "execution_count": 573,
   "id": "e7d657f7",
   "metadata": {},
   "outputs": [
    {
     "data": {
      "text/plain": [
       "newspaper_article\n",
       "0    9238\n",
       "1       2\n",
       "Name: count, dtype: int64"
      ]
     },
     "execution_count": 573,
     "metadata": {},
     "output_type": "execute_result"
    }
   ],
   "source": [
    "df.newspaper_article.value_counts()"
   ]
  },
  {
   "cell_type": "code",
   "execution_count": 574,
   "id": "7623f364",
   "metadata": {},
   "outputs": [
    {
     "data": {
      "text/plain": [
       "0"
      ]
     },
     "execution_count": 574,
     "metadata": {},
     "output_type": "execute_result"
    }
   ],
   "source": [
    "df.x_education_forum.isna().sum()"
   ]
  },
  {
   "cell_type": "code",
   "execution_count": 575,
   "id": "6985299b",
   "metadata": {},
   "outputs": [
    {
     "data": {
      "text/plain": [
       "x_education_forum\n",
       "No     9239\n",
       "Yes       1\n",
       "Name: count, dtype: int64"
      ]
     },
     "execution_count": 575,
     "metadata": {},
     "output_type": "execute_result"
    }
   ],
   "source": [
    "df.x_education_forum.value_counts()"
   ]
  },
  {
   "cell_type": "code",
   "execution_count": 576,
   "id": "65ff8cd2",
   "metadata": {},
   "outputs": [],
   "source": [
    "df[\"x_education_forum\"] = df.x_education_forum.apply(lambda x: yesno_to_01(x.lower()))"
   ]
  },
  {
   "cell_type": "code",
   "execution_count": 577,
   "id": "fe0be9b2",
   "metadata": {},
   "outputs": [
    {
     "data": {
      "text/plain": [
       "x_education_forum\n",
       "0    9239\n",
       "1       1\n",
       "Name: count, dtype: int64"
      ]
     },
     "execution_count": 577,
     "metadata": {},
     "output_type": "execute_result"
    }
   ],
   "source": [
    "df.x_education_forum.value_counts()"
   ]
  },
  {
   "cell_type": "code",
   "execution_count": 578,
   "id": "79fca1cf",
   "metadata": {},
   "outputs": [
    {
     "data": {
      "text/plain": [
       "0"
      ]
     },
     "execution_count": 578,
     "metadata": {},
     "output_type": "execute_result"
    }
   ],
   "source": [
    "df.newspaper.isna().sum()"
   ]
  },
  {
   "cell_type": "code",
   "execution_count": 579,
   "id": "ad228306",
   "metadata": {},
   "outputs": [
    {
     "data": {
      "text/plain": [
       "newspaper\n",
       "No     9239\n",
       "Yes       1\n",
       "Name: count, dtype: int64"
      ]
     },
     "execution_count": 579,
     "metadata": {},
     "output_type": "execute_result"
    }
   ],
   "source": [
    "df.newspaper.value_counts()"
   ]
  },
  {
   "cell_type": "code",
   "execution_count": 580,
   "id": "677a5052",
   "metadata": {},
   "outputs": [
    {
     "data": {
      "text/plain": [
       "0"
      ]
     },
     "execution_count": 580,
     "metadata": {},
     "output_type": "execute_result"
    }
   ],
   "source": [
    "df.digital_Advertisement.isna().sum()"
   ]
  },
  {
   "cell_type": "code",
   "execution_count": 581,
   "id": "fdef019c",
   "metadata": {},
   "outputs": [
    {
     "data": {
      "text/plain": [
       "digital_Advertisement\n",
       "No     9236\n",
       "Yes       4\n",
       "Name: count, dtype: int64"
      ]
     },
     "execution_count": 581,
     "metadata": {},
     "output_type": "execute_result"
    }
   ],
   "source": [
    "df.digital_Advertisement.value_counts()"
   ]
  },
  {
   "cell_type": "code",
   "execution_count": 582,
   "id": "c72c32e1",
   "metadata": {},
   "outputs": [],
   "source": [
    "df[\"digital_Advertisement\"] = df.digital_Advertisement.apply(lambda x: yesno_to_01(x.lower()))"
   ]
  },
  {
   "cell_type": "code",
   "execution_count": 583,
   "id": "4838d6e2",
   "metadata": {},
   "outputs": [
    {
     "data": {
      "text/plain": [
       "digital_Advertisement\n",
       "0    9236\n",
       "1       4\n",
       "Name: count, dtype: int64"
      ]
     },
     "execution_count": 583,
     "metadata": {},
     "output_type": "execute_result"
    }
   ],
   "source": [
    "df.digital_Advertisement.value_counts()"
   ]
  },
  {
   "cell_type": "markdown",
   "id": "156c5794",
   "metadata": {},
   "source": [
    "#### Let us keep in mind we can remove search to digital_Advertisement columns and create a new column ad_source later on"
   ]
  },
  {
   "cell_type": "code",
   "execution_count": 584,
   "id": "3ca75b6a",
   "metadata": {},
   "outputs": [
    {
     "data": {
      "text/plain": [
       "0"
      ]
     },
     "execution_count": 584,
     "metadata": {},
     "output_type": "execute_result"
    }
   ],
   "source": [
    "df.was_recommended.isna().sum()"
   ]
  },
  {
   "cell_type": "code",
   "execution_count": 585,
   "id": "5d39dac9",
   "metadata": {},
   "outputs": [
    {
     "data": {
      "text/plain": [
       "was_recommended\n",
       "No     9233\n",
       "Yes       7\n",
       "Name: count, dtype: int64"
      ]
     },
     "execution_count": 585,
     "metadata": {},
     "output_type": "execute_result"
    }
   ],
   "source": [
    "df.was_recommended.value_counts()"
   ]
  },
  {
   "cell_type": "code",
   "execution_count": 586,
   "id": "6cab1ad2",
   "metadata": {},
   "outputs": [],
   "source": [
    "df[\"was_recommended\"] = df.was_recommended.apply(lambda x: yesno_to_01(x.lower()))"
   ]
  },
  {
   "cell_type": "code",
   "execution_count": 587,
   "id": "4c33326b",
   "metadata": {},
   "outputs": [
    {
     "data": {
      "text/plain": [
       "was_recommended\n",
       "0    9233\n",
       "1       7\n",
       "Name: count, dtype: int64"
      ]
     },
     "execution_count": 587,
     "metadata": {},
     "output_type": "execute_result"
    }
   ],
   "source": [
    "df.was_recommended.value_counts()"
   ]
  },
  {
   "cell_type": "code",
   "execution_count": 588,
   "id": "cd77defb",
   "metadata": {},
   "outputs": [
    {
     "name": "stdout",
     "output_type": "stream",
     "text": [
      "<class 'pandas.core.frame.DataFrame'>\n",
      "RangeIndex: 9240 entries, 0 to 9239\n",
      "Data columns (total 36 columns):\n",
      " #   Column                             Non-Null Count  Dtype  \n",
      "---  ------                             --------------  -----  \n",
      " 0   Lead Number                        9240 non-null   int64  \n",
      " 1   origin                             9240 non-null   object \n",
      " 2   lead_source                        9204 non-null   object \n",
      " 3   send_email                         9240 non-null   int64  \n",
      " 4   call                               9240 non-null   int64  \n",
      " 5   Converted                          9240 non-null   int64  \n",
      " 6   TotalVisits                        9103 non-null   float64\n",
      " 7   time_spent                         9240 non-null   int64  \n",
      " 8   num_page_per_visit                 9103 non-null   float64\n",
      " 9   last_activity                      9137 non-null   object \n",
      " 10  country                            6779 non-null   object \n",
      " 11  specialization                     5860 non-null   object \n",
      " 12  hear_about_source                  1990 non-null   object \n",
      " 13  cur_occupation                     6550 non-null   object \n",
      " 14  course_value                       6531 non-null   object \n",
      " 15  search                             9240 non-null   int64  \n",
      " 16  magazine                           9240 non-null   int64  \n",
      " 17  newspaper_article                  9240 non-null   int64  \n",
      " 18  x_education_forum                  9240 non-null   int64  \n",
      " 19  newspaper                          9240 non-null   object \n",
      " 20  digital_Advertisement              9240 non-null   int64  \n",
      " 21  was_recommended                    9240 non-null   int64  \n",
      " 22  rcv_updates_course                 9240 non-null   object \n",
      " 23  Tags                               5887 non-null   object \n",
      " 24  lead_quality                       4473 non-null   object \n",
      " 25  rcv_updates_supplychain            9240 non-null   object \n",
      " 26  rcv_updates_dm                     9240 non-null   object \n",
      " 27  lead_profile                       6531 non-null   object \n",
      " 28  City                               7820 non-null   object \n",
      " 29  asymetric_activity_index           5022 non-null   object \n",
      " 30  asymmetric_profile_index           5022 non-null   object \n",
      " 31  asymmetric_activity_score          5022 non-null   float64\n",
      " 32  asymmetric_profile_score           5022 non-null   float64\n",
      " 33  agree_paymnt_cheque                9240 non-null   object \n",
      " 34  free_copy_mastering_the_interview  9240 non-null   object \n",
      " 35  last_notable_activity              9240 non-null   object \n",
      "dtypes: float64(4), int64(11), object(21)\n",
      "memory usage: 2.5+ MB\n"
     ]
    }
   ],
   "source": [
    "df.info()"
   ]
  },
  {
   "cell_type": "code",
   "execution_count": 589,
   "id": "5d75d0b8",
   "metadata": {},
   "outputs": [
    {
     "data": {
      "text/plain": [
       "rcv_updates_course\n",
       "No    9240\n",
       "Name: count, dtype: int64"
      ]
     },
     "execution_count": 589,
     "metadata": {},
     "output_type": "execute_result"
    }
   ],
   "source": [
    "df.rcv_updates_course.value_counts()"
   ]
  },
  {
   "cell_type": "code",
   "execution_count": 590,
   "id": "40f84e2b",
   "metadata": {},
   "outputs": [],
   "source": [
    "df[\"rcv_updates_course\"] = df.rcv_updates_course.apply(lambda x: yesno_to_01(x.lower()))"
   ]
  },
  {
   "cell_type": "code",
   "execution_count": 591,
   "id": "090e1e05",
   "metadata": {},
   "outputs": [
    {
     "data": {
      "text/plain": [
       "rcv_updates_course\n",
       "0    9240\n",
       "Name: count, dtype: int64"
      ]
     },
     "execution_count": 591,
     "metadata": {},
     "output_type": "execute_result"
    }
   ],
   "source": [
    "df.rcv_updates_course.value_counts()"
   ]
  },
  {
   "cell_type": "code",
   "execution_count": 592,
   "id": "8befdeeb",
   "metadata": {},
   "outputs": [
    {
     "data": {
      "text/plain": [
       "Tags\n",
       "Will revert after reading the email                  2072\n",
       "Ringing                                              1203\n",
       "Interested in other courses                           513\n",
       "Already a student                                     465\n",
       "Closed by Horizzon                                    358\n",
       "switched off                                          240\n",
       "Busy                                                  186\n",
       "Lost to EINS                                          175\n",
       "Not doing further education                           145\n",
       "Interested  in full time MBA                          117\n",
       "Graduation in progress                                111\n",
       "invalid number                                         83\n",
       "Diploma holder (Not Eligible)                          63\n",
       "wrong number given                                     47\n",
       "opp hangup                                             33\n",
       "number not provided                                    27\n",
       "in touch with EINS                                     12\n",
       "Lost to Others                                          7\n",
       "Still Thinking                                          6\n",
       "Want to take admission but has financial problems       6\n",
       "In confusion whether part time or DLP                   5\n",
       "Interested in Next batch                                5\n",
       "Lateral student                                         3\n",
       "Shall take in the next coming month                     2\n",
       "University not recognized                               2\n",
       "Recognition issue (DEC approval)                        1\n",
       "Name: count, dtype: int64"
      ]
     },
     "execution_count": 592,
     "metadata": {},
     "output_type": "execute_result"
    }
   ],
   "source": [
    "df.Tags.value_counts()"
   ]
  },
  {
   "cell_type": "code",
   "execution_count": 593,
   "id": "9d2827b8",
   "metadata": {},
   "outputs": [
    {
     "data": {
      "text/plain": [
       "lead_quality\n",
       "Might be             1560\n",
       "Not Sure             1092\n",
       "High in Relevance     637\n",
       "Worst                 601\n",
       "Low in Relevance      583\n",
       "Name: count, dtype: int64"
      ]
     },
     "execution_count": 593,
     "metadata": {},
     "output_type": "execute_result"
    }
   ],
   "source": [
    "df.lead_quality .value_counts()"
   ]
  },
  {
   "cell_type": "code",
   "execution_count": 594,
   "id": "0c73c8c3",
   "metadata": {},
   "outputs": [
    {
     "data": {
      "text/plain": [
       "rcv_updates_supplychain\n",
       "No    9240\n",
       "Name: count, dtype: int64"
      ]
     },
     "execution_count": 594,
     "metadata": {},
     "output_type": "execute_result"
    }
   ],
   "source": [
    "df.rcv_updates_supplychain.value_counts()"
   ]
  },
  {
   "cell_type": "code",
   "execution_count": 595,
   "id": "06d94936",
   "metadata": {},
   "outputs": [],
   "source": [
    "df[\"rcv_updates_supplychain\"] = df.rcv_updates_supplychain.apply(lambda x: yesno_to_01(x.lower()))"
   ]
  },
  {
   "cell_type": "code",
   "execution_count": 596,
   "id": "7808aa11",
   "metadata": {},
   "outputs": [
    {
     "data": {
      "text/plain": [
       "rcv_updates_supplychain\n",
       "0    9240\n",
       "Name: count, dtype: int64"
      ]
     },
     "execution_count": 596,
     "metadata": {},
     "output_type": "execute_result"
    }
   ],
   "source": [
    "df.rcv_updates_supplychain.value_counts()"
   ]
  },
  {
   "cell_type": "code",
   "execution_count": 597,
   "id": "44ae334f",
   "metadata": {},
   "outputs": [
    {
     "data": {
      "text/plain": [
       "rcv_updates_dm\n",
       "No    9240\n",
       "Name: count, dtype: int64"
      ]
     },
     "execution_count": 597,
     "metadata": {},
     "output_type": "execute_result"
    }
   ],
   "source": [
    "df.rcv_updates_dm .value_counts()"
   ]
  },
  {
   "cell_type": "code",
   "execution_count": 598,
   "id": "2a0c1ff4",
   "metadata": {},
   "outputs": [],
   "source": [
    "df[\"rcv_updates_dm\"] = df.rcv_updates_dm.apply(lambda x: yesno_to_01(x.lower()))"
   ]
  },
  {
   "cell_type": "code",
   "execution_count": 599,
   "id": "6b270672",
   "metadata": {},
   "outputs": [
    {
     "data": {
      "text/plain": [
       "rcv_updates_dm\n",
       "0    9240\n",
       "Name: count, dtype: int64"
      ]
     },
     "execution_count": 599,
     "metadata": {},
     "output_type": "execute_result"
    }
   ],
   "source": [
    "df.rcv_updates_dm .value_counts()\n"
   ]
  },
  {
   "cell_type": "code",
   "execution_count": 600,
   "id": "73f98ae9",
   "metadata": {},
   "outputs": [
    {
     "data": {
      "text/plain": [
       "lead_profile\n",
       "Select                         4146\n",
       "Potential Lead                 1613\n",
       "Other Leads                     487\n",
       "Student of SomeSchool           241\n",
       "Lateral Student                  24\n",
       "Dual Specialization Student      20\n",
       "Name: count, dtype: int64"
      ]
     },
     "execution_count": 600,
     "metadata": {},
     "output_type": "execute_result"
    }
   ],
   "source": [
    "df.lead_profile.value_counts()"
   ]
  },
  {
   "cell_type": "code",
   "execution_count": 601,
   "id": "90614837",
   "metadata": {},
   "outputs": [],
   "source": [
    "df[\"lead_profile\"] = df.lead_profile.apply(lambda x: np.nan if x == \"Select\" else x) "
   ]
  },
  {
   "cell_type": "code",
   "execution_count": 602,
   "id": "0ed5251f",
   "metadata": {},
   "outputs": [
    {
     "data": {
      "text/plain": [
       "lead_profile\n",
       "Potential Lead                 1613\n",
       "Other Leads                     487\n",
       "Student of SomeSchool           241\n",
       "Lateral Student                  24\n",
       "Dual Specialization Student      20\n",
       "Name: count, dtype: int64"
      ]
     },
     "execution_count": 602,
     "metadata": {},
     "output_type": "execute_result"
    }
   ],
   "source": [
    "df.lead_profile.value_counts()\n"
   ]
  },
  {
   "cell_type": "code",
   "execution_count": 603,
   "id": "77e7a710",
   "metadata": {},
   "outputs": [
    {
     "data": {
      "text/plain": [
       "6855"
      ]
     },
     "execution_count": 603,
     "metadata": {},
     "output_type": "execute_result"
    }
   ],
   "source": [
    "df.lead_profile.isna().sum()"
   ]
  },
  {
   "cell_type": "code",
   "execution_count": 604,
   "id": "5dcb3a0f",
   "metadata": {},
   "outputs": [
    {
     "data": {
      "text/plain": [
       "City\n",
       "Mumbai                         3222\n",
       "Select                         2249\n",
       "Thane & Outskirts               752\n",
       "Other Cities                    686\n",
       "Other Cities of Maharashtra     457\n",
       "Other Metro Cities              380\n",
       "Tier II Cities                   74\n",
       "Name: count, dtype: int64"
      ]
     },
     "execution_count": 604,
     "metadata": {},
     "output_type": "execute_result"
    }
   ],
   "source": [
    "df.City.value_counts() "
   ]
  },
  {
   "cell_type": "code",
   "execution_count": 605,
   "id": "71137e1a",
   "metadata": {},
   "outputs": [],
   "source": [
    "df[\"City\"] = df.City.apply(lambda x: np.nan if x == \"Select\" else x)"
   ]
  },
  {
   "cell_type": "code",
   "execution_count": 606,
   "id": "bf881715",
   "metadata": {},
   "outputs": [
    {
     "data": {
      "text/plain": [
       "City\n",
       "Mumbai                         3222\n",
       "Thane & Outskirts               752\n",
       "Other Cities                    686\n",
       "Other Cities of Maharashtra     457\n",
       "Other Metro Cities              380\n",
       "Tier II Cities                   74\n",
       "Name: count, dtype: int64"
      ]
     },
     "execution_count": 606,
     "metadata": {},
     "output_type": "execute_result"
    }
   ],
   "source": [
    "df.City.value_counts() \n"
   ]
  },
  {
   "cell_type": "code",
   "execution_count": 607,
   "id": "074efaa7",
   "metadata": {},
   "outputs": [
    {
     "data": {
      "text/plain": [
       "3669"
      ]
     },
     "execution_count": 607,
     "metadata": {},
     "output_type": "execute_result"
    }
   ],
   "source": [
    "df.City.isna().sum()"
   ]
  },
  {
   "cell_type": "code",
   "execution_count": 608,
   "id": "3723d192",
   "metadata": {},
   "outputs": [
    {
     "name": "stdout",
     "output_type": "stream",
     "text": [
      "<class 'pandas.core.frame.DataFrame'>\n",
      "RangeIndex: 9240 entries, 0 to 9239\n",
      "Data columns (total 36 columns):\n",
      " #   Column                             Non-Null Count  Dtype  \n",
      "---  ------                             --------------  -----  \n",
      " 0   Lead Number                        9240 non-null   int64  \n",
      " 1   origin                             9240 non-null   object \n",
      " 2   lead_source                        9204 non-null   object \n",
      " 3   send_email                         9240 non-null   int64  \n",
      " 4   call                               9240 non-null   int64  \n",
      " 5   Converted                          9240 non-null   int64  \n",
      " 6   TotalVisits                        9103 non-null   float64\n",
      " 7   time_spent                         9240 non-null   int64  \n",
      " 8   num_page_per_visit                 9103 non-null   float64\n",
      " 9   last_activity                      9137 non-null   object \n",
      " 10  country                            6779 non-null   object \n",
      " 11  specialization                     5860 non-null   object \n",
      " 12  hear_about_source                  1990 non-null   object \n",
      " 13  cur_occupation                     6550 non-null   object \n",
      " 14  course_value                       6531 non-null   object \n",
      " 15  search                             9240 non-null   int64  \n",
      " 16  magazine                           9240 non-null   int64  \n",
      " 17  newspaper_article                  9240 non-null   int64  \n",
      " 18  x_education_forum                  9240 non-null   int64  \n",
      " 19  newspaper                          9240 non-null   object \n",
      " 20  digital_Advertisement              9240 non-null   int64  \n",
      " 21  was_recommended                    9240 non-null   int64  \n",
      " 22  rcv_updates_course                 9240 non-null   int64  \n",
      " 23  Tags                               5887 non-null   object \n",
      " 24  lead_quality                       4473 non-null   object \n",
      " 25  rcv_updates_supplychain            9240 non-null   int64  \n",
      " 26  rcv_updates_dm                     9240 non-null   int64  \n",
      " 27  lead_profile                       2385 non-null   object \n",
      " 28  City                               5571 non-null   object \n",
      " 29  asymetric_activity_index           5022 non-null   object \n",
      " 30  asymmetric_profile_index           5022 non-null   object \n",
      " 31  asymmetric_activity_score          5022 non-null   float64\n",
      " 32  asymmetric_profile_score           5022 non-null   float64\n",
      " 33  agree_paymnt_cheque                9240 non-null   object \n",
      " 34  free_copy_mastering_the_interview  9240 non-null   object \n",
      " 35  last_notable_activity              9240 non-null   object \n",
      "dtypes: float64(4), int64(14), object(18)\n",
      "memory usage: 2.5+ MB\n"
     ]
    }
   ],
   "source": [
    "df.info()"
   ]
  },
  {
   "cell_type": "code",
   "execution_count": 609,
   "id": "946c655a",
   "metadata": {},
   "outputs": [
    {
     "data": {
      "text/plain": [
       "newspaper\n",
       "No     9239\n",
       "Yes       1\n",
       "Name: count, dtype: int64"
      ]
     },
     "execution_count": 609,
     "metadata": {},
     "output_type": "execute_result"
    }
   ],
   "source": [
    "df.newspaper.value_counts()"
   ]
  },
  {
   "cell_type": "code",
   "execution_count": 610,
   "id": "8e1b0768",
   "metadata": {},
   "outputs": [],
   "source": [
    "df[\"newspaper\"] = df.newspaper.apply(lambda x: yesno_to_01(x.lower()))"
   ]
  },
  {
   "cell_type": "code",
   "execution_count": 611,
   "id": "61623c42",
   "metadata": {},
   "outputs": [
    {
     "data": {
      "text/plain": [
       "newspaper\n",
       "0    9239\n",
       "1       1\n",
       "Name: count, dtype: int64"
      ]
     },
     "execution_count": 611,
     "metadata": {},
     "output_type": "execute_result"
    }
   ],
   "source": [
    "df.newspaper.value_counts()"
   ]
  },
  {
   "cell_type": "code",
   "execution_count": 612,
   "id": "97d1d6a1",
   "metadata": {},
   "outputs": [
    {
     "name": "stdout",
     "output_type": "stream",
     "text": [
      "<class 'pandas.core.frame.DataFrame'>\n",
      "RangeIndex: 9240 entries, 0 to 9239\n",
      "Data columns (total 36 columns):\n",
      " #   Column                             Non-Null Count  Dtype  \n",
      "---  ------                             --------------  -----  \n",
      " 0   Lead Number                        9240 non-null   int64  \n",
      " 1   origin                             9240 non-null   object \n",
      " 2   lead_source                        9204 non-null   object \n",
      " 3   send_email                         9240 non-null   int64  \n",
      " 4   call                               9240 non-null   int64  \n",
      " 5   Converted                          9240 non-null   int64  \n",
      " 6   TotalVisits                        9103 non-null   float64\n",
      " 7   time_spent                         9240 non-null   int64  \n",
      " 8   num_page_per_visit                 9103 non-null   float64\n",
      " 9   last_activity                      9137 non-null   object \n",
      " 10  country                            6779 non-null   object \n",
      " 11  specialization                     5860 non-null   object \n",
      " 12  hear_about_source                  1990 non-null   object \n",
      " 13  cur_occupation                     6550 non-null   object \n",
      " 14  course_value                       6531 non-null   object \n",
      " 15  search                             9240 non-null   int64  \n",
      " 16  magazine                           9240 non-null   int64  \n",
      " 17  newspaper_article                  9240 non-null   int64  \n",
      " 18  x_education_forum                  9240 non-null   int64  \n",
      " 19  newspaper                          9240 non-null   int64  \n",
      " 20  digital_Advertisement              9240 non-null   int64  \n",
      " 21  was_recommended                    9240 non-null   int64  \n",
      " 22  rcv_updates_course                 9240 non-null   int64  \n",
      " 23  Tags                               5887 non-null   object \n",
      " 24  lead_quality                       4473 non-null   object \n",
      " 25  rcv_updates_supplychain            9240 non-null   int64  \n",
      " 26  rcv_updates_dm                     9240 non-null   int64  \n",
      " 27  lead_profile                       2385 non-null   object \n",
      " 28  City                               5571 non-null   object \n",
      " 29  asymetric_activity_index           5022 non-null   object \n",
      " 30  asymmetric_profile_index           5022 non-null   object \n",
      " 31  asymmetric_activity_score          5022 non-null   float64\n",
      " 32  asymmetric_profile_score           5022 non-null   float64\n",
      " 33  agree_paymnt_cheque                9240 non-null   object \n",
      " 34  free_copy_mastering_the_interview  9240 non-null   object \n",
      " 35  last_notable_activity              9240 non-null   object \n",
      "dtypes: float64(4), int64(15), object(17)\n",
      "memory usage: 2.5+ MB\n"
     ]
    }
   ],
   "source": [
    "df.info()"
   ]
  },
  {
   "cell_type": "code",
   "execution_count": 613,
   "id": "c36e05b9",
   "metadata": {},
   "outputs": [
    {
     "data": {
      "text/plain": [
       "asymetric_activity_index\n",
       "02.Medium    3839\n",
       "01.High       821\n",
       "03.Low        362\n",
       "Name: count, dtype: int64"
      ]
     },
     "execution_count": 613,
     "metadata": {},
     "output_type": "execute_result"
    }
   ],
   "source": [
    "df.asymetric_activity_index.value_counts()"
   ]
  },
  {
   "cell_type": "code",
   "execution_count": 614,
   "id": "14fc5b91",
   "metadata": {},
   "outputs": [
    {
     "data": {
      "text/plain": [
       "asymmetric_profile_index\n",
       "02.Medium    2788\n",
       "01.High      2203\n",
       "03.Low         31\n",
       "Name: count, dtype: int64"
      ]
     },
     "execution_count": 614,
     "metadata": {},
     "output_type": "execute_result"
    }
   ],
   "source": [
    "df.asymmetric_profile_index.value_counts()"
   ]
  },
  {
   "cell_type": "markdown",
   "id": "3c8d5f9d",
   "metadata": {},
   "source": [
    "Let us rename these values of High, Low and Medium"
   ]
  },
  {
   "cell_type": "code",
   "execution_count": 616,
   "id": "2e4f34a5",
   "metadata": {},
   "outputs": [],
   "source": [
    "def process_index_values(x):\n",
    "    if x == \"02.Medium\":\n",
    "        return \"Medium\"\n",
    "    elif x == \"01.High\":\n",
    "        return \"High\"\n",
    "    elif x == \"03.Low\":\n",
    "        return \"Low\"\n",
    "    else:\n",
    "        return x"
   ]
  },
  {
   "cell_type": "code",
   "execution_count": 617,
   "id": "4d4f3889",
   "metadata": {},
   "outputs": [],
   "source": [
    "df[\"asymetric_activity_index\"] = df.asymetric_activity_index.apply(lambda x: process_index_values(x))"
   ]
  },
  {
   "cell_type": "code",
   "execution_count": 618,
   "id": "4983d339",
   "metadata": {},
   "outputs": [
    {
     "data": {
      "text/plain": [
       "asymetric_activity_index\n",
       "Medium    3839\n",
       "High       821\n",
       "Low        362\n",
       "Name: count, dtype: int64"
      ]
     },
     "execution_count": 618,
     "metadata": {},
     "output_type": "execute_result"
    }
   ],
   "source": [
    "df.asymetric_activity_index.value_counts()"
   ]
  },
  {
   "cell_type": "code",
   "execution_count": 619,
   "id": "f38c9afc",
   "metadata": {},
   "outputs": [],
   "source": [
    "df[\"asymmetric_profile_index\"] = df.asymmetric_profile_index.apply(lambda x: process_index_values(x))"
   ]
  },
  {
   "cell_type": "code",
   "execution_count": 620,
   "id": "0d5ff7be",
   "metadata": {},
   "outputs": [
    {
     "data": {
      "text/plain": [
       "asymmetric_profile_index\n",
       "Medium    2788\n",
       "High      2203\n",
       "Low         31\n",
       "Name: count, dtype: int64"
      ]
     },
     "execution_count": 620,
     "metadata": {},
     "output_type": "execute_result"
    }
   ],
   "source": [
    "df.asymmetric_profile_index.value_counts()"
   ]
  },
  {
   "cell_type": "code",
   "execution_count": 621,
   "id": "ebc5fe21",
   "metadata": {},
   "outputs": [
    {
     "name": "stdout",
     "output_type": "stream",
     "text": [
      "<class 'pandas.core.frame.DataFrame'>\n",
      "RangeIndex: 9240 entries, 0 to 9239\n",
      "Data columns (total 36 columns):\n",
      " #   Column                             Non-Null Count  Dtype  \n",
      "---  ------                             --------------  -----  \n",
      " 0   Lead Number                        9240 non-null   int64  \n",
      " 1   origin                             9240 non-null   object \n",
      " 2   lead_source                        9204 non-null   object \n",
      " 3   send_email                         9240 non-null   int64  \n",
      " 4   call                               9240 non-null   int64  \n",
      " 5   Converted                          9240 non-null   int64  \n",
      " 6   TotalVisits                        9103 non-null   float64\n",
      " 7   time_spent                         9240 non-null   int64  \n",
      " 8   num_page_per_visit                 9103 non-null   float64\n",
      " 9   last_activity                      9137 non-null   object \n",
      " 10  country                            6779 non-null   object \n",
      " 11  specialization                     5860 non-null   object \n",
      " 12  hear_about_source                  1990 non-null   object \n",
      " 13  cur_occupation                     6550 non-null   object \n",
      " 14  course_value                       6531 non-null   object \n",
      " 15  search                             9240 non-null   int64  \n",
      " 16  magazine                           9240 non-null   int64  \n",
      " 17  newspaper_article                  9240 non-null   int64  \n",
      " 18  x_education_forum                  9240 non-null   int64  \n",
      " 19  newspaper                          9240 non-null   int64  \n",
      " 20  digital_Advertisement              9240 non-null   int64  \n",
      " 21  was_recommended                    9240 non-null   int64  \n",
      " 22  rcv_updates_course                 9240 non-null   int64  \n",
      " 23  Tags                               5887 non-null   object \n",
      " 24  lead_quality                       4473 non-null   object \n",
      " 25  rcv_updates_supplychain            9240 non-null   int64  \n",
      " 26  rcv_updates_dm                     9240 non-null   int64  \n",
      " 27  lead_profile                       2385 non-null   object \n",
      " 28  City                               5571 non-null   object \n",
      " 29  asymetric_activity_index           5022 non-null   object \n",
      " 30  asymmetric_profile_index           5022 non-null   object \n",
      " 31  asymmetric_activity_score          5022 non-null   float64\n",
      " 32  asymmetric_profile_score           5022 non-null   float64\n",
      " 33  agree_paymnt_cheque                9240 non-null   object \n",
      " 34  free_copy_mastering_the_interview  9240 non-null   object \n",
      " 35  last_notable_activity              9240 non-null   object \n",
      "dtypes: float64(4), int64(15), object(17)\n",
      "memory usage: 2.5+ MB\n"
     ]
    }
   ],
   "source": [
    "df.info()"
   ]
  },
  {
   "cell_type": "code",
   "execution_count": 622,
   "id": "b2ec6c3e",
   "metadata": {},
   "outputs": [
    {
     "data": {
      "text/plain": [
       "agree_paymnt_cheque\n",
       "No    9240\n",
       "Name: count, dtype: int64"
      ]
     },
     "execution_count": 622,
     "metadata": {},
     "output_type": "execute_result"
    }
   ],
   "source": [
    "df.agree_paymnt_cheque.value_counts() "
   ]
  },
  {
   "cell_type": "code",
   "execution_count": 623,
   "id": "d3be814b",
   "metadata": {},
   "outputs": [],
   "source": [
    "df[\"agree_paymnt_cheque\"] = df.agree_paymnt_cheque.apply(lambda x: yesno_to_01(x.lower()))"
   ]
  },
  {
   "cell_type": "code",
   "execution_count": 624,
   "id": "55f02930",
   "metadata": {},
   "outputs": [
    {
     "data": {
      "text/plain": [
       "agree_paymnt_cheque\n",
       "0    9240\n",
       "Name: count, dtype: int64"
      ]
     },
     "execution_count": 624,
     "metadata": {},
     "output_type": "execute_result"
    }
   ],
   "source": [
    "df.agree_paymnt_cheque.value_counts() "
   ]
  },
  {
   "cell_type": "code",
   "execution_count": 625,
   "id": "ae83ef3d",
   "metadata": {},
   "outputs": [
    {
     "data": {
      "text/plain": [
       "free_copy_mastering_the_interview\n",
       "No     6352\n",
       "Yes    2888\n",
       "Name: count, dtype: int64"
      ]
     },
     "execution_count": 625,
     "metadata": {},
     "output_type": "execute_result"
    }
   ],
   "source": [
    "df[\"free_copy_mastering_the_interview\"].value_counts()"
   ]
  },
  {
   "cell_type": "code",
   "execution_count": 626,
   "id": "56f0aa0c",
   "metadata": {},
   "outputs": [],
   "source": [
    "df[\"free_copy_mastering_the_interview\"] = df.free_copy_mastering_the_interview.apply(lambda x: yesno_to_01(x.lower()))"
   ]
  },
  {
   "cell_type": "code",
   "execution_count": 627,
   "id": "7eac853f",
   "metadata": {},
   "outputs": [
    {
     "data": {
      "text/plain": [
       "free_copy_mastering_the_interview\n",
       "0    6352\n",
       "1    2888\n",
       "Name: count, dtype: int64"
      ]
     },
     "execution_count": 627,
     "metadata": {},
     "output_type": "execute_result"
    }
   ],
   "source": [
    "df.free_copy_mastering_the_interview.value_counts()"
   ]
  },
  {
   "cell_type": "code",
   "execution_count": 628,
   "id": "35bc4936",
   "metadata": {},
   "outputs": [
    {
     "data": {
      "text/plain": [
       "last_notable_activity\n",
       "Modified                        3407\n",
       "Email Opened                    2827\n",
       "SMS Sent                        2172\n",
       "Page Visited on Website          318\n",
       "Olark Chat Conversation          183\n",
       "Email Link Clicked               173\n",
       "Email Bounced                     60\n",
       "Unsubscribed                      47\n",
       "Unreachable                       32\n",
       "Had a Phone Conversation          14\n",
       "Email Marked Spam                  2\n",
       "Approached upfront                 1\n",
       "Resubscribed to emails             1\n",
       "View in browser link Clicked       1\n",
       "Form Submitted on Website          1\n",
       "Email Received                     1\n",
       "Name: count, dtype: int64"
      ]
     },
     "execution_count": 628,
     "metadata": {},
     "output_type": "execute_result"
    }
   ],
   "source": [
    "df.last_notable_activity.value_counts()"
   ]
  },
  {
   "cell_type": "code",
   "execution_count": 629,
   "id": "6859893a",
   "metadata": {},
   "outputs": [
    {
     "name": "stdout",
     "output_type": "stream",
     "text": [
      "<class 'pandas.core.frame.DataFrame'>\n",
      "RangeIndex: 9240 entries, 0 to 9239\n",
      "Data columns (total 36 columns):\n",
      " #   Column                             Non-Null Count  Dtype  \n",
      "---  ------                             --------------  -----  \n",
      " 0   Lead Number                        9240 non-null   int64  \n",
      " 1   origin                             9240 non-null   object \n",
      " 2   lead_source                        9204 non-null   object \n",
      " 3   send_email                         9240 non-null   int64  \n",
      " 4   call                               9240 non-null   int64  \n",
      " 5   Converted                          9240 non-null   int64  \n",
      " 6   TotalVisits                        9103 non-null   float64\n",
      " 7   time_spent                         9240 non-null   int64  \n",
      " 8   num_page_per_visit                 9103 non-null   float64\n",
      " 9   last_activity                      9137 non-null   object \n",
      " 10  country                            6779 non-null   object \n",
      " 11  specialization                     5860 non-null   object \n",
      " 12  hear_about_source                  1990 non-null   object \n",
      " 13  cur_occupation                     6550 non-null   object \n",
      " 14  course_value                       6531 non-null   object \n",
      " 15  search                             9240 non-null   int64  \n",
      " 16  magazine                           9240 non-null   int64  \n",
      " 17  newspaper_article                  9240 non-null   int64  \n",
      " 18  x_education_forum                  9240 non-null   int64  \n",
      " 19  newspaper                          9240 non-null   int64  \n",
      " 20  digital_Advertisement              9240 non-null   int64  \n",
      " 21  was_recommended                    9240 non-null   int64  \n",
      " 22  rcv_updates_course                 9240 non-null   int64  \n",
      " 23  Tags                               5887 non-null   object \n",
      " 24  lead_quality                       4473 non-null   object \n",
      " 25  rcv_updates_supplychain            9240 non-null   int64  \n",
      " 26  rcv_updates_dm                     9240 non-null   int64  \n",
      " 27  lead_profile                       2385 non-null   object \n",
      " 28  City                               5571 non-null   object \n",
      " 29  asymetric_activity_index           5022 non-null   object \n",
      " 30  asymmetric_profile_index           5022 non-null   object \n",
      " 31  asymmetric_activity_score          5022 non-null   float64\n",
      " 32  asymmetric_profile_score           5022 non-null   float64\n",
      " 33  agree_paymnt_cheque                9240 non-null   int64  \n",
      " 34  free_copy_mastering_the_interview  9240 non-null   int64  \n",
      " 35  last_notable_activity              9240 non-null   object \n",
      "dtypes: float64(4), int64(17), object(15)\n",
      "memory usage: 2.5+ MB\n"
     ]
    }
   ],
   "source": [
    "df.info()"
   ]
  },
  {
   "cell_type": "markdown",
   "id": "8236a34a",
   "metadata": {},
   "source": [
    "#### So now we have cleaned the data. All the columns having yes no have been converted to 1 and 0. Categorical variables having Select as value has been assigned nan values. We are treating Select as null value. So finally  we can see above all the columns data types are also appropriate  "
   ]
  },
  {
   "cell_type": "code",
   "execution_count": null,
   "id": "a700907f",
   "metadata": {},
   "outputs": [],
   "source": []
  }
 ],
 "metadata": {
  "kernelspec": {
   "display_name": "Python 3 (ipykernel)",
   "language": "python",
   "name": "python3"
  },
  "language_info": {
   "codemirror_mode": {
    "name": "ipython",
    "version": 3
   },
   "file_extension": ".py",
   "mimetype": "text/x-python",
   "name": "python",
   "nbconvert_exporter": "python",
   "pygments_lexer": "ipython3",
   "version": "3.11.5"
  }
 },
 "nbformat": 4,
 "nbformat_minor": 5
}
